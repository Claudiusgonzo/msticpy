{
 "cells": [
  {
   "cell_type": "code",
   "execution_count": 14,
   "metadata": {},
   "outputs": [],
   "source": [
    "import warnings\n",
    "warnings.simplefilter(action='ignore', category=FutureWarning)"
   ]
  },
  {
   "cell_type": "markdown",
   "metadata": {},
   "source": [
    "# MSTICpy at Blackhat Arsenal 2020"
   ]
  },
  {
   "cell_type": "markdown",
   "metadata": {},
   "source": [
    "## Setup\n",
    "\n",
    "MSTICpy includes a feature called [nbinit](https://msticpy.readthedocs.io/en/latest/msticpy.nbtools.html?highlight=nbinit#module-msticpy.nbtools.nbinit) that helps makes the process of installing packages and importing modules into a notebook environment cleaner and easier. This was built to help us standardize notebook setup.<br>\n",
    "By passing the notebook namespace to init_notebook() this function handles the job of importing core MSTICpy modules along with others that might be needed by a notebook."
   ]
  },
  {
   "cell_type": "markdown",
   "metadata": {},
   "source": [
    "<font color='blue'>[ian comment] - I think it might be better to move some of these to their point of use and reduce this list:\n",
    "1. Folium map is imported in nbinit\n",
    "2. Foliummap now has a center_map method - you can call this after add the IPs.\n",
    "3. For items in nbdisplay I think it might be cleaner to call them as nbdisplay.xxx\n",
    "4. For notebooklets it might be better to have this inline - \"now we going to use another package....notebooklets\"\n",
    "(actually we should install this at some point - or have a cell for installing)\n",
    "5. WIDGET_DEFAULTS is created in nbinit"
   ]
  },
  {
   "cell_type": "code",
   "execution_count": 1,
   "metadata": {},
   "outputs": [
    {
     "name": "stdout",
     "output_type": "stream",
     "text": [
      "Processing imports....\n",
      "All packages are already installed\n",
      "Checking configuration....\n",
      "\n",
      "The following configuration errors were found: \n",
      " -----------------------------------------------\n",
      "TIProviders/AzureSentinel: Missing or invalid WorkspaceID.\n",
      "TIProviders/AzureSentinel: Missing or invalid TenantID.\n",
      "\n",
      "The following configuration warnings were found: \n",
      " -------------------------------------------------\n",
      "No AzureCLI section in settings.\n",
      "Setting options....\n"
     ]
    },
    {
     "data": {
      "text/html": [
       "<font color='red'><h3>Notebook setup failed</h3>"
      ],
      "text/plain": [
       "<IPython.core.display.HTML object>"
      ]
     },
     "metadata": {},
     "output_type": "display_data"
    },
    {
     "name": "stdout",
     "output_type": "stream",
     "text": [
      "Please wait. Loading Kqlmagic extension...\n"
     ]
    },
    {
     "data": {
      "application/javascript": [
       "try {IPython.notebook.kernel.reconnect();} catch(err) {;}"
      ],
      "text/plain": [
       "<IPython.core.display.Javascript object>"
      ]
     },
     "metadata": {},
     "output_type": "display_data"
    },
    {
     "data": {
      "application/javascript": [
       "try {IPython.notebook.kernel.execute(\"NOTEBOOK_URL = '\" + window.location + \"'\");} catch(err) {;}"
      ],
      "text/plain": [
       "<IPython.core.display.Javascript object>"
      ]
     },
     "metadata": {},
     "output_type": "display_data"
    },
    {
     "data": {
      "application/javascript": [
       "try {IPython.notebook.kernel.execute(\"NOTEBOOK_URL = '\" + window.location + \"'\");} catch(err) {;}"
      ],
      "text/plain": [
       "<IPython.core.display.Javascript object>"
      ]
     },
     "metadata": {},
     "output_type": "display_data"
    },
    {
     "data": {
      "text/html": [
       "<!DOCTYPE html>\n",
       "            <html><body>\n",
       "            <div style=''>\n",
       "            \n",
       "            <button onclick=\"this.style.visibility='visible';\n",
       "            kql_MagicLaunchWindowFunction('kqlmagic/temp_files/1e3f8063-15d9-4362-9c5a-1dab120ba739/_52b1ab41-869e-4138-9e40-2a4457f09bf0_at_loganalytics_schema.html', 'fullscreen=no,directories=no,location=no,menubar=no,resizable=yes,scrollbars=yes,status=no,titlebar=no,toolbar=no,', '_52b1ab41_869e_4138_9e40_2a4457f09bf0_at_loganalytics_schema', '');\n",
       "            kql_MagicCloseWindow(kql_Magic__52b1ab41_869e_4138_9e40_2a4457f09bf0_at_loganalytics_schema, -1, -1);\">\n",
       "            popup schema 52b1ab41-869e-4138-9e40-2a4457f09bf0@loganalytics</button>\n",
       "            </div>\n",
       "\n",
       "            <script>\n",
       "            var kql_Magic__52b1ab41_869e_4138_9e40_2a4457f09bf0_at_loganalytics_schema = null;\n",
       "\n",
       "\n",
       "            function kql_MagicCloseWindow(window_obj, obj_secs, itself_secs) {\n",
       "                if (obj_secs >= 0) {\n",
       "                    _timeout = setTimeout(function(){\n",
       "                        window_obj.close();\n",
       "                        if (itself_secs >= 0) {\n",
       "                            __timeout = setTimeout(function(){window.close();}, itself_secs * 1000);\n",
       "                        }\n",
       "                    }, obj_secs * 1000);\n",
       "                } else if (itself_secs >= 0) {\n",
       "                    _timeout = setTimeout(function(){window.close();}, itself_secs * 1000);\n",
       "                }\n",
       "            }\n",
       "\n",
       "            function kql_MagicLaunchWindowFunction(file_path, window_params, window_name, host_or_text) {\n",
       "                var url;\n",
       "                if (host_or_text == 'text') {\n",
       "                    url = ''\n",
       "                } else if (file_path.startsWith('http')) {\n",
       "                    url = file_path;\n",
       "                } else {\n",
       "                    var base_url = '';\n",
       "\n",
       "                    // check if azure notebook\n",
       "                    var azure_host = (host_or_text == null || host_or_text.length == 0) ? 'https://notebooks.azure.com' : host_or_text;\n",
       "                    var start = azure_host.search('//');\n",
       "                    var azure_host_suffix = '.' + azure_host.substring(start+2);\n",
       "\n",
       "                    var loc = String(window.location);\n",
       "                    var end = loc.search(azure_host_suffix);\n",
       "                    start = loc.search('//');\n",
       "                    if (start > 0 && end > 0) {\n",
       "                        var parts = loc.substring(start+2, end).split('-');\n",
       "                        if (parts.length == 2) {\n",
       "                            var library = parts[0];\n",
       "                            var user = parts[1];\n",
       "                            base_url = azure_host + '/api/user/' +user+ '/library/' +library+ '/html/';\n",
       "                        }\n",
       "                    }\n",
       "\n",
       "                    // check if local jupyter lab\n",
       "                    if (base_url.length == 0) {\n",
       "                        var configDataScipt  = document.getElementById('jupyter-config-data');\n",
       "                        if (configDataScipt != null) {\n",
       "                            var jupyterConfigData = JSON.parse(configDataScipt.textContent);\n",
       "                            if (jupyterConfigData['appName'] == 'JupyterLab' && jupyterConfigData['serverRoot'] != null &&  jupyterConfigData['treeUrl'] != null) {\n",
       "                                var basePath = 'e:/src/microsoft/msticpy/docs/notebooks' + '/';\n",
       "                                if (basePath.startsWith(jupyterConfigData['serverRoot'])) {\n",
       "                                    base_url = '/files/' + basePath.substring(jupyterConfigData['serverRoot'].length+1);\n",
       "                                }\n",
       "                            }\n",
       "                        }\n",
       "                    }\n",
       "\n",
       "                    // assume local jupyter notebook\n",
       "                    if (base_url.length == 0) {\n",
       "\n",
       "                        var parts = loc.split('/');\n",
       "                        parts.pop();\n",
       "                        base_url = parts.join('/') + '/';\n",
       "                    }\n",
       "                    url = base_url + file_path;\n",
       "                }\n",
       "\n",
       "                window.focus();\n",
       "                var w = screen.width / 2;\n",
       "                var h = screen.height / 2;\n",
       "                params = 'width='+w+',height='+h;\n",
       "                // kql_Magic + window_name should be a global variable \n",
       "                window_obj = window.open(url, window_name, window_params + params);\n",
       "                if (url == '') {\n",
       "                    var el = window_obj.document.createElement('p');\n",
       "                    window_obj.document.body.overflow = 'auto';\n",
       "                    el.style.top = 0;\n",
       "                    el.style.left = 0;\n",
       "                    el.innerHTML = file_path;\n",
       "                    window_obj.document.body.appendChild(el);\n",
       "                }\n",
       "                kql_Magic__52b1ab41_869e_4138_9e40_2a4457f09bf0_at_loganalytics_schema = window_obj;\n",
       "            }\n",
       "            </script>\n",
       "\n",
       "            </body></html>"
      ],
      "text/plain": [
       "<IPython.core.display.HTML object>"
      ]
     },
     "metadata": {},
     "output_type": "display_data"
    },
    {
     "data": {
      "application/javascript": [
       "try {IPython.notebook.kernel.execute(\"NOTEBOOK_URL = '\" + window.location + \"'\");} catch(err) {;}"
      ],
      "text/plain": [
       "<IPython.core.display.Javascript object>"
      ]
     },
     "metadata": {},
     "output_type": "display_data"
    },
    {
     "name": "stdout",
     "output_type": "stream",
     "text": [
      "Using Open PageRank. See https://www.domcop.com/openpagerank/what-is-openpagerank\n"
     ]
    }
   ],
   "source": [
    "from msticpy.nbtools import nbinit\n",
    "extra_imports = [\n",
    "    \"msticpy.nbtools.timeseries, display_timeseries_anomolies\",\n",
    "    \"msticpy.analysis.timeseries, timeseries_anomalies_stl\",\n",
    "    \"msticpy.nbtools.morph_charts, MorphCharts\",\n",
    "    \"datetime, datetime\",\n",
    "    # \"msticpy.nbtools.security_alert_graph, create_alert_graph\", # Already imported\n",
    "    # \"msticpy.nbtools.security_alert_graph, add_related_alerts\", # Already imported\n",
    "    #\"msticpy.nbtools.nbdisplay, draw_alert_entity_graph\", # Available as nbdisplay.add_related_alerts\n",
    "    #\"msticpy.nbtools.foliummap, get_map_center\", # use center_map\n",
    "    #\"msticpy.nbtools.foliummap, FoliumMap\", # Already imported\n",
    "    \"msticpy.sectools.ip_utils, convert_to_ip_entities\",\n",
    "    #\"msticnb,,nb\",  # import where you need it\n",
    "    # \"msticnb.common, TimeSpan\", # could use directly as nb.common.TimeSpan \n",
    "    #\"datetime, datetime\", # duplicate\n",
    "    \"msticpy.nbtools.ti_browser, browse_results\",\n",
    "    \"IPython.display, Image\",\n",
    "    \"msticpy.sectools.ip_utils, get_whois_info\",\n",
    "    \"msticpy.sectools.ip_utils, get_ip_type\"\n",
    "    \n",
    "]\n",
    "\n",
    "nbinit.init_notebook(\n",
    "    namespace=globals(),\n",
    "    additional_packages=[\"pyvis\"],\n",
    "    extra_imports=extra_imports,\n",
    ");\n",
    "\n",
    "ti = TILookup()"
   ]
  },
  {
   "cell_type": "markdown",
   "metadata": {},
   "source": [
    "## Data Acquisition - Splunk\n",
    "The starting point for many notebooks is ingesting data to conduct analysis or investigation of. MSTICpy has a number of [query providers](https://msticpy.readthedocs.io/en/latest/data_acquisition/DataProviders.html) to allow users to query and return data from a number of sources. Below we are using the Splunk query provider to return data from our Splunk instance.<br> \n",
    "> Note: Using *Splunk* API via *splunk-sdk* Python package - the MSTICpy Splunk provider is in beta.\n",
    "\n",
    "Data is returned in a Pandas [DataFrame](https://pandas.pydata.org/pandas-docs/stable/reference/api/pandas.DataFrame.html) for easy manipulation and to provide a common interface for other features in MSTICpy.<br><br>\n",
    "Here we are getting a summary of our network traffic  in the time period we are interested in.\n"
   ]
  },
  {
   "cell_type": "code",
   "execution_count": 53,
   "metadata": {},
   "outputs": [
    {
     "data": {
      "application/vnd.jupyter.widget-view+json": {
       "model_id": "861810230542436298b62f024a2702dd",
       "version_major": 2,
       "version_minor": 0
      },
      "text/plain": [
       "Password(description='Splunk Pwd:')"
      ]
     },
     "metadata": {},
     "output_type": "display_data"
    }
   ],
   "source": [
    "splunk_pwd = widgets.Password(description='Splunk Pwd:')\n",
    "splunk_pwd"
   ]
  },
  {
   "cell_type": "code",
   "execution_count": 50,
   "metadata": {},
   "outputs": [
    {
     "name": "stdout",
     "output_type": "stream",
     "text": [
      "connected\n"
     ]
    }
   ],
   "source": [
    "# Initialize a Splunk provider and connect to our Splunk instance.\n",
    "splunk_prov = QueryProvider(\"Splunk\")\n",
    "splunk_prov.connect(host=\"splunk-mstic.westus2.cloudapp.azure.com\", username=\"admin\", password=splunk_pwd.value)"
   ]
  },
  {
   "cell_type": "code",
   "execution_count": 4,
   "metadata": {},
   "outputs": [
    {
     "data": {
      "text/html": [
       "<div>\n",
       "<style scoped>\n",
       "    .dataframe tbody tr th:only-of-type {\n",
       "        vertical-align: middle;\n",
       "    }\n",
       "\n",
       "    .dataframe tbody tr th {\n",
       "        vertical-align: top;\n",
       "    }\n",
       "\n",
       "    .dataframe thead th {\n",
       "        text-align: right;\n",
       "    }\n",
       "</style>\n",
       "<table border=\"1\" class=\"dataframe\">\n",
       "  <thead>\n",
       "    <tr style=\"text-align: right;\">\n",
       "      <th></th>\n",
       "      <th>TotalBytesSent</th>\n",
       "    </tr>\n",
       "    <tr>\n",
       "      <th>TimeGenerated</th>\n",
       "      <th></th>\n",
       "    </tr>\n",
       "  </thead>\n",
       "  <tbody>\n",
       "    <tr>\n",
       "      <th>2020-07-06 00:00:00+00:00</th>\n",
       "      <td>10823</td>\n",
       "    </tr>\n",
       "    <tr>\n",
       "      <th>2020-07-06 01:00:00+00:00</th>\n",
       "      <td>14821</td>\n",
       "    </tr>\n",
       "    <tr>\n",
       "      <th>2020-07-06 02:00:00+00:00</th>\n",
       "      <td>13532</td>\n",
       "    </tr>\n",
       "    <tr>\n",
       "      <th>2020-07-06 03:00:00+00:00</th>\n",
       "      <td>11947</td>\n",
       "    </tr>\n",
       "    <tr>\n",
       "      <th>2020-07-06 04:00:00+00:00</th>\n",
       "      <td>11193</td>\n",
       "    </tr>\n",
       "  </tbody>\n",
       "</table>\n",
       "</div>"
      ],
      "text/plain": [
       "                          TotalBytesSent\n",
       "TimeGenerated                           \n",
       "2020-07-06 00:00:00+00:00          10823\n",
       "2020-07-06 01:00:00+00:00          14821\n",
       "2020-07-06 02:00:00+00:00          13532\n",
       "2020-07-06 03:00:00+00:00          11947\n",
       "2020-07-06 04:00:00+00:00          11193"
      ]
     },
     "execution_count": 4,
     "metadata": {},
     "output_type": "execute_result"
    }
   ],
   "source": [
    "# Define a Splunk Query and run it.\n",
    "splunk_query = \"search host=network_sum index=blackhat earliest=0 | table TimeGenerated, TotalBytesSent\"\n",
    "\n",
    "stldemo = splunk_prov.exec_query(splunk_query)\n",
    "stldemo['TimeGenerated'] = pd.to_datetime(stldemo['TimeGenerated'])\n",
    "stldemo.set_index('TimeGenerated', inplace=True)\n",
    "stldemo.sort_index(inplace=True)\n",
    "stldemo.head()"
   ]
  },
  {
   "cell_type": "markdown",
   "metadata": {},
   "source": [
    "## Timeseries Analysis of detected Anomalies\n",
    "Once we have queried the data, there are a number of analysis features within MSTICpy to help understand the data and identify potential security incidents. \n",
    "\n",
    "In order to effectively hunt in a dataset analysts need to focus on specific events of interest. Below we use MSTICpy's [time series analysis](https://msticpy.readthedocs.io/en/latest/msticpy.analysis.html?highlight=timeseries#module-msticpy.analysis.timeseries) machine learning capabilities to identify anomalies in our network traffic for further investigation.<br>\n",
    "As well as computing anomalies we visualize the data so that we can more easily see where these anomalies present themselves.\n",
    "\n",
    "> Note: Visualization powered by *Bokeh*"
   ]
  },
  {
   "cell_type": "code",
   "execution_count": 5,
   "metadata": {},
   "outputs": [
    {
     "data": {
      "text/html": [
       "\n",
       "    <div class=\"bk-root\">\n",
       "        <a href=\"https://bokeh.org\" target=\"_blank\" class=\"bk-logo bk-logo-small bk-logo-notebook\"></a>\n",
       "        <span id=\"1001\">Loading BokehJS ...</span>\n",
       "    </div>"
      ]
     },
     "metadata": {},
     "output_type": "display_data"
    },
    {
     "data": {
      "application/javascript": [
       "\n",
       "(function(root) {\n",
       "  function now() {\n",
       "    return new Date();\n",
       "  }\n",
       "\n",
       "  var force = true;\n",
       "\n",
       "  if (typeof root._bokeh_onload_callbacks === \"undefined\" || force === true) {\n",
       "    root._bokeh_onload_callbacks = [];\n",
       "    root._bokeh_is_loading = undefined;\n",
       "  }\n",
       "\n",
       "  var JS_MIME_TYPE = 'application/javascript';\n",
       "  var HTML_MIME_TYPE = 'text/html';\n",
       "  var EXEC_MIME_TYPE = 'application/vnd.bokehjs_exec.v0+json';\n",
       "  var CLASS_NAME = 'output_bokeh rendered_html';\n",
       "\n",
       "  /**\n",
       "   * Render data to the DOM node\n",
       "   */\n",
       "  function render(props, node) {\n",
       "    var script = document.createElement(\"script\");\n",
       "    node.appendChild(script);\n",
       "  }\n",
       "\n",
       "  /**\n",
       "   * Handle when an output is cleared or removed\n",
       "   */\n",
       "  function handleClearOutput(event, handle) {\n",
       "    var cell = handle.cell;\n",
       "\n",
       "    var id = cell.output_area._bokeh_element_id;\n",
       "    var server_id = cell.output_area._bokeh_server_id;\n",
       "    // Clean up Bokeh references\n",
       "    if (id != null && id in Bokeh.index) {\n",
       "      Bokeh.index[id].model.document.clear();\n",
       "      delete Bokeh.index[id];\n",
       "    }\n",
       "\n",
       "    if (server_id !== undefined) {\n",
       "      // Clean up Bokeh references\n",
       "      var cmd = \"from bokeh.io.state import curstate; print(curstate().uuid_to_server['\" + server_id + \"'].get_sessions()[0].document.roots[0]._id)\";\n",
       "      cell.notebook.kernel.execute(cmd, {\n",
       "        iopub: {\n",
       "          output: function(msg) {\n",
       "            var id = msg.content.text.trim();\n",
       "            if (id in Bokeh.index) {\n",
       "              Bokeh.index[id].model.document.clear();\n",
       "              delete Bokeh.index[id];\n",
       "            }\n",
       "          }\n",
       "        }\n",
       "      });\n",
       "      // Destroy server and session\n",
       "      var cmd = \"import bokeh.io.notebook as ion; ion.destroy_server('\" + server_id + \"')\";\n",
       "      cell.notebook.kernel.execute(cmd);\n",
       "    }\n",
       "  }\n",
       "\n",
       "  /**\n",
       "   * Handle when a new output is added\n",
       "   */\n",
       "  function handleAddOutput(event, handle) {\n",
       "    var output_area = handle.output_area;\n",
       "    var output = handle.output;\n",
       "\n",
       "    // limit handleAddOutput to display_data with EXEC_MIME_TYPE content only\n",
       "    if ((output.output_type != \"display_data\") || (!output.data.hasOwnProperty(EXEC_MIME_TYPE))) {\n",
       "      return\n",
       "    }\n",
       "\n",
       "    var toinsert = output_area.element.find(\".\" + CLASS_NAME.split(' ')[0]);\n",
       "\n",
       "    if (output.metadata[EXEC_MIME_TYPE][\"id\"] !== undefined) {\n",
       "      toinsert[toinsert.length - 1].firstChild.textContent = output.data[JS_MIME_TYPE];\n",
       "      // store reference to embed id on output_area\n",
       "      output_area._bokeh_element_id = output.metadata[EXEC_MIME_TYPE][\"id\"];\n",
       "    }\n",
       "    if (output.metadata[EXEC_MIME_TYPE][\"server_id\"] !== undefined) {\n",
       "      var bk_div = document.createElement(\"div\");\n",
       "      bk_div.innerHTML = output.data[HTML_MIME_TYPE];\n",
       "      var script_attrs = bk_div.children[0].attributes;\n",
       "      for (var i = 0; i < script_attrs.length; i++) {\n",
       "        toinsert[toinsert.length - 1].firstChild.setAttribute(script_attrs[i].name, script_attrs[i].value);\n",
       "        toinsert[toinsert.length - 1].firstChild.textContent = bk_div.children[0].textContent\n",
       "      }\n",
       "      // store reference to server id on output_area\n",
       "      output_area._bokeh_server_id = output.metadata[EXEC_MIME_TYPE][\"server_id\"];\n",
       "    }\n",
       "  }\n",
       "\n",
       "  function register_renderer(events, OutputArea) {\n",
       "\n",
       "    function append_mime(data, metadata, element) {\n",
       "      // create a DOM node to render to\n",
       "      var toinsert = this.create_output_subarea(\n",
       "        metadata,\n",
       "        CLASS_NAME,\n",
       "        EXEC_MIME_TYPE\n",
       "      );\n",
       "      this.keyboard_manager.register_events(toinsert);\n",
       "      // Render to node\n",
       "      var props = {data: data, metadata: metadata[EXEC_MIME_TYPE]};\n",
       "      render(props, toinsert[toinsert.length - 1]);\n",
       "      element.append(toinsert);\n",
       "      return toinsert\n",
       "    }\n",
       "\n",
       "    /* Handle when an output is cleared or removed */\n",
       "    events.on('clear_output.CodeCell', handleClearOutput);\n",
       "    events.on('delete.Cell', handleClearOutput);\n",
       "\n",
       "    /* Handle when a new output is added */\n",
       "    events.on('output_added.OutputArea', handleAddOutput);\n",
       "\n",
       "    /**\n",
       "     * Register the mime type and append_mime function with output_area\n",
       "     */\n",
       "    OutputArea.prototype.register_mime_type(EXEC_MIME_TYPE, append_mime, {\n",
       "      /* Is output safe? */\n",
       "      safe: true,\n",
       "      /* Index of renderer in `output_area.display_order` */\n",
       "      index: 0\n",
       "    });\n",
       "  }\n",
       "\n",
       "  // register the mime type if in Jupyter Notebook environment and previously unregistered\n",
       "  if (root.Jupyter !== undefined) {\n",
       "    var events = require('base/js/events');\n",
       "    var OutputArea = require('notebook/js/outputarea').OutputArea;\n",
       "\n",
       "    if (OutputArea.prototype.mime_types().indexOf(EXEC_MIME_TYPE) == -1) {\n",
       "      register_renderer(events, OutputArea);\n",
       "    }\n",
       "  }\n",
       "\n",
       "  \n",
       "  if (typeof (root._bokeh_timeout) === \"undefined\" || force === true) {\n",
       "    root._bokeh_timeout = Date.now() + 5000;\n",
       "    root._bokeh_failed_load = false;\n",
       "  }\n",
       "\n",
       "  var NB_LOAD_WARNING = {'data': {'text/html':\n",
       "     \"<div style='background-color: #fdd'>\\n\"+\n",
       "     \"<p>\\n\"+\n",
       "     \"BokehJS does not appear to have successfully loaded. If loading BokehJS from CDN, this \\n\"+\n",
       "     \"may be due to a slow or bad network connection. Possible fixes:\\n\"+\n",
       "     \"</p>\\n\"+\n",
       "     \"<ul>\\n\"+\n",
       "     \"<li>re-rerun `output_notebook()` to attempt to load from CDN again, or</li>\\n\"+\n",
       "     \"<li>use INLINE resources instead, as so:</li>\\n\"+\n",
       "     \"</ul>\\n\"+\n",
       "     \"<code>\\n\"+\n",
       "     \"from bokeh.resources import INLINE\\n\"+\n",
       "     \"output_notebook(resources=INLINE)\\n\"+\n",
       "     \"</code>\\n\"+\n",
       "     \"</div>\"}};\n",
       "\n",
       "  function display_loaded() {\n",
       "    var el = document.getElementById(\"1001\");\n",
       "    if (el != null) {\n",
       "      el.textContent = \"BokehJS is loading...\";\n",
       "    }\n",
       "    if (root.Bokeh !== undefined) {\n",
       "      if (el != null) {\n",
       "        el.textContent = \"BokehJS \" + root.Bokeh.version + \" successfully loaded.\";\n",
       "      }\n",
       "    } else if (Date.now() < root._bokeh_timeout) {\n",
       "      setTimeout(display_loaded, 100)\n",
       "    }\n",
       "  }\n",
       "\n",
       "\n",
       "  function run_callbacks() {\n",
       "    try {\n",
       "      root._bokeh_onload_callbacks.forEach(function(callback) {\n",
       "        if (callback != null)\n",
       "          callback();\n",
       "      });\n",
       "    } finally {\n",
       "      delete root._bokeh_onload_callbacks\n",
       "    }\n",
       "    console.debug(\"Bokeh: all callbacks have finished\");\n",
       "  }\n",
       "\n",
       "  function load_libs(css_urls, js_urls, callback) {\n",
       "    if (css_urls == null) css_urls = [];\n",
       "    if (js_urls == null) js_urls = [];\n",
       "\n",
       "    root._bokeh_onload_callbacks.push(callback);\n",
       "    if (root._bokeh_is_loading > 0) {\n",
       "      console.debug(\"Bokeh: BokehJS is being loaded, scheduling callback at\", now());\n",
       "      return null;\n",
       "    }\n",
       "    if (js_urls == null || js_urls.length === 0) {\n",
       "      run_callbacks();\n",
       "      return null;\n",
       "    }\n",
       "    console.debug(\"Bokeh: BokehJS not loaded, scheduling load and callback at\", now());\n",
       "    root._bokeh_is_loading = css_urls.length + js_urls.length;\n",
       "\n",
       "    function on_load() {\n",
       "      root._bokeh_is_loading--;\n",
       "      if (root._bokeh_is_loading === 0) {\n",
       "        console.debug(\"Bokeh: all BokehJS libraries/stylesheets loaded\");\n",
       "        run_callbacks()\n",
       "      }\n",
       "    }\n",
       "\n",
       "    function on_error() {\n",
       "      console.error(\"failed to load \" + url);\n",
       "    }\n",
       "\n",
       "    for (var i = 0; i < css_urls.length; i++) {\n",
       "      var url = css_urls[i];\n",
       "      const element = document.createElement(\"link\");\n",
       "      element.onload = on_load;\n",
       "      element.onerror = on_error;\n",
       "      element.rel = \"stylesheet\";\n",
       "      element.type = \"text/css\";\n",
       "      element.href = url;\n",
       "      console.debug(\"Bokeh: injecting link tag for BokehJS stylesheet: \", url);\n",
       "      document.body.appendChild(element);\n",
       "    }\n",
       "\n",
       "    const hashes = {\"https://cdn.bokeh.org/bokeh/release/bokeh-2.1.1.min.js\": \"kLr4fYcqcSpbuI95brIH3vnnYCquzzSxHPU6XGQCIkQRGJwhg0StNbj1eegrHs12\", \"https://cdn.bokeh.org/bokeh/release/bokeh-widgets-2.1.1.min.js\": \"xIGPmVtaOm+z0BqfSOMn4lOR6ciex448GIKG4eE61LsAvmGj48XcMQZtKcE/UXZe\", \"https://cdn.bokeh.org/bokeh/release/bokeh-tables-2.1.1.min.js\": \"Dc9u1wF/0zApGIWoBbH77iWEHtdmkuYWG839Uzmv8y8yBLXebjO9ZnERsde5Ln/P\", \"https://cdn.bokeh.org/bokeh/release/bokeh-gl-2.1.1.min.js\": \"cT9JaBz7GiRXdENrJLZNSC6eMNF3nh3fa5fTF51Svp+ukxPdwcU5kGXGPBgDCa2j\"};\n",
       "\n",
       "    for (var i = 0; i < js_urls.length; i++) {\n",
       "      var url = js_urls[i];\n",
       "      var element = document.createElement('script');\n",
       "      element.onload = on_load;\n",
       "      element.onerror = on_error;\n",
       "      element.async = false;\n",
       "      element.src = url;\n",
       "      if (url in hashes) {\n",
       "        element.crossOrigin = \"anonymous\";\n",
       "        element.integrity = \"sha384-\" + hashes[url];\n",
       "      }\n",
       "      console.debug(\"Bokeh: injecting script tag for BokehJS library: \", url);\n",
       "      document.head.appendChild(element);\n",
       "    }\n",
       "  };\n",
       "\n",
       "  function inject_raw_css(css) {\n",
       "    const element = document.createElement(\"style\");\n",
       "    element.appendChild(document.createTextNode(css));\n",
       "    document.body.appendChild(element);\n",
       "  }\n",
       "\n",
       "  \n",
       "  var js_urls = [\"https://cdn.bokeh.org/bokeh/release/bokeh-2.1.1.min.js\", \"https://cdn.bokeh.org/bokeh/release/bokeh-widgets-2.1.1.min.js\", \"https://cdn.bokeh.org/bokeh/release/bokeh-tables-2.1.1.min.js\", \"https://cdn.bokeh.org/bokeh/release/bokeh-gl-2.1.1.min.js\"];\n",
       "  var css_urls = [];\n",
       "  \n",
       "\n",
       "  var inline_js = [\n",
       "    function(Bokeh) {\n",
       "      Bokeh.set_log_level(\"info\");\n",
       "    },\n",
       "    function(Bokeh) {\n",
       "    \n",
       "    \n",
       "    }\n",
       "  ];\n",
       "\n",
       "  function run_inline_js() {\n",
       "    \n",
       "    if (root.Bokeh !== undefined || force === true) {\n",
       "      \n",
       "    for (var i = 0; i < inline_js.length; i++) {\n",
       "      inline_js[i].call(root, root.Bokeh);\n",
       "    }\n",
       "    if (force === true) {\n",
       "        display_loaded();\n",
       "      }} else if (Date.now() < root._bokeh_timeout) {\n",
       "      setTimeout(run_inline_js, 100);\n",
       "    } else if (!root._bokeh_failed_load) {\n",
       "      console.log(\"Bokeh: BokehJS failed to load within specified timeout.\");\n",
       "      root._bokeh_failed_load = true;\n",
       "    } else if (force !== true) {\n",
       "      var cell = $(document.getElementById(\"1001\")).parents('.cell').data().cell;\n",
       "      cell.output_area.append_execute_result(NB_LOAD_WARNING)\n",
       "    }\n",
       "\n",
       "  }\n",
       "\n",
       "  if (root._bokeh_is_loading === 0) {\n",
       "    console.debug(\"Bokeh: BokehJS loaded, going straight to plotting\");\n",
       "    run_inline_js();\n",
       "  } else {\n",
       "    load_libs(css_urls, js_urls, function() {\n",
       "      console.debug(\"Bokeh: BokehJS plotting callback run at\", now());\n",
       "      run_inline_js();\n",
       "    });\n",
       "  }\n",
       "}(window));"
      ],
      "application/vnd.bokehjs_load.v0+json": "\n(function(root) {\n  function now() {\n    return new Date();\n  }\n\n  var force = true;\n\n  if (typeof root._bokeh_onload_callbacks === \"undefined\" || force === true) {\n    root._bokeh_onload_callbacks = [];\n    root._bokeh_is_loading = undefined;\n  }\n\n  \n\n  \n  if (typeof (root._bokeh_timeout) === \"undefined\" || force === true) {\n    root._bokeh_timeout = Date.now() + 5000;\n    root._bokeh_failed_load = false;\n  }\n\n  var NB_LOAD_WARNING = {'data': {'text/html':\n     \"<div style='background-color: #fdd'>\\n\"+\n     \"<p>\\n\"+\n     \"BokehJS does not appear to have successfully loaded. If loading BokehJS from CDN, this \\n\"+\n     \"may be due to a slow or bad network connection. Possible fixes:\\n\"+\n     \"</p>\\n\"+\n     \"<ul>\\n\"+\n     \"<li>re-rerun `output_notebook()` to attempt to load from CDN again, or</li>\\n\"+\n     \"<li>use INLINE resources instead, as so:</li>\\n\"+\n     \"</ul>\\n\"+\n     \"<code>\\n\"+\n     \"from bokeh.resources import INLINE\\n\"+\n     \"output_notebook(resources=INLINE)\\n\"+\n     \"</code>\\n\"+\n     \"</div>\"}};\n\n  function display_loaded() {\n    var el = document.getElementById(\"1001\");\n    if (el != null) {\n      el.textContent = \"BokehJS is loading...\";\n    }\n    if (root.Bokeh !== undefined) {\n      if (el != null) {\n        el.textContent = \"BokehJS \" + root.Bokeh.version + \" successfully loaded.\";\n      }\n    } else if (Date.now() < root._bokeh_timeout) {\n      setTimeout(display_loaded, 100)\n    }\n  }\n\n\n  function run_callbacks() {\n    try {\n      root._bokeh_onload_callbacks.forEach(function(callback) {\n        if (callback != null)\n          callback();\n      });\n    } finally {\n      delete root._bokeh_onload_callbacks\n    }\n    console.debug(\"Bokeh: all callbacks have finished\");\n  }\n\n  function load_libs(css_urls, js_urls, callback) {\n    if (css_urls == null) css_urls = [];\n    if (js_urls == null) js_urls = [];\n\n    root._bokeh_onload_callbacks.push(callback);\n    if (root._bokeh_is_loading > 0) {\n      console.debug(\"Bokeh: BokehJS is being loaded, scheduling callback at\", now());\n      return null;\n    }\n    if (js_urls == null || js_urls.length === 0) {\n      run_callbacks();\n      return null;\n    }\n    console.debug(\"Bokeh: BokehJS not loaded, scheduling load and callback at\", now());\n    root._bokeh_is_loading = css_urls.length + js_urls.length;\n\n    function on_load() {\n      root._bokeh_is_loading--;\n      if (root._bokeh_is_loading === 0) {\n        console.debug(\"Bokeh: all BokehJS libraries/stylesheets loaded\");\n        run_callbacks()\n      }\n    }\n\n    function on_error() {\n      console.error(\"failed to load \" + url);\n    }\n\n    for (var i = 0; i < css_urls.length; i++) {\n      var url = css_urls[i];\n      const element = document.createElement(\"link\");\n      element.onload = on_load;\n      element.onerror = on_error;\n      element.rel = \"stylesheet\";\n      element.type = \"text/css\";\n      element.href = url;\n      console.debug(\"Bokeh: injecting link tag for BokehJS stylesheet: \", url);\n      document.body.appendChild(element);\n    }\n\n    const hashes = {\"https://cdn.bokeh.org/bokeh/release/bokeh-2.1.1.min.js\": \"kLr4fYcqcSpbuI95brIH3vnnYCquzzSxHPU6XGQCIkQRGJwhg0StNbj1eegrHs12\", \"https://cdn.bokeh.org/bokeh/release/bokeh-widgets-2.1.1.min.js\": \"xIGPmVtaOm+z0BqfSOMn4lOR6ciex448GIKG4eE61LsAvmGj48XcMQZtKcE/UXZe\", \"https://cdn.bokeh.org/bokeh/release/bokeh-tables-2.1.1.min.js\": \"Dc9u1wF/0zApGIWoBbH77iWEHtdmkuYWG839Uzmv8y8yBLXebjO9ZnERsde5Ln/P\", \"https://cdn.bokeh.org/bokeh/release/bokeh-gl-2.1.1.min.js\": \"cT9JaBz7GiRXdENrJLZNSC6eMNF3nh3fa5fTF51Svp+ukxPdwcU5kGXGPBgDCa2j\"};\n\n    for (var i = 0; i < js_urls.length; i++) {\n      var url = js_urls[i];\n      var element = document.createElement('script');\n      element.onload = on_load;\n      element.onerror = on_error;\n      element.async = false;\n      element.src = url;\n      if (url in hashes) {\n        element.crossOrigin = \"anonymous\";\n        element.integrity = \"sha384-\" + hashes[url];\n      }\n      console.debug(\"Bokeh: injecting script tag for BokehJS library: \", url);\n      document.head.appendChild(element);\n    }\n  };\n\n  function inject_raw_css(css) {\n    const element = document.createElement(\"style\");\n    element.appendChild(document.createTextNode(css));\n    document.body.appendChild(element);\n  }\n\n  \n  var js_urls = [\"https://cdn.bokeh.org/bokeh/release/bokeh-2.1.1.min.js\", \"https://cdn.bokeh.org/bokeh/release/bokeh-widgets-2.1.1.min.js\", \"https://cdn.bokeh.org/bokeh/release/bokeh-tables-2.1.1.min.js\", \"https://cdn.bokeh.org/bokeh/release/bokeh-gl-2.1.1.min.js\"];\n  var css_urls = [];\n  \n\n  var inline_js = [\n    function(Bokeh) {\n      Bokeh.set_log_level(\"info\");\n    },\n    function(Bokeh) {\n    \n    \n    }\n  ];\n\n  function run_inline_js() {\n    \n    if (root.Bokeh !== undefined || force === true) {\n      \n    for (var i = 0; i < inline_js.length; i++) {\n      inline_js[i].call(root, root.Bokeh);\n    }\n    if (force === true) {\n        display_loaded();\n      }} else if (Date.now() < root._bokeh_timeout) {\n      setTimeout(run_inline_js, 100);\n    } else if (!root._bokeh_failed_load) {\n      console.log(\"Bokeh: BokehJS failed to load within specified timeout.\");\n      root._bokeh_failed_load = true;\n    } else if (force !== true) {\n      var cell = $(document.getElementById(\"1001\")).parents('.cell').data().cell;\n      cell.output_area.append_execute_result(NB_LOAD_WARNING)\n    }\n\n  }\n\n  if (root._bokeh_is_loading === 0) {\n    console.debug(\"Bokeh: BokehJS loaded, going straight to plotting\");\n    run_inline_js();\n  } else {\n    load_libs(css_urls, js_urls, function() {\n      console.debug(\"Bokeh: BokehJS plotting callback run at\", now());\n      run_inline_js();\n    });\n  }\n}(window));"
     },
     "metadata": {},
     "output_type": "display_data"
    },
    {
     "data": {
      "text/html": [
       "\n",
       "\n",
       "\n",
       "\n",
       "\n",
       "\n",
       "  <div class=\"bk-root\" id=\"f31564e3-37bd-4849-a0f5-aad6ad8968bf\" data-root-id=\"1146\"></div>\n"
      ]
     },
     "metadata": {},
     "output_type": "display_data"
    },
    {
     "data": {
      "application/javascript": [
       "(function(root) {\n",
       "  function embed_document(root) {\n",
       "    \n",
       "  var docs_json = {\"4eed52ab-0ae9-4c2f-801f-f2928b3d2fc1\":{\"roots\":{\"references\":[{\"attributes\":{\"children\":[{\"id\":\"1004\"},{\"id\":\"1116\"}]},\"id\":\"1146\",\"type\":\"Column\"},{\"attributes\":{\"end\":1594624860000.0,\"start\":1593963540000.0},\"id\":\"1007\",\"type\":\"Range1d\"},{\"attributes\":{\"below\":[{\"id\":\"1015\"}],\"center\":[{\"id\":\"1018\"},{\"id\":\"1022\"},{\"id\":\"1063\"}],\"left\":[{\"id\":\"1019\"}],\"min_border_left\":50,\"plot_height\":360,\"plot_width\":1200,\"renderers\":[{\"id\":\"1043\"},{\"id\":\"1068\"},{\"id\":\"1093\"}],\"title\":{\"id\":\"1005\"},\"toolbar\":{\"id\":\"1029\"},\"toolbar_location\":\"above\",\"x_range\":{\"id\":\"1007\"},\"x_scale\":{\"id\":\"1011\"},\"y_range\":{\"id\":\"1009\"},\"y_scale\":{\"id\":\"1013\"}},\"id\":\"1004\",\"subtype\":\"Figure\",\"type\":\"Plot\"},{\"attributes\":{\"data\":{\"TimeGenerated\":{\"__ndarray__\":\"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\",\"dtype\":\"float64\",\"order\":\"little\",\"shape\":[272]},\"TotalBytesSent\":[10823,14821,13532,11947,11193,13257,13375,27975,31501,28775,31398,32979,32241,33539,28420,25757,30947,27803,29637,29670,11563,13465,13587,14967,12964,13858,13119,13907,12739,11227,11268,31322,26683,32982,32544,31414,28254,29893,31290,28334,26328,26448,30576,30793,10484,14995,11715,11296,10487,10789,14758,10998,10682,14572,13689,34167,27286,33955,33700,26810,30679,31533,33739,32815,26046,27499,33974,29118,12821,12836,13819,14877,14220,10053,14690,13161,14334,12806,11771,25544,27355,33777,27055,27816,32648,25686,32147,33363,28923,31547,33575,26369,14754,10415,10286,12086,11414,14915,14479,14063,13211,12485,14759,26964,31469,26214,33556,32596,25150,31064,25338,25714,26089,25673,48616,45856,48616,48616,11654,13127,45856,45856,12184,12184,12184,14179,14179,14179,13841,13841,13841,11097,11097,11097,13724,13724,13724,10535,10535,10535,10022,10022,10022,12570,12570,12570,14145,14145,14145,18473,18473,18473,19477,19477,19477,19080,19080,19080,17622,17622,17622,18725,18725,18725,17612,17612,17612,19733,19733,19733,19338,19338,19338,18656,18656,18656,17732,17732,17732,17801,17801,17801,16167,16167,16167,16485,16485,16485,11455,11455,11455,10545,10545,10545,13991,13991,13991,10699,10699,10699,12735,12735,12735,12639,12639,12639,14501,14501,14501,12477,12477,12477,11497,11497,11497,10081,10081,10081,11729,11729,11729,18121,18121,18121,17458,17458,17458,18104,18104,18104,16508,16508,16508,17814,17814,17814,16494,16494,16494,17588,17588,17588,18545,18545,18545,19534,19534,19534,16085,16085,16085,15276,15276,15276,15363,15363,15363,18166,18166,18166,13830,13830,13830,13350,13350,13350,11842,11842,11842,11111,11111,11111],\"anomalies\":[0,0,0,0,0,0,0,0,0,0,0,0,0,0,0,0,0,0,0,0,0,0,0,0,0,0,0,0,0,0,0,0,0,0,0,0,0,0,0,0,0,0,0,0,0,0,0,0,0,0,0,0,0,0,0,0,0,0,0,0,0,0,0,0,0,0,0,0,0,0,0,0,0,0,0,0,0,0,0,0,0,0,0,0,0,0,0,0,0,0,0,0,0,0,0,0,0,0,0,0,0,0,0,0,0,0,0,0,0,0,0,0,0,0,1,1,1,1,0,0,1,1,0,0,0,0,0,0,0,0,0,0,0,0,0,0,0,0,0,0,0,0,0,0,0,0,0,0,0,0,0,0,0,0,0,0,0,0,0,0,0,0,0,0,0,0,0,0,0,0,0,0,0,0,0,0,0,0,0,0,0,0,0,0,0,0,0,0,0,0,0,0,0,0,0,0,0,0,0,0,0,0,0,0,0,0,0,0,0,0,0,0,0,0,0,0,0,0,0,0,0,0,0,0,0,0,0,0,0,0,0,0,0,0,0,0,0,0,0,0,0,0,0,0,0,0,0,0,0,0,0,0,0,0,0,0,0,0,0,0,0,0,0,0,0,0,0,0,0,0,0,0],\"baseline\":[9967,12647,13282,12099,11149,12505,12297,30814,29694,31830,32863,32600,32113,33448,31404,28388,29977,28356,29786,29685,7980,11082,13632,14117,11757,13268,14037,12675,11993,12896,12619,30037,28712,31414,31605,30466,30321,30846,30213,28168,27766,27151,30910,29311,11623,13393,12318,13180,13020,13701,13999,12782,12513,13122,13077,29286,28219,31319,31208,29568,29567,29720,30294,29225,27243,27396,33549,30638,17104,17565,12112,13147,15434,15340,14188,12818,12793,13246,13314,27629,26980,29714,29418,27074,27056,26787,27988,27777,24578,25250,33791,29839,21041,20376,10938,12485,20612,20768,13969,13347,13713,14890,15731,25438,27213,28763,29887,29113,29274,29847,31064,31718,30200,30241,37911,34582,30220,28716,17700,19021,27595,27446,17815,16814,15899,16280,15796,19294,19667,17942,18181,16248,14068,14274,13205,13104,12579,12100,18284,17056,15942,15847,6749,8925,17714,18549,11069,11542,11984,13697,14469,16239,17402,17400,18622,18156,17795,18714,18438,18700,18913,18374,20746,20510,18965,18967,15257,16271,19516,19478,17406,17361,17312,18165,18098,18012,18319,18189,18036,17547,17356,17149,16663,16426,16176,15583,15317,15050,12619,12357,12101,12140,11909,11695,13062,12881,12718,13624,13496,13386,13032,12989,12965,12812,12823,12849,12535,12608,12709,13263,13428,13622,11385,11622,11869,12153,12402,12649,13930,14169,14406,15594,15839,16094,15714,15941,16182,16321,16581,16846,16852,17113,17355,18719,18905,19059,16396,16497,16580,16419,16479,16531,16930,16973,17012,18021,18046,18058,17037,16886,16721,16420,16236,16046,15665,15466,15272,17051,16877,16714,13489,13346,13212,12724,12601,12483,11900,11785,11672,12497,12385,12275],\"index\":[0,1,2,3,4,5,6,7,8,9,10,11,12,13,14,15,16,17,18,19,20,21,22,23,24,25,26,27,28,29,30,31,32,33,34,35,36,37,38,39,40,41,42,43,44,45,46,47,48,49,50,51,52,53,54,55,56,57,58,59,60,61,62,63,64,65,66,67,68,69,70,71,72,73,74,75,76,77,78,79,80,81,82,83,84,85,86,87,88,89,90,91,92,93,94,95,96,97,98,99,100,101,102,103,104,105,106,107,108,109,110,111,112,113,114,115,116,117,118,119,120,121,122,123,124,125,126,127,128,129,130,131,132,133,134,135,136,137,138,139,140,141,142,143,144,145,146,147,148,149,150,151,152,153,154,155,156,157,158,159,160,161,162,163,164,165,166,167,168,169,170,171,172,173,174,175,176,177,178,179,180,181,182,183,184,185,186,187,188,189,190,191,192,193,194,195,196,197,198,199,200,201,202,203,204,205,206,207,208,209,210,211,212,213,214,215,216,217,218,219,220,221,222,223,224,225,226,227,228,229,230,231,232,233,234,235,236,237,238,239,240,241,242,243,244,245,246,247,248,249,250,251,252,253,254,255,256,257,258,259,260,261,262,263,264,265,266,267,268,269,270,271],\"residual\":[855,2173,249,-152,43,751,1077,-2839,1806,-3055,-1465,378,127,90,-2984,-2631,969,-553,-149,-15,3582,2382,-45,849,1206,589,-918,1231,745,-1669,-1351,1284,-2029,1567,938,947,-2067,-953,1076,165,-1438,-703,-334,1481,-1139,1601,-603,-1884,-2533,-2912,758,-1784,-1831,1449,611,4880,-933,2635,2491,-2758,1111,1812,3444,3589,-1197,102,424,-1520,-4283,-4729,1706,1729,-1214,-5287,501,342,1540,-440,-1543,-2085,374,4062,-2363,741,5591,-1101,4158,5585,4344,6296,-216,-3470,-6287,-9961,-652,-399,-9198,-5853,509,715,-502,-2405,-972,1525,4255,-2549,3668,3482,-4124,1216,-5726,-6004,-4111,-4568,10704,11273,18395,19899,-6046,-5894,18260,18409,-5631,-4630,-3715,-2101,-1617,-5115,-5826,-4101,-4340,-5151,-2971,-3177,518,619,1144,-1565,-7749,-6521,-5920,-5825,3272,3644,-5144,-5979,3075,2602,2160,4775,4003,2233,2074,2076,854,923,1284,365,-816,-1078,-1291,350,-2021,-1785,-1353,-1355,2354,3461,216,254,1931,1976,2025,490,557,643,-587,-457,-304,253,444,651,-496,-259,-9,901,1167,1434,-1164,-902,-646,-1595,-1364,-1150,928,1109,1272,-2925,-2797,-2687,-297,-254,-230,-173,-184,-210,1965,1892,1791,-786,-951,-1145,111,-125,-372,-2072,-2321,-2568,-2201,-2440,-2677,2526,2281,2026,1743,1516,1275,1782,1522,1257,-344,-605,-847,-905,-1091,-1245,97,-3,-86,1168,1108,1056,1614,1571,1532,1512,1487,1475,-952,-801,-636,-1144,-960,-770,-302,-103,90,1114,1288,1451,340,483,617,625,748,866,-58,56,169,-1386,-1274,-1164],\"score\":{\"__ndarray__\":\"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\",\"dtype\":\"float64\",\"order\":\"little\",\"shape\":[272]},\"seasonal\":[-11937,-9261,-8633,-9826,-10788,-9446,-9670,8827,7688,9805,10818,10535,10030,11347,9287,6255,7830,6189,7583,7447,-14291,-11223,-8705,-8247,-10625,-9120,-8344,-9684,-10333,-9384,-9604,7883,6641,9435,9721,8678,8625,9233,8670,6676,6304,5697,9439,7805,-9936,-8234,-9392,-8625,-8894,-8329,-8150,-9486,-9863,-9343,-9458,6695,5585,8658,8534,6890,6895,7061,7656,6620,4686,4898,11119,8282,-5180,-4651,-10051,-8984,-6693,-6812,-8015,-9455,-9555,-9167,-9147,5140,4494,7268,7050,4811,4919,4787,6128,6045,2954,3708,12305,8378,-423,-1116,-10599,-9105,-1038,-950,-7845,-8616,-8479,-7642,-7247,1921,3078,3944,4352,2876,2392,2414,3197,3547,1865,1886,9676,6592,2584,1534,-8942,-7006,2242,2822,-6023,-6171,-6159,-4774,-4188,417,1911,1283,2558,1558,175,1029,454,700,381,-31,6090,4707,3372,3003,-6410,-4581,3839,4299,-3559,-3464,-3400,-2060,-1659,-256,547,206,1121,386,-202,527,96,235,357,-237,2111,1877,349,376,-3300,-2248,1041,1056,-956,-933,-904,42,90,145,624,697,778,547,634,717,530,596,651,362,396,418,-1733,-1731,-1738,-1469,-1489,-1515,20,-11,-46,969,934,902,612,620,637,514,545,581,261,305,350,816,861,905,-1508,-1466,-1426,-1352,-1315,-1279,-206,-172,-138,844,878,915,307,298,298,195,214,244,25,80,141,1358,1431,1509,-1197,-1113,-1025,-1167,-1075,-982,-536,-442,-347,724,821,921,6,-18,-35,-168,-161,-141,-280,-218,-144,1906,2003,2111,-843,-716,-582,-801,-655,-504,-817,-659,-499,600,766,936],\"trend\":[21904,21908,21915,21925,21937,21951,21968,21986,22005,22025,22045,22064,22083,22101,22117,22132,22147,22167,22202,22237,22272,22306,22338,22364,22382,22388,22381,22360,22326,22281,22224,22153,22071,21979,21883,21787,21696,21612,21543,21492,21462,21454,21470,21506,21560,21628,21710,21806,21914,22030,22150,22268,22376,22465,22536,22591,22633,22661,22674,22677,22671,22659,22637,22604,22557,22498,22429,22356,22284,22217,22163,22132,22127,22152,22204,22273,22348,22413,22461,22488,22485,22445,22368,22263,22137,21999,21859,21731,21624,21541,21486,21461,21464,21493,21537,21590,21650,21719,21815,21963,22193,22532,22979,23516,24134,24818,25534,26237,26881,27432,27867,28171,28335,28354,28234,27989,27635,27182,26643,26028,25352,24624,23839,22986,22059,21054,19985,18877,17756,16658,15622,14690,13892,13245,12751,12404,12198,12132,12193,12349,12569,12843,13159,13507,13874,14249,14628,15007,15384,15757,16128,16496,16854,17193,17501,17770,17997,18187,18341,18464,18555,18611,18634,18632,18616,18590,18558,18519,18474,18422,18362,18294,18216,18122,18008,17867,17695,17491,17257,16999,16722,16432,16133,15829,15524,15220,14921,14631,14353,14089,13840,13609,13399,13210,13042,12893,12764,12654,12561,12484,12420,12368,12328,12298,12277,12267,12273,12302,12359,12447,12567,12717,12893,13089,13296,13506,13717,13928,14136,14341,14545,14750,14960,15179,15407,15643,15884,16126,16366,16602,16826,17032,17213,17361,17473,17550,17594,17610,17606,17586,17555,17514,17467,17415,17359,17297,17224,17136,17031,16905,16757,16588,16398,16188,15946,15685,15416,15144,14873,14602,14332,14063,13794,13526,13257,12987,12717,12445,12172,11896,11618,11338],\"weights\":[1,1,1,1,1,1,1,1,1,1,1,1,1,1,1,1,1,1,1,1,1,1,1,1,1,1,1,1,1,1,1,1,1,1,1,1,1,1,1,1,1,1,1,1,1,1,1,1,1,1,1,1,1,1,1,1,1,1,1,1,1,1,1,1,1,1,1,1,1,1,1,1,1,1,1,1,1,1,1,1,1,1,1,1,1,1,1,1,1,1,1,1,1,1,1,1,1,1,1,1,1,1,1,1,1,1,1,1,1,1,1,1,1,1,1,1,1,1,1,1,1,1,1,1,1,1,1,1,1,1,1,1,1,1,1,1,1,1,1,1,1,1,1,1,1,1,1,1,1,1,1,1,1,1,1,1,1,1,1,1,1,1,1,1,1,1,1,1,1,1,1,1,1,1,1,1,1,1,1,1,1,1,1,1,1,1,1,1,1,1,1,1,1,1,1,1,1,1,1,1,1,1,1,1,1,1,1,1,1,1,1,1,1,1,1,1,1,1,1,1,1,1,1,1,1,1,1,1,1,1,1,1,1,1,1,1,1,1,1,1,1,1,1,1,1,1,1,1,1,1,1,1,1,1,1,1,1,1,1,1,1,1,1,1,1,1,1,1,1,1,1,1]},\"selected\":{\"id\":\"1061\"},\"selection_policy\":{\"id\":\"1062\"}},\"id\":\"1002\",\"type\":\"ColumnDataSource\"},{\"attributes\":{\"text\":\"Time Series Anomalies Visualization\"},\"id\":\"1005\",\"type\":\"Title\"},{\"attributes\":{},\"id\":\"1060\",\"type\":\"YearsTicker\"},{\"attributes\":{\"callback\":null,\"formatters\":{\"TimeGenerated\":\"datetime\",\"Tooltip\":\"printf\"},\"tooltips\":[[\"TimeGenerated\",\"@TimeGenerated{%F %T}\"],[\"TotalBytesSent\",\"@TotalBytesSent\"],[\"residual\",\"@residual\"],[\"trend\",\"@trend\"],[\"seasonal\",\"@seasonal\"],[\"weights\",\"@weights\"],[\"baseline\",\"@baseline\"],[\"score\",\"@score\"]]},\"id\":\"1003\",\"type\":\"HoverTool\"},{\"attributes\":{\"axis\":{\"id\":\"1015\"},\"grid_line_color\":null,\"ticker\":null},\"id\":\"1018\",\"type\":\"Grid\"},{\"attributes\":{\"fill_color\":{\"value\":\"blue\"},\"line_color\":{\"value\":\"blue\"},\"x\":{\"field\":\"TimeGenerated\"},\"y\":{\"field\":\"score\"}},\"id\":\"1137\",\"type\":\"Circle\"},{\"attributes\":{},\"id\":\"1114\",\"type\":\"UnionRenderers\"},{\"attributes\":{\"label\":{\"value\":\"anomalies\"},\"renderers\":[{\"id\":\"1093\"}]},\"id\":\"1115\",\"type\":\"LegendItem\"},{\"attributes\":{\"overlay\":{\"id\":\"1142\"},\"x_range\":{\"id\":\"1007\"},\"y_range\":null},\"id\":\"1141\",\"type\":\"RangeTool\"},{\"attributes\":{\"num_minor_ticks\":5,\"tickers\":[{\"id\":\"1170\"},{\"id\":\"1171\"},{\"id\":\"1172\"},{\"id\":\"1173\"},{\"id\":\"1174\"},{\"id\":\"1175\"},{\"id\":\"1176\"},{\"id\":\"1177\"},{\"id\":\"1178\"},{\"id\":\"1179\"},{\"id\":\"1180\"},{\"id\":\"1181\"}]},\"id\":\"1128\",\"type\":\"DatetimeTicker\"},{\"attributes\":{\"align\":\"right\",\"text\":\"Drag the middle or edges of the selection box to change the range in the main chart\",\"text_font_size\":{\"value\":\"10px\"}},\"id\":\"1132\",\"type\":\"Title\"},{\"attributes\":{\"fill_alpha\":{\"value\":0.1},\"fill_color\":{\"value\":\"firebrick\"},\"line_alpha\":{\"value\":0.1},\"line_color\":{\"value\":\"firebrick\"},\"size\":{\"units\":\"screen\",\"value\":12},\"x\":{\"field\":\"TimeGenerated\"},\"y\":{\"field\":\"TotalBytesSent\"}},\"id\":\"1092\",\"type\":\"CircleX\"},{\"attributes\":{\"base\":60,\"mantissas\":[1,2,5,10,15,20,30],\"max_interval\":1800000.0,\"min_interval\":1000.0,\"num_minor_ticks\":0},\"id\":\"1050\",\"type\":\"AdaptiveTicker\"},{\"attributes\":{\"text\":\"Range Selector\"},\"id\":\"1117\",\"type\":\"Title\"},{\"attributes\":{\"overlay\":{\"id\":\"1028\"}},\"id\":\"1024\",\"type\":\"BoxZoomTool\"},{\"attributes\":{\"days\":[1,15]},\"id\":\"1055\",\"type\":\"DaysTicker\"},{\"attributes\":{},\"id\":\"1009\",\"type\":\"DataRange1d\"},{\"attributes\":{\"days\":[1,4,7,10,13,16,19,22,25,28]},\"id\":\"1053\",\"type\":\"DaysTicker\"},{\"attributes\":{},\"id\":\"1011\",\"type\":\"LinearScale\"},{\"attributes\":{\"fill_alpha\":0.2,\"fill_color\":\"navy\",\"level\":\"overlay\",\"line_alpha\":1.0,\"line_color\":\"black\",\"line_dash\":[2,2],\"line_width\":0.5},\"id\":\"1142\",\"type\":\"BoxAnnotation\"},{\"attributes\":{\"end\":1594684980000.0,\"start\":1593903420000.0},\"id\":\"1119\",\"type\":\"Range1d\"},{\"attributes\":{\"source\":{\"id\":\"1002\"}},\"id\":\"1044\",\"type\":\"CDSView\"},{\"attributes\":{\"days\":[1,15]},\"id\":\"1176\",\"type\":\"DaysTicker\"},{\"attributes\":{\"bottom_units\":\"screen\",\"fill_alpha\":0.5,\"fill_color\":\"lightgrey\",\"left_units\":\"screen\",\"level\":\"overlay\",\"line_alpha\":1.0,\"line_color\":\"black\",\"line_dash\":[4,4],\"line_width\":2,\"right_units\":\"screen\",\"top_units\":\"screen\"},\"id\":\"1028\",\"type\":\"BoxAnnotation\"},{\"attributes\":{},\"id\":\"1113\",\"type\":\"Selection\"},{\"attributes\":{\"months\":[0,6]},\"id\":\"1180\",\"type\":\"MonthsTicker\"},{\"attributes\":{\"days\":[1,8,15,22]},\"id\":\"1054\",\"type\":\"DaysTicker\"},{\"attributes\":{},\"id\":\"1181\",\"type\":\"YearsTicker\"},{\"attributes\":{\"months\":[0,4,8]},\"id\":\"1058\",\"type\":\"MonthsTicker\"},{\"attributes\":{},\"id\":\"1182\",\"type\":\"Selection\"},{\"attributes\":{},\"id\":\"1026\",\"type\":\"SaveTool\"},{\"attributes\":{\"format\":\"00\"},\"id\":\"1038\",\"type\":\"NumeralTickFormatter\"},{\"attributes\":{\"mantissas\":[1,2,5],\"max_interval\":500.0,\"num_minor_ticks\":0},\"id\":\"1049\",\"type\":\"AdaptiveTicker\"},{\"attributes\":{},\"id\":\"1013\",\"type\":\"LinearScale\"},{\"attributes\":{\"fill_alpha\":{\"value\":0.1},\"fill_color\":{\"value\":\"blue\"},\"line_alpha\":{\"value\":0.1},\"line_color\":{\"value\":\"blue\"},\"x\":{\"field\":\"TimeGenerated\"},\"y\":{\"field\":\"score\"}},\"id\":\"1138\",\"type\":\"Circle\"},{\"attributes\":{\"dimensions\":\"width\"},\"id\":\"1023\",\"type\":\"WheelZoomTool\"},{\"attributes\":{\"months\":[0,6]},\"id\":\"1059\",\"type\":\"MonthsTicker\"},{\"attributes\":{\"dimensions\":\"width\"},\"id\":\"1027\",\"type\":\"PanTool\"},{\"attributes\":{\"mantissas\":[1,2,5],\"max_interval\":500.0,\"num_minor_ticks\":0},\"id\":\"1170\",\"type\":\"AdaptiveTicker\"},{\"attributes\":{},\"id\":\"1025\",\"type\":\"ResetTool\"},{\"attributes\":{\"click_policy\":\"hide\",\"items\":[{\"id\":\"1064\"},{\"id\":\"1088\"},{\"id\":\"1115\"}],\"location\":\"top_left\"},\"id\":\"1063\",\"type\":\"Legend\"},{\"attributes\":{\"days\":[\"%m-%d %H:%M\"],\"hours\":[\"%H:%M:%S\"],\"milliseconds\":[\"%H:%M:%S.%3N\"],\"minutes\":[\"%H:%M:%S\"],\"seconds\":[\"%H:%M:%S\"]},\"id\":\"1036\",\"type\":\"DatetimeTickFormatter\"},{\"attributes\":{\"months\":[0,2,4,6,8,10]},\"id\":\"1178\",\"type\":\"MonthsTicker\"},{\"attributes\":{\"months\":[0,1,2,3,4,5,6,7,8,9,10,11]},\"id\":\"1177\",\"type\":\"MonthsTicker\"},{\"attributes\":{\"axis\":{\"id\":\"1019\"},\"dimension\":1,\"grid_line_color\":null,\"ticker\":null},\"id\":\"1022\",\"type\":\"Grid\"},{\"attributes\":{\"axis\":{\"id\":\"1127\"},\"ticker\":null},\"id\":\"1130\",\"type\":\"Grid\"},{\"attributes\":{},\"id\":\"1123\",\"type\":\"LinearScale\"},{\"attributes\":{\"axis_label\":\"TimeGenerated\",\"formatter\":{\"id\":\"1036\"},\"ticker\":{\"id\":\"1016\"}},\"id\":\"1015\",\"type\":\"DatetimeAxis\"},{\"attributes\":{\"below\":[{\"id\":\"1127\"},{\"id\":\"1132\"}],\"center\":[{\"id\":\"1130\"}],\"plot_height\":120,\"plot_width\":1200,\"renderers\":[{\"id\":\"1139\"}],\"title\":{\"id\":\"1117\"},\"toolbar\":{\"id\":\"1131\"},\"toolbar_location\":null,\"x_range\":{\"id\":\"1119\"},\"x_scale\":{\"id\":\"1123\"},\"y_range\":{\"id\":\"1121\"},\"y_scale\":{\"id\":\"1125\"}},\"id\":\"1116\",\"subtype\":\"Figure\",\"type\":\"Plot\"},{\"attributes\":{\"base\":24,\"mantissas\":[1,2,4,6,8,12],\"max_interval\":43200000.0,\"min_interval\":3600000.0,\"num_minor_ticks\":0},\"id\":\"1051\",\"type\":\"AdaptiveTicker\"},{\"attributes\":{\"axis_label\":\"TotalBytesSent\",\"formatter\":{\"id\":\"1038\"},\"ticker\":{\"id\":\"1020\"}},\"id\":\"1019\",\"type\":\"LinearAxis\"},{\"attributes\":{\"line_color\":\"green\",\"x\":{\"field\":\"TimeGenerated\"},\"y\":{\"field\":\"baseline\"}},\"id\":\"1066\",\"type\":\"Line\"},{\"attributes\":{\"label\":{\"value\":\"baseline\"},\"renderers\":[{\"id\":\"1068\"}]},\"id\":\"1088\",\"type\":\"LegendItem\"},{\"attributes\":{\"data_source\":{\"id\":\"1135\"},\"glyph\":{\"id\":\"1137\"},\"hover_glyph\":null,\"muted_glyph\":null,\"nonselection_glyph\":{\"id\":\"1138\"},\"selection_glyph\":null,\"view\":{\"id\":\"1140\"}},\"id\":\"1139\",\"type\":\"GlyphRenderer\"},{\"attributes\":{\"fill_alpha\":{\"value\":0.2},\"fill_color\":{\"value\":\"firebrick\"},\"line_color\":{\"value\":\"firebrick\"},\"size\":{\"units\":\"screen\",\"value\":12},\"x\":{\"field\":\"TimeGenerated\"},\"y\":{\"field\":\"TotalBytesSent\"}},\"id\":\"1091\",\"type\":\"CircleX\"},{\"attributes\":{\"active_drag\":\"auto\",\"active_inspect\":\"auto\",\"active_multi\":{\"id\":\"1141\"},\"active_scroll\":\"auto\",\"active_tap\":\"auto\",\"tools\":[{\"id\":\"1141\"}]},\"id\":\"1131\",\"type\":\"Toolbar\"},{\"attributes\":{\"num_minor_ticks\":10,\"tickers\":[{\"id\":\"1049\"},{\"id\":\"1050\"},{\"id\":\"1051\"},{\"id\":\"1052\"},{\"id\":\"1053\"},{\"id\":\"1054\"},{\"id\":\"1055\"},{\"id\":\"1056\"},{\"id\":\"1057\"},{\"id\":\"1058\"},{\"id\":\"1059\"},{\"id\":\"1060\"}]},\"id\":\"1016\",\"type\":\"DatetimeTicker\"},{\"attributes\":{\"months\":[0,2,4,6,8,10]},\"id\":\"1057\",\"type\":\"MonthsTicker\"},{\"attributes\":{\"days\":[1,2,3,4,5,6,7,8,9,10,11,12,13,14,15,16,17,18,19,20,21,22,23,24,25,26,27,28,29,30,31]},\"id\":\"1173\",\"type\":\"DaysTicker\"},{\"attributes\":{\"months\":[0,4,8]},\"id\":\"1179\",\"type\":\"MonthsTicker\"},{\"attributes\":{\"fill_alpha\":{\"value\":0.1},\"fill_color\":{\"value\":\"#1f77b4\"},\"line_alpha\":{\"value\":0.1},\"line_color\":{\"value\":\"navy\"},\"x\":{\"field\":\"TimeGenerated\"},\"y\":{\"field\":\"TotalBytesSent\"}},\"id\":\"1042\",\"type\":\"Circle\"},{\"attributes\":{\"data\":{\"TimeGenerated\":{\"__ndarray__\":\"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\",\"dtype\":\"float64\",\"order\":\"little\",\"shape\":[272]},\"TotalBytesSent\":[10823,14821,13532,11947,11193,13257,13375,27975,31501,28775,31398,32979,32241,33539,28420,25757,30947,27803,29637,29670,11563,13465,13587,14967,12964,13858,13119,13907,12739,11227,11268,31322,26683,32982,32544,31414,28254,29893,31290,28334,26328,26448,30576,30793,10484,14995,11715,11296,10487,10789,14758,10998,10682,14572,13689,34167,27286,33955,33700,26810,30679,31533,33739,32815,26046,27499,33974,29118,12821,12836,13819,14877,14220,10053,14690,13161,14334,12806,11771,25544,27355,33777,27055,27816,32648,25686,32147,33363,28923,31547,33575,26369,14754,10415,10286,12086,11414,14915,14479,14063,13211,12485,14759,26964,31469,26214,33556,32596,25150,31064,25338,25714,26089,25673,48616,45856,48616,48616,11654,13127,45856,45856,12184,12184,12184,14179,14179,14179,13841,13841,13841,11097,11097,11097,13724,13724,13724,10535,10535,10535,10022,10022,10022,12570,12570,12570,14145,14145,14145,18473,18473,18473,19477,19477,19477,19080,19080,19080,17622,17622,17622,18725,18725,18725,17612,17612,17612,19733,19733,19733,19338,19338,19338,18656,18656,18656,17732,17732,17732,17801,17801,17801,16167,16167,16167,16485,16485,16485,11455,11455,11455,10545,10545,10545,13991,13991,13991,10699,10699,10699,12735,12735,12735,12639,12639,12639,14501,14501,14501,12477,12477,12477,11497,11497,11497,10081,10081,10081,11729,11729,11729,18121,18121,18121,17458,17458,17458,18104,18104,18104,16508,16508,16508,17814,17814,17814,16494,16494,16494,17588,17588,17588,18545,18545,18545,19534,19534,19534,16085,16085,16085,15276,15276,15276,15363,15363,15363,18166,18166,18166,13830,13830,13830,13350,13350,13350,11842,11842,11842,11111,11111,11111],\"anomalies\":[0,0,0,0,0,0,0,0,0,0,0,0,0,0,0,0,0,0,0,0,0,0,0,0,0,0,0,0,0,0,0,0,0,0,0,0,0,0,0,0,0,0,0,0,0,0,0,0,0,0,0,0,0,0,0,0,0,0,0,0,0,0,0,0,0,0,0,0,0,0,0,0,0,0,0,0,0,0,0,0,0,0,0,0,0,0,0,0,0,0,0,0,0,0,0,0,0,0,0,0,0,0,0,0,0,0,0,0,0,0,0,0,0,0,1,1,1,1,0,0,1,1,0,0,0,0,0,0,0,0,0,0,0,0,0,0,0,0,0,0,0,0,0,0,0,0,0,0,0,0,0,0,0,0,0,0,0,0,0,0,0,0,0,0,0,0,0,0,0,0,0,0,0,0,0,0,0,0,0,0,0,0,0,0,0,0,0,0,0,0,0,0,0,0,0,0,0,0,0,0,0,0,0,0,0,0,0,0,0,0,0,0,0,0,0,0,0,0,0,0,0,0,0,0,0,0,0,0,0,0,0,0,0,0,0,0,0,0,0,0,0,0,0,0,0,0,0,0,0,0,0,0,0,0,0,0,0,0,0,0,0,0,0,0,0,0,0,0,0,0,0,0],\"baseline\":[9967,12647,13282,12099,11149,12505,12297,30814,29694,31830,32863,32600,32113,33448,31404,28388,29977,28356,29786,29685,7980,11082,13632,14117,11757,13268,14037,12675,11993,12896,12619,30037,28712,31414,31605,30466,30321,30846,30213,28168,27766,27151,30910,29311,11623,13393,12318,13180,13020,13701,13999,12782,12513,13122,13077,29286,28219,31319,31208,29568,29567,29720,30294,29225,27243,27396,33549,30638,17104,17565,12112,13147,15434,15340,14188,12818,12793,13246,13314,27629,26980,29714,29418,27074,27056,26787,27988,27777,24578,25250,33791,29839,21041,20376,10938,12485,20612,20768,13969,13347,13713,14890,15731,25438,27213,28763,29887,29113,29274,29847,31064,31718,30200,30241,37911,34582,30220,28716,17700,19021,27595,27446,17815,16814,15899,16280,15796,19294,19667,17942,18181,16248,14068,14274,13205,13104,12579,12100,18284,17056,15942,15847,6749,8925,17714,18549,11069,11542,11984,13697,14469,16239,17402,17400,18622,18156,17795,18714,18438,18700,18913,18374,20746,20510,18965,18967,15257,16271,19516,19478,17406,17361,17312,18165,18098,18012,18319,18189,18036,17547,17356,17149,16663,16426,16176,15583,15317,15050,12619,12357,12101,12140,11909,11695,13062,12881,12718,13624,13496,13386,13032,12989,12965,12812,12823,12849,12535,12608,12709,13263,13428,13622,11385,11622,11869,12153,12402,12649,13930,14169,14406,15594,15839,16094,15714,15941,16182,16321,16581,16846,16852,17113,17355,18719,18905,19059,16396,16497,16580,16419,16479,16531,16930,16973,17012,18021,18046,18058,17037,16886,16721,16420,16236,16046,15665,15466,15272,17051,16877,16714,13489,13346,13212,12724,12601,12483,11900,11785,11672,12497,12385,12275],\"index\":[0,1,2,3,4,5,6,7,8,9,10,11,12,13,14,15,16,17,18,19,20,21,22,23,24,25,26,27,28,29,30,31,32,33,34,35,36,37,38,39,40,41,42,43,44,45,46,47,48,49,50,51,52,53,54,55,56,57,58,59,60,61,62,63,64,65,66,67,68,69,70,71,72,73,74,75,76,77,78,79,80,81,82,83,84,85,86,87,88,89,90,91,92,93,94,95,96,97,98,99,100,101,102,103,104,105,106,107,108,109,110,111,112,113,114,115,116,117,118,119,120,121,122,123,124,125,126,127,128,129,130,131,132,133,134,135,136,137,138,139,140,141,142,143,144,145,146,147,148,149,150,151,152,153,154,155,156,157,158,159,160,161,162,163,164,165,166,167,168,169,170,171,172,173,174,175,176,177,178,179,180,181,182,183,184,185,186,187,188,189,190,191,192,193,194,195,196,197,198,199,200,201,202,203,204,205,206,207,208,209,210,211,212,213,214,215,216,217,218,219,220,221,222,223,224,225,226,227,228,229,230,231,232,233,234,235,236,237,238,239,240,241,242,243,244,245,246,247,248,249,250,251,252,253,254,255,256,257,258,259,260,261,262,263,264,265,266,267,268,269,270,271],\"residual\":[855,2173,249,-152,43,751,1077,-2839,1806,-3055,-1465,378,127,90,-2984,-2631,969,-553,-149,-15,3582,2382,-45,849,1206,589,-918,1231,745,-1669,-1351,1284,-2029,1567,938,947,-2067,-953,1076,165,-1438,-703,-334,1481,-1139,1601,-603,-1884,-2533,-2912,758,-1784,-1831,1449,611,4880,-933,2635,2491,-2758,1111,1812,3444,3589,-1197,102,424,-1520,-4283,-4729,1706,1729,-1214,-5287,501,342,1540,-440,-1543,-2085,374,4062,-2363,741,5591,-1101,4158,5585,4344,6296,-216,-3470,-6287,-9961,-652,-399,-9198,-5853,509,715,-502,-2405,-972,1525,4255,-2549,3668,3482,-4124,1216,-5726,-6004,-4111,-4568,10704,11273,18395,19899,-6046,-5894,18260,18409,-5631,-4630,-3715,-2101,-1617,-5115,-5826,-4101,-4340,-5151,-2971,-3177,518,619,1144,-1565,-7749,-6521,-5920,-5825,3272,3644,-5144,-5979,3075,2602,2160,4775,4003,2233,2074,2076,854,923,1284,365,-816,-1078,-1291,350,-2021,-1785,-1353,-1355,2354,3461,216,254,1931,1976,2025,490,557,643,-587,-457,-304,253,444,651,-496,-259,-9,901,1167,1434,-1164,-902,-646,-1595,-1364,-1150,928,1109,1272,-2925,-2797,-2687,-297,-254,-230,-173,-184,-210,1965,1892,1791,-786,-951,-1145,111,-125,-372,-2072,-2321,-2568,-2201,-2440,-2677,2526,2281,2026,1743,1516,1275,1782,1522,1257,-344,-605,-847,-905,-1091,-1245,97,-3,-86,1168,1108,1056,1614,1571,1532,1512,1487,1475,-952,-801,-636,-1144,-960,-770,-302,-103,90,1114,1288,1451,340,483,617,625,748,866,-58,56,169,-1386,-1274,-1164],\"score\":{\"__ndarray__\":\"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\",\"dtype\":\"float64\",\"order\":\"little\",\"shape\":[272]},\"seasonal\":[-11937,-9261,-8633,-9826,-10788,-9446,-9670,8827,7688,9805,10818,10535,10030,11347,9287,6255,7830,6189,7583,7447,-14291,-11223,-8705,-8247,-10625,-9120,-8344,-9684,-10333,-9384,-9604,7883,6641,9435,9721,8678,8625,9233,8670,6676,6304,5697,9439,7805,-9936,-8234,-9392,-8625,-8894,-8329,-8150,-9486,-9863,-9343,-9458,6695,5585,8658,8534,6890,6895,7061,7656,6620,4686,4898,11119,8282,-5180,-4651,-10051,-8984,-6693,-6812,-8015,-9455,-9555,-9167,-9147,5140,4494,7268,7050,4811,4919,4787,6128,6045,2954,3708,12305,8378,-423,-1116,-10599,-9105,-1038,-950,-7845,-8616,-8479,-7642,-7247,1921,3078,3944,4352,2876,2392,2414,3197,3547,1865,1886,9676,6592,2584,1534,-8942,-7006,2242,2822,-6023,-6171,-6159,-4774,-4188,417,1911,1283,2558,1558,175,1029,454,700,381,-31,6090,4707,3372,3003,-6410,-4581,3839,4299,-3559,-3464,-3400,-2060,-1659,-256,547,206,1121,386,-202,527,96,235,357,-237,2111,1877,349,376,-3300,-2248,1041,1056,-956,-933,-904,42,90,145,624,697,778,547,634,717,530,596,651,362,396,418,-1733,-1731,-1738,-1469,-1489,-1515,20,-11,-46,969,934,902,612,620,637,514,545,581,261,305,350,816,861,905,-1508,-1466,-1426,-1352,-1315,-1279,-206,-172,-138,844,878,915,307,298,298,195,214,244,25,80,141,1358,1431,1509,-1197,-1113,-1025,-1167,-1075,-982,-536,-442,-347,724,821,921,6,-18,-35,-168,-161,-141,-280,-218,-144,1906,2003,2111,-843,-716,-582,-801,-655,-504,-817,-659,-499,600,766,936],\"trend\":[21904,21908,21915,21925,21937,21951,21968,21986,22005,22025,22045,22064,22083,22101,22117,22132,22147,22167,22202,22237,22272,22306,22338,22364,22382,22388,22381,22360,22326,22281,22224,22153,22071,21979,21883,21787,21696,21612,21543,21492,21462,21454,21470,21506,21560,21628,21710,21806,21914,22030,22150,22268,22376,22465,22536,22591,22633,22661,22674,22677,22671,22659,22637,22604,22557,22498,22429,22356,22284,22217,22163,22132,22127,22152,22204,22273,22348,22413,22461,22488,22485,22445,22368,22263,22137,21999,21859,21731,21624,21541,21486,21461,21464,21493,21537,21590,21650,21719,21815,21963,22193,22532,22979,23516,24134,24818,25534,26237,26881,27432,27867,28171,28335,28354,28234,27989,27635,27182,26643,26028,25352,24624,23839,22986,22059,21054,19985,18877,17756,16658,15622,14690,13892,13245,12751,12404,12198,12132,12193,12349,12569,12843,13159,13507,13874,14249,14628,15007,15384,15757,16128,16496,16854,17193,17501,17770,17997,18187,18341,18464,18555,18611,18634,18632,18616,18590,18558,18519,18474,18422,18362,18294,18216,18122,18008,17867,17695,17491,17257,16999,16722,16432,16133,15829,15524,15220,14921,14631,14353,14089,13840,13609,13399,13210,13042,12893,12764,12654,12561,12484,12420,12368,12328,12298,12277,12267,12273,12302,12359,12447,12567,12717,12893,13089,13296,13506,13717,13928,14136,14341,14545,14750,14960,15179,15407,15643,15884,16126,16366,16602,16826,17032,17213,17361,17473,17550,17594,17610,17606,17586,17555,17514,17467,17415,17359,17297,17224,17136,17031,16905,16757,16588,16398,16188,15946,15685,15416,15144,14873,14602,14332,14063,13794,13526,13257,12987,12717,12445,12172,11896,11618,11338],\"weights\":[1,1,1,1,1,1,1,1,1,1,1,1,1,1,1,1,1,1,1,1,1,1,1,1,1,1,1,1,1,1,1,1,1,1,1,1,1,1,1,1,1,1,1,1,1,1,1,1,1,1,1,1,1,1,1,1,1,1,1,1,1,1,1,1,1,1,1,1,1,1,1,1,1,1,1,1,1,1,1,1,1,1,1,1,1,1,1,1,1,1,1,1,1,1,1,1,1,1,1,1,1,1,1,1,1,1,1,1,1,1,1,1,1,1,1,1,1,1,1,1,1,1,1,1,1,1,1,1,1,1,1,1,1,1,1,1,1,1,1,1,1,1,1,1,1,1,1,1,1,1,1,1,1,1,1,1,1,1,1,1,1,1,1,1,1,1,1,1,1,1,1,1,1,1,1,1,1,1,1,1,1,1,1,1,1,1,1,1,1,1,1,1,1,1,1,1,1,1,1,1,1,1,1,1,1,1,1,1,1,1,1,1,1,1,1,1,1,1,1,1,1,1,1,1,1,1,1,1,1,1,1,1,1,1,1,1,1,1,1,1,1,1,1,1,1,1,1,1,1,1,1,1,1,1,1,1,1,1,1,1,1,1,1,1,1,1,1,1,1,1,1,1]},\"selected\":{\"id\":\"1182\"},\"selection_policy\":{\"id\":\"1183\"}},\"id\":\"1135\",\"type\":\"ColumnDataSource\"},{\"attributes\":{},\"id\":\"1062\",\"type\":\"UnionRenderers\"},{\"attributes\":{\"active_drag\":\"auto\",\"active_inspect\":\"auto\",\"active_multi\":null,\"active_scroll\":\"auto\",\"active_tap\":\"auto\",\"tools\":[{\"id\":\"1003\"},{\"id\":\"1023\"},{\"id\":\"1024\"},{\"id\":\"1025\"},{\"id\":\"1026\"},{\"id\":\"1027\"}]},\"id\":\"1029\",\"type\":\"Toolbar\"},{\"attributes\":{\"days\":[1,8,15,22]},\"id\":\"1175\",\"type\":\"DaysTicker\"},{\"attributes\":{\"data\":{\"TimeGenerated\":{\"__ndarray__\":\"AAAQJZ4zd0IAAPiToTN3QgAA4AKlM3dCAADgAqUzd0IAAMhxqDN3QgAAyHGoM3dC\",\"dtype\":\"float64\",\"order\":\"little\",\"shape\":[6]},\"TotalBytesSent\":[48616,45856,48616,48616,45856,45856],\"baseline\":[37911,34582,30220,28716,27595,27446],\"index\":[114,115,116,117,120,121],\"level_0\":[0,1,2,3,4,5],\"residual\":[10704,11273,18395,19899,18260,18409],\"score\":{\"__ndarray__\":\"tzsOlQY0CEDFHIsrJ34JQGmZs8Qg0RRAfrjDB26FFkDw9SAc96kUQHJNXncw1RRA\",\"dtype\":\"float64\",\"order\":\"little\",\"shape\":[6]},\"seasonal\":[9676,6592,2584,1534,2242,2822],\"trend\":[28234,27989,27635,27182,25352,24624],\"weights\":[1,1,1,1,1,1]},\"selected\":{\"id\":\"1113\"},\"selection_policy\":{\"id\":\"1114\"}},\"id\":\"1089\",\"type\":\"ColumnDataSource\"},{\"attributes\":{\"line_alpha\":0.1,\"line_color\":\"green\",\"x\":{\"field\":\"TimeGenerated\"},\"y\":{\"field\":\"baseline\"}},\"id\":\"1067\",\"type\":\"Line\"},{\"attributes\":{\"fill_color\":{\"value\":\"#1f77b4\"},\"line_color\":{\"value\":\"navy\"},\"x\":{\"field\":\"TimeGenerated\"},\"y\":{\"field\":\"TotalBytesSent\"}},\"id\":\"1041\",\"type\":\"Circle\"},{\"attributes\":{\"months\":[0,1,2,3,4,5,6,7,8,9,10,11]},\"id\":\"1056\",\"type\":\"MonthsTicker\"},{\"attributes\":{\"data_source\":{\"id\":\"1002\"},\"glyph\":{\"id\":\"1066\"},\"hover_glyph\":null,\"muted_glyph\":null,\"nonselection_glyph\":{\"id\":\"1067\"},\"selection_glyph\":null,\"view\":{\"id\":\"1069\"}},\"id\":\"1068\",\"type\":\"GlyphRenderer\"},{\"attributes\":{\"label\":{\"value\":\"observed\"},\"renderers\":[{\"id\":\"1043\"}]},\"id\":\"1064\",\"type\":\"LegendItem\"},{\"attributes\":{\"days\":[1,4,7,10,13,16,19,22,25,28]},\"id\":\"1174\",\"type\":\"DaysTicker\"},{\"attributes\":{\"data_source\":{\"id\":\"1089\"},\"glyph\":{\"id\":\"1091\"},\"hover_glyph\":null,\"muted_glyph\":null,\"nonselection_glyph\":{\"id\":\"1092\"},\"selection_glyph\":null,\"view\":{\"id\":\"1094\"}},\"id\":\"1093\",\"type\":\"GlyphRenderer\"},{\"attributes\":{\"source\":{\"id\":\"1135\"}},\"id\":\"1140\",\"type\":\"CDSView\"},{\"attributes\":{},\"id\":\"1183\",\"type\":\"UnionRenderers\"},{\"attributes\":{},\"id\":\"1125\",\"type\":\"LinearScale\"},{\"attributes\":{},\"id\":\"1020\",\"type\":\"BasicTicker\"},{\"attributes\":{\"data_source\":{\"id\":\"1002\"},\"glyph\":{\"id\":\"1041\"},\"hover_glyph\":null,\"muted_glyph\":null,\"nonselection_glyph\":{\"id\":\"1042\"},\"selection_glyph\":null,\"view\":{\"id\":\"1044\"}},\"id\":\"1043\",\"type\":\"GlyphRenderer\"},{\"attributes\":{},\"id\":\"1121\",\"type\":\"DataRange1d\"},{\"attributes\":{\"base\":24,\"mantissas\":[1,2,4,6,8,12],\"max_interval\":43200000.0,\"min_interval\":3600000.0,\"num_minor_ticks\":0},\"id\":\"1172\",\"type\":\"AdaptiveTicker\"},{\"attributes\":{},\"id\":\"1061\",\"type\":\"Selection\"},{\"attributes\":{\"formatter\":{\"id\":\"1133\"},\"ticker\":{\"id\":\"1128\"}},\"id\":\"1127\",\"type\":\"DatetimeAxis\"},{\"attributes\":{\"source\":{\"id\":\"1002\"}},\"id\":\"1069\",\"type\":\"CDSView\"},{\"attributes\":{\"source\":{\"id\":\"1089\"}},\"id\":\"1094\",\"type\":\"CDSView\"},{\"attributes\":{\"days\":[\"%m-%d %H:%M\"],\"hours\":[\"%H:%M:%S\"],\"milliseconds\":[\"%H:%M:%S.%3N\"],\"minutes\":[\"%H:%M:%S\"],\"seconds\":[\"%H:%M:%S\"]},\"id\":\"1133\",\"type\":\"DatetimeTickFormatter\"},{\"attributes\":{\"days\":[1,2,3,4,5,6,7,8,9,10,11,12,13,14,15,16,17,18,19,20,21,22,23,24,25,26,27,28,29,30,31]},\"id\":\"1052\",\"type\":\"DaysTicker\"},{\"attributes\":{\"base\":60,\"mantissas\":[1,2,5,10,15,20,30],\"max_interval\":1800000.0,\"min_interval\":1000.0,\"num_minor_ticks\":0},\"id\":\"1171\",\"type\":\"AdaptiveTicker\"}],\"root_ids\":[\"1146\"]},\"title\":\"Bokeh Application\",\"version\":\"2.1.1\"}};\n",
       "  var render_items = [{\"docid\":\"4eed52ab-0ae9-4c2f-801f-f2928b3d2fc1\",\"root_ids\":[\"1146\"],\"roots\":{\"1146\":\"f31564e3-37bd-4849-a0f5-aad6ad8968bf\"}}];\n",
       "  root.Bokeh.embed.embed_items_notebook(docs_json, render_items);\n",
       "\n",
       "  }\n",
       "  if (root.Bokeh !== undefined) {\n",
       "    embed_document(root);\n",
       "  } else {\n",
       "    var attempts = 0;\n",
       "    var timer = setInterval(function(root) {\n",
       "      if (root.Bokeh !== undefined) {\n",
       "        clearInterval(timer);\n",
       "        embed_document(root);\n",
       "      } else {\n",
       "        attempts++;\n",
       "        if (attempts > 100) {\n",
       "          clearInterval(timer);\n",
       "          console.log(\"Bokeh: ERROR: Unable to run BokehJS code because BokehJS library is missing\");\n",
       "        }\n",
       "      }\n",
       "    }, 10, root)\n",
       "  }\n",
       "})(window);"
      ],
      "application/vnd.bokehjs_exec.v0+json": ""
     },
     "metadata": {
      "application/vnd.bokehjs_exec.v0+json": {
       "id": "1146"
      }
     },
     "output_type": "display_data"
    },
    {
     "data": {
      "text/html": [
       "<div style=\"display: table;\"><div style=\"display: table-row;\"><div style=\"display: table-cell;\"><b title=\"bokeh.models.layouts.Column\">Column</b>(</div><div style=\"display: table-cell;\">id&nbsp;=&nbsp;'1406', <span id=\"1408\" style=\"cursor: pointer;\">&hellip;)</span></div></div><div class=\"1407\" style=\"display: none;\"><div style=\"display: table-cell;\"></div><div style=\"display: table-cell;\">align&nbsp;=&nbsp;'start',</div></div><div class=\"1407\" style=\"display: none;\"><div style=\"display: table-cell;\"></div><div style=\"display: table-cell;\">aspect_ratio&nbsp;=&nbsp;None,</div></div><div class=\"1407\" style=\"display: none;\"><div style=\"display: table-cell;\"></div><div style=\"display: table-cell;\">background&nbsp;=&nbsp;None,</div></div><div class=\"1407\" style=\"display: none;\"><div style=\"display: table-cell;\"></div><div style=\"display: table-cell;\">children&nbsp;=&nbsp;[Figure(id='1004', ...), Figure(id='1116', ...)],</div></div><div class=\"1407\" style=\"display: none;\"><div style=\"display: table-cell;\"></div><div style=\"display: table-cell;\">css_classes&nbsp;=&nbsp;[],</div></div><div class=\"1407\" style=\"display: none;\"><div style=\"display: table-cell;\"></div><div style=\"display: table-cell;\">disabled&nbsp;=&nbsp;False,</div></div><div class=\"1407\" style=\"display: none;\"><div style=\"display: table-cell;\"></div><div style=\"display: table-cell;\">height&nbsp;=&nbsp;None,</div></div><div class=\"1407\" style=\"display: none;\"><div style=\"display: table-cell;\"></div><div style=\"display: table-cell;\">height_policy&nbsp;=&nbsp;'auto',</div></div><div class=\"1407\" style=\"display: none;\"><div style=\"display: table-cell;\"></div><div style=\"display: table-cell;\">js_event_callbacks&nbsp;=&nbsp;{},</div></div><div class=\"1407\" style=\"display: none;\"><div style=\"display: table-cell;\"></div><div style=\"display: table-cell;\">js_property_callbacks&nbsp;=&nbsp;{},</div></div><div class=\"1407\" style=\"display: none;\"><div style=\"display: table-cell;\"></div><div style=\"display: table-cell;\">margin&nbsp;=&nbsp;(0, 0, 0, 0),</div></div><div class=\"1407\" style=\"display: none;\"><div style=\"display: table-cell;\"></div><div style=\"display: table-cell;\">max_height&nbsp;=&nbsp;None,</div></div><div class=\"1407\" style=\"display: none;\"><div style=\"display: table-cell;\"></div><div style=\"display: table-cell;\">max_width&nbsp;=&nbsp;None,</div></div><div class=\"1407\" style=\"display: none;\"><div style=\"display: table-cell;\"></div><div style=\"display: table-cell;\">min_height&nbsp;=&nbsp;None,</div></div><div class=\"1407\" style=\"display: none;\"><div style=\"display: table-cell;\"></div><div style=\"display: table-cell;\">min_width&nbsp;=&nbsp;None,</div></div><div class=\"1407\" style=\"display: none;\"><div style=\"display: table-cell;\"></div><div style=\"display: table-cell;\">name&nbsp;=&nbsp;None,</div></div><div class=\"1407\" style=\"display: none;\"><div style=\"display: table-cell;\"></div><div style=\"display: table-cell;\">rows&nbsp;=&nbsp;'auto',</div></div><div class=\"1407\" style=\"display: none;\"><div style=\"display: table-cell;\"></div><div style=\"display: table-cell;\">sizing_mode&nbsp;=&nbsp;None,</div></div><div class=\"1407\" style=\"display: none;\"><div style=\"display: table-cell;\"></div><div style=\"display: table-cell;\">spacing&nbsp;=&nbsp;0,</div></div><div class=\"1407\" style=\"display: none;\"><div style=\"display: table-cell;\"></div><div style=\"display: table-cell;\">subscribed_events&nbsp;=&nbsp;[],</div></div><div class=\"1407\" style=\"display: none;\"><div style=\"display: table-cell;\"></div><div style=\"display: table-cell;\">tags&nbsp;=&nbsp;[],</div></div><div class=\"1407\" style=\"display: none;\"><div style=\"display: table-cell;\"></div><div style=\"display: table-cell;\">visible&nbsp;=&nbsp;True,</div></div><div class=\"1407\" style=\"display: none;\"><div style=\"display: table-cell;\"></div><div style=\"display: table-cell;\">width&nbsp;=&nbsp;None,</div></div><div class=\"1407\" style=\"display: none;\"><div style=\"display: table-cell;\"></div><div style=\"display: table-cell;\">width_policy&nbsp;=&nbsp;'auto')</div></div></div>\n",
       "<script>\n",
       "(function() {\n",
       "  var expanded = false;\n",
       "  var ellipsis = document.getElementById(\"1408\");\n",
       "  ellipsis.addEventListener(\"click\", function() {\n",
       "    var rows = document.getElementsByClassName(\"1407\");\n",
       "    for (var i = 0; i < rows.length; i++) {\n",
       "      var el = rows[i];\n",
       "      el.style.display = expanded ? \"none\" : \"table-row\";\n",
       "    }\n",
       "    ellipsis.innerHTML = expanded ? \"&hellip;)\" : \"&lsaquo;&lsaquo;&lsaquo;\";\n",
       "    expanded = !expanded;\n",
       "  });\n",
       "})();\n",
       "</script>\n"
      ],
      "text/plain": [
       "Column(id='1406', ...)"
      ]
     },
     "execution_count": 5,
     "metadata": {},
     "output_type": "execute_result"
    }
   ],
   "source": [
    "# Conduct our timeseries analyis\n",
    "output = timeseries_anomalies_stl(stldemo)\n",
    "# Visualize the timeseries and any anomalies\n",
    "display_timeseries_anomolies(data=output, y= 'TotalBytesSent')"
   ]
  },
  {
   "cell_type": "code",
   "execution_count": 6,
   "metadata": {},
   "outputs": [
    {
     "data": {
      "text/html": [
       "<p style=''>Anomalous session start time: 2020-07-10 18:00:00+00:00 - end time: 2020-07-10 22:00:00+00:00</p>"
      ],
      "text/plain": [
       "<IPython.core.display.HTML object>"
      ]
     },
     "metadata": {},
     "output_type": "display_data"
    }
   ],
   "source": [
    "# Identify when the anomalies occur so that we can use this timnerange to scope the next stage of our investigation.\n",
    "start = output[output['anomalies']==1]['TimeGenerated'].min()\n",
    "end = output[output['anomalies']==1]['TimeGenerated'].max() +  pd.to_timedelta(1, unit='h')\n",
    "\n",
    "# md and md_warn are MSTICpy features to provide simple, and clean output in notebook cells\n",
    "md(f\"Anomalous session start time: {start} - end time: {end}\")"
   ]
  },
  {
   "cell_type": "markdown",
   "metadata": {},
   "source": [
    "## Enrich and Pivot on IP Addresses\n",
    "With the time series analysis identifying several events of interest we need additional context to be able to effectively conduct a security investigation. MSTICpy has a range of features to help enrich key data types and provide that context depending on the entities being used. <br>\n",
    "To get these entities, we again query Splunk to get the IP addresses associated with the anomalous traffic."
   ]
  },
  {
   "cell_type": "code",
   "execution_count": 7,
   "metadata": {},
   "outputs": [
    {
     "data": {
      "text/html": [
       "<p style='font-weight: bold'>Top talkers during anomolous session: </p>"
      ],
      "text/plain": [
       "<IPython.core.display.HTML object>"
      ]
     },
     "metadata": {},
     "output_type": "display_data"
    },
    {
     "data": {
      "text/plain": [
       "SourceIP       DestinationIP\n",
       "20.185.182.48  31.220.60.108    8328\n",
       "10.16.12.1     40.124.45.19     1004\n",
       "10.0.3.5       40.124.45.19      621\n",
       "10.4.5.12      13.71.172.130     247\n",
       "               40.77.232.95      189\n",
       "Name: TotalBytesSent, dtype: int32"
      ]
     },
     "metadata": {},
     "output_type": "display_data"
    }
   ],
   "source": [
    "splunk_query = \"search host=network_raw index=blackhat earliest=0 | table TimeGenerated, Action, SourceIP, DestinationIP, TotalBytesSent\"\n",
    "net_data = splunk_prov.exec_query(splunk_query)\n",
    "\n",
    "# We need to identify what network endpoints are associated with the anomalies\n",
    "net_data['TotalBytesSent'] = net_data['TotalBytesSent'].astype(int)\n",
    "grouped_df = net_data.groupby(['SourceIP', 'DestinationIP'])\n",
    "noisy_hosts = grouped_df['TotalBytesSent'].agg(np.sum).sort_values(ascending=False)\n",
    "md(\"Top talkers during anomolous session: \", 'bold')\n",
    "display(noisy_hosts[:5])\n",
    "source_ip, dest_ip = noisy_hosts.index[0][0:2]"
   ]
  },
  {
   "cell_type": "markdown",
   "metadata": {},
   "source": [
    "### Network data enrichment\n",
    "MSTICpy can help analysts investigate an IP address, using open source information such as [passive DNS](https://msticpy.readthedocs.io/en/latest/data_acquisition/TIProviders.html?highlight=passive%20dns#use-to-do-a-passive-dns-lookup) data, [IP geolocation](https://msticpy.readthedocs.io/en/latest/data_acquisition/GeoIPLookups.html) and [threat intelligence](https://msticpy.readthedocs.io/en/latest/data_acquisition/TIProviders.html) feeds to provide valuable context.\n",
    "\n",
    "> Note: Whois module uses *ipwhois*, TI module uses services from *OTX*, *VirusTotal*, *XForce*, *AzureSentinel*, and *OpenPageRank*"
   ]
  },
  {
   "cell_type": "markdown",
   "metadata": {},
   "source": [
    "<font color='blue'>[ian comment] - where are you getting the IP Location?"
   ]
  },
  {
   "cell_type": "code",
   "execution_count": 56,
   "metadata": {},
   "outputs": [
    {
     "data": {
      "text/html": [
       "<p style='font-weight: bold'>Target IP: 31.220.60.108 (Public IP address)</p>"
      ],
      "text/plain": [
       "<IPython.core.display.HTML object>"
      ]
     },
     "metadata": {},
     "output_type": "display_data"
    },
    {
     "data": {
      "text/html": [
       "<p style='font-weight: bold'>Whois Registrar Info : ASN Owner: AS-HOSTINGER, LT</p>"
      ],
      "text/plain": [
       "<IPython.core.display.HTML object>"
      ]
     },
     "metadata": {},
     "output_type": "display_data"
    },
    {
     "data": {
      "text/html": [
       "<p style=''>ASN Address: Hostinger International Ltd.\n",
       "61 Lordou Vyronos\n",
       "Lumiel Building, 4th floor\n",
       "6023\n",
       "Larnaca\n",
       "CYPRUS</p>"
      ],
      "text/plain": [
       "<IPython.core.display.HTML object>"
      ]
     },
     "metadata": {},
     "output_type": "display_data"
    },
    {
     "data": {
      "text/html": [
       "<p style='font-weight: bold'>Passive DNS records for 31.220.60.108:</p>"
      ],
      "text/plain": [
       "<IPython.core.display.HTML object>"
      ]
     },
     "metadata": {},
     "output_type": "display_data"
    },
    {
     "name": "stdout",
     "output_type": "stream",
     "text": [
      "joblly.com  -  2020-07-09T10:48:00Z\n",
      "cdn-xhr.com  -  2020-07-09T10:48:00Z\n",
      "rackxhr.com  -  2020-07-09T10:48:00Z\n",
      "hixrq.net  -  2020-07-09T10:48:00Z\n",
      "idpcdn-cloud.com  -  2020-07-09T10:48:00Z\n",
      "thxrq.com  -  2020-07-09T10:48:00Z\n",
      "hivnd.net  -  2020-07-09T10:48:00Z\n"
     ]
    },
    {
     "data": {
      "text/html": [
       "<p style='font-weight: bold'><br>Threat Intel results for 31.220.60.108:</p>"
      ],
      "text/plain": [
       "<IPython.core.display.HTML object>"
      ]
     },
     "metadata": {},
     "output_type": "display_data"
    },
    {
     "data": {
      "text/html": [
       "<div>\n",
       "<style scoped>\n",
       "    .dataframe tbody tr th:only-of-type {\n",
       "        vertical-align: middle;\n",
       "    }\n",
       "\n",
       "    .dataframe tbody tr th {\n",
       "        vertical-align: top;\n",
       "    }\n",
       "\n",
       "    .dataframe thead th {\n",
       "        text-align: right;\n",
       "    }\n",
       "</style>\n",
       "<table border=\"1\" class=\"dataframe\">\n",
       "  <thead>\n",
       "    <tr style=\"text-align: right;\">\n",
       "      <th></th>\n",
       "      <th>Ioc</th>\n",
       "      <th>IocType</th>\n",
       "      <th>QuerySubtype</th>\n",
       "      <th>Provider</th>\n",
       "      <th>Result</th>\n",
       "      <th>Severity</th>\n",
       "      <th>Details</th>\n",
       "      <th>RawResult</th>\n",
       "      <th>Reference</th>\n",
       "      <th>Status</th>\n",
       "    </tr>\n",
       "  </thead>\n",
       "  <tbody>\n",
       "    <tr>\n",
       "      <th>OTX</th>\n",
       "      <td>31.220.60.108</td>\n",
       "      <td>ipv4</td>\n",
       "      <td>None</td>\n",
       "      <td>OTX</td>\n",
       "      <td>True</td>\n",
       "      <td>high</td>\n",
       "      <td>{'pulse_count': 6, 'names': ['Card Skimmer Found Hitting Vulnerable E-Commerce Sites', 'Credit c...</td>\n",
       "      <td>{'sections': ['general', 'geo', 'reputation', 'url_list', 'passive_dns', 'malware', 'nids_list',...</td>\n",
       "      <td>https://otx.alienvault.com/api/v1/indicators/IPv4/31.220.60.108/general</td>\n",
       "      <td>0</td>\n",
       "    </tr>\n",
       "    <tr>\n",
       "      <th>OPR</th>\n",
       "      <td>31.220.60.108</td>\n",
       "      <td>ipv4</td>\n",
       "      <td>None</td>\n",
       "      <td>OPR</td>\n",
       "      <td>False</td>\n",
       "      <td>information</td>\n",
       "      <td>IoC type ipv4 not supported.</td>\n",
       "      <td>None</td>\n",
       "      <td>None</td>\n",
       "      <td>1</td>\n",
       "    </tr>\n",
       "    <tr>\n",
       "      <th>Tor</th>\n",
       "      <td>31.220.60.108</td>\n",
       "      <td>ipv4</td>\n",
       "      <td>None</td>\n",
       "      <td>Tor</td>\n",
       "      <td>True</td>\n",
       "      <td>information</td>\n",
       "      <td>Not found.</td>\n",
       "      <td>None</td>\n",
       "      <td>https://check.torproject.org/exit-addresses</td>\n",
       "      <td>0</td>\n",
       "    </tr>\n",
       "    <tr>\n",
       "      <th>VirusTotal</th>\n",
       "      <td>31.220.60.108</td>\n",
       "      <td>ipv4</td>\n",
       "      <td>None</td>\n",
       "      <td>VirusTotal</td>\n",
       "      <td>True</td>\n",
       "      <td>high</td>\n",
       "      <td>{'verbose_msg': 'IP address in dataset', 'response_code': 1, 'detected_urls': ['http://cdn-xhr.c...</td>\n",
       "      <td>{'undetected_urls': [['https://joblly.com/', 'd339002071cb0bf25ceee8f56c009e7bd06970eeab1b58c970...</td>\n",
       "      <td>https://www.virustotal.com/vtapi/v2/ip-address/report</td>\n",
       "      <td>0</td>\n",
       "    </tr>\n",
       "    <tr>\n",
       "      <th>XForce</th>\n",
       "      <td>31.220.60.108</td>\n",
       "      <td>ipv4</td>\n",
       "      <td>None</td>\n",
       "      <td>XForce</td>\n",
       "      <td>True</td>\n",
       "      <td>high</td>\n",
       "      <td>{'score': 7.1, 'cats': {'Malware': 71}, 'categoryDescriptions': {'Malware': 'This category lists...</td>\n",
       "      <td>{'ip': '31.220.60.108', 'history': [{'created': '2012-03-22T07:26:00.000Z', 'reason': 'Regional ...</td>\n",
       "      <td>https://api.xforce.ibmcloud.com/ipr/31.220.60.108</td>\n",
       "      <td>0</td>\n",
       "    </tr>\n",
       "  </tbody>\n",
       "</table>\n",
       "</div>"
      ],
      "text/plain": [
       "                      Ioc IocType QuerySubtype    Provider Result  \\\n",
       "OTX         31.220.60.108    ipv4         None         OTX   True   \n",
       "OPR         31.220.60.108    ipv4         None         OPR  False   \n",
       "Tor         31.220.60.108    ipv4         None         Tor   True   \n",
       "VirusTotal  31.220.60.108    ipv4         None  VirusTotal   True   \n",
       "XForce      31.220.60.108    ipv4         None      XForce   True   \n",
       "\n",
       "               Severity  \\\n",
       "OTX                high   \n",
       "OPR         information   \n",
       "Tor         information   \n",
       "VirusTotal         high   \n",
       "XForce             high   \n",
       "\n",
       "                                                                                                        Details  \\\n",
       "OTX         {'pulse_count': 6, 'names': ['Card Skimmer Found Hitting Vulnerable E-Commerce Sites', 'Credit c...   \n",
       "OPR                                                                                IoC type ipv4 not supported.   \n",
       "Tor                                                                                                  Not found.   \n",
       "VirusTotal  {'verbose_msg': 'IP address in dataset', 'response_code': 1, 'detected_urls': ['http://cdn-xhr.c...   \n",
       "XForce      {'score': 7.1, 'cats': {'Malware': 71}, 'categoryDescriptions': {'Malware': 'This category lists...   \n",
       "\n",
       "                                                                                                      RawResult  \\\n",
       "OTX         {'sections': ['general', 'geo', 'reputation', 'url_list', 'passive_dns', 'malware', 'nids_list',...   \n",
       "OPR                                                                                                        None   \n",
       "Tor                                                                                                        None   \n",
       "VirusTotal  {'undetected_urls': [['https://joblly.com/', 'd339002071cb0bf25ceee8f56c009e7bd06970eeab1b58c970...   \n",
       "XForce      {'ip': '31.220.60.108', 'history': [{'created': '2012-03-22T07:26:00.000Z', 'reason': 'Regional ...   \n",
       "\n",
       "                                                                          Reference  \\\n",
       "OTX         https://otx.alienvault.com/api/v1/indicators/IPv4/31.220.60.108/general   \n",
       "OPR                                                                            None   \n",
       "Tor                                     https://check.torproject.org/exit-addresses   \n",
       "VirusTotal                    https://www.virustotal.com/vtapi/v2/ip-address/report   \n",
       "XForce                            https://api.xforce.ibmcloud.com/ipr/31.220.60.108   \n",
       "\n",
       "           Status  \n",
       "OTX             0  \n",
       "OPR             1  \n",
       "Tor             0  \n",
       "VirusTotal      0  \n",
       "XForce          0  "
      ]
     },
     "execution_count": 56,
     "metadata": {},
     "output_type": "execute_result"
    }
   ],
   "source": [
    "# Get and display WhoIs data\n",
    "md(f\"Target IP: {dest_ip} ({get_ip_type(dest_ip)} IP address)\", 'bold')\n",
    "\n",
    "whois_info = get_whois_info(dest_ip)\n",
    "md(f'Whois Registrar Info : ASN Owner: {whois_info[0]}', styles=[\"bold\"])\n",
    "md(f\"ASN Address: {whois_info[1]['nets'][0]['address']}\")\n",
    "    \n",
    "# Get Passive DNS results\n",
    "psv_dns = ti.lookup_ioc(observable=dest_ip, ico_type=\"ipv4\", ioc_query_type=\"passivedns\", providers=[\"XForce\"])\n",
    "md(f\"Passive DNS records for {dest_ip}:\", styles=[\"bold\"])\n",
    "for res in ti.result_to_df(psv_dns)['RawResult'][0]['Passive']['records']:\n",
    "    print(res['value'],\" - \", res['last'])\n",
    "    \n",
    "# Lookup ip IPAddress in threat intel feeds\n",
    "ip_ti = ti.lookup_ioc(observable=dest_ip)\n",
    "md(f\"<br>Threat Intel results for {dest_ip}:\", styles=[\"bold\"])\n",
    "ti.result_to_df(ip_ti)"
   ]
  },
  {
   "cell_type": "markdown",
   "metadata": {},
   "source": [
    "We can visualize the GeoLocation of the IP Address. Below we use [FoliumMap](https://msticpy.readthedocs.io/en/latest/visualization/FoliumMap.html) to plot the IP address location on an interactive map.\n",
    "\n",
    "> Note: uses the Python *Folium* package, which is a wrapper around *Leafletjs*"
   ]
  },
  {
   "cell_type": "code",
   "execution_count": 58,
   "metadata": {},
   "outputs": [
    {
     "data": {
      "text/html": [
       "<p style=''><h3>Location of remote IP</h3></p>"
      ],
      "text/plain": [
       "<IPython.core.display.HTML object>"
      ]
     },
     "metadata": {},
     "output_type": "display_data"
    },
    {
     "data": {
      "text/html": [
       "<div style=\"width:100%;\"><div style=\"position:relative;width:100%;height:0;padding-bottom:60%;\"><span style=\"color:#565656\">Make this Notebook Trusted to load map: File -> Trust Notebook</span><iframe src=\"about:blank\" style=\"position:absolute;width:100%;height:100%;left:0;top:0;border:none !important;\" data-html=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 onload=\"this.contentDocument.open();this.contentDocument.write(atob(this.getAttribute('data-html')));this.contentDocument.close();\" allowfullscreen webkitallowfullscreen mozallowfullscreen></iframe></div></div>"
      ],
      "text/plain": [
       "<msticpy.nbtools.foliummap.FoliumMap at 0x2131fb63da0>"
      ]
     },
     "execution_count": 58,
     "metadata": {},
     "output_type": "execute_result"
    }
   ],
   "source": [
    "# Plot IP geolocation on a map\n",
    "folium_map = FoliumMap(zoom_start=4)\n",
    "md('<h3>Location of remote IP</h3>')\n",
    "folium_map.add_ip_cluster(ip_entities=convert_to_ip_entities(dest_ip), color=\"red\")\n",
    "folium_map.center_map()\n",
    "folium_map"
   ]
  },
  {
   "cell_type": "markdown",
   "metadata": {},
   "source": [
    "## Host Lookup\n",
    "Once we have some context on our remote IP address we can pivot our investigation to look at the local host that has been communicating with it."
   ]
  },
  {
   "cell_type": "markdown",
   "metadata": {},
   "source": [
    "### Data Acquisition from Azure Sentinel\n",
    "As well as *Splunk*, MSTICpy has a query provider for *Azure Sentinel*. For the next phase of our investigation we are going to use this query provider to acquire data.<br><br>\n",
    "With the Splunk connection we provided connection details directly to our query provider when calling `.connect()`. We can also store details in a [msticpy configuration file](https://msticpy.readthedocs.io/en/latest/getting_started/msticpyconfig.html) (`msticpyconfig.yaml`) and pass them to the query provider programmatically. Here we use the [Workspace Config](https://msticpy.readthedocs.io/en/latest/msticpy.common.html?highlight=WorkspaceConfig#msticpy.common.wsconfig.WorkspaceConfig) feature to access this configuration and retrieve the items we need to authenticate to Azure Sentinel.\n",
    "\n",
    "> **Note**: the authentication flow for Azure Sentinel is different from Splunk and use the Oauth2.0 device code process."
   ]
  },
  {
   "cell_type": "code",
   "execution_count": 11,
   "metadata": {},
   "outputs": [
    {
     "data": {
      "application/javascript": [
       "try {IPython.notebook.kernel.execute(\"NOTEBOOK_URL = '\" + window.location + \"'\");} catch(err) {;}"
      ],
      "text/plain": [
       "<IPython.core.display.Javascript object>"
      ]
     },
     "metadata": {},
     "output_type": "display_data"
    },
    {
     "data": {
      "application/javascript": [
       "try {IPython.notebook.kernel.execute(\"NOTEBOOK_URL = '\" + window.location + \"'\");} catch(err) {;}"
      ],
      "text/plain": [
       "<IPython.core.display.Javascript object>"
      ]
     },
     "metadata": {},
     "output_type": "display_data"
    }
   ],
   "source": [
    "# Initalize and connect to Azure Sentinel using details from our config file.\n",
    "qry_prov = QueryProvider('LogAnalytics')\n",
    "wkspace = WorkspaceConfig()\n",
    "qry_prov.connect(wkspace.code_connect_str)"
   ]
  },
  {
   "cell_type": "markdown",
   "metadata": {},
   "source": [
    "Once connected we can query Azure Sentinel in a similar way to Splunk - by providing a text query string.\n",
    "<br>We substitute the `source_ip` value we obtained in the previous section *Enrich and Pivot on IP Addresses*"
   ]
  },
  {
   "cell_type": "code",
   "execution_count": 59,
   "metadata": {},
   "outputs": [
    {
     "data": {
      "application/javascript": [
       "try {IPython.notebook.kernel.execute(\"NOTEBOOK_URL = '\" + window.location + \"'\");} catch(err) {;}"
      ],
      "text/plain": [
       "<IPython.core.display.Javascript object>"
      ]
     },
     "metadata": {},
     "output_type": "display_data"
    },
    {
     "data": {
      "text/html": [
       "<p style=''>Host to investigate: <b>BlackHatDemoHos</b></p>"
      ],
      "text/plain": [
       "<IPython.core.display.HTML object>"
      ]
     },
     "metadata": {},
     "output_type": "display_data"
    }
   ],
   "source": [
    "# Query Azure Sentinel to get host details.\n",
    "query = f\"Heartbeat | where ComputerIP == '{source_ip}'\"\n",
    "\n",
    "host = qry_prov.exec_query(query)\n",
    "host_name = host['Computer'].iloc[0]\n",
    "md(f\"Host to investigate: <b>{host_name}</b>\")"
   ]
  },
  {
   "cell_type": "markdown",
   "metadata": {},
   "source": [
    "<font color='blue'>[ian comment] - The host name looks like BlackHat Demo Hos (that might be offensive)"
   ]
  },
  {
   "cell_type": "markdown",
   "metadata": {},
   "source": [
    "## Investigate Host\n",
    "Now that we have identified our host we want to perform some standard analysis to get a summary of the host. Rather than code these steps individually each time we create a notebook that investigates hosts we have grouped together several MSTICpy features and investigation steps into a single function we call a notebooklet - by calling this notebooklet we can easily conduct analysis that would require hundreds of lines of code if coded directly in a notebook."
   ]
  },
  {
   "cell_type": "markdown",
   "metadata": {},
   "source": [
    "### Use a notebooklet"
   ]
  },
  {
   "cell_type": "code",
   "execution_count": 20,
   "metadata": {},
   "outputs": [
    {
     "name": "stdout",
     "output_type": "stream",
     "text": [
      "Loaded providers: LogAnalytics, geolitelookup, tilookup\n"
     ]
    },
    {
     "data": {
      "text/html": [
       "<h1>Host Entity Summary</h1>"
      ],
      "text/plain": [
       "<IPython.core.display.HTML object>"
      ]
     },
     "metadata": {},
     "output_type": "display_data"
    },
    {
     "data": {
      "text/html": [
       "This shows a summary data for a host. It shows host properties obtained from OMS Heartbeat and Azure API.<br>It also lists Azure Sentinel alerts and bookmakrs related to to the host.<br>Data and plots are stored in the result class returned by this function."
      ],
      "text/plain": [
       "<IPython.core.display.HTML object>"
      ]
     },
     "metadata": {},
     "output_type": "display_data"
    },
    {
     "name": "stdout",
     "output_type": "stream",
     "text": [
      "Getting data from SecurityEvent...\n"
     ]
    },
    {
     "data": {
      "application/javascript": [
       "try {IPython.notebook.kernel.execute(\"NOTEBOOK_URL = '\" + window.location + \"'\");} catch(err) {;}"
      ],
      "text/plain": [
       "<IPython.core.display.Javascript object>"
      ]
     },
     "metadata": {},
     "output_type": "display_data"
    },
    {
     "name": "stdout",
     "output_type": "stream",
     "text": [
      "Getting data from Syslog...\n"
     ]
    },
    {
     "data": {
      "application/javascript": [
       "try {IPython.notebook.kernel.execute(\"NOTEBOOK_URL = '\" + window.location + \"'\");} catch(err) {;}"
      ],
      "text/plain": [
       "<IPython.core.display.Javascript object>"
      ]
     },
     "metadata": {},
     "output_type": "display_data"
    },
    {
     "name": "stdout",
     "output_type": "stream",
     "text": [
      "Unique host found: BlackHatDemoHos\n",
      "Getting data from Heartbeat...\n"
     ]
    },
    {
     "data": {
      "application/javascript": [
       "try {IPython.notebook.kernel.execute(\"NOTEBOOK_URL = '\" + window.location + \"'\");} catch(err) {;}"
      ],
      "text/plain": [
       "<IPython.core.display.Javascript object>"
      ]
     },
     "metadata": {},
     "output_type": "display_data"
    },
    {
     "name": "stdout",
     "output_type": "stream",
     "text": [
      "Getting data from AzureNetworkAnalytics...\n"
     ]
    },
    {
     "data": {
      "application/javascript": [
       "try {IPython.notebook.kernel.execute(\"NOTEBOOK_URL = '\" + window.location + \"'\");} catch(err) {;}"
      ],
      "text/plain": [
       "<IPython.core.display.Javascript object>"
      ]
     },
     "metadata": {},
     "output_type": "display_data"
    },
    {
     "data": {
      "text/html": [
       "<h2>Host Entity details</h2>"
      ],
      "text/plain": [
       "<IPython.core.display.HTML object>"
      ]
     },
     "metadata": {},
     "output_type": "display_data"
    },
    {
     "data": {
      "text/html": [
       "These are the host entity details gathered from Heartbeat and, if applicable, AzureNetworkAnalytics and Azure management API.<br>The data shows OS information, IP Addresses assigned the host and any Azure VM information available."
      ],
      "text/plain": [
       "<IPython.core.display.HTML object>"
      ]
     },
     "metadata": {},
     "output_type": "display_data"
    },
    {
     "name": "stdout",
     "output_type": "stream",
     "text": [
      "{ 'AdditionalData': {},\n",
      "  'AzureDetails': { 'ResourceGroup': 'BlackHatDemo',\n",
      "                    'ResourceId': '/subscriptions/40dcc8bf-0478-4f3b-b275-ed0a94f2c013/resourceGroups/BlackHatDemo/providers/Microsoft.Compute/virtualMachines/BlackHatDemoHost',\n",
      "                    'ResourceProvider': 'Microsoft.Compute',\n",
      "                    'ResourceType': 'virtualMachines',\n",
      "                    'Solutions': '\"security\", \"changeTracking\", \"networkMonitoring\", \"serviceMap\", '\n",
      "                                 '\"securityCenterFree\", \"securityInsights\", \"windowsFirewall\", '\n",
      "                                 '\"windowsEventForwarding\"',\n",
      "                    'SubscriptionId': '40dcc8bf-0478-4f3b-b275-ed0a94f2c013'},\n",
      "  'Environment': 'Azure',\n",
      "  'HostName': 'BlackHatDemoHos',\n",
      "  'IPAddress': { 'AdditionalData': {},\n",
      "                 'Address': '20.185.182.48',\n",
      "                 'Location': { 'AdditionalData': {},\n",
      "                               'CountryName': 'United States',\n",
      "                               'Latitude': 38.71,\n",
      "                               'Longitude': -78.16,\n",
      "                               'Type': 'geolocation'},\n",
      "                 'Type': 'ipaddress'},\n",
      "  'OSName': '',\n",
      "  'OSType': 'Windows',\n",
      "  'OSVMajorVersion': '10',\n",
      "  'OSVMinorVersion': '0',\n",
      "  'OmsSolutions': [ '\"security\"',\n",
      "                    '\"changeTracking\"',\n",
      "                    '\"networkMonitoring\"',\n",
      "                    '\"serviceMap\"',\n",
      "                    '\"securityCenterFree\"',\n",
      "                    '\"securityInsights\"',\n",
      "                    '\"windowsFirewall\"',\n",
      "                    '\"windowsEventForwarding\"'],\n",
      "  'SourceComputerId': '73a015ec-e2b6-4bf7-b353-ebeafb54254e',\n",
      "  'Type': 'host',\n",
      "  'VMUUID': '3f2b6a14-4c02-41aa-a2e8-6859ee4c7847',\n",
      "  'private_ips': [],\n",
      "  'public_ips': []}\n"
     ]
    },
    {
     "data": {
      "application/javascript": [
       "try {IPython.notebook.kernel.execute(\"NOTEBOOK_URL = '\" + window.location + \"'\");} catch(err) {;}"
      ],
      "text/plain": [
       "<IPython.core.display.Javascript object>"
      ]
     },
     "metadata": {},
     "output_type": "display_data"
    },
    {
     "data": {
      "text/html": [
       "<p style=''>Found 3 related alerts (2) types</p>"
      ],
      "text/plain": [
       "<IPython.core.display.HTML object>"
      ]
     },
     "metadata": {},
     "output_type": "display_data"
    },
    {
     "data": {
      "text/html": [
       "<h2>Timeline of related alerts</h2>"
      ],
      "text/plain": [
       "<IPython.core.display.HTML object>"
      ]
     },
     "metadata": {},
     "output_type": "display_data"
    },
    {
     "data": {
      "text/html": [
       "Each marker on the timeline indicates one or more alerts related to the host."
      ],
      "text/plain": [
       "<IPython.core.display.HTML object>"
      ]
     },
     "metadata": {},
     "output_type": "display_data"
    },
    {
     "data": {
      "text/html": [
       "\n",
       "    <div class=\"bk-root\">\n",
       "        <a href=\"https://bokeh.org\" target=\"_blank\" class=\"bk-logo bk-logo-small bk-logo-notebook\"></a>\n",
       "        <span id=\"1409\">Loading BokehJS ...</span>\n",
       "    </div>"
      ]
     },
     "metadata": {},
     "output_type": "display_data"
    },
    {
     "data": {
      "application/javascript": [
       "\n",
       "(function(root) {\n",
       "  function now() {\n",
       "    return new Date();\n",
       "  }\n",
       "\n",
       "  var force = true;\n",
       "\n",
       "  if (typeof root._bokeh_onload_callbacks === \"undefined\" || force === true) {\n",
       "    root._bokeh_onload_callbacks = [];\n",
       "    root._bokeh_is_loading = undefined;\n",
       "  }\n",
       "\n",
       "  var JS_MIME_TYPE = 'application/javascript';\n",
       "  var HTML_MIME_TYPE = 'text/html';\n",
       "  var EXEC_MIME_TYPE = 'application/vnd.bokehjs_exec.v0+json';\n",
       "  var CLASS_NAME = 'output_bokeh rendered_html';\n",
       "\n",
       "  /**\n",
       "   * Render data to the DOM node\n",
       "   */\n",
       "  function render(props, node) {\n",
       "    var script = document.createElement(\"script\");\n",
       "    node.appendChild(script);\n",
       "  }\n",
       "\n",
       "  /**\n",
       "   * Handle when an output is cleared or removed\n",
       "   */\n",
       "  function handleClearOutput(event, handle) {\n",
       "    var cell = handle.cell;\n",
       "\n",
       "    var id = cell.output_area._bokeh_element_id;\n",
       "    var server_id = cell.output_area._bokeh_server_id;\n",
       "    // Clean up Bokeh references\n",
       "    if (id != null && id in Bokeh.index) {\n",
       "      Bokeh.index[id].model.document.clear();\n",
       "      delete Bokeh.index[id];\n",
       "    }\n",
       "\n",
       "    if (server_id !== undefined) {\n",
       "      // Clean up Bokeh references\n",
       "      var cmd = \"from bokeh.io.state import curstate; print(curstate().uuid_to_server['\" + server_id + \"'].get_sessions()[0].document.roots[0]._id)\";\n",
       "      cell.notebook.kernel.execute(cmd, {\n",
       "        iopub: {\n",
       "          output: function(msg) {\n",
       "            var id = msg.content.text.trim();\n",
       "            if (id in Bokeh.index) {\n",
       "              Bokeh.index[id].model.document.clear();\n",
       "              delete Bokeh.index[id];\n",
       "            }\n",
       "          }\n",
       "        }\n",
       "      });\n",
       "      // Destroy server and session\n",
       "      var cmd = \"import bokeh.io.notebook as ion; ion.destroy_server('\" + server_id + \"')\";\n",
       "      cell.notebook.kernel.execute(cmd);\n",
       "    }\n",
       "  }\n",
       "\n",
       "  /**\n",
       "   * Handle when a new output is added\n",
       "   */\n",
       "  function handleAddOutput(event, handle) {\n",
       "    var output_area = handle.output_area;\n",
       "    var output = handle.output;\n",
       "\n",
       "    // limit handleAddOutput to display_data with EXEC_MIME_TYPE content only\n",
       "    if ((output.output_type != \"display_data\") || (!output.data.hasOwnProperty(EXEC_MIME_TYPE))) {\n",
       "      return\n",
       "    }\n",
       "\n",
       "    var toinsert = output_area.element.find(\".\" + CLASS_NAME.split(' ')[0]);\n",
       "\n",
       "    if (output.metadata[EXEC_MIME_TYPE][\"id\"] !== undefined) {\n",
       "      toinsert[toinsert.length - 1].firstChild.textContent = output.data[JS_MIME_TYPE];\n",
       "      // store reference to embed id on output_area\n",
       "      output_area._bokeh_element_id = output.metadata[EXEC_MIME_TYPE][\"id\"];\n",
       "    }\n",
       "    if (output.metadata[EXEC_MIME_TYPE][\"server_id\"] !== undefined) {\n",
       "      var bk_div = document.createElement(\"div\");\n",
       "      bk_div.innerHTML = output.data[HTML_MIME_TYPE];\n",
       "      var script_attrs = bk_div.children[0].attributes;\n",
       "      for (var i = 0; i < script_attrs.length; i++) {\n",
       "        toinsert[toinsert.length - 1].firstChild.setAttribute(script_attrs[i].name, script_attrs[i].value);\n",
       "        toinsert[toinsert.length - 1].firstChild.textContent = bk_div.children[0].textContent\n",
       "      }\n",
       "      // store reference to server id on output_area\n",
       "      output_area._bokeh_server_id = output.metadata[EXEC_MIME_TYPE][\"server_id\"];\n",
       "    }\n",
       "  }\n",
       "\n",
       "  function register_renderer(events, OutputArea) {\n",
       "\n",
       "    function append_mime(data, metadata, element) {\n",
       "      // create a DOM node to render to\n",
       "      var toinsert = this.create_output_subarea(\n",
       "        metadata,\n",
       "        CLASS_NAME,\n",
       "        EXEC_MIME_TYPE\n",
       "      );\n",
       "      this.keyboard_manager.register_events(toinsert);\n",
       "      // Render to node\n",
       "      var props = {data: data, metadata: metadata[EXEC_MIME_TYPE]};\n",
       "      render(props, toinsert[toinsert.length - 1]);\n",
       "      element.append(toinsert);\n",
       "      return toinsert\n",
       "    }\n",
       "\n",
       "    /* Handle when an output is cleared or removed */\n",
       "    events.on('clear_output.CodeCell', handleClearOutput);\n",
       "    events.on('delete.Cell', handleClearOutput);\n",
       "\n",
       "    /* Handle when a new output is added */\n",
       "    events.on('output_added.OutputArea', handleAddOutput);\n",
       "\n",
       "    /**\n",
       "     * Register the mime type and append_mime function with output_area\n",
       "     */\n",
       "    OutputArea.prototype.register_mime_type(EXEC_MIME_TYPE, append_mime, {\n",
       "      /* Is output safe? */\n",
       "      safe: true,\n",
       "      /* Index of renderer in `output_area.display_order` */\n",
       "      index: 0\n",
       "    });\n",
       "  }\n",
       "\n",
       "  // register the mime type if in Jupyter Notebook environment and previously unregistered\n",
       "  if (root.Jupyter !== undefined) {\n",
       "    var events = require('base/js/events');\n",
       "    var OutputArea = require('notebook/js/outputarea').OutputArea;\n",
       "\n",
       "    if (OutputArea.prototype.mime_types().indexOf(EXEC_MIME_TYPE) == -1) {\n",
       "      register_renderer(events, OutputArea);\n",
       "    }\n",
       "  }\n",
       "\n",
       "  \n",
       "  if (typeof (root._bokeh_timeout) === \"undefined\" || force === true) {\n",
       "    root._bokeh_timeout = Date.now() + 5000;\n",
       "    root._bokeh_failed_load = false;\n",
       "  }\n",
       "\n",
       "  var NB_LOAD_WARNING = {'data': {'text/html':\n",
       "     \"<div style='background-color: #fdd'>\\n\"+\n",
       "     \"<p>\\n\"+\n",
       "     \"BokehJS does not appear to have successfully loaded. If loading BokehJS from CDN, this \\n\"+\n",
       "     \"may be due to a slow or bad network connection. Possible fixes:\\n\"+\n",
       "     \"</p>\\n\"+\n",
       "     \"<ul>\\n\"+\n",
       "     \"<li>re-rerun `output_notebook()` to attempt to load from CDN again, or</li>\\n\"+\n",
       "     \"<li>use INLINE resources instead, as so:</li>\\n\"+\n",
       "     \"</ul>\\n\"+\n",
       "     \"<code>\\n\"+\n",
       "     \"from bokeh.resources import INLINE\\n\"+\n",
       "     \"output_notebook(resources=INLINE)\\n\"+\n",
       "     \"</code>\\n\"+\n",
       "     \"</div>\"}};\n",
       "\n",
       "  function display_loaded() {\n",
       "    var el = document.getElementById(\"1409\");\n",
       "    if (el != null) {\n",
       "      el.textContent = \"BokehJS is loading...\";\n",
       "    }\n",
       "    if (root.Bokeh !== undefined) {\n",
       "      if (el != null) {\n",
       "        el.textContent = \"BokehJS \" + root.Bokeh.version + \" successfully loaded.\";\n",
       "      }\n",
       "    } else if (Date.now() < root._bokeh_timeout) {\n",
       "      setTimeout(display_loaded, 100)\n",
       "    }\n",
       "  }\n",
       "\n",
       "\n",
       "  function run_callbacks() {\n",
       "    try {\n",
       "      root._bokeh_onload_callbacks.forEach(function(callback) {\n",
       "        if (callback != null)\n",
       "          callback();\n",
       "      });\n",
       "    } finally {\n",
       "      delete root._bokeh_onload_callbacks\n",
       "    }\n",
       "    console.debug(\"Bokeh: all callbacks have finished\");\n",
       "  }\n",
       "\n",
       "  function load_libs(css_urls, js_urls, callback) {\n",
       "    if (css_urls == null) css_urls = [];\n",
       "    if (js_urls == null) js_urls = [];\n",
       "\n",
       "    root._bokeh_onload_callbacks.push(callback);\n",
       "    if (root._bokeh_is_loading > 0) {\n",
       "      console.debug(\"Bokeh: BokehJS is being loaded, scheduling callback at\", now());\n",
       "      return null;\n",
       "    }\n",
       "    if (js_urls == null || js_urls.length === 0) {\n",
       "      run_callbacks();\n",
       "      return null;\n",
       "    }\n",
       "    console.debug(\"Bokeh: BokehJS not loaded, scheduling load and callback at\", now());\n",
       "    root._bokeh_is_loading = css_urls.length + js_urls.length;\n",
       "\n",
       "    function on_load() {\n",
       "      root._bokeh_is_loading--;\n",
       "      if (root._bokeh_is_loading === 0) {\n",
       "        console.debug(\"Bokeh: all BokehJS libraries/stylesheets loaded\");\n",
       "        run_callbacks()\n",
       "      }\n",
       "    }\n",
       "\n",
       "    function on_error() {\n",
       "      console.error(\"failed to load \" + url);\n",
       "    }\n",
       "\n",
       "    for (var i = 0; i < css_urls.length; i++) {\n",
       "      var url = css_urls[i];\n",
       "      const element = document.createElement(\"link\");\n",
       "      element.onload = on_load;\n",
       "      element.onerror = on_error;\n",
       "      element.rel = \"stylesheet\";\n",
       "      element.type = \"text/css\";\n",
       "      element.href = url;\n",
       "      console.debug(\"Bokeh: injecting link tag for BokehJS stylesheet: \", url);\n",
       "      document.body.appendChild(element);\n",
       "    }\n",
       "\n",
       "    const hashes = {\"https://cdn.bokeh.org/bokeh/release/bokeh-2.1.1.min.js\": \"kLr4fYcqcSpbuI95brIH3vnnYCquzzSxHPU6XGQCIkQRGJwhg0StNbj1eegrHs12\", \"https://cdn.bokeh.org/bokeh/release/bokeh-widgets-2.1.1.min.js\": \"xIGPmVtaOm+z0BqfSOMn4lOR6ciex448GIKG4eE61LsAvmGj48XcMQZtKcE/UXZe\", \"https://cdn.bokeh.org/bokeh/release/bokeh-tables-2.1.1.min.js\": \"Dc9u1wF/0zApGIWoBbH77iWEHtdmkuYWG839Uzmv8y8yBLXebjO9ZnERsde5Ln/P\", \"https://cdn.bokeh.org/bokeh/release/bokeh-gl-2.1.1.min.js\": \"cT9JaBz7GiRXdENrJLZNSC6eMNF3nh3fa5fTF51Svp+ukxPdwcU5kGXGPBgDCa2j\"};\n",
       "\n",
       "    for (var i = 0; i < js_urls.length; i++) {\n",
       "      var url = js_urls[i];\n",
       "      var element = document.createElement('script');\n",
       "      element.onload = on_load;\n",
       "      element.onerror = on_error;\n",
       "      element.async = false;\n",
       "      element.src = url;\n",
       "      if (url in hashes) {\n",
       "        element.crossOrigin = \"anonymous\";\n",
       "        element.integrity = \"sha384-\" + hashes[url];\n",
       "      }\n",
       "      console.debug(\"Bokeh: injecting script tag for BokehJS library: \", url);\n",
       "      document.head.appendChild(element);\n",
       "    }\n",
       "  };\n",
       "\n",
       "  function inject_raw_css(css) {\n",
       "    const element = document.createElement(\"style\");\n",
       "    element.appendChild(document.createTextNode(css));\n",
       "    document.body.appendChild(element);\n",
       "  }\n",
       "\n",
       "  \n",
       "  var js_urls = [\"https://cdn.bokeh.org/bokeh/release/bokeh-2.1.1.min.js\", \"https://cdn.bokeh.org/bokeh/release/bokeh-widgets-2.1.1.min.js\", \"https://cdn.bokeh.org/bokeh/release/bokeh-tables-2.1.1.min.js\", \"https://cdn.bokeh.org/bokeh/release/bokeh-gl-2.1.1.min.js\"];\n",
       "  var css_urls = [];\n",
       "  \n",
       "\n",
       "  var inline_js = [\n",
       "    function(Bokeh) {\n",
       "      Bokeh.set_log_level(\"info\");\n",
       "    },\n",
       "    function(Bokeh) {\n",
       "    \n",
       "    \n",
       "    }\n",
       "  ];\n",
       "\n",
       "  function run_inline_js() {\n",
       "    \n",
       "    if (root.Bokeh !== undefined || force === true) {\n",
       "      \n",
       "    for (var i = 0; i < inline_js.length; i++) {\n",
       "      inline_js[i].call(root, root.Bokeh);\n",
       "    }\n",
       "    if (force === true) {\n",
       "        display_loaded();\n",
       "      }} else if (Date.now() < root._bokeh_timeout) {\n",
       "      setTimeout(run_inline_js, 100);\n",
       "    } else if (!root._bokeh_failed_load) {\n",
       "      console.log(\"Bokeh: BokehJS failed to load within specified timeout.\");\n",
       "      root._bokeh_failed_load = true;\n",
       "    } else if (force !== true) {\n",
       "      var cell = $(document.getElementById(\"1409\")).parents('.cell').data().cell;\n",
       "      cell.output_area.append_execute_result(NB_LOAD_WARNING)\n",
       "    }\n",
       "\n",
       "  }\n",
       "\n",
       "  if (root._bokeh_is_loading === 0) {\n",
       "    console.debug(\"Bokeh: BokehJS loaded, going straight to plotting\");\n",
       "    run_inline_js();\n",
       "  } else {\n",
       "    load_libs(css_urls, js_urls, function() {\n",
       "      console.debug(\"Bokeh: BokehJS plotting callback run at\", now());\n",
       "      run_inline_js();\n",
       "    });\n",
       "  }\n",
       "}(window));"
      ],
      "application/vnd.bokehjs_load.v0+json": "\n(function(root) {\n  function now() {\n    return new Date();\n  }\n\n  var force = true;\n\n  if (typeof root._bokeh_onload_callbacks === \"undefined\" || force === true) {\n    root._bokeh_onload_callbacks = [];\n    root._bokeh_is_loading = undefined;\n  }\n\n  \n\n  \n  if (typeof (root._bokeh_timeout) === \"undefined\" || force === true) {\n    root._bokeh_timeout = Date.now() + 5000;\n    root._bokeh_failed_load = false;\n  }\n\n  var NB_LOAD_WARNING = {'data': {'text/html':\n     \"<div style='background-color: #fdd'>\\n\"+\n     \"<p>\\n\"+\n     \"BokehJS does not appear to have successfully loaded. If loading BokehJS from CDN, this \\n\"+\n     \"may be due to a slow or bad network connection. Possible fixes:\\n\"+\n     \"</p>\\n\"+\n     \"<ul>\\n\"+\n     \"<li>re-rerun `output_notebook()` to attempt to load from CDN again, or</li>\\n\"+\n     \"<li>use INLINE resources instead, as so:</li>\\n\"+\n     \"</ul>\\n\"+\n     \"<code>\\n\"+\n     \"from bokeh.resources import INLINE\\n\"+\n     \"output_notebook(resources=INLINE)\\n\"+\n     \"</code>\\n\"+\n     \"</div>\"}};\n\n  function display_loaded() {\n    var el = document.getElementById(\"1409\");\n    if (el != null) {\n      el.textContent = \"BokehJS is loading...\";\n    }\n    if (root.Bokeh !== undefined) {\n      if (el != null) {\n        el.textContent = \"BokehJS \" + root.Bokeh.version + \" successfully loaded.\";\n      }\n    } else if (Date.now() < root._bokeh_timeout) {\n      setTimeout(display_loaded, 100)\n    }\n  }\n\n\n  function run_callbacks() {\n    try {\n      root._bokeh_onload_callbacks.forEach(function(callback) {\n        if (callback != null)\n          callback();\n      });\n    } finally {\n      delete root._bokeh_onload_callbacks\n    }\n    console.debug(\"Bokeh: all callbacks have finished\");\n  }\n\n  function load_libs(css_urls, js_urls, callback) {\n    if (css_urls == null) css_urls = [];\n    if (js_urls == null) js_urls = [];\n\n    root._bokeh_onload_callbacks.push(callback);\n    if (root._bokeh_is_loading > 0) {\n      console.debug(\"Bokeh: BokehJS is being loaded, scheduling callback at\", now());\n      return null;\n    }\n    if (js_urls == null || js_urls.length === 0) {\n      run_callbacks();\n      return null;\n    }\n    console.debug(\"Bokeh: BokehJS not loaded, scheduling load and callback at\", now());\n    root._bokeh_is_loading = css_urls.length + js_urls.length;\n\n    function on_load() {\n      root._bokeh_is_loading--;\n      if (root._bokeh_is_loading === 0) {\n        console.debug(\"Bokeh: all BokehJS libraries/stylesheets loaded\");\n        run_callbacks()\n      }\n    }\n\n    function on_error() {\n      console.error(\"failed to load \" + url);\n    }\n\n    for (var i = 0; i < css_urls.length; i++) {\n      var url = css_urls[i];\n      const element = document.createElement(\"link\");\n      element.onload = on_load;\n      element.onerror = on_error;\n      element.rel = \"stylesheet\";\n      element.type = \"text/css\";\n      element.href = url;\n      console.debug(\"Bokeh: injecting link tag for BokehJS stylesheet: \", url);\n      document.body.appendChild(element);\n    }\n\n    const hashes = {\"https://cdn.bokeh.org/bokeh/release/bokeh-2.1.1.min.js\": \"kLr4fYcqcSpbuI95brIH3vnnYCquzzSxHPU6XGQCIkQRGJwhg0StNbj1eegrHs12\", \"https://cdn.bokeh.org/bokeh/release/bokeh-widgets-2.1.1.min.js\": \"xIGPmVtaOm+z0BqfSOMn4lOR6ciex448GIKG4eE61LsAvmGj48XcMQZtKcE/UXZe\", \"https://cdn.bokeh.org/bokeh/release/bokeh-tables-2.1.1.min.js\": \"Dc9u1wF/0zApGIWoBbH77iWEHtdmkuYWG839Uzmv8y8yBLXebjO9ZnERsde5Ln/P\", \"https://cdn.bokeh.org/bokeh/release/bokeh-gl-2.1.1.min.js\": \"cT9JaBz7GiRXdENrJLZNSC6eMNF3nh3fa5fTF51Svp+ukxPdwcU5kGXGPBgDCa2j\"};\n\n    for (var i = 0; i < js_urls.length; i++) {\n      var url = js_urls[i];\n      var element = document.createElement('script');\n      element.onload = on_load;\n      element.onerror = on_error;\n      element.async = false;\n      element.src = url;\n      if (url in hashes) {\n        element.crossOrigin = \"anonymous\";\n        element.integrity = \"sha384-\" + hashes[url];\n      }\n      console.debug(\"Bokeh: injecting script tag for BokehJS library: \", url);\n      document.head.appendChild(element);\n    }\n  };\n\n  function inject_raw_css(css) {\n    const element = document.createElement(\"style\");\n    element.appendChild(document.createTextNode(css));\n    document.body.appendChild(element);\n  }\n\n  \n  var js_urls = [\"https://cdn.bokeh.org/bokeh/release/bokeh-2.1.1.min.js\", \"https://cdn.bokeh.org/bokeh/release/bokeh-widgets-2.1.1.min.js\", \"https://cdn.bokeh.org/bokeh/release/bokeh-tables-2.1.1.min.js\", \"https://cdn.bokeh.org/bokeh/release/bokeh-gl-2.1.1.min.js\"];\n  var css_urls = [];\n  \n\n  var inline_js = [\n    function(Bokeh) {\n      Bokeh.set_log_level(\"info\");\n    },\n    function(Bokeh) {\n    \n    \n    }\n  ];\n\n  function run_inline_js() {\n    \n    if (root.Bokeh !== undefined || force === true) {\n      \n    for (var i = 0; i < inline_js.length; i++) {\n      inline_js[i].call(root, root.Bokeh);\n    }\n    if (force === true) {\n        display_loaded();\n      }} else if (Date.now() < root._bokeh_timeout) {\n      setTimeout(run_inline_js, 100);\n    } else if (!root._bokeh_failed_load) {\n      console.log(\"Bokeh: BokehJS failed to load within specified timeout.\");\n      root._bokeh_failed_load = true;\n    } else if (force !== true) {\n      var cell = $(document.getElementById(\"1409\")).parents('.cell').data().cell;\n      cell.output_area.append_execute_result(NB_LOAD_WARNING)\n    }\n\n  }\n\n  if (root._bokeh_is_loading === 0) {\n    console.debug(\"Bokeh: BokehJS loaded, going straight to plotting\");\n    run_inline_js();\n  } else {\n    load_libs(css_urls, js_urls, function() {\n      console.debug(\"Bokeh: BokehJS plotting callback run at\", now());\n      run_inline_js();\n    });\n  }\n}(window));"
     },
     "metadata": {},
     "output_type": "display_data"
    },
    {
     "data": {
      "text/html": [
       "\n",
       "\n",
       "\n",
       "\n",
       "\n",
       "\n",
       "  <div class=\"bk-root\" id=\"0cdcd2a6-9fed-4919-abe5-fe0f6edaa48f\" data-root-id=\"1480\"></div>\n"
      ]
     },
     "metadata": {},
     "output_type": "display_data"
    },
    {
     "data": {
      "application/javascript": [
       "(function(root) {\n",
       "  function embed_document(root) {\n",
       "    \n",
       "  var docs_json = {\"cdc78a15-60db-4254-896e-2e6364c80f9d\":{\"roots\":{\"references\":[{\"attributes\":{\"children\":[{\"id\":\"1412\"},{\"id\":\"1444\"}]},\"id\":\"1480\",\"type\":\"Column\"},{\"attributes\":{\"dimensions\":\"width\"},\"id\":\"1431\",\"type\":\"WheelZoomTool\"},{\"attributes\":{\"fill_alpha\":0.2,\"fill_color\":\"navy\",\"level\":\"overlay\",\"line_alpha\":1.0,\"line_color\":\"black\",\"line_dash\":[2,2],\"line_width\":0.5},\"id\":\"1469\",\"type\":\"BoxAnnotation\"},{\"attributes\":{},\"id\":\"1451\",\"type\":\"LinearScale\"},{\"attributes\":{\"days\":[1,8,15,22]},\"id\":\"1493\",\"type\":\"DaysTicker\"},{\"attributes\":{},\"id\":\"1433\",\"type\":\"ResetTool\"},{\"attributes\":{\"align\":\"right\",\"text\":\"Drag the middle or edges of the selection box to change the range in the main chart\",\"text_font_size\":{\"value\":\"10px\"}},\"id\":\"1460\",\"type\":\"Title\"},{\"attributes\":{},\"id\":\"1499\",\"type\":\"YearsTicker\"},{\"attributes\":{\"months\":[0,6]},\"id\":\"1513\",\"type\":\"MonthsTicker\"},{\"attributes\":{\"num_minor_ticks\":10,\"tickers\":[{\"id\":\"1488\"},{\"id\":\"1489\"},{\"id\":\"1490\"},{\"id\":\"1491\"},{\"id\":\"1492\"},{\"id\":\"1493\"},{\"id\":\"1494\"},{\"id\":\"1495\"},{\"id\":\"1496\"},{\"id\":\"1497\"},{\"id\":\"1498\"},{\"id\":\"1499\"}]},\"id\":\"1424\",\"type\":\"DatetimeTicker\"},{\"attributes\":{},\"id\":\"1514\",\"type\":\"YearsTicker\"},{\"attributes\":{},\"id\":\"1434\",\"type\":\"SaveTool\"},{\"attributes\":{},\"id\":\"1501\",\"type\":\"UnionRenderers\"},{\"attributes\":{\"active_drag\":\"auto\",\"active_inspect\":\"auto\",\"active_multi\":null,\"active_scroll\":\"auto\",\"active_tap\":\"auto\",\"tools\":[{\"id\":\"1411\"},{\"id\":\"1431\"},{\"id\":\"1432\"},{\"id\":\"1433\"},{\"id\":\"1434\"},{\"id\":\"1435\"}]},\"id\":\"1437\",\"type\":\"Toolbar\"},{\"attributes\":{},\"id\":\"1500\",\"type\":\"Selection\"},{\"attributes\":{\"mantissas\":[1,2,5],\"max_interval\":500.0,\"num_minor_ticks\":0},\"id\":\"1503\",\"type\":\"AdaptiveTicker\"},{\"attributes\":{\"base\":24,\"mantissas\":[1,2,4,6,8,12],\"max_interval\":43200000.0,\"min_interval\":3600000.0,\"num_minor_ticks\":0},\"id\":\"1490\",\"type\":\"AdaptiveTicker\"},{\"attributes\":{\"base\":60,\"mantissas\":[1,2,5,10,15,20,30],\"max_interval\":1800000.0,\"min_interval\":1000.0,\"num_minor_ticks\":0},\"id\":\"1504\",\"type\":\"AdaptiveTicker\"},{\"attributes\":{},\"id\":\"1453\",\"type\":\"LinearScale\"},{\"attributes\":{\"months\":[0,2,4,6,8,10]},\"id\":\"1496\",\"type\":\"MonthsTicker\"},{\"attributes\":{\"months\":[0,1,2,3,4,5,6,7,8,9,10,11]},\"id\":\"1495\",\"type\":\"MonthsTicker\"},{\"attributes\":{\"days\":[\"%m-%d %H:%M\"],\"hours\":[\"%H:%M:%S\"],\"milliseconds\":[\"%H:%M:%S.%3N\"],\"minutes\":[\"%H:%M:%S\"],\"seconds\":[\"%H:%M:%S\"]},\"id\":\"1461\",\"type\":\"DatetimeTickFormatter\"},{\"attributes\":{\"months\":[0,2,4,6,8,10]},\"id\":\"1511\",\"type\":\"MonthsTicker\"},{\"attributes\":{\"data\":{\"AlertName\":[\"Suspicious Activity Detected\",\"Suspicious Activity Detected\",\"RDP Brute Force\"],\"TimeGenerated\":{\"__ndarray__\":\"AIBrHaIzd0IAgGsdojN3QgAAC4KgM3dC\",\"dtype\":\"float64\",\"order\":\"little\",\"shape\":[3]},\"index\":[0,1,2],\"y_index\":[0,0,0]},\"selected\":{\"id\":\"1500\"},\"selection_policy\":{\"id\":\"1501\"}},\"id\":\"1410\",\"type\":\"ColumnDataSource\"},{\"attributes\":{\"mantissas\":[1,2,5],\"max_interval\":500.0,\"num_minor_ticks\":0},\"id\":\"1488\",\"type\":\"AdaptiveTicker\"},{\"attributes\":{\"months\":[0,4,8]},\"id\":\"1497\",\"type\":\"MonthsTicker\"},{\"attributes\":{\"axis_label\":\"Event Time\",\"formatter\":{\"id\":\"1473\"},\"ticker\":{\"id\":\"1424\"}},\"id\":\"1423\",\"type\":\"DatetimeAxis\"},{\"attributes\":{\"days\":[\"%m-%d %H:%M\"],\"hours\":[\"%H:%M:%S\"],\"milliseconds\":[\"%H:%M:%S.%3N\"],\"minutes\":[\"%H:%M:%S\"],\"seconds\":[\"%H:%M:%S\"]},\"id\":\"1473\",\"type\":\"DatetimeTickFormatter\"},{\"attributes\":{\"start\":-1.0},\"id\":\"1417\",\"type\":\"Range1d\"},{\"attributes\":{\"data_source\":{\"id\":\"1410\"},\"glyph\":{\"id\":\"1476\"},\"hover_glyph\":null,\"muted_glyph\":null,\"nonselection_glyph\":{\"id\":\"1477\"},\"selection_glyph\":null,\"view\":{\"id\":\"1479\"}},\"id\":\"1478\",\"type\":\"GlyphRenderer\"},{\"attributes\":{\"end\":1594408415750.0002,\"start\":1594406225249.9998},\"id\":\"1447\",\"type\":\"Range1d\"},{\"attributes\":{},\"id\":\"1484\",\"type\":\"BasicTickFormatter\"},{\"attributes\":{\"days\":[1,15]},\"id\":\"1494\",\"type\":\"DaysTicker\"},{\"attributes\":{\"num_minor_ticks\":5,\"tickers\":[{\"id\":\"1503\"},{\"id\":\"1504\"},{\"id\":\"1505\"},{\"id\":\"1506\"},{\"id\":\"1507\"},{\"id\":\"1508\"},{\"id\":\"1509\"},{\"id\":\"1510\"},{\"id\":\"1511\"},{\"id\":\"1512\"},{\"id\":\"1513\"},{\"id\":\"1514\"}]},\"id\":\"1456\",\"type\":\"DatetimeTicker\"},{\"attributes\":{\"months\":[0,6]},\"id\":\"1498\",\"type\":\"MonthsTicker\"},{\"attributes\":{\"base\":24,\"mantissas\":[1,2,4,6,8,12],\"max_interval\":43200000.0,\"min_interval\":3600000.0,\"num_minor_ticks\":0},\"id\":\"1505\",\"type\":\"AdaptiveTicker\"},{\"attributes\":{\"fill_color\":{\"value\":\"navy\"},\"line_color\":{\"value\":\"navy\"},\"x\":{\"field\":\"TimeGenerated\"},\"y\":{\"field\":\"y_index\"}},\"id\":\"1464\",\"type\":\"Circle\"},{\"attributes\":{\"fill_alpha\":{\"value\":0.1},\"fill_color\":{\"value\":\"navy\"},\"line_alpha\":{\"value\":0.1},\"line_color\":{\"value\":\"navy\"},\"size\":{\"units\":\"screen\",\"value\":10},\"x\":{\"field\":\"TimeGenerated\"},\"y\":{\"field\":\"y_index\"}},\"id\":\"1477\",\"type\":\"Diamond\"},{\"attributes\":{\"active_drag\":\"auto\",\"active_inspect\":\"auto\",\"active_multi\":{\"id\":\"1468\"},\"active_scroll\":\"auto\",\"active_tap\":\"auto\",\"tools\":[{\"id\":\"1468\"}]},\"id\":\"1459\",\"type\":\"Toolbar\"},{\"attributes\":{\"axis\":{\"id\":\"1423\"},\"minor_grid_line_alpha\":0.3,\"minor_grid_line_color\":\"navy\",\"ticker\":null},\"id\":\"1426\",\"type\":\"Grid\"},{\"attributes\":{\"data_source\":{\"id\":\"1410\"},\"glyph\":{\"id\":\"1464\"},\"hover_glyph\":null,\"muted_glyph\":null,\"nonselection_glyph\":{\"id\":\"1465\"},\"selection_glyph\":null,\"view\":{\"id\":\"1467\"}},\"id\":\"1466\",\"type\":\"GlyphRenderer\"},{\"attributes\":{\"axis\":{\"id\":\"1427\"},\"dimension\":1,\"grid_line_color\":null,\"ticker\":null},\"id\":\"1430\",\"type\":\"Grid\"},{\"attributes\":{\"fill_alpha\":{\"value\":0.5},\"fill_color\":{\"value\":\"navy\"},\"line_alpha\":{\"value\":0.5},\"line_color\":{\"value\":\"navy\"},\"size\":{\"units\":\"screen\",\"value\":10},\"x\":{\"field\":\"TimeGenerated\"},\"y\":{\"field\":\"y_index\"}},\"id\":\"1476\",\"type\":\"Diamond\"},{\"attributes\":{\"days\":[1,2,3,4,5,6,7,8,9,10,11,12,13,14,15,16,17,18,19,20,21,22,23,24,25,26,27,28,29,30,31]},\"id\":\"1491\",\"type\":\"DaysTicker\"},{\"attributes\":{\"dimensions\":\"width\"},\"id\":\"1435\",\"type\":\"PanTool\"},{\"attributes\":{\"axis\":{\"id\":\"1455\"},\"ticker\":null},\"id\":\"1458\",\"type\":\"Grid\"},{\"attributes\":{\"base\":60,\"mantissas\":[1,2,5,10,15,20,30],\"max_interval\":1800000.0,\"min_interval\":1000.0,\"num_minor_ticks\":0},\"id\":\"1489\",\"type\":\"AdaptiveTicker\"},{\"attributes\":{},\"id\":\"1419\",\"type\":\"LinearScale\"},{\"attributes\":{\"days\":[1,2,3,4,5,6,7,8,9,10,11,12,13,14,15,16,17,18,19,20,21,22,23,24,25,26,27,28,29,30,31]},\"id\":\"1506\",\"type\":\"DaysTicker\"},{\"attributes\":{\"months\":[0,4,8]},\"id\":\"1512\",\"type\":\"MonthsTicker\"},{\"attributes\":{\"below\":[{\"id\":\"1423\"}],\"center\":[{\"id\":\"1426\"},{\"id\":\"1430\"}],\"left\":[{\"id\":\"1427\"}],\"min_border_left\":50,\"plot_height\":200,\"plot_width\":900,\"renderers\":[{\"id\":\"1478\"}],\"title\":{\"id\":\"1413\"},\"toolbar\":{\"id\":\"1437\"},\"x_range\":{\"id\":\"1415\"},\"x_scale\":{\"id\":\"1419\"},\"y_range\":{\"id\":\"1417\"},\"y_scale\":{\"id\":\"1421\"}},\"id\":\"1412\",\"subtype\":\"Figure\",\"type\":\"Plot\"},{\"attributes\":{},\"id\":\"1421\",\"type\":\"LinearScale\"},{\"attributes\":{\"source\":{\"id\":\"1410\"}},\"id\":\"1467\",\"type\":\"CDSView\"},{\"attributes\":{\"source\":{\"id\":\"1410\"}},\"id\":\"1479\",\"type\":\"CDSView\"},{\"attributes\":{\"days\":[1,4,7,10,13,16,19,22,25,28]},\"id\":\"1507\",\"type\":\"DaysTicker\"},{\"attributes\":{\"formatter\":{\"id\":\"1461\"},\"ticker\":{\"id\":\"1456\"}},\"id\":\"1455\",\"type\":\"DatetimeAxis\"},{\"attributes\":{\"days\":[1,8,15,22]},\"id\":\"1508\",\"type\":\"DaysTicker\"},{\"attributes\":{\"overlay\":{\"id\":\"1469\"},\"x_range\":{\"id\":\"1415\"},\"y_range\":null},\"id\":\"1468\",\"type\":\"RangeTool\"},{\"attributes\":{\"end\":1594408331500.0,\"start\":1594406309500.0},\"id\":\"1415\",\"type\":\"Range1d\"},{\"attributes\":{\"below\":[{\"id\":\"1455\"},{\"id\":\"1460\"}],\"center\":[{\"id\":\"1458\"}],\"plot_height\":120,\"plot_width\":900,\"renderers\":[{\"id\":\"1466\"}],\"title\":{\"id\":\"1445\"},\"toolbar\":{\"id\":\"1459\"},\"toolbar_location\":null,\"x_range\":{\"id\":\"1447\"},\"x_scale\":{\"id\":\"1451\"},\"y_range\":{\"id\":\"1449\"},\"y_scale\":{\"id\":\"1453\"}},\"id\":\"1444\",\"subtype\":\"Figure\",\"type\":\"Plot\"},{\"attributes\":{\"bottom_units\":\"screen\",\"fill_alpha\":0.5,\"fill_color\":\"lightgrey\",\"left_units\":\"screen\",\"level\":\"overlay\",\"line_alpha\":1.0,\"line_color\":\"black\",\"line_dash\":[4,4],\"line_width\":2,\"right_units\":\"screen\",\"top_units\":\"screen\"},\"id\":\"1436\",\"type\":\"BoxAnnotation\"},{\"attributes\":{\"days\":[1,15]},\"id\":\"1509\",\"type\":\"DaysTicker\"},{\"attributes\":{\"text\":\"Timeline: Related Alerts\"},\"id\":\"1413\",\"type\":\"Title\"},{\"attributes\":{\"formatter\":{\"id\":\"1484\"},\"ticker\":{\"id\":\"1428\"},\"visible\":false},\"id\":\"1427\",\"type\":\"LinearAxis\"},{\"attributes\":{\"overlay\":{\"id\":\"1436\"}},\"id\":\"1432\",\"type\":\"BoxZoomTool\"},{\"attributes\":{\"days\":[1,4,7,10,13,16,19,22,25,28]},\"id\":\"1492\",\"type\":\"DaysTicker\"},{\"attributes\":{\"months\":[0,1,2,3,4,5,6,7,8,9,10,11]},\"id\":\"1510\",\"type\":\"MonthsTicker\"},{\"attributes\":{},\"id\":\"1428\",\"type\":\"BasicTicker\"},{\"attributes\":{\"text\":\"Range Selector\"},\"id\":\"1445\",\"type\":\"Title\"},{\"attributes\":{},\"id\":\"1449\",\"type\":\"DataRange1d\"},{\"attributes\":{\"fill_alpha\":{\"value\":0.1},\"fill_color\":{\"value\":\"navy\"},\"line_alpha\":{\"value\":0.1},\"line_color\":{\"value\":\"navy\"},\"x\":{\"field\":\"TimeGenerated\"},\"y\":{\"field\":\"y_index\"}},\"id\":\"1465\",\"type\":\"Circle\"},{\"attributes\":{\"callback\":null,\"formatters\":{\"Tooltip\":\"printf\"},\"tooltips\":[[\"AlertName\",\"@AlertName\"],[\"TimeGenerated\",\"@TimeGenerated\"]]},\"id\":\"1411\",\"type\":\"HoverTool\"}],\"root_ids\":[\"1480\"]},\"title\":\"Bokeh Application\",\"version\":\"2.1.1\"}};\n",
       "  var render_items = [{\"docid\":\"cdc78a15-60db-4254-896e-2e6364c80f9d\",\"root_ids\":[\"1480\"],\"roots\":{\"1480\":\"0cdcd2a6-9fed-4919-abe5-fe0f6edaa48f\"}}];\n",
       "  root.Bokeh.embed.embed_items_notebook(docs_json, render_items);\n",
       "\n",
       "  }\n",
       "  if (root.Bokeh !== undefined) {\n",
       "    embed_document(root);\n",
       "  } else {\n",
       "    var attempts = 0;\n",
       "    var timer = setInterval(function(root) {\n",
       "      if (root.Bokeh !== undefined) {\n",
       "        clearInterval(timer);\n",
       "        embed_document(root);\n",
       "      } else {\n",
       "        attempts++;\n",
       "        if (attempts > 100) {\n",
       "          clearInterval(timer);\n",
       "          console.log(\"Bokeh: ERROR: Unable to run BokehJS code because BokehJS library is missing\");\n",
       "        }\n",
       "      }\n",
       "    }, 10, root)\n",
       "  }\n",
       "})(window);"
      ],
      "application/vnd.bokehjs_exec.v0+json": ""
     },
     "metadata": {
      "application/vnd.bokehjs_exec.v0+json": {
       "id": "1480"
      }
     },
     "output_type": "display_data"
    },
    {
     "name": "stdout",
     "output_type": "stream",
     "text": [
      "Getting data from Bookmarks...\n"
     ]
    },
    {
     "data": {
      "application/javascript": [
       "try {IPython.notebook.kernel.execute(\"NOTEBOOK_URL = '\" + window.location + \"'\");} catch(err) {;}"
      ],
      "text/plain": [
       "<IPython.core.display.Javascript object>"
      ]
     },
     "metadata": {},
     "output_type": "display_data"
    },
    {
     "data": {
      "text/html": [
       "<p style=''>No bookmarks found.</p>"
      ],
      "text/plain": [
       "<IPython.core.display.HTML object>"
      ]
     },
     "metadata": {},
     "output_type": "display_data"
    }
   ],
   "source": [
    "# Initalize our notebooklets\n",
    "import msticnb as nb\n",
    "from msticnb.common import TimeSpan\n",
    "nb.init()\n",
    "tspan = TimeSpan(start=start, end=end)\n",
    "# Select our notebooklet\n",
    "nblet = nb.nblts.azsent.host.HostSummary()\n",
    "# Run our notebooklet\n",
    "out = nblet.run(value=host_name, timespan=tspan)"
   ]
  },
  {
   "cell_type": "markdown",
   "metadata": {},
   "source": [
    "### Azure Data\n",
    "As well as providing query providers to get data from SIEM solutions such as Azure Sentinel, MSTICpy can also query data from other sources such as the Azure APIs. Below we use [these features](https://msticpy.readthedocs.io/en/latest/data_acquisition/AzureData.html) to collect information and metrics on our host.<br>\n",
    "We then use the MSTICpy interactive [timeline visualization](https://msticpy.readthedocs.io/en/latest/visualization/EventTimeline.html) in order to display this data."
   ]
  },
  {
   "cell_type": "code",
   "execution_count": 21,
   "metadata": {},
   "outputs": [
    {
     "data": {
      "text/html": [
       "\n",
       "        <style>\n",
       "            div.solid {border: thin solid black; padding:10px;}\n",
       "            p.title {background-color:Tomato; padding:5px;}\n",
       "            ul.circle {list-style-type: circle;}\n",
       "        </style>\n",
       "        <div class='solid'><h3><p class='title'>MsticpyAzureConfigError - no AzureCLI settings available.</p></h3>No AzureCLI section found in configuration settings.<br>Ensure that the path to your msticpyconfig.yaml is specified with the MSTICPYCONFIG environment variable.<br>Or ensure that a copy of this file is in the current directory.<br><br>For more help on fixing this error see:<br><ul class='circle'><li><a href='https://msticpy.readthedocs.io/en/latest/data_acquisition/AzureData.html#instantiating-and-connecting-with-an-azure-data-connector'>Using the Azure API connector</a></li></ul>You can find other related help here:<br><ul class='circle'><li><a href='https://msticpy.readthedocs.io/en/latest/data_acquisition/AzureData.html#instantiating-and-connecting-with-an-azure-data-connector'>Using the Azure API connector</a></li></ul></div>"
      ],
      "text/plain": [
       "msticpy.common.exceptions.MsticpyAzureConfigError('No AzureCLI section found in configuration settings.')"
      ]
     },
     "metadata": {},
     "output_type": "display_data"
    }
   ],
   "source": [
    "from msticpy.data.azure_data import AzureData\n",
    "# Initalize and connect to Azure\n",
    "az = AzureData()\n",
    "az.connect()\n",
    "# Get details on our subscription and virtal machines\n",
    "sub_id = az.get_subscriptions().iloc[0]['Subscription ID']\n",
    "resources = az.get_resources(sub_id)\n",
    "display(resources[resources['name'] == \"BlackHatDemoHost\"])\n",
    "res_id = resources[resources['name'] == \"BlackHatDemoHost\"].iloc[0]['resource_id']"
   ]
  },
  {
   "cell_type": "code",
   "execution_count": 30,
   "metadata": {},
   "outputs": [
    {
     "data": {
      "text/plain": [
       "{'resource_id': '/subscriptions/40dcc8bf-0478-4f3b-b275-ed0a94f2c013/resourceGroups/BlackHatDemo/providers/Microsoft.Compute/virtualMachines/BlackHatDemoHost',\n",
       " 'name': 'BlackHatDemoHost',\n",
       " 'resource_type': 'Microsoft.Compute/virtualMachines',\n",
       " 'location': 'eastus',\n",
       " 'tags': {'Role': 'Demo'},\n",
       " 'plan': None,\n",
       " 'properties': {'vmId': '3f2b6a14-4c02-41aa-a2e8-6859ee4c7847',\n",
       "  'hardwareProfile': {'vmSize': 'Standard_B2s'},\n",
       "  'storageProfile': {'imageReference': {'publisher': 'MicrosoftWindowsDesktop',\n",
       "    'offer': 'Windows-10',\n",
       "    'sku': 'rs5-pro',\n",
       "    'version': 'latest',\n",
       "    'exactVersion': '17763.1282.2006061952'},\n",
       "   'osDisk': {'osType': 'Windows',\n",
       "    'name': 'BlackHatDemoHost_OsDisk_1_dd1ef27d863e4e14ab3b446a4ab3ab20',\n",
       "    'createOption': 'FromImage',\n",
       "    'caching': 'ReadWrite',\n",
       "    'managedDisk': {'storageAccountType': 'StandardSSD_LRS',\n",
       "     'id': '/subscriptions/40dcc8bf-0478-4f3b-b275-ed0a94f2c013/resourceGroups/BLACKHATDEMO/providers/Microsoft.Compute/disks/BlackHatDemoHost_OsDisk_1_dd1ef27d863e4e14ab3b446a4ab3ab20'},\n",
       "    'diskSizeGB': 127},\n",
       "   'dataDisks': []},\n",
       "  'osProfile': {'computerName': 'BlackHatDemoHos',\n",
       "   'adminUsername': 'mstic_admin',\n",
       "   'windowsConfiguration': {'provisionVMAgent': True,\n",
       "    'enableAutomaticUpdates': True,\n",
       "    'patchSettings': {'patchMode': 'AutomaticByOS'}},\n",
       "   'secrets': [],\n",
       "   'allowExtensionOperations': True,\n",
       "   'requireGuestProvisionSignal': True},\n",
       "  'networkProfile': {'networkInterfaces': [{'id': '/subscriptions/40dcc8bf-0478-4f3b-b275-ed0a94f2c013/resourceGroups/BlackHatDemo/providers/Microsoft.Network/networkInterfaces/blackhatdemohost86'}]},\n",
       "  'licenseType': 'Windows_Client',\n",
       "  'provisioningState': 'Succeeded'},\n",
       " 'kind': None,\n",
       " 'managed_by': None,\n",
       " 'sku': None,\n",
       " 'identity': None,\n",
       " 'state': <azure.mgmt.compute.v2019_12_01.models._models_py3.VirtualMachineInstanceView at 0x18e96d266d0>}"
      ]
     },
     "execution_count": 30,
     "metadata": {},
     "output_type": "execute_result"
    }
   ],
   "source": [
    "# Get details on our target resource\n",
    "az.get_resource_details(resource_id=res_id, sub_id=sub_id)"
   ]
  },
  {
   "cell_type": "code",
   "execution_count": 31,
   "metadata": {},
   "outputs": [
    {
     "data": {
      "text/html": [
       "\n",
       "    <div class=\"bk-root\">\n",
       "        <a href=\"https://bokeh.org\" target=\"_blank\" class=\"bk-logo bk-logo-small bk-logo-notebook\"></a>\n",
       "        <span id=\"3273\">Loading BokehJS ...</span>\n",
       "    </div>"
      ]
     },
     "metadata": {},
     "output_type": "display_data"
    },
    {
     "data": {
      "application/javascript": [
       "\n",
       "(function(root) {\n",
       "  function now() {\n",
       "    return new Date();\n",
       "  }\n",
       "\n",
       "  var force = true;\n",
       "\n",
       "  if (typeof root._bokeh_onload_callbacks === \"undefined\" || force === true) {\n",
       "    root._bokeh_onload_callbacks = [];\n",
       "    root._bokeh_is_loading = undefined;\n",
       "  }\n",
       "\n",
       "  var JS_MIME_TYPE = 'application/javascript';\n",
       "  var HTML_MIME_TYPE = 'text/html';\n",
       "  var EXEC_MIME_TYPE = 'application/vnd.bokehjs_exec.v0+json';\n",
       "  var CLASS_NAME = 'output_bokeh rendered_html';\n",
       "\n",
       "  /**\n",
       "   * Render data to the DOM node\n",
       "   */\n",
       "  function render(props, node) {\n",
       "    var script = document.createElement(\"script\");\n",
       "    node.appendChild(script);\n",
       "  }\n",
       "\n",
       "  /**\n",
       "   * Handle when an output is cleared or removed\n",
       "   */\n",
       "  function handleClearOutput(event, handle) {\n",
       "    var cell = handle.cell;\n",
       "\n",
       "    var id = cell.output_area._bokeh_element_id;\n",
       "    var server_id = cell.output_area._bokeh_server_id;\n",
       "    // Clean up Bokeh references\n",
       "    if (id != null && id in Bokeh.index) {\n",
       "      Bokeh.index[id].model.document.clear();\n",
       "      delete Bokeh.index[id];\n",
       "    }\n",
       "\n",
       "    if (server_id !== undefined) {\n",
       "      // Clean up Bokeh references\n",
       "      var cmd = \"from bokeh.io.state import curstate; print(curstate().uuid_to_server['\" + server_id + \"'].get_sessions()[0].document.roots[0]._id)\";\n",
       "      cell.notebook.kernel.execute(cmd, {\n",
       "        iopub: {\n",
       "          output: function(msg) {\n",
       "            var id = msg.content.text.trim();\n",
       "            if (id in Bokeh.index) {\n",
       "              Bokeh.index[id].model.document.clear();\n",
       "              delete Bokeh.index[id];\n",
       "            }\n",
       "          }\n",
       "        }\n",
       "      });\n",
       "      // Destroy server and session\n",
       "      var cmd = \"import bokeh.io.notebook as ion; ion.destroy_server('\" + server_id + \"')\";\n",
       "      cell.notebook.kernel.execute(cmd);\n",
       "    }\n",
       "  }\n",
       "\n",
       "  /**\n",
       "   * Handle when a new output is added\n",
       "   */\n",
       "  function handleAddOutput(event, handle) {\n",
       "    var output_area = handle.output_area;\n",
       "    var output = handle.output;\n",
       "\n",
       "    // limit handleAddOutput to display_data with EXEC_MIME_TYPE content only\n",
       "    if ((output.output_type != \"display_data\") || (!output.data.hasOwnProperty(EXEC_MIME_TYPE))) {\n",
       "      return\n",
       "    }\n",
       "\n",
       "    var toinsert = output_area.element.find(\".\" + CLASS_NAME.split(' ')[0]);\n",
       "\n",
       "    if (output.metadata[EXEC_MIME_TYPE][\"id\"] !== undefined) {\n",
       "      toinsert[toinsert.length - 1].firstChild.textContent = output.data[JS_MIME_TYPE];\n",
       "      // store reference to embed id on output_area\n",
       "      output_area._bokeh_element_id = output.metadata[EXEC_MIME_TYPE][\"id\"];\n",
       "    }\n",
       "    if (output.metadata[EXEC_MIME_TYPE][\"server_id\"] !== undefined) {\n",
       "      var bk_div = document.createElement(\"div\");\n",
       "      bk_div.innerHTML = output.data[HTML_MIME_TYPE];\n",
       "      var script_attrs = bk_div.children[0].attributes;\n",
       "      for (var i = 0; i < script_attrs.length; i++) {\n",
       "        toinsert[toinsert.length - 1].firstChild.setAttribute(script_attrs[i].name, script_attrs[i].value);\n",
       "        toinsert[toinsert.length - 1].firstChild.textContent = bk_div.children[0].textContent\n",
       "      }\n",
       "      // store reference to server id on output_area\n",
       "      output_area._bokeh_server_id = output.metadata[EXEC_MIME_TYPE][\"server_id\"];\n",
       "    }\n",
       "  }\n",
       "\n",
       "  function register_renderer(events, OutputArea) {\n",
       "\n",
       "    function append_mime(data, metadata, element) {\n",
       "      // create a DOM node to render to\n",
       "      var toinsert = this.create_output_subarea(\n",
       "        metadata,\n",
       "        CLASS_NAME,\n",
       "        EXEC_MIME_TYPE\n",
       "      );\n",
       "      this.keyboard_manager.register_events(toinsert);\n",
       "      // Render to node\n",
       "      var props = {data: data, metadata: metadata[EXEC_MIME_TYPE]};\n",
       "      render(props, toinsert[toinsert.length - 1]);\n",
       "      element.append(toinsert);\n",
       "      return toinsert\n",
       "    }\n",
       "\n",
       "    /* Handle when an output is cleared or removed */\n",
       "    events.on('clear_output.CodeCell', handleClearOutput);\n",
       "    events.on('delete.Cell', handleClearOutput);\n",
       "\n",
       "    /* Handle when a new output is added */\n",
       "    events.on('output_added.OutputArea', handleAddOutput);\n",
       "\n",
       "    /**\n",
       "     * Register the mime type and append_mime function with output_area\n",
       "     */\n",
       "    OutputArea.prototype.register_mime_type(EXEC_MIME_TYPE, append_mime, {\n",
       "      /* Is output safe? */\n",
       "      safe: true,\n",
       "      /* Index of renderer in `output_area.display_order` */\n",
       "      index: 0\n",
       "    });\n",
       "  }\n",
       "\n",
       "  // register the mime type if in Jupyter Notebook environment and previously unregistered\n",
       "  if (root.Jupyter !== undefined) {\n",
       "    var events = require('base/js/events');\n",
       "    var OutputArea = require('notebook/js/outputarea').OutputArea;\n",
       "\n",
       "    if (OutputArea.prototype.mime_types().indexOf(EXEC_MIME_TYPE) == -1) {\n",
       "      register_renderer(events, OutputArea);\n",
       "    }\n",
       "  }\n",
       "\n",
       "  \n",
       "  if (typeof (root._bokeh_timeout) === \"undefined\" || force === true) {\n",
       "    root._bokeh_timeout = Date.now() + 5000;\n",
       "    root._bokeh_failed_load = false;\n",
       "  }\n",
       "\n",
       "  var NB_LOAD_WARNING = {'data': {'text/html':\n",
       "     \"<div style='background-color: #fdd'>\\n\"+\n",
       "     \"<p>\\n\"+\n",
       "     \"BokehJS does not appear to have successfully loaded. If loading BokehJS from CDN, this \\n\"+\n",
       "     \"may be due to a slow or bad network connection. Possible fixes:\\n\"+\n",
       "     \"</p>\\n\"+\n",
       "     \"<ul>\\n\"+\n",
       "     \"<li>re-rerun `output_notebook()` to attempt to load from CDN again, or</li>\\n\"+\n",
       "     \"<li>use INLINE resources instead, as so:</li>\\n\"+\n",
       "     \"</ul>\\n\"+\n",
       "     \"<code>\\n\"+\n",
       "     \"from bokeh.resources import INLINE\\n\"+\n",
       "     \"output_notebook(resources=INLINE)\\n\"+\n",
       "     \"</code>\\n\"+\n",
       "     \"</div>\"}};\n",
       "\n",
       "  function display_loaded() {\n",
       "    var el = document.getElementById(\"3273\");\n",
       "    if (el != null) {\n",
       "      el.textContent = \"BokehJS is loading...\";\n",
       "    }\n",
       "    if (root.Bokeh !== undefined) {\n",
       "      if (el != null) {\n",
       "        el.textContent = \"BokehJS \" + root.Bokeh.version + \" successfully loaded.\";\n",
       "      }\n",
       "    } else if (Date.now() < root._bokeh_timeout) {\n",
       "      setTimeout(display_loaded, 100)\n",
       "    }\n",
       "  }\n",
       "\n",
       "\n",
       "  function run_callbacks() {\n",
       "    try {\n",
       "      root._bokeh_onload_callbacks.forEach(function(callback) {\n",
       "        if (callback != null)\n",
       "          callback();\n",
       "      });\n",
       "    } finally {\n",
       "      delete root._bokeh_onload_callbacks\n",
       "    }\n",
       "    console.debug(\"Bokeh: all callbacks have finished\");\n",
       "  }\n",
       "\n",
       "  function load_libs(css_urls, js_urls, callback) {\n",
       "    if (css_urls == null) css_urls = [];\n",
       "    if (js_urls == null) js_urls = [];\n",
       "\n",
       "    root._bokeh_onload_callbacks.push(callback);\n",
       "    if (root._bokeh_is_loading > 0) {\n",
       "      console.debug(\"Bokeh: BokehJS is being loaded, scheduling callback at\", now());\n",
       "      return null;\n",
       "    }\n",
       "    if (js_urls == null || js_urls.length === 0) {\n",
       "      run_callbacks();\n",
       "      return null;\n",
       "    }\n",
       "    console.debug(\"Bokeh: BokehJS not loaded, scheduling load and callback at\", now());\n",
       "    root._bokeh_is_loading = css_urls.length + js_urls.length;\n",
       "\n",
       "    function on_load() {\n",
       "      root._bokeh_is_loading--;\n",
       "      if (root._bokeh_is_loading === 0) {\n",
       "        console.debug(\"Bokeh: all BokehJS libraries/stylesheets loaded\");\n",
       "        run_callbacks()\n",
       "      }\n",
       "    }\n",
       "\n",
       "    function on_error() {\n",
       "      console.error(\"failed to load \" + url);\n",
       "    }\n",
       "\n",
       "    for (var i = 0; i < css_urls.length; i++) {\n",
       "      var url = css_urls[i];\n",
       "      const element = document.createElement(\"link\");\n",
       "      element.onload = on_load;\n",
       "      element.onerror = on_error;\n",
       "      element.rel = \"stylesheet\";\n",
       "      element.type = \"text/css\";\n",
       "      element.href = url;\n",
       "      console.debug(\"Bokeh: injecting link tag for BokehJS stylesheet: \", url);\n",
       "      document.body.appendChild(element);\n",
       "    }\n",
       "\n",
       "    const hashes = {\"https://cdn.bokeh.org/bokeh/release/bokeh-2.1.1.min.js\": \"kLr4fYcqcSpbuI95brIH3vnnYCquzzSxHPU6XGQCIkQRGJwhg0StNbj1eegrHs12\", \"https://cdn.bokeh.org/bokeh/release/bokeh-widgets-2.1.1.min.js\": \"xIGPmVtaOm+z0BqfSOMn4lOR6ciex448GIKG4eE61LsAvmGj48XcMQZtKcE/UXZe\", \"https://cdn.bokeh.org/bokeh/release/bokeh-tables-2.1.1.min.js\": \"Dc9u1wF/0zApGIWoBbH77iWEHtdmkuYWG839Uzmv8y8yBLXebjO9ZnERsde5Ln/P\", \"https://cdn.bokeh.org/bokeh/release/bokeh-gl-2.1.1.min.js\": \"cT9JaBz7GiRXdENrJLZNSC6eMNF3nh3fa5fTF51Svp+ukxPdwcU5kGXGPBgDCa2j\"};\n",
       "\n",
       "    for (var i = 0; i < js_urls.length; i++) {\n",
       "      var url = js_urls[i];\n",
       "      var element = document.createElement('script');\n",
       "      element.onload = on_load;\n",
       "      element.onerror = on_error;\n",
       "      element.async = false;\n",
       "      element.src = url;\n",
       "      if (url in hashes) {\n",
       "        element.crossOrigin = \"anonymous\";\n",
       "        element.integrity = \"sha384-\" + hashes[url];\n",
       "      }\n",
       "      console.debug(\"Bokeh: injecting script tag for BokehJS library: \", url);\n",
       "      document.head.appendChild(element);\n",
       "    }\n",
       "  };\n",
       "\n",
       "  function inject_raw_css(css) {\n",
       "    const element = document.createElement(\"style\");\n",
       "    element.appendChild(document.createTextNode(css));\n",
       "    document.body.appendChild(element);\n",
       "  }\n",
       "\n",
       "  \n",
       "  var js_urls = [\"https://cdn.bokeh.org/bokeh/release/bokeh-2.1.1.min.js\", \"https://cdn.bokeh.org/bokeh/release/bokeh-widgets-2.1.1.min.js\", \"https://cdn.bokeh.org/bokeh/release/bokeh-tables-2.1.1.min.js\", \"https://cdn.bokeh.org/bokeh/release/bokeh-gl-2.1.1.min.js\"];\n",
       "  var css_urls = [];\n",
       "  \n",
       "\n",
       "  var inline_js = [\n",
       "    function(Bokeh) {\n",
       "      Bokeh.set_log_level(\"info\");\n",
       "    },\n",
       "    function(Bokeh) {\n",
       "    \n",
       "    \n",
       "    }\n",
       "  ];\n",
       "\n",
       "  function run_inline_js() {\n",
       "    \n",
       "    if (root.Bokeh !== undefined || force === true) {\n",
       "      \n",
       "    for (var i = 0; i < inline_js.length; i++) {\n",
       "      inline_js[i].call(root, root.Bokeh);\n",
       "    }\n",
       "    if (force === true) {\n",
       "        display_loaded();\n",
       "      }} else if (Date.now() < root._bokeh_timeout) {\n",
       "      setTimeout(run_inline_js, 100);\n",
       "    } else if (!root._bokeh_failed_load) {\n",
       "      console.log(\"Bokeh: BokehJS failed to load within specified timeout.\");\n",
       "      root._bokeh_failed_load = true;\n",
       "    } else if (force !== true) {\n",
       "      var cell = $(document.getElementById(\"3273\")).parents('.cell').data().cell;\n",
       "      cell.output_area.append_execute_result(NB_LOAD_WARNING)\n",
       "    }\n",
       "\n",
       "  }\n",
       "\n",
       "  if (root._bokeh_is_loading === 0) {\n",
       "    console.debug(\"Bokeh: BokehJS loaded, going straight to plotting\");\n",
       "    run_inline_js();\n",
       "  } else {\n",
       "    load_libs(css_urls, js_urls, function() {\n",
       "      console.debug(\"Bokeh: BokehJS plotting callback run at\", now());\n",
       "      run_inline_js();\n",
       "    });\n",
       "  }\n",
       "}(window));"
      ],
      "application/vnd.bokehjs_load.v0+json": "\n(function(root) {\n  function now() {\n    return new Date();\n  }\n\n  var force = true;\n\n  if (typeof root._bokeh_onload_callbacks === \"undefined\" || force === true) {\n    root._bokeh_onload_callbacks = [];\n    root._bokeh_is_loading = undefined;\n  }\n\n  \n\n  \n  if (typeof (root._bokeh_timeout) === \"undefined\" || force === true) {\n    root._bokeh_timeout = Date.now() + 5000;\n    root._bokeh_failed_load = false;\n  }\n\n  var NB_LOAD_WARNING = {'data': {'text/html':\n     \"<div style='background-color: #fdd'>\\n\"+\n     \"<p>\\n\"+\n     \"BokehJS does not appear to have successfully loaded. If loading BokehJS from CDN, this \\n\"+\n     \"may be due to a slow or bad network connection. Possible fixes:\\n\"+\n     \"</p>\\n\"+\n     \"<ul>\\n\"+\n     \"<li>re-rerun `output_notebook()` to attempt to load from CDN again, or</li>\\n\"+\n     \"<li>use INLINE resources instead, as so:</li>\\n\"+\n     \"</ul>\\n\"+\n     \"<code>\\n\"+\n     \"from bokeh.resources import INLINE\\n\"+\n     \"output_notebook(resources=INLINE)\\n\"+\n     \"</code>\\n\"+\n     \"</div>\"}};\n\n  function display_loaded() {\n    var el = document.getElementById(\"3273\");\n    if (el != null) {\n      el.textContent = \"BokehJS is loading...\";\n    }\n    if (root.Bokeh !== undefined) {\n      if (el != null) {\n        el.textContent = \"BokehJS \" + root.Bokeh.version + \" successfully loaded.\";\n      }\n    } else if (Date.now() < root._bokeh_timeout) {\n      setTimeout(display_loaded, 100)\n    }\n  }\n\n\n  function run_callbacks() {\n    try {\n      root._bokeh_onload_callbacks.forEach(function(callback) {\n        if (callback != null)\n          callback();\n      });\n    } finally {\n      delete root._bokeh_onload_callbacks\n    }\n    console.debug(\"Bokeh: all callbacks have finished\");\n  }\n\n  function load_libs(css_urls, js_urls, callback) {\n    if (css_urls == null) css_urls = [];\n    if (js_urls == null) js_urls = [];\n\n    root._bokeh_onload_callbacks.push(callback);\n    if (root._bokeh_is_loading > 0) {\n      console.debug(\"Bokeh: BokehJS is being loaded, scheduling callback at\", now());\n      return null;\n    }\n    if (js_urls == null || js_urls.length === 0) {\n      run_callbacks();\n      return null;\n    }\n    console.debug(\"Bokeh: BokehJS not loaded, scheduling load and callback at\", now());\n    root._bokeh_is_loading = css_urls.length + js_urls.length;\n\n    function on_load() {\n      root._bokeh_is_loading--;\n      if (root._bokeh_is_loading === 0) {\n        console.debug(\"Bokeh: all BokehJS libraries/stylesheets loaded\");\n        run_callbacks()\n      }\n    }\n\n    function on_error() {\n      console.error(\"failed to load \" + url);\n    }\n\n    for (var i = 0; i < css_urls.length; i++) {\n      var url = css_urls[i];\n      const element = document.createElement(\"link\");\n      element.onload = on_load;\n      element.onerror = on_error;\n      element.rel = \"stylesheet\";\n      element.type = \"text/css\";\n      element.href = url;\n      console.debug(\"Bokeh: injecting link tag for BokehJS stylesheet: \", url);\n      document.body.appendChild(element);\n    }\n\n    const hashes = {\"https://cdn.bokeh.org/bokeh/release/bokeh-2.1.1.min.js\": \"kLr4fYcqcSpbuI95brIH3vnnYCquzzSxHPU6XGQCIkQRGJwhg0StNbj1eegrHs12\", \"https://cdn.bokeh.org/bokeh/release/bokeh-widgets-2.1.1.min.js\": \"xIGPmVtaOm+z0BqfSOMn4lOR6ciex448GIKG4eE61LsAvmGj48XcMQZtKcE/UXZe\", \"https://cdn.bokeh.org/bokeh/release/bokeh-tables-2.1.1.min.js\": \"Dc9u1wF/0zApGIWoBbH77iWEHtdmkuYWG839Uzmv8y8yBLXebjO9ZnERsde5Ln/P\", \"https://cdn.bokeh.org/bokeh/release/bokeh-gl-2.1.1.min.js\": \"cT9JaBz7GiRXdENrJLZNSC6eMNF3nh3fa5fTF51Svp+ukxPdwcU5kGXGPBgDCa2j\"};\n\n    for (var i = 0; i < js_urls.length; i++) {\n      var url = js_urls[i];\n      var element = document.createElement('script');\n      element.onload = on_load;\n      element.onerror = on_error;\n      element.async = false;\n      element.src = url;\n      if (url in hashes) {\n        element.crossOrigin = \"anonymous\";\n        element.integrity = \"sha384-\" + hashes[url];\n      }\n      console.debug(\"Bokeh: injecting script tag for BokehJS library: \", url);\n      document.head.appendChild(element);\n    }\n  };\n\n  function inject_raw_css(css) {\n    const element = document.createElement(\"style\");\n    element.appendChild(document.createTextNode(css));\n    document.body.appendChild(element);\n  }\n\n  \n  var js_urls = [\"https://cdn.bokeh.org/bokeh/release/bokeh-2.1.1.min.js\", \"https://cdn.bokeh.org/bokeh/release/bokeh-widgets-2.1.1.min.js\", \"https://cdn.bokeh.org/bokeh/release/bokeh-tables-2.1.1.min.js\", \"https://cdn.bokeh.org/bokeh/release/bokeh-gl-2.1.1.min.js\"];\n  var css_urls = [];\n  \n\n  var inline_js = [\n    function(Bokeh) {\n      Bokeh.set_log_level(\"info\");\n    },\n    function(Bokeh) {\n    \n    \n    }\n  ];\n\n  function run_inline_js() {\n    \n    if (root.Bokeh !== undefined || force === true) {\n      \n    for (var i = 0; i < inline_js.length; i++) {\n      inline_js[i].call(root, root.Bokeh);\n    }\n    if (force === true) {\n        display_loaded();\n      }} else if (Date.now() < root._bokeh_timeout) {\n      setTimeout(run_inline_js, 100);\n    } else if (!root._bokeh_failed_load) {\n      console.log(\"Bokeh: BokehJS failed to load within specified timeout.\");\n      root._bokeh_failed_load = true;\n    } else if (force !== true) {\n      var cell = $(document.getElementById(\"3273\")).parents('.cell').data().cell;\n      cell.output_area.append_execute_result(NB_LOAD_WARNING)\n    }\n\n  }\n\n  if (root._bokeh_is_loading === 0) {\n    console.debug(\"Bokeh: BokehJS loaded, going straight to plotting\");\n    run_inline_js();\n  } else {\n    load_libs(css_urls, js_urls, function() {\n      console.debug(\"Bokeh: BokehJS plotting callback run at\", now());\n      run_inline_js();\n    });\n  }\n}(window));"
     },
     "metadata": {},
     "output_type": "display_data"
    },
    {
     "data": {
      "text/html": [
       "\n",
       "\n",
       "\n",
       "\n",
       "\n",
       "\n",
       "  <div class=\"bk-root\" id=\"55a8df5b-16b8-464b-bbc6-20e82b3dfbba\" data-root-id=\"3275\"></div>\n"
      ]
     },
     "metadata": {},
     "output_type": "display_data"
    },
    {
     "data": {
      "application/javascript": [
       "(function(root) {\n",
       "  function embed_document(root) {\n",
       "    \n",
       "  var docs_json = {\"c92d957f-0136-4512-ad5c-e9c012dd5955\":{\"roots\":{\"references\":[{\"attributes\":{\"below\":[{\"id\":\"3286\"}],\"center\":[{\"id\":\"3289\"},{\"id\":\"3293\"}],\"left\":[{\"id\":\"3290\"}],\"min_border_left\":50,\"plot_height\":400,\"plot_width\":900,\"renderers\":[{\"id\":\"3313\"}],\"title\":{\"id\":\"3276\"},\"toolbar\":{\"id\":\"3300\"},\"toolbar_location\":\"above\",\"x_range\":{\"id\":\"3278\"},\"x_scale\":{\"id\":\"3282\"},\"y_range\":{\"id\":\"3280\"},\"y_scale\":{\"id\":\"3284\"}},\"id\":\"3275\",\"subtype\":\"Figure\",\"type\":\"Plot\"},{\"attributes\":{\"axis\":{\"id\":\"3290\"},\"dimension\":1,\"grid_line_alpha\":0.3,\"grid_line_color\":\"navy\",\"minor_grid_line_alpha\":0.1,\"minor_grid_line_color\":\"navy\",\"ticker\":null},\"id\":\"3293\",\"type\":\"Grid\"},{\"attributes\":{},\"id\":\"3319\",\"type\":\"Selection\"},{\"attributes\":{\"end\":1594361160000.0,\"start\":1594054440000.0},\"id\":\"3278\",\"type\":\"Range1d\"},{\"attributes\":{\"dimensions\":\"width\"},\"id\":\"3298\",\"type\":\"PanTool\"},{\"attributes\":{\"mantissas\":[1,2,5],\"max_interval\":500.0,\"num_minor_ticks\":0},\"id\":\"3322\",\"type\":\"AdaptiveTicker\"},{\"attributes\":{},\"id\":\"3280\",\"type\":\"DataRange1d\"},{\"attributes\":{\"months\":[0,4,8]},\"id\":\"3331\",\"type\":\"MonthsTicker\"},{\"attributes\":{\"text\":\"Host CPU Usage\"},\"id\":\"3276\",\"type\":\"Title\"},{\"attributes\":{\"days\":[1,8,15,22]},\"id\":\"3327\",\"type\":\"DaysTicker\"},{\"attributes\":{\"line_alpha\":0.7,\"line_color\":\"navy\",\"line_width\":2,\"x\":{\"field\":\"Time\"},\"y\":{\"field\":\"Data\"}},\"id\":\"3311\",\"type\":\"Line\"},{\"attributes\":{},\"id\":\"3297\",\"type\":\"SaveTool\"},{\"attributes\":{\"days\":[1,15]},\"id\":\"3328\",\"type\":\"DaysTicker\"},{\"attributes\":{},\"id\":\"3296\",\"type\":\"ResetTool\"},{\"attributes\":{\"bottom_units\":\"screen\",\"fill_alpha\":0.5,\"fill_color\":\"lightgrey\",\"left_units\":\"screen\",\"level\":\"overlay\",\"line_alpha\":1.0,\"line_color\":\"black\",\"line_dash\":[4,4],\"line_width\":2,\"right_units\":\"screen\",\"top_units\":\"screen\"},\"id\":\"3299\",\"type\":\"BoxAnnotation\"},{\"attributes\":{\"data\":{\"Data\":{\"__ndarray__\":\"AAAAAAAAAAAAAAAAAAAAAAAAAAAAAAAAAAAAAAAAAAAAAAAAAAAAAAAAAAAAAAAAAAAAAAAAAAAAAAAAAAAAAAAAAAAAAAAAAAAAAAAAAAAAAAAAAAAAAAAAAAAAAAAAAAAAAAAAAAAAAAAAAAAAAAAAAAAAAAAAAAAAAAAAAAAAAAAAAAAAAAAAAAAAAAAAAAAAAAAAAAAAAAAAAAAAAFyPwvUofptAFK5H4XqYdEAzMzMzM4+DQFyPwvUovpZAPQrXo3C/lUAzMzMzM1uUQIXrUbgeHXZAAAAAAADMekDD9Shcjzp2QClcj8L11HRAPQrXo3BxdEB7FK5H4dJ0QKRwPQrX/3ZAH4XrUbgCdkC4HoXrUeR0QD0K16NwyXRA16NwPQpzdUBxPQrXoyR3QOF6FK5HmXRAFK5H4Xq8dEBSuB6F6311QClcj8L1dHVApHA9CtejdkBmZmZmZrJ1QPYoXI/CvXxAAAAAAADAPEAAAAAAAAAAAAAAAAAAAAAAAAAAAAAAAAAAAAAAAAAAAAAAAAAAAAAAAAAAAAAAAAAAAAAAAAAAAAAAAAAAAAAAAAAAAAAAAAAAAAAAAAAAAAAAAAAAAAAAAAAAAAAAAAAAAAAAAAAAAAAAAAAAAAAAAAAAAAAAAAAAAAAAAAAAAAAAAAAAAAAAAAAAAAAAAAA9CtejcHWyQEjhehTuJ7tAmpmZmRkyr0CF61G4HkmMQB+F61G4OIBAPQrXo3Dda0AAAAAAAAAAAAAAAAAAAAAA\",\"dtype\":\"float64\",\"order\":\"little\",\"shape\":[72]},\"Time\":{\"__ndarray__\":\"AACAJ2kyd0IAAGiWbDJ3QgAAUAVwMndCAAA4dHMyd0IAACDjdjJ3QgAACFJ6MndCAADwwH0yd0IAANgvgTJ3QgAAwJ6EMndCAACoDYgyd0IAAJB8izJ3QgAAeOuOMndCAABgWpIyd0IAAEjJlTJ3QgAAMDiZMndCAAAYp5wyd0IAAAAWoDJ3QgAA6ISjMndCAADQ86Yyd0IAALhiqjJ3QgAAoNGtMndCAACIQLEyd0IAAHCvtDJ3QgAAWB64MndCAABAjbsyd0IAACj8vjJ3QgAAEGvCMndCAAD42cUyd0IAAOBIyTJ3QgAAyLfMMndCAACwJtAyd0IAAJiV0zJ3QgAAgATXMndCAABoc9oyd0IAAFDi3TJ3QgAAOFHhMndCAAAgwOQyd0IAAAgv6DJ3QgAA8J3rMndCAADYDO8yd0IAAMB78jJ3QgAAqOr1MndCAACQWfkyd0IAAHjI/DJ3QgAAYDcAM3dCAABIpgMzd0IAADAVBzN3QgAAGIQKM3dCAAAA8w0zd0IAAOhhETN3QgAA0NAUM3dCAAC4Pxgzd0IAAKCuGzN3QgAAiB0fM3dCAABwjCIzd0IAAFj7JTN3QgAAQGopM3dCAAAo2Swzd0IAABBIMDN3QgAA+LYzM3dCAADgJTczd0IAAMiUOjN3QgAAsAM+M3dCAACYckEzd0IAAIDhRDN3QgAAaFBIM3dCAABQv0szd0IAADguTzN3QgAAIJ1SM3dCAAAIDFYzd0IAAPB6WTN3QgAA2OlcM3dC\",\"dtype\":\"float64\",\"order\":\"little\",\"shape\":[72]},\"color\":[\"navy\",\"navy\",\"navy\",\"navy\",\"navy\",\"navy\",\"navy\",\"navy\",\"navy\",\"navy\",\"navy\",\"navy\",\"navy\",\"navy\",\"navy\",\"navy\",\"navy\",\"navy\",\"navy\",\"navy\",\"navy\",\"navy\",\"navy\",\"navy\",\"navy\",\"navy\",\"navy\",\"navy\",\"navy\",\"navy\",\"navy\",\"navy\",\"navy\",\"navy\",\"navy\",\"navy\",\"navy\",\"navy\",\"navy\",\"navy\",\"navy\",\"navy\",\"navy\",\"navy\",\"navy\",\"navy\",\"navy\",\"navy\",\"navy\",\"navy\",\"navy\",\"navy\",\"navy\",\"navy\",\"navy\",\"navy\",\"navy\",\"navy\",\"navy\",\"navy\",\"navy\",\"navy\",\"navy\",\"navy\",\"navy\",\"navy\",\"navy\",\"navy\",\"navy\",\"navy\",\"navy\",\"navy\"],\"index\":[0,1,2,3,4,5,6,7,8,9,10,11,12,13,14,15,16,17,18,19,20,21,22,23,24,25,26,27,28,29,30,31,32,33,34,35,36,37,38,39,40,41,42,43,44,45,46,47,48,49,50,51,52,53,54,55,56,57,58,59,60,61,62,63,64,65,66,67,68,69,70,71],\"y_index\":[1,1,1,1,1,1,1,1,1,1,1,1,1,1,1,1,1,1,1,1,1,1,1,1,1,1,1,1,1,1,1,1,1,1,1,1,1,1,1,1,1,1,1,1,1,1,1,1,1,1,1,1,1,1,1,1,1,1,1,1,1,1,1,1,1,1,1,1,1,1,1,1]},\"selected\":{\"id\":\"3319\"},\"selection_policy\":{\"id\":\"3320\"}},\"id\":\"3309\",\"type\":\"ColumnDataSource\"},{\"attributes\":{},\"id\":\"3284\",\"type\":\"LinearScale\"},{\"attributes\":{\"base\":60,\"mantissas\":[1,2,5,10,15,20,30],\"max_interval\":1800000.0,\"min_interval\":1000.0,\"num_minor_ticks\":0},\"id\":\"3323\",\"type\":\"AdaptiveTicker\"},{\"attributes\":{\"days\":[\"%m-%d %H:%M\"],\"hours\":[\"%H:%M:%S\"],\"milliseconds\":[\"%H:%M:%S.%3N\"],\"minutes\":[\"%H:%M:%S\"],\"seconds\":[\"%H:%M:%S\"]},\"id\":\"3307\",\"type\":\"DatetimeTickFormatter\"},{\"attributes\":{},\"id\":\"3282\",\"type\":\"LinearScale\"},{\"attributes\":{\"line_alpha\":0.1,\"line_color\":\"navy\",\"line_width\":2,\"x\":{\"field\":\"Time\"},\"y\":{\"field\":\"Data\"}},\"id\":\"3312\",\"type\":\"Line\"},{\"attributes\":{},\"id\":\"3291\",\"type\":\"BasicTicker\"},{\"attributes\":{\"source\":{\"id\":\"3309\"}},\"id\":\"3314\",\"type\":\"CDSView\"},{\"attributes\":{},\"id\":\"3320\",\"type\":\"UnionRenderers\"},{\"attributes\":{\"axis_label\":\"Data\",\"formatter\":{\"id\":\"3316\"},\"ticker\":{\"id\":\"3291\"}},\"id\":\"3290\",\"type\":\"LinearAxis\"},{\"attributes\":{\"axis_label\":\"Event Time\",\"formatter\":{\"id\":\"3307\"},\"ticker\":{\"id\":\"3287\"}},\"id\":\"3286\",\"type\":\"DatetimeAxis\"},{\"attributes\":{},\"id\":\"3316\",\"type\":\"BasicTickFormatter\"},{\"attributes\":{\"active_drag\":\"auto\",\"active_inspect\":\"auto\",\"active_multi\":null,\"active_scroll\":\"auto\",\"active_tap\":\"auto\",\"tools\":[{\"id\":\"3274\"},{\"id\":\"3294\"},{\"id\":\"3295\"},{\"id\":\"3296\"},{\"id\":\"3297\"},{\"id\":\"3298\"}]},\"id\":\"3300\",\"type\":\"Toolbar\"},{\"attributes\":{\"overlay\":{\"id\":\"3299\"}},\"id\":\"3295\",\"type\":\"BoxZoomTool\"},{\"attributes\":{\"days\":[1,4,7,10,13,16,19,22,25,28]},\"id\":\"3326\",\"type\":\"DaysTicker\"},{\"attributes\":{\"months\":[0,6]},\"id\":\"3332\",\"type\":\"MonthsTicker\"},{\"attributes\":{\"data_source\":{\"id\":\"3309\"},\"glyph\":{\"id\":\"3311\"},\"hover_glyph\":null,\"muted_glyph\":null,\"nonselection_glyph\":{\"id\":\"3312\"},\"selection_glyph\":null,\"view\":{\"id\":\"3314\"}},\"id\":\"3313\",\"type\":\"GlyphRenderer\"},{\"attributes\":{\"num_minor_ticks\":10,\"tickers\":[{\"id\":\"3322\"},{\"id\":\"3323\"},{\"id\":\"3324\"},{\"id\":\"3325\"},{\"id\":\"3326\"},{\"id\":\"3327\"},{\"id\":\"3328\"},{\"id\":\"3329\"},{\"id\":\"3330\"},{\"id\":\"3331\"},{\"id\":\"3332\"},{\"id\":\"3333\"}]},\"id\":\"3287\",\"type\":\"DatetimeTicker\"},{\"attributes\":{},\"id\":\"3333\",\"type\":\"YearsTicker\"},{\"attributes\":{\"dimensions\":\"width\"},\"id\":\"3294\",\"type\":\"WheelZoomTool\"},{\"attributes\":{\"days\":[1,2,3,4,5,6,7,8,9,10,11,12,13,14,15,16,17,18,19,20,21,22,23,24,25,26,27,28,29,30,31]},\"id\":\"3325\",\"type\":\"DaysTicker\"},{\"attributes\":{\"axis\":{\"id\":\"3286\"},\"grid_line_alpha\":0.3,\"grid_line_color\":\"navy\",\"minor_grid_line_alpha\":0.1,\"minor_grid_line_color\":\"navy\",\"ticker\":null},\"id\":\"3289\",\"type\":\"Grid\"},{\"attributes\":{\"months\":[0,1,2,3,4,5,6,7,8,9,10,11]},\"id\":\"3329\",\"type\":\"MonthsTicker\"},{\"attributes\":{\"base\":24,\"mantissas\":[1,2,4,6,8,12],\"max_interval\":43200000.0,\"min_interval\":3600000.0,\"num_minor_ticks\":0},\"id\":\"3324\",\"type\":\"AdaptiveTicker\"},{\"attributes\":{\"months\":[0,2,4,6,8,10]},\"id\":\"3330\",\"type\":\"MonthsTicker\"},{\"attributes\":{\"callback\":null,\"formatters\":{\"Tooltip\":\"printf\"},\"tooltips\":[[\"Time\",\"@Time{%F %T}\"],[\"Data\",\"@Data\"]]},\"id\":\"3274\",\"type\":\"HoverTool\"}],\"root_ids\":[\"3275\"]},\"title\":\"Bokeh Application\",\"version\":\"2.1.1\"}};\n",
       "  var render_items = [{\"docid\":\"c92d957f-0136-4512-ad5c-e9c012dd5955\",\"root_ids\":[\"3275\"],\"roots\":{\"3275\":\"55a8df5b-16b8-464b-bbc6-20e82b3dfbba\"}}];\n",
       "  root.Bokeh.embed.embed_items_notebook(docs_json, render_items);\n",
       "\n",
       "  }\n",
       "  if (root.Bokeh !== undefined) {\n",
       "    embed_document(root);\n",
       "  } else {\n",
       "    var attempts = 0;\n",
       "    var timer = setInterval(function(root) {\n",
       "      if (root.Bokeh !== undefined) {\n",
       "        clearInterval(timer);\n",
       "        embed_document(root);\n",
       "      } else {\n",
       "        attempts++;\n",
       "        if (attempts > 100) {\n",
       "          clearInterval(timer);\n",
       "          console.log(\"Bokeh: ERROR: Unable to run BokehJS code because BokehJS library is missing\");\n",
       "        }\n",
       "      }\n",
       "    }, 10, root)\n",
       "  }\n",
       "})(window);"
      ],
      "application/vnd.bokehjs_exec.v0+json": ""
     },
     "metadata": {
      "application/vnd.bokehjs_exec.v0+json": {
       "id": "3275"
      }
     },
     "output_type": "display_data"
    },
    {
     "data": {
      "text/html": [
       "\n",
       "    <div class=\"bk-root\">\n",
       "        <a href=\"https://bokeh.org\" target=\"_blank\" class=\"bk-logo bk-logo-small bk-logo-notebook\"></a>\n",
       "        <span id=\"3448\">Loading BokehJS ...</span>\n",
       "    </div>"
      ]
     },
     "metadata": {},
     "output_type": "display_data"
    },
    {
     "data": {
      "application/javascript": [
       "\n",
       "(function(root) {\n",
       "  function now() {\n",
       "    return new Date();\n",
       "  }\n",
       "\n",
       "  var force = true;\n",
       "\n",
       "  if (typeof root._bokeh_onload_callbacks === \"undefined\" || force === true) {\n",
       "    root._bokeh_onload_callbacks = [];\n",
       "    root._bokeh_is_loading = undefined;\n",
       "  }\n",
       "\n",
       "  var JS_MIME_TYPE = 'application/javascript';\n",
       "  var HTML_MIME_TYPE = 'text/html';\n",
       "  var EXEC_MIME_TYPE = 'application/vnd.bokehjs_exec.v0+json';\n",
       "  var CLASS_NAME = 'output_bokeh rendered_html';\n",
       "\n",
       "  /**\n",
       "   * Render data to the DOM node\n",
       "   */\n",
       "  function render(props, node) {\n",
       "    var script = document.createElement(\"script\");\n",
       "    node.appendChild(script);\n",
       "  }\n",
       "\n",
       "  /**\n",
       "   * Handle when an output is cleared or removed\n",
       "   */\n",
       "  function handleClearOutput(event, handle) {\n",
       "    var cell = handle.cell;\n",
       "\n",
       "    var id = cell.output_area._bokeh_element_id;\n",
       "    var server_id = cell.output_area._bokeh_server_id;\n",
       "    // Clean up Bokeh references\n",
       "    if (id != null && id in Bokeh.index) {\n",
       "      Bokeh.index[id].model.document.clear();\n",
       "      delete Bokeh.index[id];\n",
       "    }\n",
       "\n",
       "    if (server_id !== undefined) {\n",
       "      // Clean up Bokeh references\n",
       "      var cmd = \"from bokeh.io.state import curstate; print(curstate().uuid_to_server['\" + server_id + \"'].get_sessions()[0].document.roots[0]._id)\";\n",
       "      cell.notebook.kernel.execute(cmd, {\n",
       "        iopub: {\n",
       "          output: function(msg) {\n",
       "            var id = msg.content.text.trim();\n",
       "            if (id in Bokeh.index) {\n",
       "              Bokeh.index[id].model.document.clear();\n",
       "              delete Bokeh.index[id];\n",
       "            }\n",
       "          }\n",
       "        }\n",
       "      });\n",
       "      // Destroy server and session\n",
       "      var cmd = \"import bokeh.io.notebook as ion; ion.destroy_server('\" + server_id + \"')\";\n",
       "      cell.notebook.kernel.execute(cmd);\n",
       "    }\n",
       "  }\n",
       "\n",
       "  /**\n",
       "   * Handle when a new output is added\n",
       "   */\n",
       "  function handleAddOutput(event, handle) {\n",
       "    var output_area = handle.output_area;\n",
       "    var output = handle.output;\n",
       "\n",
       "    // limit handleAddOutput to display_data with EXEC_MIME_TYPE content only\n",
       "    if ((output.output_type != \"display_data\") || (!output.data.hasOwnProperty(EXEC_MIME_TYPE))) {\n",
       "      return\n",
       "    }\n",
       "\n",
       "    var toinsert = output_area.element.find(\".\" + CLASS_NAME.split(' ')[0]);\n",
       "\n",
       "    if (output.metadata[EXEC_MIME_TYPE][\"id\"] !== undefined) {\n",
       "      toinsert[toinsert.length - 1].firstChild.textContent = output.data[JS_MIME_TYPE];\n",
       "      // store reference to embed id on output_area\n",
       "      output_area._bokeh_element_id = output.metadata[EXEC_MIME_TYPE][\"id\"];\n",
       "    }\n",
       "    if (output.metadata[EXEC_MIME_TYPE][\"server_id\"] !== undefined) {\n",
       "      var bk_div = document.createElement(\"div\");\n",
       "      bk_div.innerHTML = output.data[HTML_MIME_TYPE];\n",
       "      var script_attrs = bk_div.children[0].attributes;\n",
       "      for (var i = 0; i < script_attrs.length; i++) {\n",
       "        toinsert[toinsert.length - 1].firstChild.setAttribute(script_attrs[i].name, script_attrs[i].value);\n",
       "        toinsert[toinsert.length - 1].firstChild.textContent = bk_div.children[0].textContent\n",
       "      }\n",
       "      // store reference to server id on output_area\n",
       "      output_area._bokeh_server_id = output.metadata[EXEC_MIME_TYPE][\"server_id\"];\n",
       "    }\n",
       "  }\n",
       "\n",
       "  function register_renderer(events, OutputArea) {\n",
       "\n",
       "    function append_mime(data, metadata, element) {\n",
       "      // create a DOM node to render to\n",
       "      var toinsert = this.create_output_subarea(\n",
       "        metadata,\n",
       "        CLASS_NAME,\n",
       "        EXEC_MIME_TYPE\n",
       "      );\n",
       "      this.keyboard_manager.register_events(toinsert);\n",
       "      // Render to node\n",
       "      var props = {data: data, metadata: metadata[EXEC_MIME_TYPE]};\n",
       "      render(props, toinsert[toinsert.length - 1]);\n",
       "      element.append(toinsert);\n",
       "      return toinsert\n",
       "    }\n",
       "\n",
       "    /* Handle when an output is cleared or removed */\n",
       "    events.on('clear_output.CodeCell', handleClearOutput);\n",
       "    events.on('delete.Cell', handleClearOutput);\n",
       "\n",
       "    /* Handle when a new output is added */\n",
       "    events.on('output_added.OutputArea', handleAddOutput);\n",
       "\n",
       "    /**\n",
       "     * Register the mime type and append_mime function with output_area\n",
       "     */\n",
       "    OutputArea.prototype.register_mime_type(EXEC_MIME_TYPE, append_mime, {\n",
       "      /* Is output safe? */\n",
       "      safe: true,\n",
       "      /* Index of renderer in `output_area.display_order` */\n",
       "      index: 0\n",
       "    });\n",
       "  }\n",
       "\n",
       "  // register the mime type if in Jupyter Notebook environment and previously unregistered\n",
       "  if (root.Jupyter !== undefined) {\n",
       "    var events = require('base/js/events');\n",
       "    var OutputArea = require('notebook/js/outputarea').OutputArea;\n",
       "\n",
       "    if (OutputArea.prototype.mime_types().indexOf(EXEC_MIME_TYPE) == -1) {\n",
       "      register_renderer(events, OutputArea);\n",
       "    }\n",
       "  }\n",
       "\n",
       "  \n",
       "  if (typeof (root._bokeh_timeout) === \"undefined\" || force === true) {\n",
       "    root._bokeh_timeout = Date.now() + 5000;\n",
       "    root._bokeh_failed_load = false;\n",
       "  }\n",
       "\n",
       "  var NB_LOAD_WARNING = {'data': {'text/html':\n",
       "     \"<div style='background-color: #fdd'>\\n\"+\n",
       "     \"<p>\\n\"+\n",
       "     \"BokehJS does not appear to have successfully loaded. If loading BokehJS from CDN, this \\n\"+\n",
       "     \"may be due to a slow or bad network connection. Possible fixes:\\n\"+\n",
       "     \"</p>\\n\"+\n",
       "     \"<ul>\\n\"+\n",
       "     \"<li>re-rerun `output_notebook()` to attempt to load from CDN again, or</li>\\n\"+\n",
       "     \"<li>use INLINE resources instead, as so:</li>\\n\"+\n",
       "     \"</ul>\\n\"+\n",
       "     \"<code>\\n\"+\n",
       "     \"from bokeh.resources import INLINE\\n\"+\n",
       "     \"output_notebook(resources=INLINE)\\n\"+\n",
       "     \"</code>\\n\"+\n",
       "     \"</div>\"}};\n",
       "\n",
       "  function display_loaded() {\n",
       "    var el = document.getElementById(\"3448\");\n",
       "    if (el != null) {\n",
       "      el.textContent = \"BokehJS is loading...\";\n",
       "    }\n",
       "    if (root.Bokeh !== undefined) {\n",
       "      if (el != null) {\n",
       "        el.textContent = \"BokehJS \" + root.Bokeh.version + \" successfully loaded.\";\n",
       "      }\n",
       "    } else if (Date.now() < root._bokeh_timeout) {\n",
       "      setTimeout(display_loaded, 100)\n",
       "    }\n",
       "  }\n",
       "\n",
       "\n",
       "  function run_callbacks() {\n",
       "    try {\n",
       "      root._bokeh_onload_callbacks.forEach(function(callback) {\n",
       "        if (callback != null)\n",
       "          callback();\n",
       "      });\n",
       "    } finally {\n",
       "      delete root._bokeh_onload_callbacks\n",
       "    }\n",
       "    console.debug(\"Bokeh: all callbacks have finished\");\n",
       "  }\n",
       "\n",
       "  function load_libs(css_urls, js_urls, callback) {\n",
       "    if (css_urls == null) css_urls = [];\n",
       "    if (js_urls == null) js_urls = [];\n",
       "\n",
       "    root._bokeh_onload_callbacks.push(callback);\n",
       "    if (root._bokeh_is_loading > 0) {\n",
       "      console.debug(\"Bokeh: BokehJS is being loaded, scheduling callback at\", now());\n",
       "      return null;\n",
       "    }\n",
       "    if (js_urls == null || js_urls.length === 0) {\n",
       "      run_callbacks();\n",
       "      return null;\n",
       "    }\n",
       "    console.debug(\"Bokeh: BokehJS not loaded, scheduling load and callback at\", now());\n",
       "    root._bokeh_is_loading = css_urls.length + js_urls.length;\n",
       "\n",
       "    function on_load() {\n",
       "      root._bokeh_is_loading--;\n",
       "      if (root._bokeh_is_loading === 0) {\n",
       "        console.debug(\"Bokeh: all BokehJS libraries/stylesheets loaded\");\n",
       "        run_callbacks()\n",
       "      }\n",
       "    }\n",
       "\n",
       "    function on_error() {\n",
       "      console.error(\"failed to load \" + url);\n",
       "    }\n",
       "\n",
       "    for (var i = 0; i < css_urls.length; i++) {\n",
       "      var url = css_urls[i];\n",
       "      const element = document.createElement(\"link\");\n",
       "      element.onload = on_load;\n",
       "      element.onerror = on_error;\n",
       "      element.rel = \"stylesheet\";\n",
       "      element.type = \"text/css\";\n",
       "      element.href = url;\n",
       "      console.debug(\"Bokeh: injecting link tag for BokehJS stylesheet: \", url);\n",
       "      document.body.appendChild(element);\n",
       "    }\n",
       "\n",
       "    const hashes = {\"https://cdn.bokeh.org/bokeh/release/bokeh-2.1.1.min.js\": \"kLr4fYcqcSpbuI95brIH3vnnYCquzzSxHPU6XGQCIkQRGJwhg0StNbj1eegrHs12\", \"https://cdn.bokeh.org/bokeh/release/bokeh-widgets-2.1.1.min.js\": \"xIGPmVtaOm+z0BqfSOMn4lOR6ciex448GIKG4eE61LsAvmGj48XcMQZtKcE/UXZe\", \"https://cdn.bokeh.org/bokeh/release/bokeh-tables-2.1.1.min.js\": \"Dc9u1wF/0zApGIWoBbH77iWEHtdmkuYWG839Uzmv8y8yBLXebjO9ZnERsde5Ln/P\", \"https://cdn.bokeh.org/bokeh/release/bokeh-gl-2.1.1.min.js\": \"cT9JaBz7GiRXdENrJLZNSC6eMNF3nh3fa5fTF51Svp+ukxPdwcU5kGXGPBgDCa2j\"};\n",
       "\n",
       "    for (var i = 0; i < js_urls.length; i++) {\n",
       "      var url = js_urls[i];\n",
       "      var element = document.createElement('script');\n",
       "      element.onload = on_load;\n",
       "      element.onerror = on_error;\n",
       "      element.async = false;\n",
       "      element.src = url;\n",
       "      if (url in hashes) {\n",
       "        element.crossOrigin = \"anonymous\";\n",
       "        element.integrity = \"sha384-\" + hashes[url];\n",
       "      }\n",
       "      console.debug(\"Bokeh: injecting script tag for BokehJS library: \", url);\n",
       "      document.head.appendChild(element);\n",
       "    }\n",
       "  };\n",
       "\n",
       "  function inject_raw_css(css) {\n",
       "    const element = document.createElement(\"style\");\n",
       "    element.appendChild(document.createTextNode(css));\n",
       "    document.body.appendChild(element);\n",
       "  }\n",
       "\n",
       "  \n",
       "  var js_urls = [\"https://cdn.bokeh.org/bokeh/release/bokeh-2.1.1.min.js\", \"https://cdn.bokeh.org/bokeh/release/bokeh-widgets-2.1.1.min.js\", \"https://cdn.bokeh.org/bokeh/release/bokeh-tables-2.1.1.min.js\", \"https://cdn.bokeh.org/bokeh/release/bokeh-gl-2.1.1.min.js\"];\n",
       "  var css_urls = [];\n",
       "  \n",
       "\n",
       "  var inline_js = [\n",
       "    function(Bokeh) {\n",
       "      Bokeh.set_log_level(\"info\");\n",
       "    },\n",
       "    function(Bokeh) {\n",
       "    \n",
       "    \n",
       "    }\n",
       "  ];\n",
       "\n",
       "  function run_inline_js() {\n",
       "    \n",
       "    if (root.Bokeh !== undefined || force === true) {\n",
       "      \n",
       "    for (var i = 0; i < inline_js.length; i++) {\n",
       "      inline_js[i].call(root, root.Bokeh);\n",
       "    }\n",
       "    if (force === true) {\n",
       "        display_loaded();\n",
       "      }} else if (Date.now() < root._bokeh_timeout) {\n",
       "      setTimeout(run_inline_js, 100);\n",
       "    } else if (!root._bokeh_failed_load) {\n",
       "      console.log(\"Bokeh: BokehJS failed to load within specified timeout.\");\n",
       "      root._bokeh_failed_load = true;\n",
       "    } else if (force !== true) {\n",
       "      var cell = $(document.getElementById(\"3448\")).parents('.cell').data().cell;\n",
       "      cell.output_area.append_execute_result(NB_LOAD_WARNING)\n",
       "    }\n",
       "\n",
       "  }\n",
       "\n",
       "  if (root._bokeh_is_loading === 0) {\n",
       "    console.debug(\"Bokeh: BokehJS loaded, going straight to plotting\");\n",
       "    run_inline_js();\n",
       "  } else {\n",
       "    load_libs(css_urls, js_urls, function() {\n",
       "      console.debug(\"Bokeh: BokehJS plotting callback run at\", now());\n",
       "      run_inline_js();\n",
       "    });\n",
       "  }\n",
       "}(window));"
      ],
      "application/vnd.bokehjs_load.v0+json": "\n(function(root) {\n  function now() {\n    return new Date();\n  }\n\n  var force = true;\n\n  if (typeof root._bokeh_onload_callbacks === \"undefined\" || force === true) {\n    root._bokeh_onload_callbacks = [];\n    root._bokeh_is_loading = undefined;\n  }\n\n  \n\n  \n  if (typeof (root._bokeh_timeout) === \"undefined\" || force === true) {\n    root._bokeh_timeout = Date.now() + 5000;\n    root._bokeh_failed_load = false;\n  }\n\n  var NB_LOAD_WARNING = {'data': {'text/html':\n     \"<div style='background-color: #fdd'>\\n\"+\n     \"<p>\\n\"+\n     \"BokehJS does not appear to have successfully loaded. If loading BokehJS from CDN, this \\n\"+\n     \"may be due to a slow or bad network connection. Possible fixes:\\n\"+\n     \"</p>\\n\"+\n     \"<ul>\\n\"+\n     \"<li>re-rerun `output_notebook()` to attempt to load from CDN again, or</li>\\n\"+\n     \"<li>use INLINE resources instead, as so:</li>\\n\"+\n     \"</ul>\\n\"+\n     \"<code>\\n\"+\n     \"from bokeh.resources import INLINE\\n\"+\n     \"output_notebook(resources=INLINE)\\n\"+\n     \"</code>\\n\"+\n     \"</div>\"}};\n\n  function display_loaded() {\n    var el = document.getElementById(\"3448\");\n    if (el != null) {\n      el.textContent = \"BokehJS is loading...\";\n    }\n    if (root.Bokeh !== undefined) {\n      if (el != null) {\n        el.textContent = \"BokehJS \" + root.Bokeh.version + \" successfully loaded.\";\n      }\n    } else if (Date.now() < root._bokeh_timeout) {\n      setTimeout(display_loaded, 100)\n    }\n  }\n\n\n  function run_callbacks() {\n    try {\n      root._bokeh_onload_callbacks.forEach(function(callback) {\n        if (callback != null)\n          callback();\n      });\n    } finally {\n      delete root._bokeh_onload_callbacks\n    }\n    console.debug(\"Bokeh: all callbacks have finished\");\n  }\n\n  function load_libs(css_urls, js_urls, callback) {\n    if (css_urls == null) css_urls = [];\n    if (js_urls == null) js_urls = [];\n\n    root._bokeh_onload_callbacks.push(callback);\n    if (root._bokeh_is_loading > 0) {\n      console.debug(\"Bokeh: BokehJS is being loaded, scheduling callback at\", now());\n      return null;\n    }\n    if (js_urls == null || js_urls.length === 0) {\n      run_callbacks();\n      return null;\n    }\n    console.debug(\"Bokeh: BokehJS not loaded, scheduling load and callback at\", now());\n    root._bokeh_is_loading = css_urls.length + js_urls.length;\n\n    function on_load() {\n      root._bokeh_is_loading--;\n      if (root._bokeh_is_loading === 0) {\n        console.debug(\"Bokeh: all BokehJS libraries/stylesheets loaded\");\n        run_callbacks()\n      }\n    }\n\n    function on_error() {\n      console.error(\"failed to load \" + url);\n    }\n\n    for (var i = 0; i < css_urls.length; i++) {\n      var url = css_urls[i];\n      const element = document.createElement(\"link\");\n      element.onload = on_load;\n      element.onerror = on_error;\n      element.rel = \"stylesheet\";\n      element.type = \"text/css\";\n      element.href = url;\n      console.debug(\"Bokeh: injecting link tag for BokehJS stylesheet: \", url);\n      document.body.appendChild(element);\n    }\n\n    const hashes = {\"https://cdn.bokeh.org/bokeh/release/bokeh-2.1.1.min.js\": \"kLr4fYcqcSpbuI95brIH3vnnYCquzzSxHPU6XGQCIkQRGJwhg0StNbj1eegrHs12\", \"https://cdn.bokeh.org/bokeh/release/bokeh-widgets-2.1.1.min.js\": \"xIGPmVtaOm+z0BqfSOMn4lOR6ciex448GIKG4eE61LsAvmGj48XcMQZtKcE/UXZe\", \"https://cdn.bokeh.org/bokeh/release/bokeh-tables-2.1.1.min.js\": \"Dc9u1wF/0zApGIWoBbH77iWEHtdmkuYWG839Uzmv8y8yBLXebjO9ZnERsde5Ln/P\", \"https://cdn.bokeh.org/bokeh/release/bokeh-gl-2.1.1.min.js\": \"cT9JaBz7GiRXdENrJLZNSC6eMNF3nh3fa5fTF51Svp+ukxPdwcU5kGXGPBgDCa2j\"};\n\n    for (var i = 0; i < js_urls.length; i++) {\n      var url = js_urls[i];\n      var element = document.createElement('script');\n      element.onload = on_load;\n      element.onerror = on_error;\n      element.async = false;\n      element.src = url;\n      if (url in hashes) {\n        element.crossOrigin = \"anonymous\";\n        element.integrity = \"sha384-\" + hashes[url];\n      }\n      console.debug(\"Bokeh: injecting script tag for BokehJS library: \", url);\n      document.head.appendChild(element);\n    }\n  };\n\n  function inject_raw_css(css) {\n    const element = document.createElement(\"style\");\n    element.appendChild(document.createTextNode(css));\n    document.body.appendChild(element);\n  }\n\n  \n  var js_urls = [\"https://cdn.bokeh.org/bokeh/release/bokeh-2.1.1.min.js\", \"https://cdn.bokeh.org/bokeh/release/bokeh-widgets-2.1.1.min.js\", \"https://cdn.bokeh.org/bokeh/release/bokeh-tables-2.1.1.min.js\", \"https://cdn.bokeh.org/bokeh/release/bokeh-gl-2.1.1.min.js\"];\n  var css_urls = [];\n  \n\n  var inline_js = [\n    function(Bokeh) {\n      Bokeh.set_log_level(\"info\");\n    },\n    function(Bokeh) {\n    \n    \n    }\n  ];\n\n  function run_inline_js() {\n    \n    if (root.Bokeh !== undefined || force === true) {\n      \n    for (var i = 0; i < inline_js.length; i++) {\n      inline_js[i].call(root, root.Bokeh);\n    }\n    if (force === true) {\n        display_loaded();\n      }} else if (Date.now() < root._bokeh_timeout) {\n      setTimeout(run_inline_js, 100);\n    } else if (!root._bokeh_failed_load) {\n      console.log(\"Bokeh: BokehJS failed to load within specified timeout.\");\n      root._bokeh_failed_load = true;\n    } else if (force !== true) {\n      var cell = $(document.getElementById(\"3448\")).parents('.cell').data().cell;\n      cell.output_area.append_execute_result(NB_LOAD_WARNING)\n    }\n\n  }\n\n  if (root._bokeh_is_loading === 0) {\n    console.debug(\"Bokeh: BokehJS loaded, going straight to plotting\");\n    run_inline_js();\n  } else {\n    load_libs(css_urls, js_urls, function() {\n      console.debug(\"Bokeh: BokehJS plotting callback run at\", now());\n      run_inline_js();\n    });\n  }\n}(window));"
     },
     "metadata": {},
     "output_type": "display_data"
    },
    {
     "data": {
      "text/html": [
       "\n",
       "\n",
       "\n",
       "\n",
       "\n",
       "\n",
       "  <div class=\"bk-root\" id=\"d4adf792-e5c1-4394-8a2e-cef17e25d552\" data-root-id=\"3450\"></div>\n"
      ]
     },
     "metadata": {},
     "output_type": "display_data"
    },
    {
     "data": {
      "application/javascript": [
       "(function(root) {\n",
       "  function embed_document(root) {\n",
       "    \n",
       "  var docs_json = {\"6e1602b6-efc7-4c3b-98f6-58415bb5cf2a\":{\"roots\":{\"references\":[{\"attributes\":{\"below\":[{\"id\":\"3461\"}],\"center\":[{\"id\":\"3464\"},{\"id\":\"3468\"},{\"id\":\"3509\"}],\"left\":[{\"id\":\"3465\"}],\"min_border_left\":50,\"plot_height\":400,\"plot_width\":900,\"renderers\":[{\"id\":\"3488\"},{\"id\":\"3515\"}],\"title\":{\"id\":\"3451\"},\"toolbar\":{\"id\":\"3475\"},\"toolbar_location\":\"above\",\"x_range\":{\"id\":\"3453\"},\"x_scale\":{\"id\":\"3457\"},\"y_range\":{\"id\":\"3455\"},\"y_scale\":{\"id\":\"3459\"}},\"id\":\"3450\",\"subtype\":\"Figure\",\"type\":\"Plot\"},{\"attributes\":{\"label\":{\"value\":\"Disk Read\"},\"renderers\":[{\"id\":\"3488\"}]},\"id\":\"3510\",\"type\":\"LegendItem\"},{\"attributes\":{\"text\":\"Host Disk Usage\"},\"id\":\"3451\",\"type\":\"Title\"},{\"attributes\":{},\"id\":\"3466\",\"type\":\"BasicTicker\"},{\"attributes\":{\"callback\":null,\"formatters\":{\"Tooltip\":\"printf\"},\"tooltips\":[[\"Time\",\"@Time{%F %T}\"],[\"Data\",\"@Data\"]]},\"id\":\"3449\",\"type\":\"HoverTool\"},{\"attributes\":{},\"id\":\"3457\",\"type\":\"LinearScale\"},{\"attributes\":{\"months\":[0,4,8]},\"id\":\"3506\",\"type\":\"MonthsTicker\"},{\"attributes\":{\"days\":[\"%m-%d %H:%M\"],\"hours\":[\"%H:%M:%S\"],\"milliseconds\":[\"%H:%M:%S.%3N\"],\"minutes\":[\"%H:%M:%S\"],\"seconds\":[\"%H:%M:%S\"]},\"id\":\"3482\",\"type\":\"DatetimeTickFormatter\"},{\"attributes\":{\"days\":[1,15]},\"id\":\"3503\",\"type\":\"DaysTicker\"},{\"attributes\":{\"months\":[0,6]},\"id\":\"3507\",\"type\":\"MonthsTicker\"},{\"attributes\":{\"source\":{\"id\":\"3511\"}},\"id\":\"3516\",\"type\":\"CDSView\"},{\"attributes\":{},\"id\":\"3495\",\"type\":\"UnionRenderers\"},{\"attributes\":{\"days\":[1,8,15,22]},\"id\":\"3502\",\"type\":\"DaysTicker\"},{\"attributes\":{\"active_drag\":\"auto\",\"active_inspect\":\"auto\",\"active_multi\":null,\"active_scroll\":\"auto\",\"active_tap\":\"auto\",\"tools\":[{\"id\":\"3449\"},{\"id\":\"3469\"},{\"id\":\"3470\"},{\"id\":\"3471\"},{\"id\":\"3472\"},{\"id\":\"3473\"}]},\"id\":\"3475\",\"type\":\"Toolbar\"},{\"attributes\":{},\"id\":\"3524\",\"type\":\"UnionRenderers\"},{\"attributes\":{\"num_minor_ticks\":10,\"tickers\":[{\"id\":\"3497\"},{\"id\":\"3498\"},{\"id\":\"3499\"},{\"id\":\"3500\"},{\"id\":\"3501\"},{\"id\":\"3502\"},{\"id\":\"3503\"},{\"id\":\"3504\"},{\"id\":\"3505\"},{\"id\":\"3506\"},{\"id\":\"3507\"},{\"id\":\"3508\"}]},\"id\":\"3462\",\"type\":\"DatetimeTicker\"},{\"attributes\":{},\"id\":\"3494\",\"type\":\"Selection\"},{\"attributes\":{\"line_alpha\":0.7,\"line_color\":\"#440154\",\"line_width\":2,\"x\":{\"field\":\"Time\"},\"y\":{\"field\":\"Data\"}},\"id\":\"3486\",\"type\":\"Line\"},{\"attributes\":{\"overlay\":{\"id\":\"3474\"}},\"id\":\"3470\",\"type\":\"BoxZoomTool\"},{\"attributes\":{},\"id\":\"3471\",\"type\":\"ResetTool\"},{\"attributes\":{\"months\":[0,1,2,3,4,5,6,7,8,9,10,11]},\"id\":\"3504\",\"type\":\"MonthsTicker\"},{\"attributes\":{\"base\":24,\"mantissas\":[1,2,4,6,8,12],\"max_interval\":43200000.0,\"min_interval\":3600000.0,\"num_minor_ticks\":0},\"id\":\"3499\",\"type\":\"AdaptiveTicker\"},{\"attributes\":{\"source\":{\"id\":\"3484\"}},\"id\":\"3489\",\"type\":\"CDSView\"},{\"attributes\":{},\"id\":\"3459\",\"type\":\"LinearScale\"},{\"attributes\":{\"dimensions\":\"width\"},\"id\":\"3473\",\"type\":\"PanTool\"},{\"attributes\":{\"mantissas\":[1,2,5],\"max_interval\":500.0,\"num_minor_ticks\":0},\"id\":\"3497\",\"type\":\"AdaptiveTicker\"},{\"attributes\":{\"months\":[0,2,4,6,8,10]},\"id\":\"3505\",\"type\":\"MonthsTicker\"},{\"attributes\":{\"axis_label\":\"Data\",\"formatter\":{\"id\":\"3491\"},\"ticker\":{\"id\":\"3466\"}},\"id\":\"3465\",\"type\":\"LinearAxis\"},{\"attributes\":{},\"id\":\"3523\",\"type\":\"Selection\"},{\"attributes\":{\"label\":{\"value\":\"Disk Write\"},\"renderers\":[{\"id\":\"3515\"}]},\"id\":\"3538\",\"type\":\"LegendItem\"},{\"attributes\":{\"line_alpha\":0.7,\"line_color\":\"#FDE724\",\"line_width\":2,\"x\":{\"field\":\"Time\"},\"y\":{\"field\":\"Data\"}},\"id\":\"3513\",\"type\":\"Line\"},{\"attributes\":{},\"id\":\"3508\",\"type\":\"YearsTicker\"},{\"attributes\":{\"data\":{\"Data\":{\"__ndarray__\":\"AAAAAAAAAAAAAAAAAAAAAAAAAAAAAAAAAAAAAAAAAAAAAAAAAAAAAAAAAAAAAAAAAAAAAAAAAAAAAAAAAAAAAAAAAAAAAAAAAAAAAAAAAAAAAAAAAAAAAAAAAAAAAAAAAAAAAAAAAAAAAAAAAAAAAAAAAAAAAAAAAAAAAAAAAAAAAAAAAAAAAAAAAAAAAAAAAAAAAAAAAAAAAAAAAAAAABSuj6bSu+dB16NAAeFc1UFI4XqIwGLcQWZmRtPESNZBrkchhRCQ20GamVHga4H9QVyPAh3ZNbJBcT3KL9SXs0EfhetnrnKxQXE9CuDeELJBFK7HEy8PsUG4HkXJxkaxQXE9yrW5GbFBj8L1d++1sUFxPUoRrrCwQVyPQgmno7BBCtcjNsmWskEpXE8GXT2xQVyPQiKC4a9BuB7F2uZCsUE9Cpf7C+CwQWZm5nyh4LBBj8L1SHtbsEGamVmlykmxQT0KF1XLc7ZBhetR8He9ckEAAAAAAAAAAAAAAAAAAAAAAAAAAAAAAAAAAAAAAAAAAAAAAAAAAAAAAAAAAAAAAAAAAAAAAAAAAAAAAAAAAAAAAAAAAAAAAAAAAAAAAAAAAAAAAAAAAAAAAAAAAAAAAAAAAAAAAAAAAAAAAAAAAAAAAAAAAAAAAAAAAAAAAAAAAAAAAAAAAAAAAAAAAAAAAADNzFy4HFUSQnE9jN1HjBVC16NE08Ma+kFxPardoNLGQaRwfa6XDrRBzczMgKDmpUEAAAAAAAAAAAAAAAAAAAAA\",\"dtype\":\"float64\",\"order\":\"little\",\"shape\":[72]},\"Time\":{\"__ndarray__\":\"AACAJ2kyd0IAAGiWbDJ3QgAAUAVwMndCAAA4dHMyd0IAACDjdjJ3QgAACFJ6MndCAADwwH0yd0IAANgvgTJ3QgAAwJ6EMndCAACoDYgyd0IAAJB8izJ3QgAAeOuOMndCAABgWpIyd0IAAEjJlTJ3QgAAMDiZMndCAAAYp5wyd0IAAAAWoDJ3QgAA6ISjMndCAADQ86Yyd0IAALhiqjJ3QgAAoNGtMndCAACIQLEyd0IAAHCvtDJ3QgAAWB64MndCAABAjbsyd0IAACj8vjJ3QgAAEGvCMndCAAD42cUyd0IAAOBIyTJ3QgAAyLfMMndCAACwJtAyd0IAAJiV0zJ3QgAAgATXMndCAABoc9oyd0IAAFDi3TJ3QgAAOFHhMndCAAAgwOQyd0IAAAgv6DJ3QgAA8J3rMndCAADYDO8yd0IAAMB78jJ3QgAAqOr1MndCAACQWfkyd0IAAHjI/DJ3QgAAYDcAM3dCAABIpgMzd0IAADAVBzN3QgAAGIQKM3dCAAAA8w0zd0IAAOhhETN3QgAA0NAUM3dCAAC4Pxgzd0IAAKCuGzN3QgAAiB0fM3dCAABwjCIzd0IAAFj7JTN3QgAAQGopM3dCAAAo2Swzd0IAABBIMDN3QgAA+LYzM3dCAADgJTczd0IAAMiUOjN3QgAAsAM+M3dCAACYckEzd0IAAIDhRDN3QgAAaFBIM3dCAABQv0szd0IAADguTzN3QgAAIJ1SM3dCAAAIDFYzd0IAAPB6WTN3QgAA2OlcM3dC\",\"dtype\":\"float64\",\"order\":\"little\",\"shape\":[72]},\"Type\":[\"Disk Write\",\"Disk Write\",\"Disk Write\",\"Disk Write\",\"Disk Write\",\"Disk Write\",\"Disk Write\",\"Disk Write\",\"Disk Write\",\"Disk Write\",\"Disk Write\",\"Disk Write\",\"Disk Write\",\"Disk Write\",\"Disk Write\",\"Disk Write\",\"Disk Write\",\"Disk Write\",\"Disk Write\",\"Disk Write\",\"Disk Write\",\"Disk Write\",\"Disk Write\",\"Disk Write\",\"Disk Write\",\"Disk Write\",\"Disk Write\",\"Disk Write\",\"Disk Write\",\"Disk Write\",\"Disk Write\",\"Disk Write\",\"Disk Write\",\"Disk Write\",\"Disk Write\",\"Disk Write\",\"Disk Write\",\"Disk Write\",\"Disk Write\",\"Disk Write\",\"Disk Write\",\"Disk Write\",\"Disk Write\",\"Disk Write\",\"Disk Write\",\"Disk Write\",\"Disk Write\",\"Disk Write\",\"Disk Write\",\"Disk Write\",\"Disk Write\",\"Disk Write\",\"Disk Write\",\"Disk Write\",\"Disk Write\",\"Disk Write\",\"Disk Write\",\"Disk Write\",\"Disk Write\",\"Disk Write\",\"Disk Write\",\"Disk Write\",\"Disk Write\",\"Disk Write\",\"Disk Write\",\"Disk Write\",\"Disk Write\",\"Disk Write\",\"Disk Write\",\"Disk Write\",\"Disk Write\",\"Disk Write\"],\"color\":[\"#FDE724\",\"#FDE724\",\"#FDE724\",\"#FDE724\",\"#FDE724\",\"#FDE724\",\"#FDE724\",\"#FDE724\",\"#FDE724\",\"#FDE724\",\"#FDE724\",\"#FDE724\",\"#FDE724\",\"#FDE724\",\"#FDE724\",\"#FDE724\",\"#FDE724\",\"#FDE724\",\"#FDE724\",\"#FDE724\",\"#FDE724\",\"#FDE724\",\"#FDE724\",\"#FDE724\",\"#FDE724\",\"#FDE724\",\"#FDE724\",\"#FDE724\",\"#FDE724\",\"#FDE724\",\"#FDE724\",\"#FDE724\",\"#FDE724\",\"#FDE724\",\"#FDE724\",\"#FDE724\",\"#FDE724\",\"#FDE724\",\"#FDE724\",\"#FDE724\",\"#FDE724\",\"#FDE724\",\"#FDE724\",\"#FDE724\",\"#FDE724\",\"#FDE724\",\"#FDE724\",\"#FDE724\",\"#FDE724\",\"#FDE724\",\"#FDE724\",\"#FDE724\",\"#FDE724\",\"#FDE724\",\"#FDE724\",\"#FDE724\",\"#FDE724\",\"#FDE724\",\"#FDE724\",\"#FDE724\",\"#FDE724\",\"#FDE724\",\"#FDE724\",\"#FDE724\",\"#FDE724\",\"#FDE724\",\"#FDE724\",\"#FDE724\",\"#FDE724\",\"#FDE724\",\"#FDE724\",\"#FDE724\"],\"index\":[72,73,74,75,76,77,78,79,80,81,82,83,84,85,86,87,88,89,90,91,92,93,94,95,96,97,98,99,100,101,102,103,104,105,106,107,108,109,110,111,112,113,114,115,116,117,118,119,120,121,122,123,124,125,126,127,128,129,130,131,132,133,134,135,136,137,138,139,140,141,142,143],\"y_index\":[1,1,1,1,1,1,1,1,1,1,1,1,1,1,1,1,1,1,1,1,1,1,1,1,1,1,1,1,1,1,1,1,1,1,1,1,1,1,1,1,1,1,1,1,1,1,1,1,1,1,1,1,1,1,1,1,1,1,1,1,1,1,1,1,1,1,1,1,1,1,1,1]},\"selected\":{\"id\":\"3523\"},\"selection_policy\":{\"id\":\"3524\"}},\"id\":\"3511\",\"type\":\"ColumnDataSource\"},{\"attributes\":{},\"id\":\"3455\",\"type\":\"DataRange1d\"},{\"attributes\":{\"line_alpha\":0.1,\"line_color\":\"#440154\",\"line_width\":2,\"x\":{\"field\":\"Time\"},\"y\":{\"field\":\"Data\"}},\"id\":\"3487\",\"type\":\"Line\"},{\"attributes\":{\"line_alpha\":0.1,\"line_color\":\"#FDE724\",\"line_width\":2,\"x\":{\"field\":\"Time\"},\"y\":{\"field\":\"Data\"}},\"id\":\"3514\",\"type\":\"Line\"},{\"attributes\":{\"dimensions\":\"width\"},\"id\":\"3469\",\"type\":\"WheelZoomTool\"},{\"attributes\":{\"days\":[1,4,7,10,13,16,19,22,25,28]},\"id\":\"3501\",\"type\":\"DaysTicker\"},{\"attributes\":{\"axis\":{\"id\":\"3465\"},\"dimension\":1,\"grid_line_alpha\":0.3,\"grid_line_color\":\"navy\",\"minor_grid_line_alpha\":0.1,\"minor_grid_line_color\":\"navy\",\"ticker\":null},\"id\":\"3468\",\"type\":\"Grid\"},{\"attributes\":{},\"id\":\"3472\",\"type\":\"SaveTool\"},{\"attributes\":{\"items\":[{\"id\":\"3510\"},{\"id\":\"3538\"}]},\"id\":\"3509\",\"type\":\"Legend\"},{\"attributes\":{\"base\":60,\"mantissas\":[1,2,5,10,15,20,30],\"max_interval\":1800000.0,\"min_interval\":1000.0,\"num_minor_ticks\":0},\"id\":\"3498\",\"type\":\"AdaptiveTicker\"},{\"attributes\":{\"data_source\":{\"id\":\"3484\"},\"glyph\":{\"id\":\"3486\"},\"hover_glyph\":null,\"muted_glyph\":null,\"nonselection_glyph\":{\"id\":\"3487\"},\"selection_glyph\":null,\"view\":{\"id\":\"3489\"}},\"id\":\"3488\",\"type\":\"GlyphRenderer\"},{\"attributes\":{\"axis_label\":\"Event Time\",\"formatter\":{\"id\":\"3482\"},\"ticker\":{\"id\":\"3462\"}},\"id\":\"3461\",\"type\":\"DatetimeAxis\"},{\"attributes\":{\"days\":[1,2,3,4,5,6,7,8,9,10,11,12,13,14,15,16,17,18,19,20,21,22,23,24,25,26,27,28,29,30,31]},\"id\":\"3500\",\"type\":\"DaysTicker\"},{\"attributes\":{\"data\":{\"Data\":{\"__ndarray__\":\"AAAAAAAAAAAAAAAAAAAAAAAAAAAAAAAAAAAAAAAAAAAAAAAAAAAAAAAAAAAAAAAAAAAAAAAAAAAAAAAAAAAAAAAAAAAAAAAAAAAAAAAAAAAAAAAAAAAAAAAAAAAAAAAAAAAAAAAAAAAAAAAAAAAAAAAAAAAAAAAAAAAAAAAAAAAAAAAAAAAAAAAAAAAAAAAAAAAAAAAAAAAAAAAAAAAAAKRw7WF8jutBexSu5cyBhEEfhcsIpkfNQY/C9WtfOcBBw/VwUFiX40HXo4CdK8nYQbgehXHqhKxBSOF6Mdx6tEHD9agN4FWpQdejcGoT2qFB9ijcRhOEoUHD9ShPF26iQXE9CuqlFqJB7FG4v0MfpkHNzMzc2KWgQWZmZpjs2KBBhetRpGqNmUFxPYpWbuynQR+Fa7pvzqVBrkfhaShHlUF7FK498v6kQXsUrqksxZJBrkdhhIRzoEFI4XqDDjaiQVyPAj6swrBB16NwNb2MaEEAAAAAAAAAAAAAAAAAAAAAAAAAAAAAAAAAAAAAAAAAAAAAAAAAAAAAAAAAAAAAAAAAAAAAAAAAAAAAAAAAAAAAAAAAAAAAAAAAAAAAAAAAAAAAAAAAAAAAAAAAAAAAAAAAAAAAAAAAAAAAAAAAAAAAAAAAAAAAAAAAAAAAAAAAAAAAAAAAAAAAAAAAAAAAAAC4HsX9aoEJQgrXk5PDtgxCPQpXNkBq60EpXK8Lt33BQWZmZpSLcZtB9ihcPQNksEEAAAAAAAAAAAAAAAAAAAAA\",\"dtype\":\"float64\",\"order\":\"little\",\"shape\":[72]},\"Time\":{\"__ndarray__\":\"AACAJ2kyd0IAAGiWbDJ3QgAAUAVwMndCAAA4dHMyd0IAACDjdjJ3QgAACFJ6MndCAADwwH0yd0IAANgvgTJ3QgAAwJ6EMndCAACoDYgyd0IAAJB8izJ3QgAAeOuOMndCAABgWpIyd0IAAEjJlTJ3QgAAMDiZMndCAAAYp5wyd0IAAAAWoDJ3QgAA6ISjMndCAADQ86Yyd0IAALhiqjJ3QgAAoNGtMndCAACIQLEyd0IAAHCvtDJ3QgAAWB64MndCAABAjbsyd0IAACj8vjJ3QgAAEGvCMndCAAD42cUyd0IAAOBIyTJ3QgAAyLfMMndCAACwJtAyd0IAAJiV0zJ3QgAAgATXMndCAABoc9oyd0IAAFDi3TJ3QgAAOFHhMndCAAAgwOQyd0IAAAgv6DJ3QgAA8J3rMndCAADYDO8yd0IAAMB78jJ3QgAAqOr1MndCAACQWfkyd0IAAHjI/DJ3QgAAYDcAM3dCAABIpgMzd0IAADAVBzN3QgAAGIQKM3dCAAAA8w0zd0IAAOhhETN3QgAA0NAUM3dCAAC4Pxgzd0IAAKCuGzN3QgAAiB0fM3dCAABwjCIzd0IAAFj7JTN3QgAAQGopM3dCAAAo2Swzd0IAABBIMDN3QgAA+LYzM3dCAADgJTczd0IAAMiUOjN3QgAAsAM+M3dCAACYckEzd0IAAIDhRDN3QgAAaFBIM3dCAABQv0szd0IAADguTzN3QgAAIJ1SM3dCAAAIDFYzd0IAAPB6WTN3QgAA2OlcM3dC\",\"dtype\":\"float64\",\"order\":\"little\",\"shape\":[72]},\"Type\":[\"Disk Read\",\"Disk Read\",\"Disk Read\",\"Disk Read\",\"Disk Read\",\"Disk Read\",\"Disk Read\",\"Disk Read\",\"Disk Read\",\"Disk Read\",\"Disk Read\",\"Disk Read\",\"Disk Read\",\"Disk Read\",\"Disk Read\",\"Disk Read\",\"Disk Read\",\"Disk Read\",\"Disk Read\",\"Disk Read\",\"Disk Read\",\"Disk Read\",\"Disk Read\",\"Disk Read\",\"Disk Read\",\"Disk Read\",\"Disk Read\",\"Disk Read\",\"Disk Read\",\"Disk Read\",\"Disk Read\",\"Disk Read\",\"Disk Read\",\"Disk Read\",\"Disk Read\",\"Disk Read\",\"Disk Read\",\"Disk Read\",\"Disk Read\",\"Disk Read\",\"Disk Read\",\"Disk Read\",\"Disk Read\",\"Disk Read\",\"Disk Read\",\"Disk Read\",\"Disk Read\",\"Disk Read\",\"Disk Read\",\"Disk Read\",\"Disk Read\",\"Disk Read\",\"Disk Read\",\"Disk Read\",\"Disk Read\",\"Disk Read\",\"Disk Read\",\"Disk Read\",\"Disk Read\",\"Disk Read\",\"Disk Read\",\"Disk Read\",\"Disk Read\",\"Disk Read\",\"Disk Read\",\"Disk Read\",\"Disk Read\",\"Disk Read\",\"Disk Read\",\"Disk Read\",\"Disk Read\",\"Disk Read\"],\"color\":[\"#440154\",\"#440154\",\"#440154\",\"#440154\",\"#440154\",\"#440154\",\"#440154\",\"#440154\",\"#440154\",\"#440154\",\"#440154\",\"#440154\",\"#440154\",\"#440154\",\"#440154\",\"#440154\",\"#440154\",\"#440154\",\"#440154\",\"#440154\",\"#440154\",\"#440154\",\"#440154\",\"#440154\",\"#440154\",\"#440154\",\"#440154\",\"#440154\",\"#440154\",\"#440154\",\"#440154\",\"#440154\",\"#440154\",\"#440154\",\"#440154\",\"#440154\",\"#440154\",\"#440154\",\"#440154\",\"#440154\",\"#440154\",\"#440154\",\"#440154\",\"#440154\",\"#440154\",\"#440154\",\"#440154\",\"#440154\",\"#440154\",\"#440154\",\"#440154\",\"#440154\",\"#440154\",\"#440154\",\"#440154\",\"#440154\",\"#440154\",\"#440154\",\"#440154\",\"#440154\",\"#440154\",\"#440154\",\"#440154\",\"#440154\",\"#440154\",\"#440154\",\"#440154\",\"#440154\",\"#440154\",\"#440154\",\"#440154\",\"#440154\"],\"index\":[0,1,2,3,4,5,6,7,8,9,10,11,12,13,14,15,16,17,18,19,20,21,22,23,24,25,26,27,28,29,30,31,32,33,34,35,36,37,38,39,40,41,42,43,44,45,46,47,48,49,50,51,52,53,54,55,56,57,58,59,60,61,62,63,64,65,66,67,68,69,70,71],\"y_index\":[0,0,0,0,0,0,0,0,0,0,0,0,0,0,0,0,0,0,0,0,0,0,0,0,0,0,0,0,0,0,0,0,0,0,0,0,0,0,0,0,0,0,0,0,0,0,0,0,0,0,0,0,0,0,0,0,0,0,0,0,0,0,0,0,0,0,0,0,0,0,0,0]},\"selected\":{\"id\":\"3494\"},\"selection_policy\":{\"id\":\"3495\"}},\"id\":\"3484\",\"type\":\"ColumnDataSource\"},{\"attributes\":{\"end\":1594361160000.0,\"start\":1594054440000.0},\"id\":\"3453\",\"type\":\"Range1d\"},{\"attributes\":{\"data_source\":{\"id\":\"3511\"},\"glyph\":{\"id\":\"3513\"},\"hover_glyph\":null,\"muted_glyph\":null,\"nonselection_glyph\":{\"id\":\"3514\"},\"selection_glyph\":null,\"view\":{\"id\":\"3516\"}},\"id\":\"3515\",\"type\":\"GlyphRenderer\"},{\"attributes\":{},\"id\":\"3491\",\"type\":\"BasicTickFormatter\"},{\"attributes\":{\"axis\":{\"id\":\"3461\"},\"grid_line_alpha\":0.3,\"grid_line_color\":\"navy\",\"minor_grid_line_alpha\":0.1,\"minor_grid_line_color\":\"navy\",\"ticker\":null},\"id\":\"3464\",\"type\":\"Grid\"},{\"attributes\":{\"bottom_units\":\"screen\",\"fill_alpha\":0.5,\"fill_color\":\"lightgrey\",\"left_units\":\"screen\",\"level\":\"overlay\",\"line_alpha\":1.0,\"line_color\":\"black\",\"line_dash\":[4,4],\"line_width\":2,\"right_units\":\"screen\",\"top_units\":\"screen\"},\"id\":\"3474\",\"type\":\"BoxAnnotation\"}],\"root_ids\":[\"3450\"]},\"title\":\"Bokeh Application\",\"version\":\"2.1.1\"}};\n",
       "  var render_items = [{\"docid\":\"6e1602b6-efc7-4c3b-98f6-58415bb5cf2a\",\"root_ids\":[\"3450\"],\"roots\":{\"3450\":\"d4adf792-e5c1-4394-8a2e-cef17e25d552\"}}];\n",
       "  root.Bokeh.embed.embed_items_notebook(docs_json, render_items);\n",
       "\n",
       "  }\n",
       "  if (root.Bokeh !== undefined) {\n",
       "    embed_document(root);\n",
       "  } else {\n",
       "    var attempts = 0;\n",
       "    var timer = setInterval(function(root) {\n",
       "      if (root.Bokeh !== undefined) {\n",
       "        clearInterval(timer);\n",
       "        embed_document(root);\n",
       "      } else {\n",
       "        attempts++;\n",
       "        if (attempts > 100) {\n",
       "          clearInterval(timer);\n",
       "          console.log(\"Bokeh: ERROR: Unable to run BokehJS code because BokehJS library is missing\");\n",
       "        }\n",
       "      }\n",
       "    }, 10, root)\n",
       "  }\n",
       "})(window);"
      ],
      "application/vnd.bokehjs_exec.v0+json": ""
     },
     "metadata": {
      "application/vnd.bokehjs_exec.v0+json": {
       "id": "3450"
      }
     },
     "output_type": "display_data"
    },
    {
     "data": {
      "text/html": [
       "<div style=\"display: table;\"><div style=\"display: table-row;\"><div style=\"display: table-cell;\"><b title=\"bokeh.plotting.figure.Figure\">Figure</b>(</div><div style=\"display: table-cell;\">id&nbsp;=&nbsp;'3450', <span id=\"3687\" style=\"cursor: pointer;\">&hellip;)</span></div></div><div class=\"3686\" style=\"display: none;\"><div style=\"display: table-cell;\"></div><div style=\"display: table-cell;\">above&nbsp;=&nbsp;[],</div></div><div class=\"3686\" style=\"display: none;\"><div style=\"display: table-cell;\"></div><div style=\"display: table-cell;\">align&nbsp;=&nbsp;'start',</div></div><div class=\"3686\" style=\"display: none;\"><div style=\"display: table-cell;\"></div><div style=\"display: table-cell;\">aspect_ratio&nbsp;=&nbsp;None,</div></div><div class=\"3686\" style=\"display: none;\"><div style=\"display: table-cell;\"></div><div style=\"display: table-cell;\">aspect_scale&nbsp;=&nbsp;1,</div></div><div class=\"3686\" style=\"display: none;\"><div style=\"display: table-cell;\"></div><div style=\"display: table-cell;\">background&nbsp;=&nbsp;None,</div></div><div class=\"3686\" style=\"display: none;\"><div style=\"display: table-cell;\"></div><div style=\"display: table-cell;\">background_fill_alpha&nbsp;=&nbsp;1.0,</div></div><div class=\"3686\" style=\"display: none;\"><div style=\"display: table-cell;\"></div><div style=\"display: table-cell;\">background_fill_color&nbsp;=&nbsp;'#ffffff',</div></div><div class=\"3686\" style=\"display: none;\"><div style=\"display: table-cell;\"></div><div style=\"display: table-cell;\">below&nbsp;=&nbsp;[DatetimeAxis(id='3461', ...)],</div></div><div class=\"3686\" style=\"display: none;\"><div style=\"display: table-cell;\"></div><div style=\"display: table-cell;\">border_fill_alpha&nbsp;=&nbsp;1.0,</div></div><div class=\"3686\" style=\"display: none;\"><div style=\"display: table-cell;\"></div><div style=\"display: table-cell;\">border_fill_color&nbsp;=&nbsp;'#ffffff',</div></div><div class=\"3686\" style=\"display: none;\"><div style=\"display: table-cell;\"></div><div style=\"display: table-cell;\">center&nbsp;=&nbsp;[Grid(id='3464', ...), Grid(id='3468', ...), Legend(id='3509', ...)],</div></div><div class=\"3686\" style=\"display: none;\"><div style=\"display: table-cell;\"></div><div style=\"display: table-cell;\">css_classes&nbsp;=&nbsp;[],</div></div><div class=\"3686\" style=\"display: none;\"><div style=\"display: table-cell;\"></div><div style=\"display: table-cell;\">disabled&nbsp;=&nbsp;False,</div></div><div class=\"3686\" style=\"display: none;\"><div style=\"display: table-cell;\"></div><div style=\"display: table-cell;\">extra_x_ranges&nbsp;=&nbsp;{},</div></div><div class=\"3686\" style=\"display: none;\"><div style=\"display: table-cell;\"></div><div style=\"display: table-cell;\">extra_y_ranges&nbsp;=&nbsp;{},</div></div><div class=\"3686\" style=\"display: none;\"><div style=\"display: table-cell;\"></div><div style=\"display: table-cell;\">frame_height&nbsp;=&nbsp;None,</div></div><div class=\"3686\" style=\"display: none;\"><div style=\"display: table-cell;\"></div><div style=\"display: table-cell;\">frame_width&nbsp;=&nbsp;None,</div></div><div class=\"3686\" style=\"display: none;\"><div style=\"display: table-cell;\"></div><div style=\"display: table-cell;\">height&nbsp;=&nbsp;None,</div></div><div class=\"3686\" style=\"display: none;\"><div style=\"display: table-cell;\"></div><div style=\"display: table-cell;\">height_policy&nbsp;=&nbsp;'auto',</div></div><div class=\"3686\" style=\"display: none;\"><div style=\"display: table-cell;\"></div><div style=\"display: table-cell;\">hidpi&nbsp;=&nbsp;True,</div></div><div class=\"3686\" style=\"display: none;\"><div style=\"display: table-cell;\"></div><div style=\"display: table-cell;\">js_event_callbacks&nbsp;=&nbsp;{},</div></div><div class=\"3686\" style=\"display: none;\"><div style=\"display: table-cell;\"></div><div style=\"display: table-cell;\">js_property_callbacks&nbsp;=&nbsp;{},</div></div><div class=\"3686\" style=\"display: none;\"><div style=\"display: table-cell;\"></div><div style=\"display: table-cell;\">left&nbsp;=&nbsp;[LinearAxis(id='3465', ...)],</div></div><div class=\"3686\" style=\"display: none;\"><div style=\"display: table-cell;\"></div><div style=\"display: table-cell;\">lod_factor&nbsp;=&nbsp;10,</div></div><div class=\"3686\" style=\"display: none;\"><div style=\"display: table-cell;\"></div><div style=\"display: table-cell;\">lod_interval&nbsp;=&nbsp;300,</div></div><div class=\"3686\" style=\"display: none;\"><div style=\"display: table-cell;\"></div><div style=\"display: table-cell;\">lod_threshold&nbsp;=&nbsp;2000,</div></div><div class=\"3686\" style=\"display: none;\"><div style=\"display: table-cell;\"></div><div style=\"display: table-cell;\">lod_timeout&nbsp;=&nbsp;500,</div></div><div class=\"3686\" style=\"display: none;\"><div style=\"display: table-cell;\"></div><div style=\"display: table-cell;\">margin&nbsp;=&nbsp;(0, 0, 0, 0),</div></div><div class=\"3686\" style=\"display: none;\"><div style=\"display: table-cell;\"></div><div style=\"display: table-cell;\">match_aspect&nbsp;=&nbsp;False,</div></div><div class=\"3686\" style=\"display: none;\"><div style=\"display: table-cell;\"></div><div style=\"display: table-cell;\">max_height&nbsp;=&nbsp;None,</div></div><div class=\"3686\" style=\"display: none;\"><div style=\"display: table-cell;\"></div><div style=\"display: table-cell;\">max_width&nbsp;=&nbsp;None,</div></div><div class=\"3686\" style=\"display: none;\"><div style=\"display: table-cell;\"></div><div style=\"display: table-cell;\">min_border&nbsp;=&nbsp;5,</div></div><div class=\"3686\" style=\"display: none;\"><div style=\"display: table-cell;\"></div><div style=\"display: table-cell;\">min_border_bottom&nbsp;=&nbsp;None,</div></div><div class=\"3686\" style=\"display: none;\"><div style=\"display: table-cell;\"></div><div style=\"display: table-cell;\">min_border_left&nbsp;=&nbsp;50,</div></div><div class=\"3686\" style=\"display: none;\"><div style=\"display: table-cell;\"></div><div style=\"display: table-cell;\">min_border_right&nbsp;=&nbsp;None,</div></div><div class=\"3686\" style=\"display: none;\"><div style=\"display: table-cell;\"></div><div style=\"display: table-cell;\">min_border_top&nbsp;=&nbsp;None,</div></div><div class=\"3686\" style=\"display: none;\"><div style=\"display: table-cell;\"></div><div style=\"display: table-cell;\">min_height&nbsp;=&nbsp;None,</div></div><div class=\"3686\" style=\"display: none;\"><div style=\"display: table-cell;\"></div><div style=\"display: table-cell;\">min_width&nbsp;=&nbsp;None,</div></div><div class=\"3686\" style=\"display: none;\"><div style=\"display: table-cell;\"></div><div style=\"display: table-cell;\">name&nbsp;=&nbsp;None,</div></div><div class=\"3686\" style=\"display: none;\"><div style=\"display: table-cell;\"></div><div style=\"display: table-cell;\">outline_line_alpha&nbsp;=&nbsp;1.0,</div></div><div class=\"3686\" style=\"display: none;\"><div style=\"display: table-cell;\"></div><div style=\"display: table-cell;\">outline_line_cap&nbsp;=&nbsp;'butt',</div></div><div class=\"3686\" style=\"display: none;\"><div style=\"display: table-cell;\"></div><div style=\"display: table-cell;\">outline_line_color&nbsp;=&nbsp;'#e5e5e5',</div></div><div class=\"3686\" style=\"display: none;\"><div style=\"display: table-cell;\"></div><div style=\"display: table-cell;\">outline_line_dash&nbsp;=&nbsp;[],</div></div><div class=\"3686\" style=\"display: none;\"><div style=\"display: table-cell;\"></div><div style=\"display: table-cell;\">outline_line_dash_offset&nbsp;=&nbsp;0,</div></div><div class=\"3686\" style=\"display: none;\"><div style=\"display: table-cell;\"></div><div style=\"display: table-cell;\">outline_line_join&nbsp;=&nbsp;'bevel',</div></div><div class=\"3686\" style=\"display: none;\"><div style=\"display: table-cell;\"></div><div style=\"display: table-cell;\">outline_line_width&nbsp;=&nbsp;1,</div></div><div class=\"3686\" style=\"display: none;\"><div style=\"display: table-cell;\"></div><div style=\"display: table-cell;\">output_backend&nbsp;=&nbsp;'canvas',</div></div><div class=\"3686\" style=\"display: none;\"><div style=\"display: table-cell;\"></div><div style=\"display: table-cell;\">plot_height&nbsp;=&nbsp;400,</div></div><div class=\"3686\" style=\"display: none;\"><div style=\"display: table-cell;\"></div><div style=\"display: table-cell;\">plot_width&nbsp;=&nbsp;900,</div></div><div class=\"3686\" style=\"display: none;\"><div style=\"display: table-cell;\"></div><div style=\"display: table-cell;\">renderers&nbsp;=&nbsp;[GlyphRenderer(id='3488', ...), GlyphRenderer(id='3515', ...)],</div></div><div class=\"3686\" style=\"display: none;\"><div style=\"display: table-cell;\"></div><div style=\"display: table-cell;\">reset_policy&nbsp;=&nbsp;'standard',</div></div><div class=\"3686\" style=\"display: none;\"><div style=\"display: table-cell;\"></div><div style=\"display: table-cell;\">right&nbsp;=&nbsp;[],</div></div><div class=\"3686\" style=\"display: none;\"><div style=\"display: table-cell;\"></div><div style=\"display: table-cell;\">sizing_mode&nbsp;=&nbsp;None,</div></div><div class=\"3686\" style=\"display: none;\"><div style=\"display: table-cell;\"></div><div style=\"display: table-cell;\">subscribed_events&nbsp;=&nbsp;[],</div></div><div class=\"3686\" style=\"display: none;\"><div style=\"display: table-cell;\"></div><div style=\"display: table-cell;\">tags&nbsp;=&nbsp;[],</div></div><div class=\"3686\" style=\"display: none;\"><div style=\"display: table-cell;\"></div><div style=\"display: table-cell;\">title&nbsp;=&nbsp;Title(id='3451', ...),</div></div><div class=\"3686\" style=\"display: none;\"><div style=\"display: table-cell;\"></div><div style=\"display: table-cell;\">title_location&nbsp;=&nbsp;'above',</div></div><div class=\"3686\" style=\"display: none;\"><div style=\"display: table-cell;\"></div><div style=\"display: table-cell;\">toolbar&nbsp;=&nbsp;Toolbar(id='3475', ...),</div></div><div class=\"3686\" style=\"display: none;\"><div style=\"display: table-cell;\"></div><div style=\"display: table-cell;\">toolbar_location&nbsp;=&nbsp;'above',</div></div><div class=\"3686\" style=\"display: none;\"><div style=\"display: table-cell;\"></div><div style=\"display: table-cell;\">toolbar_sticky&nbsp;=&nbsp;True,</div></div><div class=\"3686\" style=\"display: none;\"><div style=\"display: table-cell;\"></div><div style=\"display: table-cell;\">visible&nbsp;=&nbsp;True,</div></div><div class=\"3686\" style=\"display: none;\"><div style=\"display: table-cell;\"></div><div style=\"display: table-cell;\">width&nbsp;=&nbsp;None,</div></div><div class=\"3686\" style=\"display: none;\"><div style=\"display: table-cell;\"></div><div style=\"display: table-cell;\">width_policy&nbsp;=&nbsp;'auto',</div></div><div class=\"3686\" style=\"display: none;\"><div style=\"display: table-cell;\"></div><div style=\"display: table-cell;\">x_range&nbsp;=&nbsp;Range1d(id='3453', ...),</div></div><div class=\"3686\" style=\"display: none;\"><div style=\"display: table-cell;\"></div><div style=\"display: table-cell;\">x_scale&nbsp;=&nbsp;LinearScale(id='3457', ...),</div></div><div class=\"3686\" style=\"display: none;\"><div style=\"display: table-cell;\"></div><div style=\"display: table-cell;\">y_range&nbsp;=&nbsp;DataRange1d(id='3455', ...),</div></div><div class=\"3686\" style=\"display: none;\"><div style=\"display: table-cell;\"></div><div style=\"display: table-cell;\">y_scale&nbsp;=&nbsp;LinearScale(id='3459', ...))</div></div></div>\n",
       "<script>\n",
       "(function() {\n",
       "  var expanded = false;\n",
       "  var ellipsis = document.getElementById(\"3687\");\n",
       "  ellipsis.addEventListener(\"click\", function() {\n",
       "    var rows = document.getElementsByClassName(\"3686\");\n",
       "    for (var i = 0; i < rows.length; i++) {\n",
       "      var el = rows[i];\n",
       "      el.style.display = expanded ? \"none\" : \"table-row\";\n",
       "    }\n",
       "    ellipsis.innerHTML = expanded ? \"&hellip;)\" : \"&lsaquo;&lsaquo;&lsaquo;\";\n",
       "    expanded = !expanded;\n",
       "  });\n",
       "})();\n",
       "</script>\n"
      ],
      "text/plain": [
       "Figure(id='3450', ...)"
      ]
     },
     "execution_count": 31,
     "metadata": {},
     "output_type": "execute_result"
    }
   ],
   "source": [
    "# Get metrics from the Azure virtual machine.\n",
    "mets = az.get_metrics(metrics=\"Percentage CPU,Disk Read Bytes,Disk Write Bytes\", resource_id=res_id, sub_id=sub_id, sample_time=\"hour\", start_time=3)\n",
    "\n",
    "disk_read_data = mets['Disk Read Bytes']\n",
    "disk_read_data['Type'] = 'Disk Read'\n",
    "disk_write_data = mets['Disk Write Bytes']\n",
    "disk_write_data['Type'] = \"Disk Write\"\n",
    "disk_data = pd.concat([disk_read_data, disk_write_data])\n",
    "\n",
    "# Visualize those metrics\n",
    "nbdisplay.display_timeline_values(data=mets['Percentage CPU'], title=\"Host CPU Usage\", time_column = 'Time', y='Data', height=400, source_columns=['Time', 'Data'], kind='line', range_tool=False)\n",
    "nbdisplay.display_timeline_values(data=disk_data, title=\"Host Disk Usage\", time_column = 'Time', y='Data', height=400, source_columns=['Time', 'Data'], kind='line', group_by='Type', range_tool=False)"
   ]
  },
  {
   "cell_type": "markdown",
   "metadata": {},
   "source": [
    "### Host Alerts\n",
    "One thing we want to investigate in more detail is any security alerts associated with the host. Security Alerts contain complex, detailed data that is hard to read in a regular Pandas DataFrame. To make it easier, MSTICpy provides an interactive widget to allow you to pick alerts from a list and see the details in an expanded output format.\n",
    "\n",
    "\n",
    "> Note: Previously we were getting data from a query provider we provided the query as a string. Part of the MSTICpy dataprovider functionality is to be able to create and store parameterized queries (in YAML files). MSTICpy comes with a set of [pre-built queries](https://msticpy.readthedocs.io/en/latest/data_acquisition/DataQueries.html) for many common scenarios. Below we use one fo these to get a list of alerts related to the host we are investigating.\n"
   ]
  },
  {
   "cell_type": "code",
   "execution_count": 23,
   "metadata": {},
   "outputs": [
    {
     "data": {
      "application/javascript": [
       "try {IPython.notebook.kernel.execute(\"NOTEBOOK_URL = '\" + window.location + \"'\");} catch(err) {;}"
      ],
      "text/plain": [
       "<IPython.core.display.Javascript object>"
      ]
     },
     "metadata": {},
     "output_type": "display_data"
    },
    {
     "data": {
      "text/html": [
       "<div>\n",
       "<style scoped>\n",
       "    .dataframe tbody tr th:only-of-type {\n",
       "        vertical-align: middle;\n",
       "    }\n",
       "\n",
       "    .dataframe tbody tr th {\n",
       "        vertical-align: top;\n",
       "    }\n",
       "\n",
       "    .dataframe thead th {\n",
       "        text-align: right;\n",
       "    }\n",
       "</style>\n",
       "<table border=\"1\" class=\"dataframe\">\n",
       "  <thead>\n",
       "    <tr style=\"text-align: right;\">\n",
       "      <th></th>\n",
       "      <th>TenantId</th>\n",
       "      <th>TimeGenerated</th>\n",
       "      <th>AlertDisplayName</th>\n",
       "      <th>AlertName</th>\n",
       "      <th>Severity</th>\n",
       "      <th>Description</th>\n",
       "      <th>ProviderName</th>\n",
       "      <th>VendorName</th>\n",
       "      <th>VendorOriginalId</th>\n",
       "      <th>SystemAlertId</th>\n",
       "      <th>ResourceId</th>\n",
       "      <th>SourceComputerId</th>\n",
       "      <th>AlertType</th>\n",
       "      <th>ConfidenceLevel</th>\n",
       "      <th>ConfidenceScore</th>\n",
       "      <th>IsIncident</th>\n",
       "      <th>StartTimeUtc</th>\n",
       "      <th>EndTimeUtc</th>\n",
       "      <th>ProcessingEndTime</th>\n",
       "      <th>RemediationSteps</th>\n",
       "      <th>ExtendedProperties</th>\n",
       "      <th>Entities</th>\n",
       "      <th>SourceSystem</th>\n",
       "      <th>WorkspaceSubscriptionId</th>\n",
       "      <th>WorkspaceResourceGroup</th>\n",
       "      <th>ExtendedLinks</th>\n",
       "      <th>ProductName</th>\n",
       "      <th>ProductComponentName</th>\n",
       "      <th>AlertLink</th>\n",
       "      <th>Type</th>\n",
       "      <th>Computer</th>\n",
       "      <th>src_hostname</th>\n",
       "      <th>src_accountname</th>\n",
       "      <th>src_procname</th>\n",
       "      <th>host_match</th>\n",
       "      <th>acct_match</th>\n",
       "      <th>proc_match</th>\n",
       "    </tr>\n",
       "  </thead>\n",
       "  <tbody>\n",
       "    <tr>\n",
       "      <th>0</th>\n",
       "      <td>52b1ab41-869e-4138-9e40-2a4457f09bf0</td>\n",
       "      <td>2020-07-10 19:09:23+00:00</td>\n",
       "      <td>Suspicious Activity Detected</td>\n",
       "      <td>Suspicious Activity Detected</td>\n",
       "      <td>Medium</td>\n",
       "      <td>Analysis of host data has detected a sequence of one or more processes running on BlackHatDemoHo...</td>\n",
       "      <td>Detection-WarmPathV2</td>\n",
       "      <td>Microsoft</td>\n",
       "      <td>e3549ae5-3e95-4be7-8ba8-9e1b9d97e926</td>\n",
       "      <td>2518078950729219999_e3549ae5-3e95-4be7-8ba8-9e1b9d97e926</td>\n",
       "      <td>/subscriptions/40dcc8bf-0478-4f3b-b275-ed0a94f2c013/resourceGroups/BlackHatDemo/providers/Micros...</td>\n",
       "      <td>73a015ec-e2b6-4bf7-b353-ebeafb54254e</td>\n",
       "      <td>VM_SuspiciousActivity</td>\n",
       "      <td>Unknown</td>\n",
       "      <td>0.0</td>\n",
       "      <td>False</td>\n",
       "      <td>2020-07-10 18:28:47+00:00</td>\n",
       "      <td>2020-07-10 18:37:39+00:00</td>\n",
       "      <td>2020-07-10 19:09:54+00:00</td>\n",
       "      <td>[\\r\\n  \"Review each of the individual line items in this alert to see if you recognize them as l...</td>\n",
       "      <td>{\\r\\n  \"Machine Name\": \"BlackHatDemoHos\",\\r\\n  \"Command List\": \"FTP session was established.\\nNe...</td>\n",
       "      <td>[\\r\\n  {\\r\\n    \"$id\": \"4\",\\r\\n    \"HostName\": \"BlackHatDemoHos\",\\r\\n    \"AzureID\": \"/subscripti...</td>\n",
       "      <td>Detection</td>\n",
       "      <td>40dcc8bf-0478-4f3b-b275-ed0a94f2c013</td>\n",
       "      <td>asihuntomsworkspacerg</td>\n",
       "      <td></td>\n",
       "      <td>Azure Security Center</td>\n",
       "      <td></td>\n",
       "      <td>https://portal.azure.com/#blade/Microsoft_Azure_Security/AlertBlade/alertId/2518078950729219999_...</td>\n",
       "      <td>SecurityAlert</td>\n",
       "      <td>BlackHatDemoHos</td>\n",
       "      <td>BlackHatDemoHos</td>\n",
       "      <td></td>\n",
       "      <td></td>\n",
       "      <td>True</td>\n",
       "      <td>False</td>\n",
       "      <td>False</td>\n",
       "    </tr>\n",
       "    <tr>\n",
       "      <th>1</th>\n",
       "      <td>52b1ab41-869e-4138-9e40-2a4457f09bf0</td>\n",
       "      <td>2020-07-10 19:09:23+00:00</td>\n",
       "      <td>Suspicious Activity Detected</td>\n",
       "      <td>Suspicious Activity Detected</td>\n",
       "      <td>Medium</td>\n",
       "      <td>Analysis of host data has detected a sequence of one or more processes running on BlackHatDemoHo...</td>\n",
       "      <td>Detection-WarmPathV2</td>\n",
       "      <td>Microsoft</td>\n",
       "      <td>e3549ae5-3e95-4be7-8ba8-9e1b9d97e926</td>\n",
       "      <td>95ba8569-5df3-351e-b082-ce9666943e0b</td>\n",
       "      <td>/subscriptions/40dcc8bf-0478-4f3b-b275-ed0a94f2c013/resourceGroups/BlackHatDemo/providers/Micros...</td>\n",
       "      <td>73a015ec-e2b6-4bf7-b353-ebeafb54254e</td>\n",
       "      <td>VM_SuspiciousActivity</td>\n",
       "      <td>Unknown</td>\n",
       "      <td>0.0</td>\n",
       "      <td>False</td>\n",
       "      <td>2020-07-10 18:28:47+00:00</td>\n",
       "      <td>2020-07-10 18:37:39+00:00</td>\n",
       "      <td>2020-07-10 19:09:54+00:00</td>\n",
       "      <td>[\\r\\n  \"Review each of the individual line items in this alert to see if you recognize them as l...</td>\n",
       "      <td>{\\r\\n  \"Machine Name\": \"BlackHatDemoHos\",\\r\\n  \"Command List\": \"FTP session was established.\\nNe...</td>\n",
       "      <td>[\\r\\n  {\\r\\n    \"$id\": \"4\",\\r\\n    \"HostName\": \"BlackHatDemoHos\",\\r\\n    \"AzureID\": \"/subscripti...</td>\n",
       "      <td>Detection</td>\n",
       "      <td>40dcc8bf-0478-4f3b-b275-ed0a94f2c013</td>\n",
       "      <td>asihuntomsworkspacerg</td>\n",
       "      <td></td>\n",
       "      <td>Azure Security Center</td>\n",
       "      <td></td>\n",
       "      <td>https://portal.azure.com/#blade/Microsoft_Azure_Security/AlertBlade/alertId/2518078950729219999_...</td>\n",
       "      <td>SecurityAlert</td>\n",
       "      <td>BlackHatDemoHos</td>\n",
       "      <td>BlackHatDemoHos</td>\n",
       "      <td></td>\n",
       "      <td></td>\n",
       "      <td>True</td>\n",
       "      <td>False</td>\n",
       "      <td>False</td>\n",
       "    </tr>\n",
       "    <tr>\n",
       "      <th>2</th>\n",
       "      <td>52b1ab41-869e-4138-9e40-2a4457f09bf0</td>\n",
       "      <td>2020-07-10 18:41:18+00:00</td>\n",
       "      <td>RDP Brute Force</td>\n",
       "      <td>RDP Brute Force</td>\n",
       "      <td>Medium</td>\n",
       "      <td></td>\n",
       "      <td>ASI Scheduled Alerts</td>\n",
       "      <td>Microsoft</td>\n",
       "      <td>52c2edec-dc25-445e-b81a-b54bf44570a3</td>\n",
       "      <td>cf949989-cf21-7ae1-5c02-56122b111f43</td>\n",
       "      <td></td>\n",
       "      <td></td>\n",
       "      <td>52b1ab41-869e-4138-9e40-2a4457f09bf0_765132a3-cf2f-40cf-b45c-cd6be9b942b7</td>\n",
       "      <td>Unknown</td>\n",
       "      <td>NaN</td>\n",
       "      <td>False</td>\n",
       "      <td>2020-07-10 18:27:28+00:00</td>\n",
       "      <td>2020-07-10 18:27:39+00:00</td>\n",
       "      <td>2020-07-10 18:41:18+00:00</td>\n",
       "      <td></td>\n",
       "      <td>{\\r\\n  \"Query\": \"let bruteforce_hosts = (\\r\\nSecurityEvent\\r\\n| where Computer contains \\\"blackh...</td>\n",
       "      <td>[\\r\\n  {\\r\\n    \"$id\": \"3\",\\r\\n    \"Address\": \"174.127.235.80\",\\r\\n    \"Type\": \"ip\"\\r\\n  },\\r\\n ...</td>\n",
       "      <td>Detection</td>\n",
       "      <td>40dcc8bf-0478-4f3b-b275-ed0a94f2c013</td>\n",
       "      <td>asihuntomsworkspacerg</td>\n",
       "      <td></td>\n",
       "      <td>Azure Sentinel</td>\n",
       "      <td>Scheduled Alerts</td>\n",
       "      <td></td>\n",
       "      <td>SecurityAlert</td>\n",
       "      <td>BlackHatDemoHos</td>\n",
       "      <td>BlackHatDemoHos</td>\n",
       "      <td></td>\n",
       "      <td></td>\n",
       "      <td>True</td>\n",
       "      <td>False</td>\n",
       "      <td>False</td>\n",
       "    </tr>\n",
       "  </tbody>\n",
       "</table>\n",
       "</div>"
      ],
      "text/plain": [
       "                               TenantId             TimeGenerated  \\\n",
       "0  52b1ab41-869e-4138-9e40-2a4457f09bf0 2020-07-10 19:09:23+00:00   \n",
       "1  52b1ab41-869e-4138-9e40-2a4457f09bf0 2020-07-10 19:09:23+00:00   \n",
       "2  52b1ab41-869e-4138-9e40-2a4457f09bf0 2020-07-10 18:41:18+00:00   \n",
       "\n",
       "               AlertDisplayName                     AlertName Severity  \\\n",
       "0  Suspicious Activity Detected  Suspicious Activity Detected   Medium   \n",
       "1  Suspicious Activity Detected  Suspicious Activity Detected   Medium   \n",
       "2               RDP Brute Force               RDP Brute Force   Medium   \n",
       "\n",
       "                                                                                           Description  \\\n",
       "0  Analysis of host data has detected a sequence of one or more processes running on BlackHatDemoHo...   \n",
       "1  Analysis of host data has detected a sequence of one or more processes running on BlackHatDemoHo...   \n",
       "2                                                                                                        \n",
       "\n",
       "           ProviderName VendorName                      VendorOriginalId  \\\n",
       "0  Detection-WarmPathV2  Microsoft  e3549ae5-3e95-4be7-8ba8-9e1b9d97e926   \n",
       "1  Detection-WarmPathV2  Microsoft  e3549ae5-3e95-4be7-8ba8-9e1b9d97e926   \n",
       "2  ASI Scheduled Alerts  Microsoft  52c2edec-dc25-445e-b81a-b54bf44570a3   \n",
       "\n",
       "                                              SystemAlertId  \\\n",
       "0  2518078950729219999_e3549ae5-3e95-4be7-8ba8-9e1b9d97e926   \n",
       "1                      95ba8569-5df3-351e-b082-ce9666943e0b   \n",
       "2                      cf949989-cf21-7ae1-5c02-56122b111f43   \n",
       "\n",
       "                                                                                            ResourceId  \\\n",
       "0  /subscriptions/40dcc8bf-0478-4f3b-b275-ed0a94f2c013/resourceGroups/BlackHatDemo/providers/Micros...   \n",
       "1  /subscriptions/40dcc8bf-0478-4f3b-b275-ed0a94f2c013/resourceGroups/BlackHatDemo/providers/Micros...   \n",
       "2                                                                                                        \n",
       "\n",
       "                       SourceComputerId  \\\n",
       "0  73a015ec-e2b6-4bf7-b353-ebeafb54254e   \n",
       "1  73a015ec-e2b6-4bf7-b353-ebeafb54254e   \n",
       "2                                         \n",
       "\n",
       "                                                                   AlertType  \\\n",
       "0                                                      VM_SuspiciousActivity   \n",
       "1                                                      VM_SuspiciousActivity   \n",
       "2  52b1ab41-869e-4138-9e40-2a4457f09bf0_765132a3-cf2f-40cf-b45c-cd6be9b942b7   \n",
       "\n",
       "  ConfidenceLevel  ConfidenceScore  IsIncident              StartTimeUtc  \\\n",
       "0         Unknown              0.0       False 2020-07-10 18:28:47+00:00   \n",
       "1         Unknown              0.0       False 2020-07-10 18:28:47+00:00   \n",
       "2         Unknown              NaN       False 2020-07-10 18:27:28+00:00   \n",
       "\n",
       "                 EndTimeUtc         ProcessingEndTime  \\\n",
       "0 2020-07-10 18:37:39+00:00 2020-07-10 19:09:54+00:00   \n",
       "1 2020-07-10 18:37:39+00:00 2020-07-10 19:09:54+00:00   \n",
       "2 2020-07-10 18:27:39+00:00 2020-07-10 18:41:18+00:00   \n",
       "\n",
       "                                                                                      RemediationSteps  \\\n",
       "0  [\\r\\n  \"Review each of the individual line items in this alert to see if you recognize them as l...   \n",
       "1  [\\r\\n  \"Review each of the individual line items in this alert to see if you recognize them as l...   \n",
       "2                                                                                                        \n",
       "\n",
       "                                                                                    ExtendedProperties  \\\n",
       "0  {\\r\\n  \"Machine Name\": \"BlackHatDemoHos\",\\r\\n  \"Command List\": \"FTP session was established.\\nNe...   \n",
       "1  {\\r\\n  \"Machine Name\": \"BlackHatDemoHos\",\\r\\n  \"Command List\": \"FTP session was established.\\nNe...   \n",
       "2  {\\r\\n  \"Query\": \"let bruteforce_hosts = (\\r\\nSecurityEvent\\r\\n| where Computer contains \\\"blackh...   \n",
       "\n",
       "                                                                                              Entities  \\\n",
       "0  [\\r\\n  {\\r\\n    \"$id\": \"4\",\\r\\n    \"HostName\": \"BlackHatDemoHos\",\\r\\n    \"AzureID\": \"/subscripti...   \n",
       "1  [\\r\\n  {\\r\\n    \"$id\": \"4\",\\r\\n    \"HostName\": \"BlackHatDemoHos\",\\r\\n    \"AzureID\": \"/subscripti...   \n",
       "2  [\\r\\n  {\\r\\n    \"$id\": \"3\",\\r\\n    \"Address\": \"174.127.235.80\",\\r\\n    \"Type\": \"ip\"\\r\\n  },\\r\\n ...   \n",
       "\n",
       "  SourceSystem               WorkspaceSubscriptionId WorkspaceResourceGroup  \\\n",
       "0    Detection  40dcc8bf-0478-4f3b-b275-ed0a94f2c013  asihuntomsworkspacerg   \n",
       "1    Detection  40dcc8bf-0478-4f3b-b275-ed0a94f2c013  asihuntomsworkspacerg   \n",
       "2    Detection  40dcc8bf-0478-4f3b-b275-ed0a94f2c013  asihuntomsworkspacerg   \n",
       "\n",
       "  ExtendedLinks            ProductName ProductComponentName  \\\n",
       "0                Azure Security Center                        \n",
       "1                Azure Security Center                        \n",
       "2                       Azure Sentinel     Scheduled Alerts   \n",
       "\n",
       "                                                                                             AlertLink  \\\n",
       "0  https://portal.azure.com/#blade/Microsoft_Azure_Security/AlertBlade/alertId/2518078950729219999_...   \n",
       "1  https://portal.azure.com/#blade/Microsoft_Azure_Security/AlertBlade/alertId/2518078950729219999_...   \n",
       "2                                                                                                        \n",
       "\n",
       "            Type         Computer     src_hostname src_accountname  \\\n",
       "0  SecurityAlert  BlackHatDemoHos  BlackHatDemoHos                   \n",
       "1  SecurityAlert  BlackHatDemoHos  BlackHatDemoHos                   \n",
       "2  SecurityAlert  BlackHatDemoHos  BlackHatDemoHos                   \n",
       "\n",
       "  src_procname  host_match  acct_match  proc_match  \n",
       "0                     True       False       False  \n",
       "1                     True       False       False  \n",
       "2                     True       False       False  "
      ]
     },
     "metadata": {},
     "output_type": "display_data"
    }
   ],
   "source": [
    "related_alerts = qry_prov.SecurityAlert.list_related_alerts(start=start, end=end, host_name=host_name)\n",
    "display(related_alerts)"
   ]
  },
  {
   "cell_type": "code",
   "execution_count": 24,
   "metadata": {},
   "outputs": [
    {
     "data": {
      "application/vnd.jupyter.widget-view+json": {
       "model_id": "6508bc10841f411c88f1a771c20e254e",
       "version_major": 2,
       "version_minor": 0
      },
      "text/plain": [
       "VBox(children=(Text(value='', description='Filter alerts by title:', style=DescriptionStyle(description_width=…"
      ]
     },
     "metadata": {},
     "output_type": "display_data"
    },
    {
     "data": {
      "text/html": [
       "<hr>"
      ],
      "text/plain": [
       "<IPython.core.display.HTML object>"
      ]
     },
     "metadata": {},
     "output_type": "display_data"
    },
    {
     "data": {
      "text/html": [
       "\n",
       "            <h3>Alert: 'Suspicious Activity Detected'</h3>\n",
       "            <b>Alert_time:</b> 2020-07-10 18:28:47+00:00,\n",
       "            <b>Compr_entity:</b> BlackHatDemoHos,\n",
       "            <b>Alert_id:</b> 2518078950729219999_e3549ae5-3e95-4be7-8ba8-9e1b9d97e926\n",
       "            <table border=\"1\" class=\"dataframe\">\n",
       "  <thead>\n",
       "    <tr style=\"text-align: right;\">\n",
       "      <th></th>\n",
       "      <th>0</th>\n",
       "    </tr>\n",
       "  </thead>\n",
       "  <tbody>\n",
       "    <tr>\n",
       "      <th>TenantId</th>\n",
       "      <td>52b1ab41-869e-4138-9e40-2a4457f09bf0</td>\n",
       "    </tr>\n",
       "    <tr>\n",
       "      <th>TimeGenerated</th>\n",
       "      <td>2020-07-10 19:09:23+00:00</td>\n",
       "    </tr>\n",
       "    <tr>\n",
       "      <th>AlertDisplayName</th>\n",
       "      <td>Suspicious Activity Detected</td>\n",
       "    </tr>\n",
       "    <tr>\n",
       "      <th>AlertName</th>\n",
       "      <td>Suspicious Activity Detected</td>\n",
       "    </tr>\n",
       "    <tr>\n",
       "      <th>Severity</th>\n",
       "      <td>Medium</td>\n",
       "    </tr>\n",
       "    <tr>\n",
       "      <th>Description</th>\n",
       "      <td>Analysis of host data has detected a sequence of one or more processes running on BlackHatDemoHos that have historically been associated with malicious activity. While individual commands may appear benign the alert is scored based on an aggregation of these commands. This could either be legitimate activity, or an indication of a compromised host.</td>\n",
       "    </tr>\n",
       "    <tr>\n",
       "      <th>ProviderName</th>\n",
       "      <td>Detection-WarmPathV2</td>\n",
       "    </tr>\n",
       "    <tr>\n",
       "      <th>VendorName</th>\n",
       "      <td>Microsoft</td>\n",
       "    </tr>\n",
       "    <tr>\n",
       "      <th>VendorOriginalId</th>\n",
       "      <td>e3549ae5-3e95-4be7-8ba8-9e1b9d97e926</td>\n",
       "    </tr>\n",
       "    <tr>\n",
       "      <th>SystemAlertId</th>\n",
       "      <td>2518078950729219999_e3549ae5-3e95-4be7-8ba8-9e1b9d97e926</td>\n",
       "    </tr>\n",
       "    <tr>\n",
       "      <th>ResourceId</th>\n",
       "      <td>/subscriptions/40dcc8bf-0478-4f3b-b275-ed0a94f2c013/resourceGroups/BlackHatDemo/providers/Microsoft.Compute/virtualMachines/BlackHatDemoHost</td>\n",
       "    </tr>\n",
       "    <tr>\n",
       "      <th>SourceComputerId</th>\n",
       "      <td>73a015ec-e2b6-4bf7-b353-ebeafb54254e</td>\n",
       "    </tr>\n",
       "    <tr>\n",
       "      <th>AlertType</th>\n",
       "      <td>VM_SuspiciousActivity</td>\n",
       "    </tr>\n",
       "    <tr>\n",
       "      <th>ConfidenceLevel</th>\n",
       "      <td>Unknown</td>\n",
       "    </tr>\n",
       "    <tr>\n",
       "      <th>ConfidenceScore</th>\n",
       "      <td>0</td>\n",
       "    </tr>\n",
       "    <tr>\n",
       "      <th>IsIncident</th>\n",
       "      <td>False</td>\n",
       "    </tr>\n",
       "    <tr>\n",
       "      <th>StartTimeUtc</th>\n",
       "      <td>2020-07-10 18:28:47+00:00</td>\n",
       "    </tr>\n",
       "    <tr>\n",
       "      <th>EndTimeUtc</th>\n",
       "      <td>2020-07-10 18:37:39+00:00</td>\n",
       "    </tr>\n",
       "    <tr>\n",
       "      <th>ProcessingEndTime</th>\n",
       "      <td>2020-07-10 19:09:54+00:00</td>\n",
       "    </tr>\n",
       "    <tr>\n",
       "      <th>RemediationSteps</th>\n",
       "      <td>[\\r\\n  \"Review each of the individual line items in this alert to see if you recognize them as legitimate administrative activity.\"\\r\\n]</td>\n",
       "    </tr>\n",
       "    <tr>\n",
       "      <th>ExtendedProperties</th>\n",
       "      <td>{'Machine Name': 'BlackHatDemoHos', 'Command List': 'FTP session was established.\n",
       "New user was created.\n",
       "PING command was executed.\n",
       "Administrators group members enumeration.\n",
       "New user was added to the Administrators group.\n",
       "New scheduled task was created.', 'Account List': 'BLACKHATDEMOHOS\\timvic', 'compromised host': 'BlackHatDemoHos', 'resourceType': 'Virtual Machine', 'ServiceId': '14fa08c7-c48e-4c18-950c-8148024b4398', 'ReportingSystem': 'Azure'}</td>\n",
       "    </tr>\n",
       "    <tr>\n",
       "      <th>Entities</th>\n",
       "      <td>[{'$id': '4', 'HostName': 'BlackHatDemoHos', 'AzureID': '/subscriptions/40dcc8bf-0478-4f3b-b275-ed0a94f2c013/resourceGroups/BlackHatDemo/providers/Microsoft.Compute/virtualMachines/BlackHatDemoHost', 'OMSAgentID': '73a015ec-e2b6-4bf7-b353-ebeafb54254e', 'Type': 'host'}, {'$id': '5', 'Name': 'timvic', 'NTDomain': 'BLACKHATDEMOHOS', 'Host': {'$ref': '4'}, 'IsDomainJoined': True, 'Type': 'account'}]</td>\n",
       "    </tr>\n",
       "    <tr>\n",
       "      <th>SourceSystem</th>\n",
       "      <td>Detection</td>\n",
       "    </tr>\n",
       "    <tr>\n",
       "      <th>WorkspaceSubscriptionId</th>\n",
       "      <td>40dcc8bf-0478-4f3b-b275-ed0a94f2c013</td>\n",
       "    </tr>\n",
       "    <tr>\n",
       "      <th>WorkspaceResourceGroup</th>\n",
       "      <td>asihuntomsworkspacerg</td>\n",
       "    </tr>\n",
       "    <tr>\n",
       "      <th>ExtendedLinks</th>\n",
       "      <td></td>\n",
       "    </tr>\n",
       "    <tr>\n",
       "      <th>ProductName</th>\n",
       "      <td>Azure Security Center</td>\n",
       "    </tr>\n",
       "    <tr>\n",
       "      <th>ProductComponentName</th>\n",
       "      <td></td>\n",
       "    </tr>\n",
       "    <tr>\n",
       "      <th>AlertLink</th>\n",
       "      <td>https://portal.azure.com/#blade/Microsoft_Azure_Security/AlertBlade/alertId/2518078950729219999_e3549ae5-3e95-4be7-8ba8-9e1b9d97e926/subscriptionId/40dcc8bf-0478-4f3b-b275-ed0a94f2c013/resourceGroup/BlackHatDemo/referencedFrom/alertDeepLink/location/centralus</td>\n",
       "    </tr>\n",
       "    <tr>\n",
       "      <th>Type</th>\n",
       "      <td>SecurityAlert</td>\n",
       "    </tr>\n",
       "    <tr>\n",
       "      <th>Computer</th>\n",
       "      <td>BlackHatDemoHos</td>\n",
       "    </tr>\n",
       "    <tr>\n",
       "      <th>src_hostname</th>\n",
       "      <td>BlackHatDemoHos</td>\n",
       "    </tr>\n",
       "    <tr>\n",
       "      <th>src_accountname</th>\n",
       "      <td></td>\n",
       "    </tr>\n",
       "    <tr>\n",
       "      <th>src_procname</th>\n",
       "      <td></td>\n",
       "    </tr>\n",
       "    <tr>\n",
       "      <th>host_match</th>\n",
       "      <td>True</td>\n",
       "    </tr>\n",
       "    <tr>\n",
       "      <th>acct_match</th>\n",
       "      <td>False</td>\n",
       "    </tr>\n",
       "    <tr>\n",
       "      <th>proc_match</th>\n",
       "      <td>False</td>\n",
       "    </tr>\n",
       "    <tr>\n",
       "      <th>CompromisedEntity</th>\n",
       "      <td>BlackHatDemoHos</td>\n",
       "    </tr>\n",
       "  </tbody>\n",
       "</table><br/><h3>ExtendedProperties:</h3><table border=\"1\" class=\"dataframe\">\n",
       "  <thead>\n",
       "    <tr style=\"text-align: right;\">\n",
       "      <th></th>\n",
       "      <th>0</th>\n",
       "    </tr>\n",
       "  </thead>\n",
       "  <tbody>\n",
       "    <tr>\n",
       "      <th>Machine Name</th>\n",
       "      <td>BlackHatDemoHos</td>\n",
       "    </tr>\n",
       "    <tr>\n",
       "      <th>Command List</th>\n",
       "      <td>FTP session was established.\\nNew user was created.\\nPING command was executed.\\nAdministrators group members enumeration.\\nNew user was added to the Administrators group.\\nNew scheduled task was created.</td>\n",
       "    </tr>\n",
       "    <tr>\n",
       "      <th>Account List</th>\n",
       "      <td>BLACKHATDEMOHOS\\timvic</td>\n",
       "    </tr>\n",
       "    <tr>\n",
       "      <th>compromised host</th>\n",
       "      <td>BlackHatDemoHos</td>\n",
       "    </tr>\n",
       "    <tr>\n",
       "      <th>resourceType</th>\n",
       "      <td>Virtual Machine</td>\n",
       "    </tr>\n",
       "    <tr>\n",
       "      <th>ServiceId</th>\n",
       "      <td>14fa08c7-c48e-4c18-950c-8148024b4398</td>\n",
       "    </tr>\n",
       "    <tr>\n",
       "      <th>ReportingSystem</th>\n",
       "      <td>Azure</td>\n",
       "    </tr>\n",
       "  </tbody>\n",
       "</table><br/><h3>Entities:</h3><br/>{ &#x27;AdditionalData&#x27;: {},,   &#x27;AzureID&#x27;: &#x27;/subscriptions/40dcc8bf-0478-4f3b-b275-ed0a94f2c013/resourceGroups/BlackHatDemo/providers/Microsoft.Compute/virtualMachines/BlackHatDemoHost&#x27;,,   &#x27;HostName&#x27;: &#x27;BlackHatDemoHos&#x27;,,   &#x27;OMSAgentID&#x27;: &#x27;73a015ec-e2b6-4bf7-b353-ebeafb54254e&#x27;,,   &#x27;Type&#x27;: &#x27;host&#x27;}<br/>{ &#x27;AdditionalData&#x27;: {},,   &#x27;Host&#x27;: { &#x27;AdditionalData&#x27;: {},,             &#x27;AzureID&#x27;: &#x27;/subscriptions/40dcc8bf-0478-4f3b-b275-ed0a94f2c013/resourceGroups/BlackHatDemo/providers/Microsoft.Compute/virtualMachines/BlackHatDemoHost&#x27;,,             &#x27;HostName&#x27;: &#x27;BlackHatDemoHos&#x27;,,             &#x27;OMSAgentID&#x27;: &#x27;73a015ec-e2b6-4bf7-b353-ebeafb54254e&#x27;,,             &#x27;Type&#x27;: &#x27;host&#x27;},,   &#x27;IsDomainJoined&#x27;: True,,   &#x27;NTDomain&#x27;: &#x27;BLACKHATDEMOHOS&#x27;,,   &#x27;Name&#x27;: &#x27;timvic&#x27;,,   &#x27;Type&#x27;: &#x27;account&#x27;}"
      ],
      "text/plain": [
       "<IPython.core.display.HTML object>"
      ]
     },
     "metadata": {},
     "output_type": "display_data"
    }
   ],
   "source": [
    "related_alerts['CompromisedEntity'] = related_alerts['Computer']\n",
    "def disp_full_alert(alert):\n",
    "    global related_alert\n",
    "    related_alert = SecurityAlert(alert)\n",
    "    return nbdisplay.format_alert(related_alert, show_entities=True)\n",
    "\n",
    "rel_alert_select = nbwidgets.SelectAlert(alerts=related_alerts, action=disp_full_alert)\n",
    "rel_alert_select.display()"
   ]
  },
  {
   "cell_type": "markdown",
   "metadata": {},
   "source": [
    "### Graph of alerts and related entities\n",
    "Graphs provide a great way to understand the relationship between items. As alerts are often associated with multiple different entities being able to view a graph of alerts and their entities helps analysts identify important connections. MSTICpy provide a [feature](https://msticpy.readthedocs.io/en/latest/msticpy.data.html?highlight=create_alert_graph#msticpy.nbtools.security_alert_graph.create_alert_graph) for graphing and plotting alert information.\n"
   ]
  },
  {
   "cell_type": "code",
   "execution_count": 26,
   "metadata": {},
   "outputs": [
    {
     "data": {
      "image/png": "[encoded data removed]",
      "text/plain": [
       "<Figure size 1080x1080 with 1 Axes>"
      ]
     },
     "metadata": {},
     "output_type": "display_data"
    }
   ],
   "source": [
    "alert = SecurityAlert(rel_alert_select.selected_alert)\n",
    "grph = create_alert_graph(alert)\n",
    "full_grph = add_related_alerts(related_alerts, grph)\n",
    "nbdisplay.draw_alert_entity_graph(full_grph, width=15)"
   ]
  },
  {
   "cell_type": "markdown",
   "metadata": {},
   "source": [
    "### Logon Sessions\n",
    "Logon events are key to understanding any host based activity. We have previously used MSTICpy's [timeline feature](https://msticpy.readthedocs.io/en/latest/visualization/EventTimeline.html) to display value based data such as our Azure virtual machine metrics, as well as discrete data such as alerts, however we can also use it to display multiple types of discrete data on the same timeline. This is particularly useful for Windows logon events where we plot different logon types (interactive, network, etc.) in different horizontal series."
   ]
  },
  {
   "cell_type": "code",
   "execution_count": 30,
   "metadata": {},
   "outputs": [
    {
     "data": {
      "application/javascript": [
       "try {IPython.notebook.kernel.execute(\"NOTEBOOK_URL = '\" + window.location + \"'\");} catch(err) {;}"
      ],
      "text/plain": [
       "<IPython.core.display.Javascript object>"
      ]
     },
     "metadata": {},
     "output_type": "display_data"
    },
    {
     "data": {
      "text/html": [
       "\n",
       "    <div class=\"bk-root\">\n",
       "        <a href=\"https://bokeh.org\" target=\"_blank\" class=\"bk-logo bk-logo-small bk-logo-notebook\"></a>\n",
       "        <span id=\"2617\">Loading BokehJS ...</span>\n",
       "    </div>"
      ]
     },
     "metadata": {},
     "output_type": "display_data"
    },
    {
     "data": {
      "application/javascript": [
       "\n",
       "(function(root) {\n",
       "  function now() {\n",
       "    return new Date();\n",
       "  }\n",
       "\n",
       "  var force = true;\n",
       "\n",
       "  if (typeof root._bokeh_onload_callbacks === \"undefined\" || force === true) {\n",
       "    root._bokeh_onload_callbacks = [];\n",
       "    root._bokeh_is_loading = undefined;\n",
       "  }\n",
       "\n",
       "  var JS_MIME_TYPE = 'application/javascript';\n",
       "  var HTML_MIME_TYPE = 'text/html';\n",
       "  var EXEC_MIME_TYPE = 'application/vnd.bokehjs_exec.v0+json';\n",
       "  var CLASS_NAME = 'output_bokeh rendered_html';\n",
       "\n",
       "  /**\n",
       "   * Render data to the DOM node\n",
       "   */\n",
       "  function render(props, node) {\n",
       "    var script = document.createElement(\"script\");\n",
       "    node.appendChild(script);\n",
       "  }\n",
       "\n",
       "  /**\n",
       "   * Handle when an output is cleared or removed\n",
       "   */\n",
       "  function handleClearOutput(event, handle) {\n",
       "    var cell = handle.cell;\n",
       "\n",
       "    var id = cell.output_area._bokeh_element_id;\n",
       "    var server_id = cell.output_area._bokeh_server_id;\n",
       "    // Clean up Bokeh references\n",
       "    if (id != null && id in Bokeh.index) {\n",
       "      Bokeh.index[id].model.document.clear();\n",
       "      delete Bokeh.index[id];\n",
       "    }\n",
       "\n",
       "    if (server_id !== undefined) {\n",
       "      // Clean up Bokeh references\n",
       "      var cmd = \"from bokeh.io.state import curstate; print(curstate().uuid_to_server['\" + server_id + \"'].get_sessions()[0].document.roots[0]._id)\";\n",
       "      cell.notebook.kernel.execute(cmd, {\n",
       "        iopub: {\n",
       "          output: function(msg) {\n",
       "            var id = msg.content.text.trim();\n",
       "            if (id in Bokeh.index) {\n",
       "              Bokeh.index[id].model.document.clear();\n",
       "              delete Bokeh.index[id];\n",
       "            }\n",
       "          }\n",
       "        }\n",
       "      });\n",
       "      // Destroy server and session\n",
       "      var cmd = \"import bokeh.io.notebook as ion; ion.destroy_server('\" + server_id + \"')\";\n",
       "      cell.notebook.kernel.execute(cmd);\n",
       "    }\n",
       "  }\n",
       "\n",
       "  /**\n",
       "   * Handle when a new output is added\n",
       "   */\n",
       "  function handleAddOutput(event, handle) {\n",
       "    var output_area = handle.output_area;\n",
       "    var output = handle.output;\n",
       "\n",
       "    // limit handleAddOutput to display_data with EXEC_MIME_TYPE content only\n",
       "    if ((output.output_type != \"display_data\") || (!output.data.hasOwnProperty(EXEC_MIME_TYPE))) {\n",
       "      return\n",
       "    }\n",
       "\n",
       "    var toinsert = output_area.element.find(\".\" + CLASS_NAME.split(' ')[0]);\n",
       "\n",
       "    if (output.metadata[EXEC_MIME_TYPE][\"id\"] !== undefined) {\n",
       "      toinsert[toinsert.length - 1].firstChild.textContent = output.data[JS_MIME_TYPE];\n",
       "      // store reference to embed id on output_area\n",
       "      output_area._bokeh_element_id = output.metadata[EXEC_MIME_TYPE][\"id\"];\n",
       "    }\n",
       "    if (output.metadata[EXEC_MIME_TYPE][\"server_id\"] !== undefined) {\n",
       "      var bk_div = document.createElement(\"div\");\n",
       "      bk_div.innerHTML = output.data[HTML_MIME_TYPE];\n",
       "      var script_attrs = bk_div.children[0].attributes;\n",
       "      for (var i = 0; i < script_attrs.length; i++) {\n",
       "        toinsert[toinsert.length - 1].firstChild.setAttribute(script_attrs[i].name, script_attrs[i].value);\n",
       "        toinsert[toinsert.length - 1].firstChild.textContent = bk_div.children[0].textContent\n",
       "      }\n",
       "      // store reference to server id on output_area\n",
       "      output_area._bokeh_server_id = output.metadata[EXEC_MIME_TYPE][\"server_id\"];\n",
       "    }\n",
       "  }\n",
       "\n",
       "  function register_renderer(events, OutputArea) {\n",
       "\n",
       "    function append_mime(data, metadata, element) {\n",
       "      // create a DOM node to render to\n",
       "      var toinsert = this.create_output_subarea(\n",
       "        metadata,\n",
       "        CLASS_NAME,\n",
       "        EXEC_MIME_TYPE\n",
       "      );\n",
       "      this.keyboard_manager.register_events(toinsert);\n",
       "      // Render to node\n",
       "      var props = {data: data, metadata: metadata[EXEC_MIME_TYPE]};\n",
       "      render(props, toinsert[toinsert.length - 1]);\n",
       "      element.append(toinsert);\n",
       "      return toinsert\n",
       "    }\n",
       "\n",
       "    /* Handle when an output is cleared or removed */\n",
       "    events.on('clear_output.CodeCell', handleClearOutput);\n",
       "    events.on('delete.Cell', handleClearOutput);\n",
       "\n",
       "    /* Handle when a new output is added */\n",
       "    events.on('output_added.OutputArea', handleAddOutput);\n",
       "\n",
       "    /**\n",
       "     * Register the mime type and append_mime function with output_area\n",
       "     */\n",
       "    OutputArea.prototype.register_mime_type(EXEC_MIME_TYPE, append_mime, {\n",
       "      /* Is output safe? */\n",
       "      safe: true,\n",
       "      /* Index of renderer in `output_area.display_order` */\n",
       "      index: 0\n",
       "    });\n",
       "  }\n",
       "\n",
       "  // register the mime type if in Jupyter Notebook environment and previously unregistered\n",
       "  if (root.Jupyter !== undefined) {\n",
       "    var events = require('base/js/events');\n",
       "    var OutputArea = require('notebook/js/outputarea').OutputArea;\n",
       "\n",
       "    if (OutputArea.prototype.mime_types().indexOf(EXEC_MIME_TYPE) == -1) {\n",
       "      register_renderer(events, OutputArea);\n",
       "    }\n",
       "  }\n",
       "\n",
       "  \n",
       "  if (typeof (root._bokeh_timeout) === \"undefined\" || force === true) {\n",
       "    root._bokeh_timeout = Date.now() + 5000;\n",
       "    root._bokeh_failed_load = false;\n",
       "  }\n",
       "\n",
       "  var NB_LOAD_WARNING = {'data': {'text/html':\n",
       "     \"<div style='background-color: #fdd'>\\n\"+\n",
       "     \"<p>\\n\"+\n",
       "     \"BokehJS does not appear to have successfully loaded. If loading BokehJS from CDN, this \\n\"+\n",
       "     \"may be due to a slow or bad network connection. Possible fixes:\\n\"+\n",
       "     \"</p>\\n\"+\n",
       "     \"<ul>\\n\"+\n",
       "     \"<li>re-rerun `output_notebook()` to attempt to load from CDN again, or</li>\\n\"+\n",
       "     \"<li>use INLINE resources instead, as so:</li>\\n\"+\n",
       "     \"</ul>\\n\"+\n",
       "     \"<code>\\n\"+\n",
       "     \"from bokeh.resources import INLINE\\n\"+\n",
       "     \"output_notebook(resources=INLINE)\\n\"+\n",
       "     \"</code>\\n\"+\n",
       "     \"</div>\"}};\n",
       "\n",
       "  function display_loaded() {\n",
       "    var el = document.getElementById(\"2617\");\n",
       "    if (el != null) {\n",
       "      el.textContent = \"BokehJS is loading...\";\n",
       "    }\n",
       "    if (root.Bokeh !== undefined) {\n",
       "      if (el != null) {\n",
       "        el.textContent = \"BokehJS \" + root.Bokeh.version + \" successfully loaded.\";\n",
       "      }\n",
       "    } else if (Date.now() < root._bokeh_timeout) {\n",
       "      setTimeout(display_loaded, 100)\n",
       "    }\n",
       "  }\n",
       "\n",
       "\n",
       "  function run_callbacks() {\n",
       "    try {\n",
       "      root._bokeh_onload_callbacks.forEach(function(callback) {\n",
       "        if (callback != null)\n",
       "          callback();\n",
       "      });\n",
       "    } finally {\n",
       "      delete root._bokeh_onload_callbacks\n",
       "    }\n",
       "    console.debug(\"Bokeh: all callbacks have finished\");\n",
       "  }\n",
       "\n",
       "  function load_libs(css_urls, js_urls, callback) {\n",
       "    if (css_urls == null) css_urls = [];\n",
       "    if (js_urls == null) js_urls = [];\n",
       "\n",
       "    root._bokeh_onload_callbacks.push(callback);\n",
       "    if (root._bokeh_is_loading > 0) {\n",
       "      console.debug(\"Bokeh: BokehJS is being loaded, scheduling callback at\", now());\n",
       "      return null;\n",
       "    }\n",
       "    if (js_urls == null || js_urls.length === 0) {\n",
       "      run_callbacks();\n",
       "      return null;\n",
       "    }\n",
       "    console.debug(\"Bokeh: BokehJS not loaded, scheduling load and callback at\", now());\n",
       "    root._bokeh_is_loading = css_urls.length + js_urls.length;\n",
       "\n",
       "    function on_load() {\n",
       "      root._bokeh_is_loading--;\n",
       "      if (root._bokeh_is_loading === 0) {\n",
       "        console.debug(\"Bokeh: all BokehJS libraries/stylesheets loaded\");\n",
       "        run_callbacks()\n",
       "      }\n",
       "    }\n",
       "\n",
       "    function on_error() {\n",
       "      console.error(\"failed to load \" + url);\n",
       "    }\n",
       "\n",
       "    for (var i = 0; i < css_urls.length; i++) {\n",
       "      var url = css_urls[i];\n",
       "      const element = document.createElement(\"link\");\n",
       "      element.onload = on_load;\n",
       "      element.onerror = on_error;\n",
       "      element.rel = \"stylesheet\";\n",
       "      element.type = \"text/css\";\n",
       "      element.href = url;\n",
       "      console.debug(\"Bokeh: injecting link tag for BokehJS stylesheet: \", url);\n",
       "      document.body.appendChild(element);\n",
       "    }\n",
       "\n",
       "    const hashes = {\"https://cdn.bokeh.org/bokeh/release/bokeh-2.1.1.min.js\": \"kLr4fYcqcSpbuI95brIH3vnnYCquzzSxHPU6XGQCIkQRGJwhg0StNbj1eegrHs12\", \"https://cdn.bokeh.org/bokeh/release/bokeh-widgets-2.1.1.min.js\": \"xIGPmVtaOm+z0BqfSOMn4lOR6ciex448GIKG4eE61LsAvmGj48XcMQZtKcE/UXZe\", \"https://cdn.bokeh.org/bokeh/release/bokeh-tables-2.1.1.min.js\": \"Dc9u1wF/0zApGIWoBbH77iWEHtdmkuYWG839Uzmv8y8yBLXebjO9ZnERsde5Ln/P\", \"https://cdn.bokeh.org/bokeh/release/bokeh-gl-2.1.1.min.js\": \"cT9JaBz7GiRXdENrJLZNSC6eMNF3nh3fa5fTF51Svp+ukxPdwcU5kGXGPBgDCa2j\"};\n",
       "\n",
       "    for (var i = 0; i < js_urls.length; i++) {\n",
       "      var url = js_urls[i];\n",
       "      var element = document.createElement('script');\n",
       "      element.onload = on_load;\n",
       "      element.onerror = on_error;\n",
       "      element.async = false;\n",
       "      element.src = url;\n",
       "      if (url in hashes) {\n",
       "        element.crossOrigin = \"anonymous\";\n",
       "        element.integrity = \"sha384-\" + hashes[url];\n",
       "      }\n",
       "      console.debug(\"Bokeh: injecting script tag for BokehJS library: \", url);\n",
       "      document.head.appendChild(element);\n",
       "    }\n",
       "  };\n",
       "\n",
       "  function inject_raw_css(css) {\n",
       "    const element = document.createElement(\"style\");\n",
       "    element.appendChild(document.createTextNode(css));\n",
       "    document.body.appendChild(element);\n",
       "  }\n",
       "\n",
       "  \n",
       "  var js_urls = [\"https://cdn.bokeh.org/bokeh/release/bokeh-2.1.1.min.js\", \"https://cdn.bokeh.org/bokeh/release/bokeh-widgets-2.1.1.min.js\", \"https://cdn.bokeh.org/bokeh/release/bokeh-tables-2.1.1.min.js\", \"https://cdn.bokeh.org/bokeh/release/bokeh-gl-2.1.1.min.js\"];\n",
       "  var css_urls = [];\n",
       "  \n",
       "\n",
       "  var inline_js = [\n",
       "    function(Bokeh) {\n",
       "      Bokeh.set_log_level(\"info\");\n",
       "    },\n",
       "    function(Bokeh) {\n",
       "    \n",
       "    \n",
       "    }\n",
       "  ];\n",
       "\n",
       "  function run_inline_js() {\n",
       "    \n",
       "    if (root.Bokeh !== undefined || force === true) {\n",
       "      \n",
       "    for (var i = 0; i < inline_js.length; i++) {\n",
       "      inline_js[i].call(root, root.Bokeh);\n",
       "    }\n",
       "    if (force === true) {\n",
       "        display_loaded();\n",
       "      }} else if (Date.now() < root._bokeh_timeout) {\n",
       "      setTimeout(run_inline_js, 100);\n",
       "    } else if (!root._bokeh_failed_load) {\n",
       "      console.log(\"Bokeh: BokehJS failed to load within specified timeout.\");\n",
       "      root._bokeh_failed_load = true;\n",
       "    } else if (force !== true) {\n",
       "      var cell = $(document.getElementById(\"2617\")).parents('.cell').data().cell;\n",
       "      cell.output_area.append_execute_result(NB_LOAD_WARNING)\n",
       "    }\n",
       "\n",
       "  }\n",
       "\n",
       "  if (root._bokeh_is_loading === 0) {\n",
       "    console.debug(\"Bokeh: BokehJS loaded, going straight to plotting\");\n",
       "    run_inline_js();\n",
       "  } else {\n",
       "    load_libs(css_urls, js_urls, function() {\n",
       "      console.debug(\"Bokeh: BokehJS plotting callback run at\", now());\n",
       "      run_inline_js();\n",
       "    });\n",
       "  }\n",
       "}(window));"
      ],
      "application/vnd.bokehjs_load.v0+json": "\n(function(root) {\n  function now() {\n    return new Date();\n  }\n\n  var force = true;\n\n  if (typeof root._bokeh_onload_callbacks === \"undefined\" || force === true) {\n    root._bokeh_onload_callbacks = [];\n    root._bokeh_is_loading = undefined;\n  }\n\n  \n\n  \n  if (typeof (root._bokeh_timeout) === \"undefined\" || force === true) {\n    root._bokeh_timeout = Date.now() + 5000;\n    root._bokeh_failed_load = false;\n  }\n\n  var NB_LOAD_WARNING = {'data': {'text/html':\n     \"<div style='background-color: #fdd'>\\n\"+\n     \"<p>\\n\"+\n     \"BokehJS does not appear to have successfully loaded. If loading BokehJS from CDN, this \\n\"+\n     \"may be due to a slow or bad network connection. Possible fixes:\\n\"+\n     \"</p>\\n\"+\n     \"<ul>\\n\"+\n     \"<li>re-rerun `output_notebook()` to attempt to load from CDN again, or</li>\\n\"+\n     \"<li>use INLINE resources instead, as so:</li>\\n\"+\n     \"</ul>\\n\"+\n     \"<code>\\n\"+\n     \"from bokeh.resources import INLINE\\n\"+\n     \"output_notebook(resources=INLINE)\\n\"+\n     \"</code>\\n\"+\n     \"</div>\"}};\n\n  function display_loaded() {\n    var el = document.getElementById(\"2617\");\n    if (el != null) {\n      el.textContent = \"BokehJS is loading...\";\n    }\n    if (root.Bokeh !== undefined) {\n      if (el != null) {\n        el.textContent = \"BokehJS \" + root.Bokeh.version + \" successfully loaded.\";\n      }\n    } else if (Date.now() < root._bokeh_timeout) {\n      setTimeout(display_loaded, 100)\n    }\n  }\n\n\n  function run_callbacks() {\n    try {\n      root._bokeh_onload_callbacks.forEach(function(callback) {\n        if (callback != null)\n          callback();\n      });\n    } finally {\n      delete root._bokeh_onload_callbacks\n    }\n    console.debug(\"Bokeh: all callbacks have finished\");\n  }\n\n  function load_libs(css_urls, js_urls, callback) {\n    if (css_urls == null) css_urls = [];\n    if (js_urls == null) js_urls = [];\n\n    root._bokeh_onload_callbacks.push(callback);\n    if (root._bokeh_is_loading > 0) {\n      console.debug(\"Bokeh: BokehJS is being loaded, scheduling callback at\", now());\n      return null;\n    }\n    if (js_urls == null || js_urls.length === 0) {\n      run_callbacks();\n      return null;\n    }\n    console.debug(\"Bokeh: BokehJS not loaded, scheduling load and callback at\", now());\n    root._bokeh_is_loading = css_urls.length + js_urls.length;\n\n    function on_load() {\n      root._bokeh_is_loading--;\n      if (root._bokeh_is_loading === 0) {\n        console.debug(\"Bokeh: all BokehJS libraries/stylesheets loaded\");\n        run_callbacks()\n      }\n    }\n\n    function on_error() {\n      console.error(\"failed to load \" + url);\n    }\n\n    for (var i = 0; i < css_urls.length; i++) {\n      var url = css_urls[i];\n      const element = document.createElement(\"link\");\n      element.onload = on_load;\n      element.onerror = on_error;\n      element.rel = \"stylesheet\";\n      element.type = \"text/css\";\n      element.href = url;\n      console.debug(\"Bokeh: injecting link tag for BokehJS stylesheet: \", url);\n      document.body.appendChild(element);\n    }\n\n    const hashes = {\"https://cdn.bokeh.org/bokeh/release/bokeh-2.1.1.min.js\": \"kLr4fYcqcSpbuI95brIH3vnnYCquzzSxHPU6XGQCIkQRGJwhg0StNbj1eegrHs12\", \"https://cdn.bokeh.org/bokeh/release/bokeh-widgets-2.1.1.min.js\": \"xIGPmVtaOm+z0BqfSOMn4lOR6ciex448GIKG4eE61LsAvmGj48XcMQZtKcE/UXZe\", \"https://cdn.bokeh.org/bokeh/release/bokeh-tables-2.1.1.min.js\": \"Dc9u1wF/0zApGIWoBbH77iWEHtdmkuYWG839Uzmv8y8yBLXebjO9ZnERsde5Ln/P\", \"https://cdn.bokeh.org/bokeh/release/bokeh-gl-2.1.1.min.js\": \"cT9JaBz7GiRXdENrJLZNSC6eMNF3nh3fa5fTF51Svp+ukxPdwcU5kGXGPBgDCa2j\"};\n\n    for (var i = 0; i < js_urls.length; i++) {\n      var url = js_urls[i];\n      var element = document.createElement('script');\n      element.onload = on_load;\n      element.onerror = on_error;\n      element.async = false;\n      element.src = url;\n      if (url in hashes) {\n        element.crossOrigin = \"anonymous\";\n        element.integrity = \"sha384-\" + hashes[url];\n      }\n      console.debug(\"Bokeh: injecting script tag for BokehJS library: \", url);\n      document.head.appendChild(element);\n    }\n  };\n\n  function inject_raw_css(css) {\n    const element = document.createElement(\"style\");\n    element.appendChild(document.createTextNode(css));\n    document.body.appendChild(element);\n  }\n\n  \n  var js_urls = [\"https://cdn.bokeh.org/bokeh/release/bokeh-2.1.1.min.js\", \"https://cdn.bokeh.org/bokeh/release/bokeh-widgets-2.1.1.min.js\", \"https://cdn.bokeh.org/bokeh/release/bokeh-tables-2.1.1.min.js\", \"https://cdn.bokeh.org/bokeh/release/bokeh-gl-2.1.1.min.js\"];\n  var css_urls = [];\n  \n\n  var inline_js = [\n    function(Bokeh) {\n      Bokeh.set_log_level(\"info\");\n    },\n    function(Bokeh) {\n    \n    \n    }\n  ];\n\n  function run_inline_js() {\n    \n    if (root.Bokeh !== undefined || force === true) {\n      \n    for (var i = 0; i < inline_js.length; i++) {\n      inline_js[i].call(root, root.Bokeh);\n    }\n    if (force === true) {\n        display_loaded();\n      }} else if (Date.now() < root._bokeh_timeout) {\n      setTimeout(run_inline_js, 100);\n    } else if (!root._bokeh_failed_load) {\n      console.log(\"Bokeh: BokehJS failed to load within specified timeout.\");\n      root._bokeh_failed_load = true;\n    } else if (force !== true) {\n      var cell = $(document.getElementById(\"2617\")).parents('.cell').data().cell;\n      cell.output_area.append_execute_result(NB_LOAD_WARNING)\n    }\n\n  }\n\n  if (root._bokeh_is_loading === 0) {\n    console.debug(\"Bokeh: BokehJS loaded, going straight to plotting\");\n    run_inline_js();\n  } else {\n    load_libs(css_urls, js_urls, function() {\n      console.debug(\"Bokeh: BokehJS plotting callback run at\", now());\n      run_inline_js();\n    });\n  }\n}(window));"
     },
     "metadata": {},
     "output_type": "display_data"
    },
    {
     "data": {
      "text/html": [
       "\n",
       "\n",
       "\n",
       "\n",
       "\n",
       "\n",
       "  <div class=\"bk-root\" id=\"88230589-ffb5-4ca2-8dd5-d0ad0b2fe53a\" data-root-id=\"2744\"></div>\n"
      ]
     },
     "metadata": {},
     "output_type": "display_data"
    },
    {
     "data": {
      "application/javascript": [
       "(function(root) {\n",
       "  function embed_document(root) {\n",
       "    \n",
       "  var docs_json = {\"9ce536b6-dd92-43c4-8223-f85c6c77bf86\":{\"roots\":{\"references\":[{\"attributes\":{\"children\":[{\"id\":\"2624\"},{\"id\":\"2656\"}]},\"id\":\"2744\",\"type\":\"Column\"},{\"attributes\":{\"axis\":{\"id\":\"2639\"},\"dimension\":1,\"grid_line_color\":null,\"ticker\":null},\"id\":\"2642\",\"type\":\"Grid\"},{\"attributes\":{},\"id\":\"2665\",\"type\":\"LinearScale\"},{\"attributes\":{},\"id\":\"2748\",\"type\":\"BasicTickFormatter\"},{\"attributes\":{\"overlay\":{\"id\":\"2648\"}},\"id\":\"2644\",\"type\":\"BoxZoomTool\"},{\"attributes\":{\"fill_alpha\":{\"value\":0.5},\"fill_color\":{\"value\":\"#22A784\"},\"line_alpha\":{\"value\":0.5},\"line_color\":{\"value\":\"#22A784\"},\"size\":{\"units\":\"screen\",\"value\":10},\"x\":{\"field\":\"TimeGenerated\"},\"y\":{\"field\":\"y_index\"}},\"id\":\"2723\",\"type\":\"Diamond\"},{\"attributes\":{\"fill_alpha\":{\"value\":0.5},\"fill_color\":{\"value\":\"#79D151\"},\"line_alpha\":{\"value\":0.5},\"line_color\":{\"value\":\"#79D151\"},\"size\":{\"units\":\"screen\",\"value\":10},\"x\":{\"field\":\"TimeGenerated\"},\"y\":{\"field\":\"y_index\"}},\"id\":\"2728\",\"type\":\"Diamond\"},{\"attributes\":{\"data_source\":{\"id\":\"2620\"},\"glyph\":{\"id\":\"2718\"},\"hover_glyph\":null,\"muted_glyph\":null,\"nonselection_glyph\":{\"id\":\"2719\"},\"selection_glyph\":null,\"view\":{\"id\":\"2721\"}},\"id\":\"2720\",\"type\":\"GlyphRenderer\"},{\"attributes\":{\"data\":{\"Account\":[\"BlackHatDemoHos\\\\timvic\",\"BlackHatDemoHos\\\\timvic\"],\"LogonType\":[10,10],\"TimeGenerated\":{\"__ndarray__\":\"AOC5vJ8zd0IA4Lm8nzN3Qg==\",\"dtype\":\"float64\",\"order\":\"little\",\"shape\":[2]},\"index\":[60,61],\"y_index\":[4,4]},\"selected\":{\"id\":\"2772\"},\"selection_policy\":{\"id\":\"2773\"}},\"id\":\"2622\",\"type\":\"ColumnDataSource\"},{\"attributes\":{\"num_minor_ticks\":5,\"tickers\":[{\"id\":\"2777\"},{\"id\":\"2778\"},{\"id\":\"2779\"},{\"id\":\"2780\"},{\"id\":\"2781\"},{\"id\":\"2782\"},{\"id\":\"2783\"},{\"id\":\"2784\"},{\"id\":\"2785\"},{\"id\":\"2786\"},{\"id\":\"2787\"},{\"id\":\"2788\"}]},\"id\":\"2668\",\"type\":\"DatetimeTicker\"},{\"attributes\":{\"text\":\"Range Selector\"},\"id\":\"2657\",\"type\":\"Title\"},{\"attributes\":{\"data\":{\"Account\":[\"NT AUTHORITY\\\\SYSTEM\",\"NT AUTHORITY\\\\SYSTEM\",\"NT AUTHORITY\\\\SYSTEM\",\"NT AUTHORITY\\\\SYSTEM\",\"NT AUTHORITY\\\\SYSTEM\",\"NT AUTHORITY\\\\SYSTEM\",\"NT AUTHORITY\\\\NETWORK SERVICE\",\"NT AUTHORITY\\\\SYSTEM\",\"NT AUTHORITY\\\\LOCAL SERVICE\",\"NT AUTHORITY\\\\SYSTEM\",\"NT AUTHORITY\\\\SYSTEM\",\"NT AUTHORITY\\\\SYSTEM\",\"NT AUTHORITY\\\\SYSTEM\",\"NT AUTHORITY\\\\SYSTEM\",\"NT AUTHORITY\\\\SYSTEM\",\"NT AUTHORITY\\\\SYSTEM\",\"NT AUTHORITY\\\\SYSTEM\",\"NT AUTHORITY\\\\SYSTEM\",\"NT AUTHORITY\\\\SYSTEM\",\"NT AUTHORITY\\\\SYSTEM\",\"NT AUTHORITY\\\\SYSTEM\",\"NT AUTHORITY\\\\SYSTEM\",\"NT AUTHORITY\\\\SYSTEM\",\"NT AUTHORITY\\\\SYSTEM\",\"NT AUTHORITY\\\\SYSTEM\",\"NT AUTHORITY\\\\SYSTEM\",\"NT AUTHORITY\\\\SYSTEM\",\"NT AUTHORITY\\\\SYSTEM\",\"NT AUTHORITY\\\\SYSTEM\",\"NT AUTHORITY\\\\SYSTEM\",\"NT AUTHORITY\\\\SYSTEM\",\"NT AUTHORITY\\\\SYSTEM\",\"NT AUTHORITY\\\\SYSTEM\",\"NT AUTHORITY\\\\SYSTEM\",\"NT AUTHORITY\\\\SYSTEM\",\"NT AUTHORITY\\\\SYSTEM\",\"NT AUTHORITY\\\\SYSTEM\",\"NT AUTHORITY\\\\SYSTEM\",\"NT AUTHORITY\\\\SYSTEM\",\"NT AUTHORITY\\\\SYSTEM\",\"NT AUTHORITY\\\\SYSTEM\",\"NT AUTHORITY\\\\SYSTEM\",\"NT AUTHORITY\\\\SYSTEM\",\"NT AUTHORITY\\\\SYSTEM\",\"NT AUTHORITY\\\\SYSTEM\",\"NT AUTHORITY\\\\SYSTEM\",\"NT AUTHORITY\\\\SYSTEM\",\"NT AUTHORITY\\\\SYSTEM\",\"NT AUTHORITY\\\\SYSTEM\",\"NT AUTHORITY\\\\SYSTEM\",\"NT AUTHORITY\\\\SYSTEM\",\"NT AUTHORITY\\\\SYSTEM\",\"NT AUTHORITY\\\\SYSTEM\",\"NT AUTHORITY\\\\SYSTEM\",\"NT AUTHORITY\\\\SYSTEM\",\"NT AUTHORITY\\\\SYSTEM\",\"NT AUTHORITY\\\\SYSTEM\",\"NT AUTHORITY\\\\SYSTEM\",\"NT AUTHORITY\\\\SYSTEM\",\"NT AUTHORITY\\\\SYSTEM\",\"NT AUTHORITY\\\\SYSTEM\",\"NT AUTHORITY\\\\SYSTEM\",\"NT AUTHORITY\\\\SYSTEM\",\"NT AUTHORITY\\\\SYSTEM\",\"NT AUTHORITY\\\\SYSTEM\",\"NT AUTHORITY\\\\SYSTEM\",\"NT AUTHORITY\\\\SYSTEM\",\"NT AUTHORITY\\\\SYSTEM\",\"NT AUTHORITY\\\\SYSTEM\",\"NT AUTHORITY\\\\SYSTEM\",\"NT AUTHORITY\\\\SYSTEM\",\"NT AUTHORITY\\\\SYSTEM\",\"NT AUTHORITY\\\\SYSTEM\",\"NT AUTHORITY\\\\SYSTEM\",\"NT AUTHORITY\\\\SYSTEM\",\"NT AUTHORITY\\\\SYSTEM\",\"NT AUTHORITY\\\\SYSTEM\",\"NT AUTHORITY\\\\SYSTEM\",\"NT AUTHORITY\\\\SYSTEM\",\"NT AUTHORITY\\\\SYSTEM\",\"NT AUTHORITY\\\\SYSTEM\",\"NT AUTHORITY\\\\SYSTEM\",\"NT AUTHORITY\\\\SYSTEM\",\"NT AUTHORITY\\\\SYSTEM\",\"NT AUTHORITY\\\\SYSTEM\",\"NT AUTHORITY\\\\SYSTEM\",\"NT AUTHORITY\\\\SYSTEM\"],\"LogonType\":[5,5,5,5,5,5,5,5,5,5,5,5,5,5,5,5,5,5,5,5,5,5,5,5,5,5,5,5,5,5,5,5,5,5,5,5,5,5,5,5,5,5,5,5,5,5,5,5,5,5,5,5,5,5,5,5,5,5,5,5,5,5,5,5,5,5,5,5,5,5,5,5,5,5,5,5,5,5,5,5,5,5,5,5,5,5,5],\"TimeGenerated\":{\"__ndarray__\":\"ALD5P6Ezd0IAUBJAoTN3QgDAGGihM3dCACBmMaMzd0IAEJRpnzN3QgBQlmmfM3dCAACiaZ8zd0IA8KlpnzN3QgAQ0WmfM3dCAPANap8zd0IAcBBqnzN3QgCgEGqfM3dCANAQap8zd0IAQBFqnzN3QgCQE2qfM3dCAJATap8zd0IAYJZqnzN3QgBAmGqfM3dCAMBxa58zd0IAQA5tnzN3QgDQL22fM3dCAHBcbp8zd0IAUBhvnzN3QgAwGW+fM3dCACBFb58zd0IAsEhvnzN3QgDgmnKfM3dCABCbcp8zd0IAwJxynzN3QgDQnXKfM3dCABCfcp8zd0IAUABznzN3QgCQKHOfM3dCANDEeZ8zd0IAsH18nzN3QgDwfXyfM3dCAPB9fJ8zd0IA8Jp9nzN3QgAgqH+fM3dCADCuf58zd0IAcLl/nzN3QgDgWYGfM3dCALBGhp8zd0IA8GWLnzN3QgBA85afM3dCAOAvl58zd0IAUO6XnzN3QgCwIrOfM3dCAHD2rJ8zd0IAMCmwnzN3QgCQyryfM3dCACDc0aAzd0IAkCq9nzN3QgDQNL2fM3dCAHDGvZ8zd0IAgCe+nzN3QgBgKb6fM3dCAJDnwp8zd0IAMKrEnzN3QgAwsMSfM3dCANDr2J8zd0IA0FnanzN3QgCQzfWfM3dCAGDT9Z8zd0IAwNf1nzN3QgBA+PWfM3dCAPD+9Z8zd0IAoGQaoDN3QgCw8SWgM3dCAABXzZ8zd0IAkML2nzN3QgCQ5hOgM3dCAFD5GaAzd0IA8HeMoDN3QgDwYqagM3dCADDTmaYzd0IAIOGZpjN3QgAgEpumM3dCAHAUm6Yzd0IAMNANpDN3QgAQYx2kM3dCAPAdoKUzd0IA0MqcpzN3QgAw1ZynM3dCAEBWiqgzd0IAQIiKqDN3QgDAKYyoM3dC\",\"dtype\":\"float64\",\"order\":\"little\",\"shape\":[87]},\"index\":[0,1,2,3,5,8,9,10,13,14,15,16,17,18,19,20,21,22,23,24,25,26,27,28,29,30,31,32,33,34,35,36,37,38,39,40,41,42,43,44,45,46,47,48,49,50,51,52,53,54,62,63,64,65,66,67,68,69,70,71,72,73,74,75,76,77,78,79,80,81,82,83,84,85,86,87,88,89,90,91,92,93,94,95,96,97,98],\"y_index\":[3,3,3,3,3,3,3,3,3,3,3,3,3,3,3,3,3,3,3,3,3,3,3,3,3,3,3,3,3,3,3,3,3,3,3,3,3,3,3,3,3,3,3,3,3,3,3,3,3,3,3,3,3,3,3,3,3,3,3,3,3,3,3,3,3,3,3,3,3,3,3,3,3,3,3,3,3,3,3,3,3,3,3,3,3,3,3]},\"selected\":{\"id\":\"2770\"},\"selection_policy\":{\"id\":\"2771\"}},\"id\":\"2621\",\"type\":\"ColumnDataSource\"},{\"attributes\":{\"text\":\"Timeline: Host Logons\"},\"id\":\"2625\",\"type\":\"Title\"},{\"attributes\":{\"source\":{\"id\":\"2619\"}},\"id\":\"2716\",\"type\":\"CDSView\"},{\"attributes\":{\"source\":{\"id\":\"2621\"}},\"id\":\"2726\",\"type\":\"CDSView\"},{\"attributes\":{\"fill_alpha\":{\"value\":0.5},\"fill_color\":{\"value\":\"#29788E\"},\"line_alpha\":{\"value\":0.5},\"line_color\":{\"value\":\"#29788E\"},\"size\":{\"units\":\"screen\",\"value\":10},\"x\":{\"field\":\"TimeGenerated\"},\"y\":{\"field\":\"y_index\"}},\"id\":\"2718\",\"type\":\"Diamond\"},{\"attributes\":{},\"id\":\"2633\",\"type\":\"LinearScale\"},{\"attributes\":{\"days\":[1,15]},\"id\":\"2783\",\"type\":\"DaysTicker\"},{\"attributes\":{\"axis_label\":\"Event Time\",\"formatter\":{\"id\":\"2705\"},\"ticker\":{\"id\":\"2636\"}},\"id\":\"2635\",\"type\":\"DatetimeAxis\"},{\"attributes\":{\"data\":{\"Account\":[\"BlackHatDemoHos\\\\timvic\",\"BlackHatDemoHos\\\\timvic\"],\"LogonType\":[3,3],\"TimeGenerated\":{\"__ndarray__\":\"ANDlu58zd0IAcAm8nzN3Qg==\",\"dtype\":\"float64\",\"order\":\"little\",\"shape\":[2]},\"index\":[55,56],\"y_index\":[2,2]},\"selected\":{\"id\":\"2768\"},\"selection_policy\":{\"id\":\"2769\"}},\"id\":\"2620\",\"type\":\"ColumnDataSource\"},{\"attributes\":{\"end\":1594416344950.5,\"start\":1594403891899.5},\"id\":\"2659\",\"type\":\"Range1d\"},{\"attributes\":{\"data\":{\"Account\":[\"Font Driver Host\\\\UMFD-0\",\"Font Driver Host\\\\UMFD-1\",\"Window Manager\\\\DWM-1\",\"Window Manager\\\\DWM-1\",\"Font Driver Host\\\\UMFD-2\",\"Window Manager\\\\DWM-2\",\"Window Manager\\\\DWM-2\"],\"LogonType\":[2,2,2,2,2,2,2],\"TimeGenerated\":{\"__ndarray__\":\"AECUaZ8zd0IAQJRpnzN3QgAwsWmfM3dCADCxaZ8zd0IA8I68nzN3QgCwkbyfM3dCALCRvJ8zd0I=\",\"dtype\":\"float64\",\"order\":\"little\",\"shape\":[7]},\"index\":[6,7,11,12,57,58,59],\"y_index\":[1,1,1,1,1,1,1]},\"selected\":{\"id\":\"2766\"},\"selection_policy\":{\"id\":\"2767\"}},\"id\":\"2619\",\"type\":\"ColumnDataSource\"},{\"attributes\":{\"data\":{\"Account\":[\"NT AUTHORITY\\\\SYSTEM\"],\"LogonType\":[0],\"TimeGenerated\":{\"__ndarray__\":\"AGB5aZ8zd0I=\",\"dtype\":\"float64\",\"order\":\"little\",\"shape\":[1]},\"index\":[4],\"y_index\":[0]},\"selected\":{\"id\":\"2764\"},\"selection_policy\":{\"id\":\"2765\"}},\"id\":\"2618\",\"type\":\"ColumnDataSource\"},{\"attributes\":{\"fill_alpha\":{\"value\":0.1},\"fill_color\":{\"value\":\"#22A784\"},\"line_alpha\":{\"value\":0.1},\"line_color\":{\"value\":\"#22A784\"},\"size\":{\"units\":\"screen\",\"value\":10},\"x\":{\"field\":\"TimeGenerated\"},\"y\":{\"field\":\"y_index\"}},\"id\":\"2724\",\"type\":\"Diamond\"},{\"attributes\":{\"source\":{\"id\":\"2622\"}},\"id\":\"2731\",\"type\":\"CDSView\"},{\"attributes\":{\"formatter\":{\"id\":\"2673\"},\"ticker\":{\"id\":\"2668\"}},\"id\":\"2667\",\"type\":\"DatetimeAxis\"},{\"attributes\":{\"mantissas\":[1,2,5],\"max_interval\":500.0,\"num_minor_ticks\":0},\"id\":\"2752\",\"type\":\"AdaptiveTicker\"},{\"attributes\":{\"formatter\":{\"id\":\"2748\"},\"ticker\":{\"id\":\"2640\"},\"visible\":false},\"id\":\"2639\",\"type\":\"LinearAxis\"},{\"attributes\":{\"fill_alpha\":{\"value\":0.1},\"fill_color\":{\"value\":\"#404387\"},\"line_alpha\":{\"value\":0.1},\"line_color\":{\"value\":\"#404387\"},\"size\":{\"units\":\"screen\",\"value\":10},\"x\":{\"field\":\"TimeGenerated\"},\"y\":{\"field\":\"y_index\"}},\"id\":\"2714\",\"type\":\"Diamond\"},{\"attributes\":{\"end\":1594415865987.0,\"start\":1594404370863.0},\"id\":\"2627\",\"type\":\"Range1d\"},{\"attributes\":{\"dimensions\":\"width\"},\"id\":\"2643\",\"type\":\"WheelZoomTool\"},{\"attributes\":{\"align\":\"right\",\"text\":\"Drag the middle or edges of the selection box to change the range in the main chart\",\"text_font_size\":{\"value\":\"10px\"}},\"id\":\"2672\",\"type\":\"Title\"},{\"attributes\":{\"fill_alpha\":{\"value\":0.1},\"fill_color\":{\"value\":\"#29788E\"},\"line_alpha\":{\"value\":0.1},\"line_color\":{\"value\":\"#29788E\"},\"size\":{\"units\":\"screen\",\"value\":10},\"x\":{\"field\":\"TimeGenerated\"},\"y\":{\"field\":\"y_index\"}},\"id\":\"2719\",\"type\":\"Diamond\"},{\"attributes\":{\"fill_alpha\":{\"value\":0.5},\"fill_color\":{\"value\":\"#404387\"},\"line_alpha\":{\"value\":0.5},\"line_color\":{\"value\":\"#404387\"},\"size\":{\"units\":\"screen\",\"value\":10},\"x\":{\"field\":\"TimeGenerated\"},\"y\":{\"field\":\"y_index\"}},\"id\":\"2713\",\"type\":\"Diamond\"},{\"attributes\":{\"below\":[{\"id\":\"2635\"}],\"center\":[{\"id\":\"2638\"},{\"id\":\"2642\"},{\"id\":\"2743\"}],\"left\":[{\"id\":\"2639\"},{\"id\":\"2732\"}],\"min_border_left\":50,\"plot_height\":200,\"plot_width\":900,\"renderers\":[{\"id\":\"2710\"},{\"id\":\"2715\"},{\"id\":\"2720\"},{\"id\":\"2725\"},{\"id\":\"2730\"},{\"id\":\"2741\"}],\"title\":{\"id\":\"2625\"},\"toolbar\":{\"id\":\"2649\"},\"x_range\":{\"id\":\"2627\"},\"x_scale\":{\"id\":\"2631\"},\"y_range\":{\"id\":\"2629\"},\"y_scale\":{\"id\":\"2633\"}},\"id\":\"2624\",\"subtype\":\"Figure\",\"type\":\"Plot\"},{\"attributes\":{\"base\":24,\"mantissas\":[1,2,4,6,8,12],\"max_interval\":43200000.0,\"min_interval\":3600000.0,\"num_minor_ticks\":0},\"id\":\"2754\",\"type\":\"AdaptiveTicker\"},{\"attributes\":{\"data_source\":{\"id\":\"2622\"},\"glyph\":{\"id\":\"2728\"},\"hover_glyph\":null,\"muted_glyph\":null,\"nonselection_glyph\":{\"id\":\"2729\"},\"selection_glyph\":null,\"view\":{\"id\":\"2731\"}},\"id\":\"2730\",\"type\":\"GlyphRenderer\"},{\"attributes\":{\"num_minor_ticks\":10,\"tickers\":[{\"id\":\"2752\"},{\"id\":\"2753\"},{\"id\":\"2754\"},{\"id\":\"2755\"},{\"id\":\"2756\"},{\"id\":\"2757\"},{\"id\":\"2758\"},{\"id\":\"2759\"},{\"id\":\"2760\"},{\"id\":\"2761\"},{\"id\":\"2762\"},{\"id\":\"2763\"}]},\"id\":\"2636\",\"type\":\"DatetimeTicker\"},{\"attributes\":{\"callback\":null,\"formatters\":{\"Tooltip\":\"printf\"},\"tooltips\":[[\"Account\",\"@Account\"],[\"LogonType\",\"@LogonType\"],[\"TimeGenerated\",\"@TimeGenerated\"]]},\"id\":\"2623\",\"type\":\"HoverTool\"},{\"attributes\":{\"active_drag\":\"auto\",\"active_inspect\":\"auto\",\"active_multi\":{\"id\":\"2700\"},\"active_scroll\":\"auto\",\"active_tap\":\"auto\",\"tools\":[{\"id\":\"2700\"}]},\"id\":\"2671\",\"type\":\"Toolbar\"},{\"attributes\":{\"label\":{\"value\":\"2\"},\"renderers\":[{\"id\":\"2715\"}]},\"id\":\"2734\",\"type\":\"LegendItem\"},{\"attributes\":{\"below\":[{\"id\":\"2667\"},{\"id\":\"2672\"}],\"center\":[{\"id\":\"2670\"}],\"plot_height\":120,\"plot_width\":900,\"renderers\":[{\"id\":\"2678\"},{\"id\":\"2683\"},{\"id\":\"2688\"},{\"id\":\"2693\"},{\"id\":\"2698\"}],\"title\":{\"id\":\"2657\"},\"toolbar\":{\"id\":\"2671\"},\"toolbar_location\":null,\"x_range\":{\"id\":\"2659\"},\"x_scale\":{\"id\":\"2663\"},\"y_range\":{\"id\":\"2661\"},\"y_scale\":{\"id\":\"2665\"}},\"id\":\"2656\",\"subtype\":\"Figure\",\"type\":\"Plot\"},{\"attributes\":{\"data_source\":{\"id\":\"2619\"},\"glyph\":{\"id\":\"2713\"},\"hover_glyph\":null,\"muted_glyph\":null,\"nonselection_glyph\":{\"id\":\"2714\"},\"selection_glyph\":null,\"view\":{\"id\":\"2716\"}},\"id\":\"2715\",\"type\":\"GlyphRenderer\"},{\"attributes\":{\"data_source\":{\"id\":\"2621\"},\"glyph\":{\"id\":\"2723\"},\"hover_glyph\":null,\"muted_glyph\":null,\"nonselection_glyph\":{\"id\":\"2724\"},\"selection_glyph\":null,\"view\":{\"id\":\"2726\"}},\"id\":\"2725\",\"type\":\"GlyphRenderer\"},{\"attributes\":{\"base\":60,\"mantissas\":[1,2,5,10,15,20,30],\"max_interval\":1800000.0,\"min_interval\":1000.0,\"num_minor_ticks\":0},\"id\":\"2753\",\"type\":\"AdaptiveTicker\"},{\"attributes\":{},\"id\":\"2663\",\"type\":\"LinearScale\"},{\"attributes\":{},\"id\":\"2661\",\"type\":\"DataRange1d\"},{\"attributes\":{},\"id\":\"2631\",\"type\":\"LinearScale\"},{\"attributes\":{\"axis\":{\"id\":\"2667\"},\"ticker\":null},\"id\":\"2670\",\"type\":\"Grid\"},{\"attributes\":{\"fill_alpha\":{\"value\":0.1},\"fill_color\":{\"value\":\"#79D151\"},\"line_alpha\":{\"value\":0.1},\"line_color\":{\"value\":\"#79D151\"},\"size\":{\"units\":\"screen\",\"value\":10},\"x\":{\"field\":\"TimeGenerated\"},\"y\":{\"field\":\"y_index\"}},\"id\":\"2729\",\"type\":\"Diamond\"},{\"attributes\":{\"source\":{\"id\":\"2620\"}},\"id\":\"2721\",\"type\":\"CDSView\"},{\"attributes\":{\"end\":4.2,\"start\":-0.2},\"id\":\"2629\",\"type\":\"Range1d\"},{\"attributes\":{\"axis\":{\"id\":\"2635\"},\"minor_grid_line_alpha\":0.3,\"minor_grid_line_color\":\"navy\",\"ticker\":null},\"id\":\"2638\",\"type\":\"Grid\"},{\"attributes\":{},\"id\":\"2640\",\"type\":\"BasicTicker\"},{\"attributes\":{},\"id\":\"2763\",\"type\":\"YearsTicker\"},{\"attributes\":{\"bottom_units\":\"screen\",\"fill_alpha\":0.5,\"fill_color\":\"lightgrey\",\"left_units\":\"screen\",\"level\":\"overlay\",\"line_alpha\":1.0,\"line_color\":\"black\",\"line_dash\":[4,4],\"line_width\":2,\"right_units\":\"screen\",\"top_units\":\"screen\"},\"id\":\"2648\",\"type\":\"BoxAnnotation\"},{\"attributes\":{\"months\":[0,1,2,3,4,5,6,7,8,9,10,11]},\"id\":\"2784\",\"type\":\"MonthsTicker\"},{\"attributes\":{\"data_source\":{\"id\":\"2619\"},\"glyph\":{\"id\":\"2681\"},\"hover_glyph\":null,\"muted_glyph\":null,\"nonselection_glyph\":{\"id\":\"2682\"},\"selection_glyph\":null,\"view\":{\"id\":\"2684\"}},\"id\":\"2683\",\"type\":\"GlyphRenderer\"},{\"attributes\":{\"months\":[0,2,4,6,8,10]},\"id\":\"2785\",\"type\":\"MonthsTicker\"},{\"attributes\":{\"months\":[0,4,8]},\"id\":\"2786\",\"type\":\"MonthsTicker\"},{\"attributes\":{\"months\":[0,6]},\"id\":\"2787\",\"type\":\"MonthsTicker\"},{\"attributes\":{},\"id\":\"2788\",\"type\":\"YearsTicker\"},{\"attributes\":{\"fill_alpha\":{\"value\":0.1},\"fill_color\":{\"value\":\"#440154\"},\"line_alpha\":{\"value\":0.1},\"line_color\":{\"value\":\"#440154\"},\"x\":{\"field\":\"TimeGenerated\"},\"y\":{\"field\":\"y_index\"}},\"id\":\"2677\",\"type\":\"Circle\"},{\"attributes\":{\"data_source\":{\"id\":\"2622\"},\"glyph\":{\"id\":\"2696\"},\"hover_glyph\":null,\"muted_glyph\":null,\"nonselection_glyph\":{\"id\":\"2697\"},\"selection_glyph\":null,\"view\":{\"id\":\"2699\"}},\"id\":\"2698\",\"type\":\"GlyphRenderer\"},{\"attributes\":{\"fill_color\":{\"value\":\"#440154\"},\"line_color\":{\"value\":\"#440154\"},\"x\":{\"field\":\"TimeGenerated\"},\"y\":{\"field\":\"y_index\"}},\"id\":\"2676\",\"type\":\"Circle\"},{\"attributes\":{\"fill_color\":{\"value\":\"#29788E\"},\"line_color\":{\"value\":\"#29788E\"},\"x\":{\"field\":\"TimeGenerated\"},\"y\":{\"field\":\"y_index\"}},\"id\":\"2686\",\"type\":\"Circle\"},{\"attributes\":{\"fill_alpha\":0.2,\"fill_color\":\"navy\",\"level\":\"overlay\",\"line_alpha\":1.0,\"line_color\":\"black\",\"line_dash\":[2,2],\"line_width\":0.5},\"id\":\"2701\",\"type\":\"BoxAnnotation\"},{\"attributes\":{\"label\":{\"value\":\"3\"},\"renderers\":[{\"id\":\"2720\"}]},\"id\":\"2735\",\"type\":\"LegendItem\"},{\"attributes\":{\"source\":{\"id\":\"2618\"}},\"id\":\"2711\",\"type\":\"CDSView\"},{\"attributes\":{\"active_drag\":\"auto\",\"active_inspect\":\"auto\",\"active_multi\":null,\"active_scroll\":\"auto\",\"active_tap\":\"auto\",\"tools\":[{\"id\":\"2623\"},{\"id\":\"2643\"},{\"id\":\"2644\"},{\"id\":\"2645\"},{\"id\":\"2646\"},{\"id\":\"2647\"}]},\"id\":\"2649\",\"type\":\"Toolbar\"},{\"attributes\":{\"click_policy\":\"hide\",\"items\":[{\"id\":\"2733\"},{\"id\":\"2734\"},{\"id\":\"2735\"},{\"id\":\"2736\"},{\"id\":\"2737\"}],\"label_text_font_size\":\"8pt\",\"location\":\"center\"},\"id\":\"2732\",\"type\":\"Legend\"},{\"attributes\":{\"data_source\":{\"id\":\"2620\"},\"glyph\":{\"id\":\"2686\"},\"hover_glyph\":null,\"muted_glyph\":null,\"nonselection_glyph\":{\"id\":\"2687\"},\"selection_glyph\":null,\"view\":{\"id\":\"2689\"}},\"id\":\"2688\",\"type\":\"GlyphRenderer\"},{\"attributes\":{\"data_source\":{\"id\":\"2618\"},\"glyph\":{\"id\":\"2708\"},\"hover_glyph\":null,\"muted_glyph\":null,\"nonselection_glyph\":{\"id\":\"2709\"},\"selection_glyph\":null,\"view\":{\"id\":\"2711\"}},\"id\":\"2710\",\"type\":\"GlyphRenderer\"},{\"attributes\":{\"label\":{\"value\":\"5\"},\"renderers\":[{\"id\":\"2725\"}]},\"id\":\"2736\",\"type\":\"LegendItem\"},{\"attributes\":{\"fill_alpha\":{\"value\":0.1},\"fill_color\":{\"value\":\"#404387\"},\"line_alpha\":{\"value\":0.1},\"line_color\":{\"value\":\"#404387\"},\"x\":{\"field\":\"TimeGenerated\"},\"y\":{\"field\":\"y_index\"}},\"id\":\"2682\",\"type\":\"Circle\"},{\"attributes\":{\"fill_alpha\":{\"value\":0.1},\"fill_color\":{\"value\":\"#22A784\"},\"line_alpha\":{\"value\":0.1},\"line_color\":{\"value\":\"#22A784\"},\"x\":{\"field\":\"TimeGenerated\"},\"y\":{\"field\":\"y_index\"}},\"id\":\"2692\",\"type\":\"Circle\"},{\"attributes\":{\"label\":{\"value\":\"10\"},\"renderers\":[{\"id\":\"2730\"}]},\"id\":\"2737\",\"type\":\"LegendItem\"},{\"attributes\":{\"fill_alpha\":{\"value\":0.1},\"fill_color\":{\"value\":\"#29788E\"},\"line_alpha\":{\"value\":0.1},\"line_color\":{\"value\":\"#29788E\"},\"x\":{\"field\":\"TimeGenerated\"},\"y\":{\"field\":\"y_index\"}},\"id\":\"2687\",\"type\":\"Circle\"},{\"attributes\":{\"months\":[0,6]},\"id\":\"2762\",\"type\":\"MonthsTicker\"},{\"attributes\":{\"background_fill_alpha\":0.5,\"background_fill_color\":\"white\",\"border_line_color\":\"red\",\"render_mode\":\"css\",\"text\":\"< Alert time\",\"text_font_size\":\"8pt\",\"x\":1594405727000.0,\"y\":0,\"y_offset\":10},\"id\":\"2743\",\"type\":\"Label\"},{\"attributes\":{\"source\":{\"id\":\"2738\"}},\"id\":\"2742\",\"type\":\"CDSView\"},{\"attributes\":{\"data_source\":{\"id\":\"2738\"},\"glyph\":{\"id\":\"2739\"},\"hover_glyph\":null,\"muted_glyph\":null,\"nonselection_glyph\":{\"id\":\"2740\"},\"selection_glyph\":null,\"view\":{\"id\":\"2742\"}},\"id\":\"2741\",\"type\":\"GlyphRenderer\"},{\"attributes\":{},\"id\":\"2645\",\"type\":\"ResetTool\"},{\"attributes\":{\"days\":[1,4,7,10,13,16,19,22,25,28]},\"id\":\"2756\",\"type\":\"DaysTicker\"},{\"attributes\":{\"line_alpha\":0.1,\"line_color\":\"red\",\"line_dash\":[6],\"line_width\":2,\"x\":{\"field\":\"x\"},\"y\":{\"field\":\"y\"}},\"id\":\"2740\",\"type\":\"Line\"},{\"attributes\":{\"data\":{\"x\":[1594405727000.0,1594405727000.0],\"y\":[0,5]},\"selected\":{\"id\":\"2774\"},\"selection_policy\":{\"id\":\"2775\"}},\"id\":\"2738\",\"type\":\"ColumnDataSource\"},{\"attributes\":{\"source\":{\"id\":\"2618\"}},\"id\":\"2679\",\"type\":\"CDSView\"},{\"attributes\":{\"fill_color\":{\"value\":\"#404387\"},\"line_color\":{\"value\":\"#404387\"},\"x\":{\"field\":\"TimeGenerated\"},\"y\":{\"field\":\"y_index\"}},\"id\":\"2681\",\"type\":\"Circle\"},{\"attributes\":{\"days\":[1,8,15,22]},\"id\":\"2757\",\"type\":\"DaysTicker\"},{\"attributes\":{},\"id\":\"2764\",\"type\":\"Selection\"},{\"attributes\":{\"source\":{\"id\":\"2622\"}},\"id\":\"2699\",\"type\":\"CDSView\"},{\"attributes\":{},\"id\":\"2765\",\"type\":\"UnionRenderers\"},{\"attributes\":{},\"id\":\"2766\",\"type\":\"Selection\"},{\"attributes\":{\"fill_alpha\":{\"value\":0.1},\"fill_color\":{\"value\":\"#440154\"},\"line_alpha\":{\"value\":0.1},\"line_color\":{\"value\":\"#440154\"},\"size\":{\"units\":\"screen\",\"value\":10},\"x\":{\"field\":\"TimeGenerated\"},\"y\":{\"field\":\"y_index\"}},\"id\":\"2709\",\"type\":\"Diamond\"},{\"attributes\":{},\"id\":\"2767\",\"type\":\"UnionRenderers\"},{\"attributes\":{},\"id\":\"2768\",\"type\":\"Selection\"},{\"attributes\":{\"fill_alpha\":{\"value\":0.5},\"fill_color\":{\"value\":\"#440154\"},\"line_alpha\":{\"value\":0.5},\"line_color\":{\"value\":\"#440154\"},\"size\":{\"units\":\"screen\",\"value\":10},\"x\":{\"field\":\"TimeGenerated\"},\"y\":{\"field\":\"y_index\"}},\"id\":\"2708\",\"type\":\"Diamond\"},{\"attributes\":{\"overlay\":{\"id\":\"2701\"},\"x_range\":{\"id\":\"2627\"},\"y_range\":null},\"id\":\"2700\",\"type\":\"RangeTool\"},{\"attributes\":{\"months\":[0,4,8]},\"id\":\"2761\",\"type\":\"MonthsTicker\"},{\"attributes\":{},\"id\":\"2769\",\"type\":\"UnionRenderers\"},{\"attributes\":{\"fill_alpha\":{\"value\":0.1},\"fill_color\":{\"value\":\"#79D151\"},\"line_alpha\":{\"value\":0.1},\"line_color\":{\"value\":\"#79D151\"},\"x\":{\"field\":\"TimeGenerated\"},\"y\":{\"field\":\"y_index\"}},\"id\":\"2697\",\"type\":\"Circle\"},{\"attributes\":{\"days\":[1,15]},\"id\":\"2758\",\"type\":\"DaysTicker\"},{\"attributes\":{},\"id\":\"2770\",\"type\":\"Selection\"},{\"attributes\":{\"source\":{\"id\":\"2620\"}},\"id\":\"2689\",\"type\":\"CDSView\"},{\"attributes\":{},\"id\":\"2771\",\"type\":\"UnionRenderers\"},{\"attributes\":{\"data_source\":{\"id\":\"2621\"},\"glyph\":{\"id\":\"2691\"},\"hover_glyph\":null,\"muted_glyph\":null,\"nonselection_glyph\":{\"id\":\"2692\"},\"selection_glyph\":null,\"view\":{\"id\":\"2694\"}},\"id\":\"2693\",\"type\":\"GlyphRenderer\"},{\"attributes\":{\"days\":[\"%m-%d %H:%M\"],\"hours\":[\"%H:%M:%S\"],\"milliseconds\":[\"%H:%M:%S.%3N\"],\"minutes\":[\"%H:%M:%S\"],\"seconds\":[\"%H:%M:%S\"]},\"id\":\"2705\",\"type\":\"DatetimeTickFormatter\"},{\"attributes\":{\"line_color\":\"red\",\"line_dash\":[6],\"line_width\":2,\"x\":{\"field\":\"x\"},\"y\":{\"field\":\"y\"}},\"id\":\"2739\",\"type\":\"Line\"},{\"attributes\":{\"months\":[0,1,2,3,4,5,6,7,8,9,10,11]},\"id\":\"2759\",\"type\":\"MonthsTicker\"},{\"attributes\":{},\"id\":\"2772\",\"type\":\"Selection\"},{\"attributes\":{\"label\":{\"value\":\"0\"},\"renderers\":[{\"id\":\"2710\"}]},\"id\":\"2733\",\"type\":\"LegendItem\"},{\"attributes\":{},\"id\":\"2773\",\"type\":\"UnionRenderers\"},{\"attributes\":{},\"id\":\"2774\",\"type\":\"Selection\"},{\"attributes\":{\"fill_color\":{\"value\":\"#79D151\"},\"line_color\":{\"value\":\"#79D151\"},\"x\":{\"field\":\"TimeGenerated\"},\"y\":{\"field\":\"y_index\"}},\"id\":\"2696\",\"type\":\"Circle\"},{\"attributes\":{},\"id\":\"2775\",\"type\":\"UnionRenderers\"},{\"attributes\":{\"data_source\":{\"id\":\"2618\"},\"glyph\":{\"id\":\"2676\"},\"hover_glyph\":null,\"muted_glyph\":null,\"nonselection_glyph\":{\"id\":\"2677\"},\"selection_glyph\":null,\"view\":{\"id\":\"2679\"}},\"id\":\"2678\",\"type\":\"GlyphRenderer\"},{\"attributes\":{\"days\":[\"%m-%d %H:%M\"],\"hours\":[\"%H:%M:%S\"],\"milliseconds\":[\"%H:%M:%S.%3N\"],\"minutes\":[\"%H:%M:%S\"],\"seconds\":[\"%H:%M:%S\"]},\"id\":\"2673\",\"type\":\"DatetimeTickFormatter\"},{\"attributes\":{\"days\":[1,2,3,4,5,6,7,8,9,10,11,12,13,14,15,16,17,18,19,20,21,22,23,24,25,26,27,28,29,30,31]},\"id\":\"2755\",\"type\":\"DaysTicker\"},{\"attributes\":{\"mantissas\":[1,2,5],\"max_interval\":500.0,\"num_minor_ticks\":0},\"id\":\"2777\",\"type\":\"AdaptiveTicker\"},{\"attributes\":{\"fill_color\":{\"value\":\"#22A784\"},\"line_color\":{\"value\":\"#22A784\"},\"x\":{\"field\":\"TimeGenerated\"},\"y\":{\"field\":\"y_index\"}},\"id\":\"2691\",\"type\":\"Circle\"},{\"attributes\":{\"base\":60,\"mantissas\":[1,2,5,10,15,20,30],\"max_interval\":1800000.0,\"min_interval\":1000.0,\"num_minor_ticks\":0},\"id\":\"2778\",\"type\":\"AdaptiveTicker\"},{\"attributes\":{},\"id\":\"2646\",\"type\":\"SaveTool\"},{\"attributes\":{\"base\":24,\"mantissas\":[1,2,4,6,8,12],\"max_interval\":43200000.0,\"min_interval\":3600000.0,\"num_minor_ticks\":0},\"id\":\"2779\",\"type\":\"AdaptiveTicker\"},{\"attributes\":{\"source\":{\"id\":\"2621\"}},\"id\":\"2694\",\"type\":\"CDSView\"},{\"attributes\":{\"days\":[1,2,3,4,5,6,7,8,9,10,11,12,13,14,15,16,17,18,19,20,21,22,23,24,25,26,27,28,29,30,31]},\"id\":\"2780\",\"type\":\"DaysTicker\"},{\"attributes\":{\"dimensions\":\"width\"},\"id\":\"2647\",\"type\":\"PanTool\"},{\"attributes\":{\"days\":[1,4,7,10,13,16,19,22,25,28]},\"id\":\"2781\",\"type\":\"DaysTicker\"},{\"attributes\":{\"days\":[1,8,15,22]},\"id\":\"2782\",\"type\":\"DaysTicker\"},{\"attributes\":{\"months\":[0,2,4,6,8,10]},\"id\":\"2760\",\"type\":\"MonthsTicker\"},{\"attributes\":{\"source\":{\"id\":\"2619\"}},\"id\":\"2684\",\"type\":\"CDSView\"}],\"root_ids\":[\"2744\"]},\"title\":\"Bokeh Application\",\"version\":\"2.1.1\"}};\n",
       "  var render_items = [{\"docid\":\"9ce536b6-dd92-43c4-8223-f85c6c77bf86\",\"root_ids\":[\"2744\"],\"roots\":{\"2744\":\"88230589-ffb5-4ca2-8dd5-d0ad0b2fe53a\"}}];\n",
       "  root.Bokeh.embed.embed_items_notebook(docs_json, render_items);\n",
       "\n",
       "  }\n",
       "  if (root.Bokeh !== undefined) {\n",
       "    embed_document(root);\n",
       "  } else {\n",
       "    var attempts = 0;\n",
       "    var timer = setInterval(function(root) {\n",
       "      if (root.Bokeh !== undefined) {\n",
       "        clearInterval(timer);\n",
       "        embed_document(root);\n",
       "      } else {\n",
       "        attempts++;\n",
       "        if (attempts > 100) {\n",
       "          clearInterval(timer);\n",
       "          console.log(\"Bokeh: ERROR: Unable to run BokehJS code because BokehJS library is missing\");\n",
       "        }\n",
       "      }\n",
       "    }, 10, root)\n",
       "  }\n",
       "})(window);"
      ],
      "application/vnd.bokehjs_exec.v0+json": ""
     },
     "metadata": {
      "application/vnd.bokehjs_exec.v0+json": {
       "id": "2744"
      }
     },
     "output_type": "display_data"
    }
   ],
   "source": [
    "# Acquire data using a built in query\n",
    "host_logons = qry_prov.WindowsSecurity.list_host_logons(start=start,end=end, host_name=host_name)\n",
    "\n",
    "# Display timeline\n",
    "tooltip_cols = [\"TimeGenerated\", \"Account\", \"LogonType\", 'TimeGenerated']\n",
    "nbdisplay.display_timeline(\n",
    "    data=host_logons, \n",
    "    alert=rel_alert_select.selected_alert, \n",
    "    title=\"Host Logons\", \n",
    "    source_columns = tooltip_cols, \n",
    "    group_by = \"LogonType\", \n",
    "    height=200\n",
    ");"
   ]
  },
  {
   "cell_type": "markdown",
   "metadata": {},
   "source": [
    "When presented with a large number of events such as we have here its useful to cluster these into a more managable number of groups. MSTICpy contains [clustering features](https://msticpy.readthedocs.io/en/latest/msticpy.sectools.html?highlight=cluster_events#msticpy.sectools.eventcluster.dbcluster_events) that can be used against a number of data types. Once clustering is complete we use another [widget](https://msticpy.readthedocs.io/en/latest/msticpy.nbtools.html?highlight=SelectItem#msticpy.nbtools.nbwidgets.SelectItem) to let the user select the cluster they want to focus on."
   ]
  },
  {
   "cell_type": "code",
   "execution_count": 31,
   "metadata": {},
   "outputs": [
    {
     "data": {
      "application/vnd.jupyter.widget-view+json": {
       "model_id": "f040c96f0ee5468db51eb660eb161c59",
       "version_major": 2,
       "version_minor": 0
      },
      "text/plain": [
       "VBox(children=(Text(value='', description='Filter:', style=DescriptionStyle(description_width='initial')), Sel…"
      ]
     },
     "metadata": {},
     "output_type": "display_data"
    },
    {
     "data": {
      "text/html": [
       "<hr>"
      ],
      "text/plain": [
       "<IPython.core.display.HTML object>"
      ]
     },
     "metadata": {},
     "output_type": "display_data"
    },
    {
     "data": {
      "text/html": [
       "\n",
       "        <style>\n",
       "            .table_logon {border-collapse: collapse; width: 50%;}\n",
       "            .cell_logon {border: 1px solid #ddd !important;\n",
       "                text-align: left !important; padding: 15px !important;}\n",
       "        </style>\n",
       "        <table class='table_logon'><tr class='cell_logon'><td class='cell_logon'><b>Account: </b>timvic<br><b>Account Domain: </b>BlackHatDemoHos<br><b>Logon Time: </b>2020-07-10 18:27:49.790000+00:00<br><b>Logon type: </b>10(RemoteInteractive)<br><b>User Id/SID: </b>S-1-5-21-3334416894-4278249820-3875274378-1006<br>&nbsp;&nbsp;SID S-1-5-21-3334416894-4278249820-3875274378-1006 is local machine or domain account<br><br><b>Subject (source) account: </b>WORKGROUP/BlackHatDemoHos$<br><b>Logon process: </b>User32 <br><b>Authentication: </b>Negotiate<br><b>Source IpAddress: </b>174.127.235.80<br><b>Source Host: </b>BlackHatDemoHos<br><b>Logon status: </b><br></td></tr></table>"
      ],
      "text/plain": [
       "<IPython.core.display.HTML object>"
      ]
     },
     "metadata": {},
     "output_type": "display_data"
    }
   ],
   "source": [
    "from msticpy.sectools.eventcluster import dbcluster_events, add_process_features, _string_score\n",
    "\n",
    "# Create features from raw data\n",
    "logon_features = host_logons.copy()\n",
    "logon_features[\"AccountNum\"] = host_logons.apply(lambda x: _string_score(x.Account), axis=1)\n",
    "logon_features[\"TargetUserNum\"] = host_logons.apply(lambda x: _string_score(x.TargetUserName), axis=1)\n",
    "logon_features[\"LogonHour\"] = host_logons.apply(lambda x: x.TimeGenerated.hour, axis=1)\n",
    "\n",
    "# run clustering\n",
    "(clus_logons, _, _) = dbcluster_events(\n",
    "    data=logon_features, \n",
    "    time_column=\"TimeGenerated\", \n",
    "    cluster_columns=[\"AccountNum\", \"LogonType\", \"TargetUserNum\"], \n",
    "    max_cluster_distance=0.0001\n",
    ")\n",
    "\n",
    "# Get distinct items from clustered set\n",
    "dist_logons = clus_logons.sort_values(\"TimeGenerated\")[\n",
    "    [\"TargetUserName\", \"TimeGenerated\", \"LastEventTime\", \"LogonType\", \"ClusterSize\"]\n",
    "]\n",
    "dist_logons = dist_logons.apply(lambda x: (\n",
    "        f\"{x.TargetUserName}:    \"\n",
    "        f\"(logontype {x.LogonType})   \"\n",
    "        f\"timerange: {x.TimeGenerated} - {x.LastEventTime}    \"\n",
    "        f\"count: {x.ClusterSize}\"\n",
    "    ),\n",
    "    axis=1,\n",
    ")\n",
    "dist_logons = {v: k for k, v in dist_logons.to_dict().items()}\n",
    "\n",
    "# Display list to choose from\n",
    "def show_logon(idx):\n",
    "    return nbdisplay.format_logon(pd.DataFrame(clus_logons.loc[idx]).T)\n",
    "\n",
    "logon_wgt = nbwidgets.SelectItem(\n",
    "    description=\"Select logon cluster to examine\",\n",
    "    item_dict=dist_logons,\n",
    "    action=show_logon,\n",
    "    height=\"200px\", \n",
    "    width=\"100%\", \n",
    "    auto_display=True\n",
    ")"
   ]
  },
  {
   "cell_type": "code",
   "execution_count": 32,
   "metadata": {},
   "outputs": [],
   "source": [
    "# We can reset our timeframe based on the selected cluster.\n",
    "start = clus_logons.loc[logon_wgt.value]['FirstEventTime']\n",
    "end = clus_logons.loc[logon_wgt.value]['LastEventTime']"
   ]
  },
  {
   "cell_type": "markdown",
   "metadata": {},
   "source": [
    "### Process Tree\n",
    "When investigating a host it is valuable to see the processes executed on the host, and the relationship between them. We can use the MSTICpy *ProcessTree* functionality to build and visualize [process trees](https://msticpy.readthedocs.io/en/latest/visualization/ProcessTree.html) from both Linux and Windows hosts.<br>\n",
    "\n",
    "> Due to the volume of data potentially involved when looking at process events, it's important to have a focused time frame to look at. We use the MSTICpy [widget for selecting a time range](https://msticpy.readthedocs.io/en/latest/visualization/NotebookWidgets.html?highlight=QueryTime#querytime)."
   ]
  },
  {
   "cell_type": "code",
   "execution_count": 33,
   "metadata": {},
   "outputs": [
    {
     "data": {
      "application/vnd.jupyter.widget-view+json": {
       "model_id": "955e1bd81ae7438bb5c161599af59f01",
       "version_major": 2,
       "version_minor": 0
      },
      "text/plain": [
       "HTML(value='<h4>Set query time boundaries</h4>')"
      ]
     },
     "metadata": {},
     "output_type": "display_data"
    },
    {
     "data": {
      "application/vnd.jupyter.widget-view+json": {
       "model_id": "8ddfb817c7e848c394a34bb3c0d77e0c",
       "version_major": 2,
       "version_minor": 0
      },
      "text/plain": [
       "HBox(children=(DatePicker(value=datetime.date(2020, 7, 10), description='Origin Date'), Text(value='18:27:49.7…"
      ]
     },
     "metadata": {},
     "output_type": "display_data"
    },
    {
     "data": {
      "application/vnd.jupyter.widget-view+json": {
       "model_id": "f5dd96a48ec2458faf73280f9fcec870",
       "version_major": 2,
       "version_minor": 0
      },
      "text/plain": [
       "VBox(children=(IntRangeSlider(value=(0, 3), description='Time Range (hour):', layout=Layout(width='80%'), max=…"
      ]
     },
     "metadata": {},
     "output_type": "display_data"
    }
   ],
   "source": [
    "timescope = nbwidgets.QueryTime(units=\"hours\", origin_time = start, max_before=12, max_after=24, before=0, after=3, auto_display=True)"
   ]
  },
  {
   "cell_type": "code",
   "execution_count": 34,
   "metadata": {},
   "outputs": [
    {
     "data": {
      "application/javascript": [
       "try {IPython.notebook.kernel.execute(\"NOTEBOOK_URL = '\" + window.location + \"'\");} catch(err) {;}"
      ],
      "text/plain": [
       "<IPython.core.display.Javascript object>"
      ]
     },
     "metadata": {},
     "output_type": "display_data"
    },
    {
     "data": {
      "application/vnd.jupyter.widget-view+json": {
       "model_id": "157ad1c9f6b0479f96ba6e4b68a8eee9",
       "version_major": 2,
       "version_minor": 0
      },
      "text/plain": [
       "HBox(children=(IntProgress(value=0, bar_style='info', description='Progress:'), Label(value='0%')))"
      ]
     },
     "metadata": {},
     "output_type": "display_data"
    },
    {
     "name": "stdout",
     "output_type": "stream",
     "text": [
      "{'Processes': 1154, 'RootProcesses': 14, 'LeafProcesses': 861, 'BranchProcesses': 279, 'IsolatedProcesses': 0, 'LargestTreeDepth': 6}\n"
     ]
    },
    {
     "data": {
      "application/vnd.jupyter.widget-view+json": {
       "model_id": "74589cac60574c1f994f62414c3a6de8",
       "version_major": 2,
       "version_minor": 0
      },
      "text/plain": [
       "VBox(children=(Text(value='', description='Filter:', style=DescriptionStyle(description_width='initial')), Sel…"
      ]
     },
     "metadata": {},
     "output_type": "display_data"
    },
    {
     "data": {
      "text/html": [
       "<hr>"
      ],
      "text/plain": [
       "<IPython.core.display.HTML object>"
      ]
     },
     "metadata": {},
     "output_type": "display_data"
    }
   ],
   "source": [
    "proc_data = qry_prov.WindowsSecurity.list_host_processes(start=timescope.start,end=timescope.end, host_name=host_name)\n",
    "p_tree = ptree.build_process_tree(proc_data, show_progress=True)\n",
    "root_proc_sel = nbwidgets.SelectItem(\n",
    "    description=\"Select root process to investigate process tree\",\n",
    "    item_list=ptree.get_roots(p_tree)['NewProcessName'].to_list(),\n",
    "    height=\"200px\",\n",
    "    width=\"100%\",\n",
    "    auto_display=True)"
   ]
  },
  {
   "cell_type": "code",
   "execution_count": 36,
   "metadata": {},
   "outputs": [
    {
     "data": {
      "text/html": [
       "\n",
       "    <div class=\"bk-root\">\n",
       "        <a href=\"https://bokeh.org\" target=\"_blank\" class=\"bk-logo bk-logo-small bk-logo-notebook\"></a>\n",
       "        <span id=\"3408\">Loading BokehJS ...</span>\n",
       "    </div>"
      ]
     },
     "metadata": {},
     "output_type": "display_data"
    },
    {
     "data": {
      "application/javascript": [
       "\n",
       "(function(root) {\n",
       "  function now() {\n",
       "    return new Date();\n",
       "  }\n",
       "\n",
       "  var force = true;\n",
       "\n",
       "  if (typeof root._bokeh_onload_callbacks === \"undefined\" || force === true) {\n",
       "    root._bokeh_onload_callbacks = [];\n",
       "    root._bokeh_is_loading = undefined;\n",
       "  }\n",
       "\n",
       "  var JS_MIME_TYPE = 'application/javascript';\n",
       "  var HTML_MIME_TYPE = 'text/html';\n",
       "  var EXEC_MIME_TYPE = 'application/vnd.bokehjs_exec.v0+json';\n",
       "  var CLASS_NAME = 'output_bokeh rendered_html';\n",
       "\n",
       "  /**\n",
       "   * Render data to the DOM node\n",
       "   */\n",
       "  function render(props, node) {\n",
       "    var script = document.createElement(\"script\");\n",
       "    node.appendChild(script);\n",
       "  }\n",
       "\n",
       "  /**\n",
       "   * Handle when an output is cleared or removed\n",
       "   */\n",
       "  function handleClearOutput(event, handle) {\n",
       "    var cell = handle.cell;\n",
       "\n",
       "    var id = cell.output_area._bokeh_element_id;\n",
       "    var server_id = cell.output_area._bokeh_server_id;\n",
       "    // Clean up Bokeh references\n",
       "    if (id != null && id in Bokeh.index) {\n",
       "      Bokeh.index[id].model.document.clear();\n",
       "      delete Bokeh.index[id];\n",
       "    }\n",
       "\n",
       "    if (server_id !== undefined) {\n",
       "      // Clean up Bokeh references\n",
       "      var cmd = \"from bokeh.io.state import curstate; print(curstate().uuid_to_server['\" + server_id + \"'].get_sessions()[0].document.roots[0]._id)\";\n",
       "      cell.notebook.kernel.execute(cmd, {\n",
       "        iopub: {\n",
       "          output: function(msg) {\n",
       "            var id = msg.content.text.trim();\n",
       "            if (id in Bokeh.index) {\n",
       "              Bokeh.index[id].model.document.clear();\n",
       "              delete Bokeh.index[id];\n",
       "            }\n",
       "          }\n",
       "        }\n",
       "      });\n",
       "      // Destroy server and session\n",
       "      var cmd = \"import bokeh.io.notebook as ion; ion.destroy_server('\" + server_id + \"')\";\n",
       "      cell.notebook.kernel.execute(cmd);\n",
       "    }\n",
       "  }\n",
       "\n",
       "  /**\n",
       "   * Handle when a new output is added\n",
       "   */\n",
       "  function handleAddOutput(event, handle) {\n",
       "    var output_area = handle.output_area;\n",
       "    var output = handle.output;\n",
       "\n",
       "    // limit handleAddOutput to display_data with EXEC_MIME_TYPE content only\n",
       "    if ((output.output_type != \"display_data\") || (!output.data.hasOwnProperty(EXEC_MIME_TYPE))) {\n",
       "      return\n",
       "    }\n",
       "\n",
       "    var toinsert = output_area.element.find(\".\" + CLASS_NAME.split(' ')[0]);\n",
       "\n",
       "    if (output.metadata[EXEC_MIME_TYPE][\"id\"] !== undefined) {\n",
       "      toinsert[toinsert.length - 1].firstChild.textContent = output.data[JS_MIME_TYPE];\n",
       "      // store reference to embed id on output_area\n",
       "      output_area._bokeh_element_id = output.metadata[EXEC_MIME_TYPE][\"id\"];\n",
       "    }\n",
       "    if (output.metadata[EXEC_MIME_TYPE][\"server_id\"] !== undefined) {\n",
       "      var bk_div = document.createElement(\"div\");\n",
       "      bk_div.innerHTML = output.data[HTML_MIME_TYPE];\n",
       "      var script_attrs = bk_div.children[0].attributes;\n",
       "      for (var i = 0; i < script_attrs.length; i++) {\n",
       "        toinsert[toinsert.length - 1].firstChild.setAttribute(script_attrs[i].name, script_attrs[i].value);\n",
       "        toinsert[toinsert.length - 1].firstChild.textContent = bk_div.children[0].textContent\n",
       "      }\n",
       "      // store reference to server id on output_area\n",
       "      output_area._bokeh_server_id = output.metadata[EXEC_MIME_TYPE][\"server_id\"];\n",
       "    }\n",
       "  }\n",
       "\n",
       "  function register_renderer(events, OutputArea) {\n",
       "\n",
       "    function append_mime(data, metadata, element) {\n",
       "      // create a DOM node to render to\n",
       "      var toinsert = this.create_output_subarea(\n",
       "        metadata,\n",
       "        CLASS_NAME,\n",
       "        EXEC_MIME_TYPE\n",
       "      );\n",
       "      this.keyboard_manager.register_events(toinsert);\n",
       "      // Render to node\n",
       "      var props = {data: data, metadata: metadata[EXEC_MIME_TYPE]};\n",
       "      render(props, toinsert[toinsert.length - 1]);\n",
       "      element.append(toinsert);\n",
       "      return toinsert\n",
       "    }\n",
       "\n",
       "    /* Handle when an output is cleared or removed */\n",
       "    events.on('clear_output.CodeCell', handleClearOutput);\n",
       "    events.on('delete.Cell', handleClearOutput);\n",
       "\n",
       "    /* Handle when a new output is added */\n",
       "    events.on('output_added.OutputArea', handleAddOutput);\n",
       "\n",
       "    /**\n",
       "     * Register the mime type and append_mime function with output_area\n",
       "     */\n",
       "    OutputArea.prototype.register_mime_type(EXEC_MIME_TYPE, append_mime, {\n",
       "      /* Is output safe? */\n",
       "      safe: true,\n",
       "      /* Index of renderer in `output_area.display_order` */\n",
       "      index: 0\n",
       "    });\n",
       "  }\n",
       "\n",
       "  // register the mime type if in Jupyter Notebook environment and previously unregistered\n",
       "  if (root.Jupyter !== undefined) {\n",
       "    var events = require('base/js/events');\n",
       "    var OutputArea = require('notebook/js/outputarea').OutputArea;\n",
       "\n",
       "    if (OutputArea.prototype.mime_types().indexOf(EXEC_MIME_TYPE) == -1) {\n",
       "      register_renderer(events, OutputArea);\n",
       "    }\n",
       "  }\n",
       "\n",
       "  \n",
       "  if (typeof (root._bokeh_timeout) === \"undefined\" || force === true) {\n",
       "    root._bokeh_timeout = Date.now() + 5000;\n",
       "    root._bokeh_failed_load = false;\n",
       "  }\n",
       "\n",
       "  var NB_LOAD_WARNING = {'data': {'text/html':\n",
       "     \"<div style='background-color: #fdd'>\\n\"+\n",
       "     \"<p>\\n\"+\n",
       "     \"BokehJS does not appear to have successfully loaded. If loading BokehJS from CDN, this \\n\"+\n",
       "     \"may be due to a slow or bad network connection. Possible fixes:\\n\"+\n",
       "     \"</p>\\n\"+\n",
       "     \"<ul>\\n\"+\n",
       "     \"<li>re-rerun `output_notebook()` to attempt to load from CDN again, or</li>\\n\"+\n",
       "     \"<li>use INLINE resources instead, as so:</li>\\n\"+\n",
       "     \"</ul>\\n\"+\n",
       "     \"<code>\\n\"+\n",
       "     \"from bokeh.resources import INLINE\\n\"+\n",
       "     \"output_notebook(resources=INLINE)\\n\"+\n",
       "     \"</code>\\n\"+\n",
       "     \"</div>\"}};\n",
       "\n",
       "  function display_loaded() {\n",
       "    var el = document.getElementById(\"3408\");\n",
       "    if (el != null) {\n",
       "      el.textContent = \"BokehJS is loading...\";\n",
       "    }\n",
       "    if (root.Bokeh !== undefined) {\n",
       "      if (el != null) {\n",
       "        el.textContent = \"BokehJS \" + root.Bokeh.version + \" successfully loaded.\";\n",
       "      }\n",
       "    } else if (Date.now() < root._bokeh_timeout) {\n",
       "      setTimeout(display_loaded, 100)\n",
       "    }\n",
       "  }\n",
       "\n",
       "\n",
       "  function run_callbacks() {\n",
       "    try {\n",
       "      root._bokeh_onload_callbacks.forEach(function(callback) {\n",
       "        if (callback != null)\n",
       "          callback();\n",
       "      });\n",
       "    } finally {\n",
       "      delete root._bokeh_onload_callbacks\n",
       "    }\n",
       "    console.debug(\"Bokeh: all callbacks have finished\");\n",
       "  }\n",
       "\n",
       "  function load_libs(css_urls, js_urls, callback) {\n",
       "    if (css_urls == null) css_urls = [];\n",
       "    if (js_urls == null) js_urls = [];\n",
       "\n",
       "    root._bokeh_onload_callbacks.push(callback);\n",
       "    if (root._bokeh_is_loading > 0) {\n",
       "      console.debug(\"Bokeh: BokehJS is being loaded, scheduling callback at\", now());\n",
       "      return null;\n",
       "    }\n",
       "    if (js_urls == null || js_urls.length === 0) {\n",
       "      run_callbacks();\n",
       "      return null;\n",
       "    }\n",
       "    console.debug(\"Bokeh: BokehJS not loaded, scheduling load and callback at\", now());\n",
       "    root._bokeh_is_loading = css_urls.length + js_urls.length;\n",
       "\n",
       "    function on_load() {\n",
       "      root._bokeh_is_loading--;\n",
       "      if (root._bokeh_is_loading === 0) {\n",
       "        console.debug(\"Bokeh: all BokehJS libraries/stylesheets loaded\");\n",
       "        run_callbacks()\n",
       "      }\n",
       "    }\n",
       "\n",
       "    function on_error() {\n",
       "      console.error(\"failed to load \" + url);\n",
       "    }\n",
       "\n",
       "    for (var i = 0; i < css_urls.length; i++) {\n",
       "      var url = css_urls[i];\n",
       "      const element = document.createElement(\"link\");\n",
       "      element.onload = on_load;\n",
       "      element.onerror = on_error;\n",
       "      element.rel = \"stylesheet\";\n",
       "      element.type = \"text/css\";\n",
       "      element.href = url;\n",
       "      console.debug(\"Bokeh: injecting link tag for BokehJS stylesheet: \", url);\n",
       "      document.body.appendChild(element);\n",
       "    }\n",
       "\n",
       "    const hashes = {\"https://cdn.bokeh.org/bokeh/release/bokeh-2.1.1.min.js\": \"kLr4fYcqcSpbuI95brIH3vnnYCquzzSxHPU6XGQCIkQRGJwhg0StNbj1eegrHs12\", \"https://cdn.bokeh.org/bokeh/release/bokeh-widgets-2.1.1.min.js\": \"xIGPmVtaOm+z0BqfSOMn4lOR6ciex448GIKG4eE61LsAvmGj48XcMQZtKcE/UXZe\", \"https://cdn.bokeh.org/bokeh/release/bokeh-tables-2.1.1.min.js\": \"Dc9u1wF/0zApGIWoBbH77iWEHtdmkuYWG839Uzmv8y8yBLXebjO9ZnERsde5Ln/P\", \"https://cdn.bokeh.org/bokeh/release/bokeh-gl-2.1.1.min.js\": \"cT9JaBz7GiRXdENrJLZNSC6eMNF3nh3fa5fTF51Svp+ukxPdwcU5kGXGPBgDCa2j\"};\n",
       "\n",
       "    for (var i = 0; i < js_urls.length; i++) {\n",
       "      var url = js_urls[i];\n",
       "      var element = document.createElement('script');\n",
       "      element.onload = on_load;\n",
       "      element.onerror = on_error;\n",
       "      element.async = false;\n",
       "      element.src = url;\n",
       "      if (url in hashes) {\n",
       "        element.crossOrigin = \"anonymous\";\n",
       "        element.integrity = \"sha384-\" + hashes[url];\n",
       "      }\n",
       "      console.debug(\"Bokeh: injecting script tag for BokehJS library: \", url);\n",
       "      document.head.appendChild(element);\n",
       "    }\n",
       "  };\n",
       "\n",
       "  function inject_raw_css(css) {\n",
       "    const element = document.createElement(\"style\");\n",
       "    element.appendChild(document.createTextNode(css));\n",
       "    document.body.appendChild(element);\n",
       "  }\n",
       "\n",
       "  \n",
       "  var js_urls = [\"https://cdn.bokeh.org/bokeh/release/bokeh-2.1.1.min.js\", \"https://cdn.bokeh.org/bokeh/release/bokeh-widgets-2.1.1.min.js\", \"https://cdn.bokeh.org/bokeh/release/bokeh-tables-2.1.1.min.js\", \"https://cdn.bokeh.org/bokeh/release/bokeh-gl-2.1.1.min.js\"];\n",
       "  var css_urls = [];\n",
       "  \n",
       "\n",
       "  var inline_js = [\n",
       "    function(Bokeh) {\n",
       "      Bokeh.set_log_level(\"info\");\n",
       "    },\n",
       "    function(Bokeh) {\n",
       "    \n",
       "    \n",
       "    }\n",
       "  ];\n",
       "\n",
       "  function run_inline_js() {\n",
       "    \n",
       "    if (root.Bokeh !== undefined || force === true) {\n",
       "      \n",
       "    for (var i = 0; i < inline_js.length; i++) {\n",
       "      inline_js[i].call(root, root.Bokeh);\n",
       "    }\n",
       "    if (force === true) {\n",
       "        display_loaded();\n",
       "      }} else if (Date.now() < root._bokeh_timeout) {\n",
       "      setTimeout(run_inline_js, 100);\n",
       "    } else if (!root._bokeh_failed_load) {\n",
       "      console.log(\"Bokeh: BokehJS failed to load within specified timeout.\");\n",
       "      root._bokeh_failed_load = true;\n",
       "    } else if (force !== true) {\n",
       "      var cell = $(document.getElementById(\"3408\")).parents('.cell').data().cell;\n",
       "      cell.output_area.append_execute_result(NB_LOAD_WARNING)\n",
       "    }\n",
       "\n",
       "  }\n",
       "\n",
       "  if (root._bokeh_is_loading === 0) {\n",
       "    console.debug(\"Bokeh: BokehJS loaded, going straight to plotting\");\n",
       "    run_inline_js();\n",
       "  } else {\n",
       "    load_libs(css_urls, js_urls, function() {\n",
       "      console.debug(\"Bokeh: BokehJS plotting callback run at\", now());\n",
       "      run_inline_js();\n",
       "    });\n",
       "  }\n",
       "}(window));"
      ],
      "application/vnd.bokehjs_load.v0+json": "\n(function(root) {\n  function now() {\n    return new Date();\n  }\n\n  var force = true;\n\n  if (typeof root._bokeh_onload_callbacks === \"undefined\" || force === true) {\n    root._bokeh_onload_callbacks = [];\n    root._bokeh_is_loading = undefined;\n  }\n\n  \n\n  \n  if (typeof (root._bokeh_timeout) === \"undefined\" || force === true) {\n    root._bokeh_timeout = Date.now() + 5000;\n    root._bokeh_failed_load = false;\n  }\n\n  var NB_LOAD_WARNING = {'data': {'text/html':\n     \"<div style='background-color: #fdd'>\\n\"+\n     \"<p>\\n\"+\n     \"BokehJS does not appear to have successfully loaded. If loading BokehJS from CDN, this \\n\"+\n     \"may be due to a slow or bad network connection. Possible fixes:\\n\"+\n     \"</p>\\n\"+\n     \"<ul>\\n\"+\n     \"<li>re-rerun `output_notebook()` to attempt to load from CDN again, or</li>\\n\"+\n     \"<li>use INLINE resources instead, as so:</li>\\n\"+\n     \"</ul>\\n\"+\n     \"<code>\\n\"+\n     \"from bokeh.resources import INLINE\\n\"+\n     \"output_notebook(resources=INLINE)\\n\"+\n     \"</code>\\n\"+\n     \"</div>\"}};\n\n  function display_loaded() {\n    var el = document.getElementById(\"3408\");\n    if (el != null) {\n      el.textContent = \"BokehJS is loading...\";\n    }\n    if (root.Bokeh !== undefined) {\n      if (el != null) {\n        el.textContent = \"BokehJS \" + root.Bokeh.version + \" successfully loaded.\";\n      }\n    } else if (Date.now() < root._bokeh_timeout) {\n      setTimeout(display_loaded, 100)\n    }\n  }\n\n\n  function run_callbacks() {\n    try {\n      root._bokeh_onload_callbacks.forEach(function(callback) {\n        if (callback != null)\n          callback();\n      });\n    } finally {\n      delete root._bokeh_onload_callbacks\n    }\n    console.debug(\"Bokeh: all callbacks have finished\");\n  }\n\n  function load_libs(css_urls, js_urls, callback) {\n    if (css_urls == null) css_urls = [];\n    if (js_urls == null) js_urls = [];\n\n    root._bokeh_onload_callbacks.push(callback);\n    if (root._bokeh_is_loading > 0) {\n      console.debug(\"Bokeh: BokehJS is being loaded, scheduling callback at\", now());\n      return null;\n    }\n    if (js_urls == null || js_urls.length === 0) {\n      run_callbacks();\n      return null;\n    }\n    console.debug(\"Bokeh: BokehJS not loaded, scheduling load and callback at\", now());\n    root._bokeh_is_loading = css_urls.length + js_urls.length;\n\n    function on_load() {\n      root._bokeh_is_loading--;\n      if (root._bokeh_is_loading === 0) {\n        console.debug(\"Bokeh: all BokehJS libraries/stylesheets loaded\");\n        run_callbacks()\n      }\n    }\n\n    function on_error() {\n      console.error(\"failed to load \" + url);\n    }\n\n    for (var i = 0; i < css_urls.length; i++) {\n      var url = css_urls[i];\n      const element = document.createElement(\"link\");\n      element.onload = on_load;\n      element.onerror = on_error;\n      element.rel = \"stylesheet\";\n      element.type = \"text/css\";\n      element.href = url;\n      console.debug(\"Bokeh: injecting link tag for BokehJS stylesheet: \", url);\n      document.body.appendChild(element);\n    }\n\n    const hashes = {\"https://cdn.bokeh.org/bokeh/release/bokeh-2.1.1.min.js\": \"kLr4fYcqcSpbuI95brIH3vnnYCquzzSxHPU6XGQCIkQRGJwhg0StNbj1eegrHs12\", \"https://cdn.bokeh.org/bokeh/release/bokeh-widgets-2.1.1.min.js\": \"xIGPmVtaOm+z0BqfSOMn4lOR6ciex448GIKG4eE61LsAvmGj48XcMQZtKcE/UXZe\", \"https://cdn.bokeh.org/bokeh/release/bokeh-tables-2.1.1.min.js\": \"Dc9u1wF/0zApGIWoBbH77iWEHtdmkuYWG839Uzmv8y8yBLXebjO9ZnERsde5Ln/P\", \"https://cdn.bokeh.org/bokeh/release/bokeh-gl-2.1.1.min.js\": \"cT9JaBz7GiRXdENrJLZNSC6eMNF3nh3fa5fTF51Svp+ukxPdwcU5kGXGPBgDCa2j\"};\n\n    for (var i = 0; i < js_urls.length; i++) {\n      var url = js_urls[i];\n      var element = document.createElement('script');\n      element.onload = on_load;\n      element.onerror = on_error;\n      element.async = false;\n      element.src = url;\n      if (url in hashes) {\n        element.crossOrigin = \"anonymous\";\n        element.integrity = \"sha384-\" + hashes[url];\n      }\n      console.debug(\"Bokeh: injecting script tag for BokehJS library: \", url);\n      document.head.appendChild(element);\n    }\n  };\n\n  function inject_raw_css(css) {\n    const element = document.createElement(\"style\");\n    element.appendChild(document.createTextNode(css));\n    document.body.appendChild(element);\n  }\n\n  \n  var js_urls = [\"https://cdn.bokeh.org/bokeh/release/bokeh-2.1.1.min.js\", \"https://cdn.bokeh.org/bokeh/release/bokeh-widgets-2.1.1.min.js\", \"https://cdn.bokeh.org/bokeh/release/bokeh-tables-2.1.1.min.js\", \"https://cdn.bokeh.org/bokeh/release/bokeh-gl-2.1.1.min.js\"];\n  var css_urls = [];\n  \n\n  var inline_js = [\n    function(Bokeh) {\n      Bokeh.set_log_level(\"info\");\n    },\n    function(Bokeh) {\n    \n    \n    }\n  ];\n\n  function run_inline_js() {\n    \n    if (root.Bokeh !== undefined || force === true) {\n      \n    for (var i = 0; i < inline_js.length; i++) {\n      inline_js[i].call(root, root.Bokeh);\n    }\n    if (force === true) {\n        display_loaded();\n      }} else if (Date.now() < root._bokeh_timeout) {\n      setTimeout(run_inline_js, 100);\n    } else if (!root._bokeh_failed_load) {\n      console.log(\"Bokeh: BokehJS failed to load within specified timeout.\");\n      root._bokeh_failed_load = true;\n    } else if (force !== true) {\n      var cell = $(document.getElementById(\"3408\")).parents('.cell').data().cell;\n      cell.output_area.append_execute_result(NB_LOAD_WARNING)\n    }\n\n  }\n\n  if (root._bokeh_is_loading === 0) {\n    console.debug(\"Bokeh: BokehJS loaded, going straight to plotting\");\n    run_inline_js();\n  } else {\n    load_libs(css_urls, js_urls, function() {\n      console.debug(\"Bokeh: BokehJS plotting callback run at\", now());\n      run_inline_js();\n    });\n  }\n}(window));"
     },
     "metadata": {},
     "output_type": "display_data"
    },
    {
     "data": {
      "text/html": [
       "\n",
       "\n",
       "\n",
       "\n",
       "\n",
       "\n",
       "  <div class=\"bk-root\" id=\"a52eff63-fea4-43d2-bf38-64e302413e0b\" data-root-id=\"3538\"></div>\n"
      ]
     },
     "metadata": {},
     "output_type": "display_data"
    },
    {
     "data": {
      "application/javascript": [
       "(function(root) {\n",
       "  function embed_document(root) {\n",
       "    \n",
       "  var docs_json = {\"1fc62440-d162-4855-9e76-28a4547fa3ec\":{\"roots\":{\"references\":[{\"attributes\":{\"children\":[{\"id\":\"3523\"},{\"id\":\"3536\"}]},\"id\":\"3538\",\"type\":\"Column\"},{\"attributes\":{\"editor\":{\"id\":\"3547\"},\"field\":\"SubjectLogonId\",\"formatter\":{\"id\":\"3548\"},\"title\":\"SubjectLogonId\"},\"id\":\"3529\",\"type\":\"TableColumn\"},{\"attributes\":{\"editor\":{\"id\":\"3549\"},\"field\":\"NewProcessId\",\"formatter\":{\"id\":\"3550\"},\"title\":\"NewProcessId\"},\"id\":\"3530\",\"type\":\"TableColumn\"},{\"attributes\":{\"editor\":{\"id\":\"3551\"},\"field\":\"NewProcessName\",\"formatter\":{\"id\":\"3552\"},\"title\":\"NewProcessName\"},\"id\":\"3531\",\"type\":\"TableColumn\"},{\"attributes\":{\"editor\":{\"id\":\"3553\"},\"field\":\"CommandLine\",\"formatter\":{\"id\":\"3554\"},\"title\":\"CommandLine\"},\"id\":\"3532\",\"type\":\"TableColumn\"},{\"attributes\":{\"editor\":{\"id\":\"3555\"},\"field\":\"ProcessId\",\"formatter\":{\"id\":\"3556\"},\"title\":\"ProcessId\"},\"id\":\"3533\",\"type\":\"TableColumn\"},{\"attributes\":{\"data\":{\"Account\":[\"NaN\",\"WORKGROUP\\\\BlackHatDemoHos$\",\"BlackHatDemoHos\\\\timvic\",\"BlackHatDemoHos\\\\timvic\",\"BlackHatDemoHos\\\\timvic\",\"BlackHatDemoHos\\\\timvic\",\"BlackHatDemoHos\\\\timvic\",\"BlackHatDemoHos\\\\timvic\",\"BlackHatDemoHos\\\\timvic\",\"BlackHatDemoHos\\\\timvic\",\"BlackHatDemoHos\\\\timvic\",\"BlackHatDemoHos\\\\timvic\",\"BlackHatDemoHos\\\\timvic\",\"BlackHatDemoHos\\\\timvic\",\"BlackHatDemoHos\\\\timvic\",\"BlackHatDemoHos\\\\timvic\",\"BlackHatDemoHos\\\\timvic\",\"BlackHatDemoHos\\\\timvic\",\"BlackHatDemoHos\\\\timvic\",\"BlackHatDemoHos\\\\timvic\",\"BlackHatDemoHos\\\\timvic\",\"BlackHatDemoHos\\\\timvic\",\"BlackHatDemoHos\\\\timvic\",\"BlackHatDemoHos\\\\timvic\",\"BlackHatDemoHos\\\\timvic\",\"BlackHatDemoHos\\\\timvic\",\"BlackHatDemoHos\\\\timvic\",\"BlackHatDemoHos\\\\timvic\",\"BlackHatDemoHos\\\\timvic\",\"BlackHatDemoHos\\\\timvic\",\"BlackHatDemoHos\\\\timvic\",\"BlackHatDemoHos\\\\timvic\",\"BlackHatDemoHos\\\\timvic\",\"BlackHatDemoHos\\\\timvic\",\"BlackHatDemoHos\\\\timvic\",\"BlackHatDemoHos\\\\timvic\",\"BlackHatDemoHos\\\\timvic\",\"BlackHatDemoHos\\\\timvic\",\"BlackHatDemoHos\\\\timvic\",\"BlackHatDemoHos\\\\timvic\",\"BlackHatDemoHos\\\\timvic\",\"BlackHatDemoHos\\\\timvic\",\"BlackHatDemoHos\\\\timvic\",\"BlackHatDemoHos\\\\timvic\",\"BlackHatDemoHos\\\\timvic\",\"BlackHatDemoHos\\\\timvic\",\"BlackHatDemoHos\\\\timvic\",\"BlackHatDemoHos\\\\timvic\",\"BlackHatDemoHos\\\\timvic\",\"BlackHatDemoHos\\\\timvic\",\"BlackHatDemoHos\\\\timvic\",\"BlackHatDemoHos\\\\timvic\",\"WORKGROUP\\\\BlackHatDemoHos$\"],\"CommandLine\":[\"NaN\",\"C:\\\\windows\\\\system32\\\\userinit.exe\",\"C:\\\\windows\\\\Explorer.EXE\",\"\\\"C:\\\\Windows\\\\System32\\\\SecurityHealthSystray.exe\\\" \",\"\\\"C:\\\\Users\\\\timvic\\\\AppData\\\\Local\\\\Microsoft\\\\OneDrive\\\\OneDrive.exe\\\" /background\",\"\\\"C:\\\\Windows\\\\System32\\\\cmd.exe\\\" /q /c del /q \\\"C:\\\\Users\\\\timvic\\\\AppData\\\\Local\\\\Microsoft\\\\OneDrive\\\\Update\\\\OneDriveSetup.exe\\\"\",\"\\\\??\\\\C:\\\\windows\\\\system32\\\\conhost.exe 0xffffffff -ForceV1\",\"\\\"C:\\\\Windows\\\\System32\\\\cmd.exe\\\" /q /c del /q \\\"C:\\\\Users\\\\timvic\\\\AppData\\\\Local\\\\Microsoft\\\\OneDrive\\\\StandaloneUpdater\\\\OneDriveSetup.exe\\\"\",\"\\\\??\\\\C:\\\\windows\\\\system32\\\\conhost.exe 0xffffffff -ForceV1\",\"\\\"C:\\\\Windows\\\\System32\\\\cmd.exe\\\" /q /c rmdir /s /q \\\"C:\\\\Users\\\\timvic\\\\AppData\\\\Local\\\\Microsoft\\\\OneDrive\\\\18.143.0717.0002\\\\amd64\\\"\",\"\\\\??\\\\C:\\\\windows\\\\system32\\\\conhost.exe 0xffffffff -ForceV1\",\"\\\"C:\\\\Windows\\\\System32\\\\cmd.exe\\\" /q /c rmdir /s /q \\\"C:\\\\Users\\\\timvic\\\\AppData\\\\Local\\\\Microsoft\\\\OneDrive\\\\18.143.0717.0002\\\"\",\"\\\\??\\\\C:\\\\windows\\\\system32\\\\conhost.exe 0xffffffff -ForceV1\",\"\\\"C:\\\\windows\\\\system32\\\\cmd.exe\\\" \",\"net  user abai$ Wf9k44_9d[=$ /add\",\"C:\\\\windows\\\\system32\\\\net1  user abai$ Wf9k44_9d[=$ /add\",\"net  user abai$ Wf9k44_9d[=$\",\"C:\\\\windows\\\\system32\\\\net1  user abai$ Wf9k44_9d[=$\",\"net  localgroup administrators \",\"C:\\\\windows\\\\system32\\\\net1  localgroup administrators \",\"findstr  \\\"abai$\\\"\",\"net  localgroup administrators abai$ /add\",\"C:\\\\windows\\\\system32\\\\net1  localgroup administrators abai$ /add\",\"net  users \",\"C:\\\\windows\\\\system32\\\\net1  users \",\"findstr  \\\"secure-ssl-sec.com\\\"\",\"net  user faxing-mon.best Wf9k44_9d[=$ /add\",\"C:\\\\windows\\\\system32\\\\net1  user faxing-mon.best Wf9k44_9d[=$ /add\",\"net  user secure-ssl-sec.com Wf9k44_sinc9d3[=$\",\"C:\\\\windows\\\\system32\\\\net1  user secure-ssl-sec.com Wf9k44_sinc9d3[=$\",\"net  user secure-ssl-sec.com /active:yes\",\"C:\\\\windows\\\\system32\\\\net1  user secure-ssl-sec.com /active:yes\",\"cmd  /c echo QWxsIHlvdXIgc2VydmVycyBiZWxvbmcgdG8gZmF4aW5nLW1vbi5iZXN0IG5vdy4= \",\"reg  ADD \\\"HKLM\\\\SYSTEM\\\\CurrentControlSet\\\\Control\\\\Terminal Server\\\" /v fDenyTSConnections /t REG_DWORD /d 00000000 /f\\\"\",\"schtasks.exe  /create /tn  /tr \\\"c:\\\\pagefile.exe /?\\\" /sc hour /mo 1 /ru \\\"system\\\" /f\",\"ping  32.220.60.108 -n 100 \",\"net  localgroup administrators abai$ /delete\",\"C:\\\\windows\\\\system32\\\\net1  localgroup administrators abai$ /delete\",\"net  user abai$ /delete\",\"C:\\\\windows\\\\system32\\\\net1  user abai$ /delete\",\"net  user faxing-mon.best /delete\",\"C:\\\\windows\\\\system32\\\\net1  user faxing-mon.best /delete\",\"cmd  /c echo End Security Demo tasks\",\"\\\\??\\\\C:\\\\windows\\\\system32\\\\conhost.exe 0xffffffff -ForceV1\",\"cmd  /c echo Begin Security Demo tasks\",\"cmd  /c echo Any questions about the commands executed here then please contact one of\",\"cmd  /c echo timb@microsoft.com; ianhelle@microsoft.com; shainw@microsoft.com\",\"ftp  -s:MG06.dll\",\"cacls.exe  C:\\\\Windows\\\\system32\\\\cscript.exe /e /t /g SYSTEM:F\",\"net  users \",\"C:\\\\windows\\\\system32\\\\net1  users \",\"findstr  \\\"abai$\\\"\",\"\\\"LogonUI.exe\\\" /flags:0x0 /state0:0xa3c7e055 /state1:0x41c64e6d\"],\"Computer\":[\"BlackHatDemoHos\",\"BlackHatDemoHos\",\"BlackHatDemoHos\",\"BlackHatDemoHos\",\"BlackHatDemoHos\",\"BlackHatDemoHos\",\"BlackHatDemoHos\",\"BlackHatDemoHos\",\"BlackHatDemoHos\",\"BlackHatDemoHos\",\"BlackHatDemoHos\",\"BlackHatDemoHos\",\"BlackHatDemoHos\",\"BlackHatDemoHos\",\"BlackHatDemoHos\",\"BlackHatDemoHos\",\"BlackHatDemoHos\",\"BlackHatDemoHos\",\"BlackHatDemoHos\",\"BlackHatDemoHos\",\"BlackHatDemoHos\",\"BlackHatDemoHos\",\"BlackHatDemoHos\",\"BlackHatDemoHos\",\"BlackHatDemoHos\",\"BlackHatDemoHos\",\"BlackHatDemoHos\",\"BlackHatDemoHos\",\"BlackHatDemoHos\",\"BlackHatDemoHos\",\"BlackHatDemoHos\",\"BlackHatDemoHos\",\"BlackHatDemoHos\",\"BlackHatDemoHos\",\"BlackHatDemoHos\",\"BlackHatDemoHos\",\"BlackHatDemoHos\",\"BlackHatDemoHos\",\"BlackHatDemoHos\",\"BlackHatDemoHos\",\"BlackHatDemoHos\",\"BlackHatDemoHos\",\"BlackHatDemoHos\",\"BlackHatDemoHos\",\"BlackHatDemoHos\",\"BlackHatDemoHos\",\"BlackHatDemoHos\",\"BlackHatDemoHos\",\"BlackHatDemoHos\",\"BlackHatDemoHos\",\"BlackHatDemoHos\",\"BlackHatDemoHos\",\"BlackHatDemoHos\"],\"EffectiveLogonId\":[\"0x3e7\",\"0x136fc6\",\"0x136fc6\",\"0x136fc6\",\"0x136fc6\",\"0x136fc6\",\"0x136fc6\",\"0x136fc6\",\"0x136fc6\",\"0x136fc6\",\"0x136fc6\",\"0x136fc6\",\"0x136fc6\",\"0x136fc6\",\"0x136fc6\",\"0x136fc6\",\"0x136fc6\",\"0x136fc6\",\"0x136fc6\",\"0x136fc6\",\"0x136fc6\",\"0x136fc6\",\"0x136fc6\",\"0x136fc6\",\"0x136fc6\",\"0x136fc6\",\"0x136fc6\",\"0x136fc6\",\"0x136fc6\",\"0x136fc6\",\"0x136fc6\",\"0x136fc6\",\"0x136fc6\",\"0x136fc6\",\"0x136fc6\",\"0x136fc6\",\"0x136fc6\",\"0x136fc6\",\"0x136fc6\",\"0x136fc6\",\"0x136fc6\",\"0x136fc6\",\"0x136fc6\",\"0x136fc6\",\"0x136fc6\",\"0x136fc6\",\"0x136fc6\",\"0x136fc6\",\"0x136fc6\",\"0x136fc6\",\"0x136fc6\",\"0x136fc6\",\"0x3e7\"],\"EffectiveLogonId_par\":[\"NaN\",\"0x3e7\",\"0x136fc6\",\"0x136fc6\",\"0x136fc6\",\"0x136fc6\",\"0x136fc6\",\"0x136fc6\",\"0x136fc6\",\"0x136fc6\",\"0x136fc6\",\"0x136fc6\",\"0x136fc6\",\"0x136fc6\",\"0x136fc6\",\"0x136fc6\",\"0x136fc6\",\"0x136fc6\",\"0x136fc6\",\"0x136fc6\",\"0x136fc6\",\"0x136fc6\",\"0x136fc6\",\"0x136fc6\",\"0x136fc6\",\"0x136fc6\",\"0x136fc6\",\"0x136fc6\",\"0x136fc6\",\"0x136fc6\",\"0x136fc6\",\"0x136fc6\",\"0x136fc6\",\"0x136fc6\",\"0x136fc6\",\"0x136fc6\",\"0x136fc6\",\"0x136fc6\",\"0x136fc6\",\"0x136fc6\",\"0x136fc6\",\"0x136fc6\",\"0x136fc6\",\"0x136fc6\",\"0x136fc6\",\"0x136fc6\",\"0x136fc6\",\"0x136fc6\",\"0x136fc6\",\"0x136fc6\",\"0x136fc6\",\"0x136fc6\",\"0x3e7\"],\"EventID\":[4688,4688,4688,4688,4688,4688,4688,4688,4688,4688,4688,4688,4688,4688,4688,4688,4688,4688,4688,4688,4688,4688,4688,4688,4688,4688,4688,4688,4688,4688,4688,4688,4688,4688,4688,4688,4688,4688,4688,4688,4688,4688,4688,4688,4688,4688,4688,4688,4688,4688,4688,4688,4688],\"Exe\":[\"winlogon.exe\",\"userinit.exe\",\"explorer.exe\",\"SecurityHealthSystray.exe\",\"OneDrive.exe\",\"cmd.exe\",\"conhost.exe\",\"cmd.exe\",\"conhost.exe\",\"cmd.exe\",\"conhost.exe\",\"cmd.exe\",\"conhost.exe\",\"cmd.exe\",\"net.exe\",\"net1.exe\",\"net.exe\",\"net1.exe\",\"net.exe\",\"net1.exe\",\"findstr.exe\",\"net.exe\",\"net1.exe\",\"net.exe\",\"net1.exe\",\"findstr.exe\",\"net.exe\",\"net1.exe\",\"net.exe\",\"net1.exe\",\"net.exe\",\"net1.exe\",\"cmd.exe\",\"reg.exe\",\"schtasks.exe\",\"PING.EXE\",\"net.exe\",\"net1.exe\",\"net.exe\",\"net1.exe\",\"net.exe\",\"net1.exe\",\"cmd.exe\",\"conhost.exe\",\"cmd.exe\",\"cmd.exe\",\"cmd.exe\",\"ftp.exe\",\"cacls.exe\",\"net.exe\",\"net1.exe\",\"findstr.exe\",\"LogonUI.exe\"],\"IsBranch\":[false,true,true,false,false,true,false,true,false,true,false,true,false,true,true,false,true,false,true,false,false,true,false,true,false,false,true,false,true,false,true,false,false,false,false,false,true,false,true,false,true,false,false,false,false,false,false,false,false,true,false,false,false],\"IsLeaf\":[false,false,false,true,true,false,true,false,true,false,true,false,true,false,false,true,false,true,false,true,true,false,true,false,true,true,false,true,false,true,false,true,true,true,true,true,false,true,false,true,false,true,true,true,true,true,true,true,true,false,true,true,true],\"IsRoot\":[true,false,false,false,false,false,false,false,false,false,false,false,false,false,false,false,false,false,false,false,false,false,false,false,false,false,false,false,false,false,false,false,false,false,false,false,false,false,false,false,false,false,false,false,false,false,false,false,false,false,false,false,false],\"Level\":[1,2,3,4,4,4,5,4,5,4,5,4,5,4,5,6,5,6,5,6,5,5,6,5,6,5,5,6,5,6,5,6,5,5,5,5,5,6,5,6,5,6,5,5,5,5,5,5,5,5,6,5,2],\"NewProcessId\":[\"0x60c\",\"0x1968\",\"0x19a0\",\"0x9fc\",\"0x1240\",\"0x2414\",\"0x2424\",\"0x241c\",\"0x242c\",\"0x2440\",\"0x244c\",\"0x246c\",\"0x2480\",\"0x21ec\",\"0x2418\",\"0x24d0\",\"0x2490\",\"0x24a0\",\"0x2118\",\"0x26d0\",\"0x2420\",\"0x2684\",\"0x20ac\",\"0x227c\",\"0x2160\",\"0xab0\",\"0x1d94\",\"0x2140\",\"0x146c\",\"0x23ac\",\"0x230c\",\"0x438\",\"0x1a38\",\"0x2268\",\"0x2524\",\"0x2048\",\"0x22c0\",\"0x1dc8\",\"0x93c\",\"0x1814\",\"0x2488\",\"0x1fb8\",\"0x1214\",\"0x1e44\",\"0x2154\",\"0x2690\",\"0x26e4\",\"0x279c\",\"0x21d8\",\"0x27bc\",\"0x2410\",\"0x2720\",\"0x15d0\"],\"NewProcessId_par\":[\"NaN\",\"0x60c\",\"0x1968\",\"0x19a0\",\"0x19a0\",\"0x19a0\",\"0x2414\",\"0x19a0\",\"0x241c\",\"0x19a0\",\"0x2440\",\"0x19a0\",\"0x246c\",\"0x19a0\",\"0x21ec\",\"0x2418\",\"0x21ec\",\"0x2490\",\"0x21ec\",\"0x2118\",\"0x21ec\",\"0x21ec\",\"0x2684\",\"0x21ec\",\"0x227c\",\"0x21ec\",\"0x21ec\",\"0x1d94\",\"0x21ec\",\"0x146c\",\"0x21ec\",\"0x230c\",\"0x21ec\",\"0x21ec\",\"0x21ec\",\"0x21ec\",\"0x21ec\",\"0x22c0\",\"0x21ec\",\"0x93c\",\"0x21ec\",\"0x2488\",\"0x21ec\",\"0x21ec\",\"0x21ec\",\"0x21ec\",\"0x21ec\",\"0x21ec\",\"0x21ec\",\"0x21ec\",\"0x27bc\",\"0x21ec\",\"0x60c\"],\"NewProcessName\":[\"C:\\\\Windows\\\\System32\\\\winlogon.exe\",\"C:\\\\Windows\\\\System32\\\\userinit.exe\",\"C:\\\\Windows\\\\explorer.exe\",\"C:\\\\Windows\\\\System32\\\\SecurityHealthSystray.exe\",\"C:\\\\Users\\\\timvic\\\\AppData\\\\Local\\\\Microsoft\\\\OneDrive\\\\OneDrive.exe\",\"C:\\\\Windows\\\\System32\\\\cmd.exe\",\"C:\\\\Windows\\\\System32\\\\conhost.exe\",\"C:\\\\Windows\\\\System32\\\\cmd.exe\",\"C:\\\\Windows\\\\System32\\\\conhost.exe\",\"C:\\\\Windows\\\\System32\\\\cmd.exe\",\"C:\\\\Windows\\\\System32\\\\conhost.exe\",\"C:\\\\Windows\\\\System32\\\\cmd.exe\",\"C:\\\\Windows\\\\System32\\\\conhost.exe\",\"C:\\\\Windows\\\\System32\\\\cmd.exe\",\"C:\\\\Windows\\\\System32\\\\net.exe\",\"C:\\\\Windows\\\\System32\\\\net1.exe\",\"C:\\\\Windows\\\\System32\\\\net.exe\",\"C:\\\\Windows\\\\System32\\\\net1.exe\",\"C:\\\\Windows\\\\System32\\\\net.exe\",\"C:\\\\Windows\\\\System32\\\\net1.exe\",\"C:\\\\Windows\\\\System32\\\\findstr.exe\",\"C:\\\\Windows\\\\System32\\\\net.exe\",\"C:\\\\Windows\\\\System32\\\\net1.exe\",\"C:\\\\Windows\\\\System32\\\\net.exe\",\"C:\\\\Windows\\\\System32\\\\net1.exe\",\"C:\\\\Windows\\\\System32\\\\findstr.exe\",\"C:\\\\Windows\\\\System32\\\\net.exe\",\"C:\\\\Windows\\\\System32\\\\net1.exe\",\"C:\\\\Windows\\\\System32\\\\net.exe\",\"C:\\\\Windows\\\\System32\\\\net1.exe\",\"C:\\\\Windows\\\\System32\\\\net.exe\",\"C:\\\\Windows\\\\System32\\\\net1.exe\",\"C:\\\\Windows\\\\System32\\\\cmd.exe\",\"C:\\\\W!ndows\\\\System32\\\\reg.exe\",\"C:\\\\Windows\\\\System32\\\\schtasks.exe\",\"C:\\\\Windows\\\\System32\\\\PING.EXE\",\"C:\\\\Windows\\\\System32\\\\net.exe\",\"C:\\\\Windows\\\\System32\\\\net1.exe\",\"C:\\\\Windows\\\\System32\\\\net.exe\",\"C:\\\\Windows\\\\System32\\\\net1.exe\",\"C:\\\\Windows\\\\System32\\\\net.exe\",\"C:\\\\Windows\\\\System32\\\\net1.exe\",\"C:\\\\Windows\\\\System32\\\\cmd.exe\",\"C:\\\\Windows\\\\System32\\\\conhost.exe\",\"C:\\\\Windows\\\\System32\\\\cmd.exe\",\"C:\\\\Windows\\\\System32\\\\cmd.exe\",\"C:\\\\Windows\\\\System32\\\\cmd.exe\",\"C:\\\\Windows\\\\System32\\\\ftp.exe\",\"C:\\\\W!ndows\\\\System32\\\\cacls.exe\",\"C:\\\\Windows\\\\System32\\\\net.exe\",\"C:\\\\Windows\\\\System32\\\\net1.exe\",\"C:\\\\Windows\\\\System32\\\\findstr.exe\",\"C:\\\\Windows\\\\System32\\\\LogonUI.exe\"],\"NewProcessName_par\":[\"NaN\",\"NaN\",\"C:\\\\Windows\\\\System32\\\\userinit.exe\",\"C:\\\\Windows\\\\explorer.exe\",\"C:\\\\Windows\\\\explorer.exe\",\"C:\\\\Windows\\\\explorer.exe\",\"C:\\\\Windows\\\\System32\\\\cmd.exe\",\"C:\\\\Windows\\\\explorer.exe\",\"C:\\\\Windows\\\\System32\\\\cmd.exe\",\"C:\\\\Windows\\\\explorer.exe\",\"C:\\\\Windows\\\\System32\\\\cmd.exe\",\"C:\\\\Windows\\\\explorer.exe\",\"C:\\\\Windows\\\\System32\\\\cmd.exe\",\"C:\\\\Windows\\\\explorer.exe\",\"C:\\\\Windows\\\\System32\\\\cmd.exe\",\"C:\\\\Windows\\\\System32\\\\net.exe\",\"C:\\\\Windows\\\\System32\\\\cmd.exe\",\"C:\\\\Windows\\\\System32\\\\net.exe\",\"C:\\\\Windows\\\\System32\\\\cmd.exe\",\"C:\\\\Windows\\\\System32\\\\net.exe\",\"C:\\\\Windows\\\\System32\\\\cmd.exe\",\"C:\\\\Windows\\\\System32\\\\cmd.exe\",\"C:\\\\Windows\\\\System32\\\\net.exe\",\"C:\\\\Windows\\\\System32\\\\cmd.exe\",\"C:\\\\Windows\\\\System32\\\\net.exe\",\"C:\\\\Windows\\\\System32\\\\cmd.exe\",\"C:\\\\Windows\\\\System32\\\\cmd.exe\",\"C:\\\\Windows\\\\System32\\\\net.exe\",\"C:\\\\Windows\\\\System32\\\\cmd.exe\",\"C:\\\\Windows\\\\System32\\\\net.exe\",\"C:\\\\Windows\\\\System32\\\\cmd.exe\",\"C:\\\\Windows\\\\System32\\\\net.exe\",\"C:\\\\Windows\\\\System32\\\\cmd.exe\",\"C:\\\\Windows\\\\System32\\\\cmd.exe\",\"C:\\\\Windows\\\\System32\\\\cmd.exe\",\"C:\\\\Windows\\\\System32\\\\cmd.exe\",\"C:\\\\Windows\\\\System32\\\\cmd.exe\",\"C:\\\\Windows\\\\System32\\\\net.exe\",\"C:\\\\Windows\\\\System32\\\\cmd.exe\",\"C:\\\\Windows\\\\System32\\\\net.exe\",\"C:\\\\Windows\\\\System32\\\\cmd.exe\",\"C:\\\\Windows\\\\System32\\\\net.exe\",\"C:\\\\Windows\\\\System32\\\\cmd.exe\",\"C:\\\\Windows\\\\System32\\\\cmd.exe\",\"C:\\\\Windows\\\\System32\\\\cmd.exe\",\"C:\\\\Windows\\\\System32\\\\cmd.exe\",\"C:\\\\Windows\\\\System32\\\\cmd.exe\",\"C:\\\\Windows\\\\System32\\\\cmd.exe\",\"C:\\\\Windows\\\\System32\\\\cmd.exe\",\"C:\\\\Windows\\\\System32\\\\cmd.exe\",\"C:\\\\Windows\\\\System32\\\\net.exe\",\"C:\\\\Windows\\\\System32\\\\cmd.exe\",\"NaN\"],\"PID\":[\"PID: 0x60c (1548)\",\"PID: 0x1968 (6504)\",\"PID: 0x19a0 (6560)\",\"PID: 0x9fc (2556)\",\"PID: 0x1240 (4672)\",\"PID: 0x2414 (9236)\",\"PID: 0x2424 (9252)\",\"PID: 0x241c (9244)\",\"PID: 0x242c (9260)\",\"PID: 0x2440 (9280)\",\"PID: 0x244c (9292)\",\"PID: 0x246c (9324)\",\"PID: 0x2480 (9344)\",\"PID: 0x21ec (8684)\",\"PID: 0x2418 (9240)\",\"PID: 0x24d0 (9424)\",\"PID: 0x2490 (9360)\",\"PID: 0x24a0 (9376)\",\"PID: 0x2118 (8472)\",\"PID: 0x26d0 (9936)\",\"PID: 0x2420 (9248)\",\"PID: 0x2684 (9860)\",\"PID: 0x20ac (8364)\",\"PID: 0x227c (8828)\",\"PID: 0x2160 (8544)\",\"PID: 0xab0 (2736)\",\"PID: 0x1d94 (7572)\",\"PID: 0x2140 (8512)\",\"PID: 0x146c (5228)\",\"PID: 0x23ac (9132)\",\"PID: 0x230c (8972)\",\"PID: 0x438 (1080)\",\"PID: 0x1a38 (6712)\",\"PID: 0x2268 (8808)\",\"PID: 0x2524 (9508)\",\"PID: 0x2048 (8264)\",\"PID: 0x22c0 (8896)\",\"PID: 0x1dc8 (7624)\",\"PID: 0x93c (2364)\",\"PID: 0x1814 (6164)\",\"PID: 0x2488 (9352)\",\"PID: 0x1fb8 (8120)\",\"PID: 0x1214 (4628)\",\"PID: 0x1e44 (7748)\",\"PID: 0x2154 (8532)\",\"PID: 0x2690 (9872)\",\"PID: 0x26e4 (9956)\",\"PID: 0x279c (10140)\",\"PID: 0x21d8 (8664)\",\"PID: 0x27bc (10172)\",\"PID: 0x2410 (9232)\",\"PID: 0x2720 (10016)\",\"PID: 0x15d0 (5584)\"],\"ParentProcessName\":[\"NaN\",\"C:\\\\Windows\\\\System32\\\\winlogon.exe\",\"C:\\\\Windows\\\\System32\\\\userinit.exe\",\"C:\\\\Windows\\\\explorer.exe\",\"C:\\\\Windows\\\\explorer.exe\",\"C:\\\\Windows\\\\explorer.exe\",\"C:\\\\Windows\\\\System32\\\\cmd.exe\",\"C:\\\\Windows\\\\explorer.exe\",\"C:\\\\Windows\\\\System32\\\\cmd.exe\",\"C:\\\\Windows\\\\explorer.exe\",\"C:\\\\Windows\\\\System32\\\\cmd.exe\",\"C:\\\\Windows\\\\explorer.exe\",\"C:\\\\Windows\\\\System32\\\\cmd.exe\",\"C:\\\\Windows\\\\explorer.exe\",\"C:\\\\Windows\\\\System32\\\\cmd.exe\",\"C:\\\\Windows\\\\System32\\\\net.exe\",\"C:\\\\Windows\\\\System32\\\\cmd.exe\",\"C:\\\\Windows\\\\System32\\\\net.exe\",\"C:\\\\Windows\\\\System32\\\\cmd.exe\",\"C:\\\\Windows\\\\System32\\\\net.exe\",\"C:\\\\Windows\\\\System32\\\\cmd.exe\",\"C:\\\\Windows\\\\System32\\\\cmd.exe\",\"C:\\\\Windows\\\\System32\\\\net.exe\",\"C:\\\\Windows\\\\System32\\\\cmd.exe\",\"C:\\\\Windows\\\\System32\\\\net.exe\",\"C:\\\\Windows\\\\System32\\\\cmd.exe\",\"C:\\\\Windows\\\\System32\\\\cmd.exe\",\"C:\\\\Windows\\\\System32\\\\net.exe\",\"C:\\\\Windows\\\\System32\\\\cmd.exe\",\"C:\\\\Windows\\\\System32\\\\net.exe\",\"C:\\\\Windows\\\\System32\\\\cmd.exe\",\"C:\\\\Windows\\\\System32\\\\net.exe\",\"C:\\\\Windows\\\\System32\\\\cmd.exe\",\"C:\\\\Windows\\\\System32\\\\cmd.exe\",\"C:\\\\Windows\\\\System32\\\\cmd.exe\",\"C:\\\\Windows\\\\System32\\\\cmd.exe\",\"C:\\\\Windows\\\\System32\\\\cmd.exe\",\"C:\\\\Windows\\\\System32\\\\net.exe\",\"C:\\\\Windows\\\\System32\\\\cmd.exe\",\"C:\\\\Windows\\\\System32\\\\net.exe\",\"C:\\\\Windows\\\\System32\\\\cmd.exe\",\"C:\\\\Windows\\\\System32\\\\net.exe\",\"C:\\\\Windows\\\\System32\\\\cmd.exe\",\"C:\\\\Windows\\\\System32\\\\cmd.exe\",\"C:\\\\Windows\\\\System32\\\\cmd.exe\",\"C:\\\\Windows\\\\System32\\\\cmd.exe\",\"C:\\\\Windows\\\\System32\\\\cmd.exe\",\"C:\\\\Windows\\\\System32\\\\cmd.exe\",\"C:\\\\Windows\\\\System32\\\\cmd.exe\",\"C:\\\\Windows\\\\System32\\\\cmd.exe\",\"C:\\\\Windows\\\\System32\\\\net.exe\",\"C:\\\\Windows\\\\System32\\\\cmd.exe\",\"C:\\\\Windows\\\\System32\\\\winlogon.exe\"],\"ProcessId\":[\"NaN\",\"0x60c\",\"0x1968\",\"0x19a0\",\"0x19a0\",\"0x19a0\",\"0x2414\",\"0x19a0\",\"0x241c\",\"0x19a0\",\"0x2440\",\"0x19a0\",\"0x246c\",\"0x19a0\",\"0x21ec\",\"0x2418\",\"0x21ec\",\"0x2490\",\"0x21ec\",\"0x2118\",\"0x21ec\",\"0x21ec\",\"0x2684\",\"0x21ec\",\"0x227c\",\"0x21ec\",\"0x21ec\",\"0x1d94\",\"0x21ec\",\"0x146c\",\"0x21ec\",\"0x230c\",\"0x21ec\",\"0x21ec\",\"0x21ec\",\"0x21ec\",\"0x21ec\",\"0x22c0\",\"0x21ec\",\"0x93c\",\"0x21ec\",\"0x2488\",\"0x21ec\",\"0x21ec\",\"0x21ec\",\"0x21ec\",\"0x21ec\",\"0x21ec\",\"0x21ec\",\"0x21ec\",\"0x27bc\",\"0x21ec\",\"0x60c\"],\"ProcessId_par\":[\"NaN\",\"NaN\",\"0x60c\",\"0x1968\",\"0x1968\",\"0x1968\",\"0x19a0\",\"0x1968\",\"0x19a0\",\"0x1968\",\"0x19a0\",\"0x1968\",\"0x19a0\",\"0x1968\",\"0x19a0\",\"0x21ec\",\"0x19a0\",\"0x21ec\",\"0x19a0\",\"0x21ec\",\"0x19a0\",\"0x19a0\",\"0x21ec\",\"0x19a0\",\"0x21ec\",\"0x19a0\",\"0x19a0\",\"0x21ec\",\"0x19a0\",\"0x21ec\",\"0x19a0\",\"0x21ec\",\"0x19a0\",\"0x19a0\",\"0x19a0\",\"0x19a0\",\"0x19a0\",\"0x21ec\",\"0x19a0\",\"0x21ec\",\"0x19a0\",\"0x21ec\",\"0x19a0\",\"0x19a0\",\"0x19a0\",\"0x19a0\",\"0x19a0\",\"0x19a0\",\"0x19a0\",\"0x19a0\",\"0x21ec\",\"0x19a0\",\"NaN\"],\"Row\":[53,52,51,50,49,48,47,46,45,44,43,42,41,40,39,38,37,36,35,34,33,32,31,30,29,28,27,26,25,24,23,22,21,20,19,18,17,16,15,14,13,12,11,10,9,8,7,6,5,4,3,2,1],\"SourceComputerId\":[\"NaN\",\"73a015ec-e2b6-4bf7-b353-ebeafb54254e\",\"73a015ec-e2b6-4bf7-b353-ebeafb54254e\",\"73a015ec-e2b6-4bf7-b353-ebeafb54254e\",\"73a015ec-e2b6-4bf7-b353-ebeafb54254e\",\"73a015ec-e2b6-4bf7-b353-ebeafb54254e\",\"73a015ec-e2b6-4bf7-b353-ebeafb54254e\",\"73a015ec-e2b6-4bf7-b353-ebeafb54254e\",\"73a015ec-e2b6-4bf7-b353-ebeafb54254e\",\"73a015ec-e2b6-4bf7-b353-ebeafb54254e\",\"73a015ec-e2b6-4bf7-b353-ebeafb54254e\",\"73a015ec-e2b6-4bf7-b353-ebeafb54254e\",\"73a015ec-e2b6-4bf7-b353-ebeafb54254e\",\"73a015ec-e2b6-4bf7-b353-ebeafb54254e\",\"73a015ec-e2b6-4bf7-b353-ebeafb54254e\",\"73a015ec-e2b6-4bf7-b353-ebeafb54254e\",\"73a015ec-e2b6-4bf7-b353-ebeafb54254e\",\"73a015ec-e2b6-4bf7-b353-ebeafb54254e\",\"73a015ec-e2b6-4bf7-b353-ebeafb54254e\",\"73a015ec-e2b6-4bf7-b353-ebeafb54254e\",\"73a015ec-e2b6-4bf7-b353-ebeafb54254e\",\"73a015ec-e2b6-4bf7-b353-ebeafb54254e\",\"73a015ec-e2b6-4bf7-b353-ebeafb54254e\",\"73a015ec-e2b6-4bf7-b353-ebeafb54254e\",\"73a015ec-e2b6-4bf7-b353-ebeafb54254e\",\"73a015ec-e2b6-4bf7-b353-ebeafb54254e\",\"73a015ec-e2b6-4bf7-b353-ebeafb54254e\",\"73a015ec-e2b6-4bf7-b353-ebeafb54254e\",\"73a015ec-e2b6-4bf7-b353-ebeafb54254e\",\"73a015ec-e2b6-4bf7-b353-ebeafb54254e\",\"73a015ec-e2b6-4bf7-b353-ebeafb54254e\",\"73a015ec-e2b6-4bf7-b353-ebeafb54254e\",\"73a015ec-e2b6-4bf7-b353-ebeafb54254e\",\"73a015ec-e2b6-4bf7-b353-ebeafb54254e\",\"73a015ec-e2b6-4bf7-b353-ebeafb54254e\",\"73a015ec-e2b6-4bf7-b353-ebeafb54254e\",\"73a015ec-e2b6-4bf7-b353-ebeafb54254e\",\"73a015ec-e2b6-4bf7-b353-ebeafb54254e\",\"73a015ec-e2b6-4bf7-b353-ebeafb54254e\",\"73a015ec-e2b6-4bf7-b353-ebeafb54254e\",\"73a015ec-e2b6-4bf7-b353-ebeafb54254e\",\"73a015ec-e2b6-4bf7-b353-ebeafb54254e\",\"73a015ec-e2b6-4bf7-b353-ebeafb54254e\",\"73a015ec-e2b6-4bf7-b353-ebeafb54254e\",\"73a015ec-e2b6-4bf7-b353-ebeafb54254e\",\"73a015ec-e2b6-4bf7-b353-ebeafb54254e\",\"73a015ec-e2b6-4bf7-b353-ebeafb54254e\",\"73a015ec-e2b6-4bf7-b353-ebeafb54254e\",\"73a015ec-e2b6-4bf7-b353-ebeafb54254e\",\"73a015ec-e2b6-4bf7-b353-ebeafb54254e\",\"73a015ec-e2b6-4bf7-b353-ebeafb54254e\",\"73a015ec-e2b6-4bf7-b353-ebeafb54254e\",\"73a015ec-e2b6-4bf7-b353-ebeafb54254e\"],\"SubjectDomainName\":[\"NaN\",\"WORKGROUP\",\"BlackHatDemoHos\",\"BlackHatDemoHos\",\"BlackHatDemoHos\",\"BlackHatDemoHos\",\"BlackHatDemoHos\",\"BlackHatDemoHos\",\"BlackHatDemoHos\",\"BlackHatDemoHos\",\"BlackHatDemoHos\",\"BlackHatDemoHos\",\"BlackHatDemoHos\",\"BlackHatDemoHos\",\"BlackHatDemoHos\",\"BlackHatDemoHos\",\"BlackHatDemoHos\",\"BlackHatDemoHos\",\"BlackHatDemoHos\",\"BlackHatDemoHos\",\"BlackHatDemoHos\",\"BlackHatDemoHos\",\"BlackHatDemoHos\",\"BlackHatDemoHos\",\"BlackHatDemoHos\",\"BlackHatDemoHos\",\"BlackHatDemoHos\",\"BlackHatDemoHos\",\"BlackHatDemoHos\",\"BlackHatDemoHos\",\"BlackHatDemoHos\",\"BlackHatDemoHos\",\"BlackHatDemoHos\",\"BlackHatDemoHos\",\"BlackHatDemoHos\",\"BlackHatDemoHos\",\"BlackHatDemoHos\",\"BlackHatDemoHos\",\"BlackHatDemoHos\",\"BlackHatDemoHos\",\"BlackHatDemoHos\",\"BlackHatDemoHos\",\"BlackHatDemoHos\",\"BlackHatDemoHos\",\"BlackHatDemoHos\",\"BlackHatDemoHos\",\"BlackHatDemoHos\",\"BlackHatDemoHos\",\"BlackHatDemoHos\",\"BlackHatDemoHos\",\"BlackHatDemoHos\",\"BlackHatDemoHos\",\"WORKGROUP\"],\"SubjectLogonId\":[\"0x3e7\",\"0x3e7\",\"0x136fc6\",\"0x136fc6\",\"0x136fc6\",\"0x136fc6\",\"0x136fc6\",\"0x136fc6\",\"0x136fc6\",\"0x136fc6\",\"0x136fc6\",\"0x136fc6\",\"0x136fc6\",\"0x136fc6\",\"0x136fc6\",\"0x136fc6\",\"0x136fc6\",\"0x136fc6\",\"0x136fc6\",\"0x136fc6\",\"0x136fc6\",\"0x136fc6\",\"0x136fc6\",\"0x136fc6\",\"0x136fc6\",\"0x136fc6\",\"0x136fc6\",\"0x136fc6\",\"0x136fc6\",\"0x136fc6\",\"0x136fc6\",\"0x136fc6\",\"0x136fc6\",\"0x136fc6\",\"0x136fc6\",\"0x136fc6\",\"0x136fc6\",\"0x136fc6\",\"0x136fc6\",\"0x136fc6\",\"0x136fc6\",\"0x136fc6\",\"0x136fc6\",\"0x136fc6\",\"0x136fc6\",\"0x136fc6\",\"0x136fc6\",\"0x136fc6\",\"0x136fc6\",\"0x136fc6\",\"0x136fc6\",\"0x136fc6\",\"0x3e7\"],\"SubjectUserName\":[\"NaN\",\"BlackHatDemoHos$\",\"timvic\",\"timvic\",\"timvic\",\"timvic\",\"timvic\",\"timvic\",\"timvic\",\"timvic\",\"timvic\",\"timvic\",\"timvic\",\"timvic\",\"timvic\",\"timvic\",\"timvic\",\"timvic\",\"timvic\",\"timvic\",\"timvic\",\"timvic\",\"timvic\",\"timvic\",\"timvic\",\"timvic\",\"timvic\",\"timvic\",\"timvic\",\"timvic\",\"timvic\",\"timvic\",\"timvic\",\"timvic\",\"timvic\",\"timvic\",\"timvic\",\"timvic\",\"timvic\",\"timvic\",\"timvic\",\"timvic\",\"timvic\",\"timvic\",\"timvic\",\"timvic\",\"timvic\",\"timvic\",\"timvic\",\"timvic\",\"timvic\",\"timvic\",\"BlackHatDemoHos$\"],\"SubjectUserSid\":[\"NaN\",\"S-1-5-18\",\"S-1-5-21-3334416894-4278249820-3875274378-1006\",\"S-1-5-21-3334416894-4278249820-3875274378-1006\",\"S-1-5-21-3334416894-4278249820-3875274378-1006\",\"S-1-5-21-3334416894-4278249820-3875274378-1006\",\"S-1-5-21-3334416894-4278249820-3875274378-1006\",\"S-1-5-21-3334416894-4278249820-3875274378-1006\",\"S-1-5-21-3334416894-4278249820-3875274378-1006\",\"S-1-5-21-3334416894-4278249820-3875274378-1006\",\"S-1-5-21-3334416894-4278249820-3875274378-1006\",\"S-1-5-21-3334416894-4278249820-3875274378-1006\",\"S-1-5-21-3334416894-4278249820-3875274378-1006\",\"S-1-5-21-3334416894-4278249820-3875274378-1006\",\"S-1-5-21-3334416894-4278249820-3875274378-1006\",\"S-1-5-21-3334416894-4278249820-3875274378-1006\",\"S-1-5-21-3334416894-4278249820-3875274378-1006\",\"S-1-5-21-3334416894-4278249820-3875274378-1006\",\"S-1-5-21-3334416894-4278249820-3875274378-1006\",\"S-1-5-21-3334416894-4278249820-3875274378-1006\",\"S-1-5-21-3334416894-4278249820-3875274378-1006\",\"S-1-5-21-3334416894-4278249820-3875274378-1006\",\"S-1-5-21-3334416894-4278249820-3875274378-1006\",\"S-1-5-21-3334416894-4278249820-3875274378-1006\",\"S-1-5-21-3334416894-4278249820-3875274378-1006\",\"S-1-5-21-3334416894-4278249820-3875274378-1006\",\"S-1-5-21-3334416894-4278249820-3875274378-1006\",\"S-1-5-21-3334416894-4278249820-3875274378-1006\",\"S-1-5-21-3334416894-4278249820-3875274378-1006\",\"S-1-5-21-3334416894-4278249820-3875274378-1006\",\"S-1-5-21-3334416894-4278249820-3875274378-1006\",\"S-1-5-21-3334416894-4278249820-3875274378-1006\",\"S-1-5-21-3334416894-4278249820-3875274378-1006\",\"S-1-5-21-3334416894-4278249820-3875274378-1006\",\"S-1-5-21-3334416894-4278249820-3875274378-1006\",\"S-1-5-21-3334416894-4278249820-3875274378-1006\",\"S-1-5-21-3334416894-4278249820-3875274378-1006\",\"S-1-5-21-3334416894-4278249820-3875274378-1006\",\"S-1-5-21-3334416894-4278249820-3875274378-1006\",\"S-1-5-21-3334416894-4278249820-3875274378-1006\",\"S-1-5-21-3334416894-4278249820-3875274378-1006\",\"S-1-5-21-3334416894-4278249820-3875274378-1006\",\"S-1-5-21-3334416894-4278249820-3875274378-1006\",\"S-1-5-21-3334416894-4278249820-3875274378-1006\",\"S-1-5-21-3334416894-4278249820-3875274378-1006\",\"S-1-5-21-3334416894-4278249820-3875274378-1006\",\"S-1-5-21-3334416894-4278249820-3875274378-1006\",\"S-1-5-21-3334416894-4278249820-3875274378-1006\",\"S-1-5-21-3334416894-4278249820-3875274378-1006\",\"S-1-5-21-3334416894-4278249820-3875274378-1006\",\"S-1-5-21-3334416894-4278249820-3875274378-1006\",\"S-1-5-21-3334416894-4278249820-3875274378-1006\",\"S-1-5-18\"],\"TargetLogonId\":[\"NaN\",\"0x136fc6\",\"0x0\",\"0x0\",\"0x0\",\"0x0\",\"0x0\",\"0x0\",\"0x0\",\"0x0\",\"0x0\",\"0x0\",\"0x0\",\"0x0\",\"0x0\",\"0x0\",\"0x0\",\"0x0\",\"0x0\",\"0x0\",\"0x0\",\"0x0\",\"0x0\",\"0x0\",\"0x0\",\"0x0\",\"0x0\",\"0x0\",\"0x0\",\"0x0\",\"0x0\",\"0x0\",\"0x0\",\"0x0\",\"0x0\",\"0x0\",\"0x0\",\"0x0\",\"0x0\",\"0x0\",\"0x0\",\"0x0\",\"0x0\",\"0x0\",\"0x0\",\"0x0\",\"0x0\",\"0x0\",\"0x0\",\"0x0\",\"0x0\",\"0x0\",\"0x0\"],\"TenantId\":[\"52b1ab41-869e-4138-9e40-2a4457f09bf0\",\"52b1ab41-869e-4138-9e40-2a4457f09bf0\",\"52b1ab41-869e-4138-9e40-2a4457f09bf0\",\"52b1ab41-869e-4138-9e40-2a4457f09bf0\",\"52b1ab41-869e-4138-9e40-2a4457f09bf0\",\"52b1ab41-869e-4138-9e40-2a4457f09bf0\",\"52b1ab41-869e-4138-9e40-2a4457f09bf0\",\"52b1ab41-869e-4138-9e40-2a4457f09bf0\",\"52b1ab41-869e-4138-9e40-2a4457f09bf0\",\"52b1ab41-869e-4138-9e40-2a4457f09bf0\",\"52b1ab41-869e-4138-9e40-2a4457f09bf0\",\"52b1ab41-869e-4138-9e40-2a4457f09bf0\",\"52b1ab41-869e-4138-9e40-2a4457f09bf0\",\"52b1ab41-869e-4138-9e40-2a4457f09bf0\",\"52b1ab41-869e-4138-9e40-2a4457f09bf0\",\"52b1ab41-869e-4138-9e40-2a4457f09bf0\",\"52b1ab41-869e-4138-9e40-2a4457f09bf0\",\"52b1ab41-869e-4138-9e40-2a4457f09bf0\",\"52b1ab41-869e-4138-9e40-2a4457f09bf0\",\"52b1ab41-869e-4138-9e40-2a4457f09bf0\",\"52b1ab41-869e-4138-9e40-2a4457f09bf0\",\"52b1ab41-869e-4138-9e40-2a4457f09bf0\",\"52b1ab41-869e-4138-9e40-2a4457f09bf0\",\"52b1ab41-869e-4138-9e40-2a4457f09bf0\",\"52b1ab41-869e-4138-9e40-2a4457f09bf0\",\"52b1ab41-869e-4138-9e40-2a4457f09bf0\",\"52b1ab41-869e-4138-9e40-2a4457f09bf0\",\"52b1ab41-869e-4138-9e40-2a4457f09bf0\",\"52b1ab41-869e-4138-9e40-2a4457f09bf0\",\"52b1ab41-869e-4138-9e40-2a4457f09bf0\",\"52b1ab41-869e-4138-9e40-2a4457f09bf0\",\"52b1ab41-869e-4138-9e40-2a4457f09bf0\",\"52b1ab41-869e-4138-9e40-2a4457f09bf0\",\"52b1ab41-869e-4138-9e40-2a4457f09bf0\",\"52b1ab41-869e-4138-9e40-2a4457f09bf0\",\"52b1ab41-869e-4138-9e40-2a4457f09bf0\",\"52b1ab41-869e-4138-9e40-2a4457f09bf0\",\"52b1ab41-869e-4138-9e40-2a4457f09bf0\",\"52b1ab41-869e-4138-9e40-2a4457f09bf0\",\"52b1ab41-869e-4138-9e40-2a4457f09bf0\",\"52b1ab41-869e-4138-9e40-2a4457f09bf0\",\"52b1ab41-869e-4138-9e40-2a4457f09bf0\",\"52b1ab41-869e-4138-9e40-2a4457f09bf0\",\"52b1ab41-869e-4138-9e40-2a4457f09bf0\",\"52b1ab41-869e-4138-9e40-2a4457f09bf0\",\"52b1ab41-869e-4138-9e40-2a4457f09bf0\",\"52b1ab41-869e-4138-9e40-2a4457f09bf0\",\"52b1ab41-869e-4138-9e40-2a4457f09bf0\",\"52b1ab41-869e-4138-9e40-2a4457f09bf0\",\"52b1ab41-869e-4138-9e40-2a4457f09bf0\",\"52b1ab41-869e-4138-9e40-2a4457f09bf0\",\"52b1ab41-869e-4138-9e40-2a4457f09bf0\",\"52b1ab41-869e-4138-9e40-2a4457f09bf0\"],\"TimeCreatedUtc\":[\"NaN\",1594405673417.0,1594405673487.0,1594405693180.0,1594405693657.0,1594405694043.0,1594405694063.0,1594405694060.0,1594405694067.0,1594405694083.0,1594405694100.0,1594405694123.0,1594405694137.0,1594405713577.0,1594405727377.0,1594405727387.0,1594405727407.0,1594405727417.0,1594405727440.0,1594405727453.0,1594405727443.0,1594405727480.0,1594405727489.9998,1594405727517.0,1594405727537.0,1594405727517.0,1594405727563.0,1594405727569.9998,1594405727593.0,1594405727603.0,1594405727627.0,1594405727637.0,1594405727660.0,1594405727700.0,1594405727740.0,1594405727830.0002,1594406259449.9998,1594406259467.0,1594406259497.0,1594406259510.0002,1594406259529.9998,1594406259543.0,1594406259567.0,1594405713693.0,1594405726953.0,1594405726973.0,1594405726993.0,1594405727080.0,1594405727233.0,1594405727270.0002,1594405727343.0,1594405727273.0,1594410259440.0],\"TimeGenerated\":{\"__ndarray__\":\"AAAAAAAAAAAAkJy9nzN3QgDwoL2fM3dCAMBvwp8zd0IAkI3CnzN3QgCwpcKfM3dCAPCmwp8zd0IAwKbCnzN3QgAwp8KfM3dCADCowp8zd0IAQKnCnzN3QgCwqsKfM3dCAJCrwp8zd0IAkGrHnzN3QgAQycqfM3dCALDJyp8zd0IA8MrKnzN3QgCQy8qfM3dCAADNyp8zd0IA0M3KnzN3QgAwzcqfM3dCAIDPyp8zd0IAINDKnzN3QgDQ0cqfM3dCABDTyp8zd0IA0NHKnzN3QgCw1MqfM3dCACDVyp8zd0IAkNbKnzN3QgAw18qfM3dCALDYyp8zd0IAUNnKnzN3QgDA2sqfM3dCAEDdyp8zd0IAwN/KnzN3QgBg5cqfM3dCAKCvTKAzd0IAsLBMoDN3QgCQskygM3dCAGCzTKAzd0IAoLRMoDN3QgBwtUygM3dCAPC2TKAzd0IA0HHHnzN3QgCQrsqfM3dCANCvyp8zd0IAELHKnzN3QgCAtsqfM3dCABDAyp8zd0IAYMLKnzN3QgDwxsqfM3dCAJDCyp8zd0IAAD8dpDN3Qg==\",\"dtype\":\"float64\",\"order\":\"little\",\"shape\":[53]},\"TimeGenerated_orig_par\":[\"NaN\",0.0,1594405673417.0,1594405673487.0,1594405673487.0,1594405673487.0,1594405694043.0,1594405673487.0,1594405694060.0,1594405673487.0,1594405694083.0,1594405673487.0,1594405694123.0,1594405673487.0,1594405713577.0,1594405727377.0,1594405713577.0,1594405727407.0,1594405713577.0,1594405727440.0,1594405713577.0,1594405713577.0,1594405727480.0,1594405713577.0,1594405727517.0,1594405713577.0,1594405713577.0,1594405727563.0,1594405713577.0,1594405727593.0,1594405713577.0,1594405727627.0,1594405713577.0,1594405713577.0,1594405713577.0,1594405713577.0,1594405713577.0,1594406259449.9998,1594405713577.0,1594406259497.0,1594405713577.0,1594406259529.9998,1594405713577.0,1594405713577.0,1594405713577.0,1594405713577.0,1594405713577.0,1594405713577.0,1594405713577.0,1594405713577.0,1594405727270.0002,1594405713577.0,0.0],\"TokenElevationType\":[\"NaN\",\"%%1938\",\"%%1938\",\"%%1938\",\"%%1938\",\"%%1938\",\"%%1938\",\"%%1938\",\"%%1938\",\"%%1938\",\"%%1938\",\"%%1938\",\"%%1938\",\"%%1938\",\"%%1938\",\"%%1938\",\"%%1938\",\"%%1938\",\"%%1938\",\"%%1938\",\"%%1938\",\"%%1938\",\"%%1938\",\"%%1938\",\"%%1938\",\"%%1938\",\"%%1938\",\"%%1938\",\"%%1938\",\"%%1938\",\"%%1938\",\"%%1938\",\"%%1938\",\"%%1938\",\"%%1938\",\"%%1938\",\"%%1938\",\"%%1938\",\"%%1938\",\"%%1938\",\"%%1938\",\"%%1938\",\"%%1938\",\"%%1938\",\"%%1938\",\"%%1938\",\"%%1938\",\"%%1938\",\"%%1938\",\"%%1938\",\"%%1938\",\"%%1938\",\"%%1936\"],\"cmd\":[\"cmdline unknown\",\"C:\\\\windows\\\\system32\\\\userinit.exe\",\"C:\\\\windows\\\\Explorer.EXE\",\"\\\"C:\\\\Windows\\\\System32\\\\SecurityHealthSystray.exe\\\" \",\"\\\"C:\\\\Users\\\\timvic\\\\AppData\\\\Local\\\\Microsoft\\\\OneDrive\\\\OneDrive...\",\"\\\"C:\\\\Windows\\\\System32\\\\cmd.exe\\\" /q /c del /q \\\"C:\\\\Users\\\\timvi...\",\"\\\\??\\\\C:\\\\windows\\\\system32\\\\conhost.exe 0xffffffff -ForceV1\",\"\\\"C:\\\\Windows\\\\System32\\\\cmd.exe\\\" /q /c del /q \\\"C:\\\\Users\\\\timvi...\",\"\\\\??\\\\C:\\\\windows\\\\system32\\\\conhost.exe 0xffffffff -ForceV1\",\"\\\"C:\\\\Windows\\\\System32\\\\cmd.exe\\\" /q /c rmdir /s /q \\\"C:\\\\Users\\\\...\",\"\\\\??\\\\C:\\\\windows\\\\system32\\\\conhost.exe 0xffffffff -ForceV1\",\"\\\"C:\\\\Windows\\\\System32\\\\cmd.exe\\\" /q /c rmdir /s /q \\\"C:\\\\Users\\\\...\",\"\\\\??\\\\C:\\\\windows\\\\system32\\\\conhost.exe 0xffffffff -ForceV1\",\"\\\"C:\\\\windows\\\\system32\\\\cmd.exe\\\" \",\"net  user abai$ Wf9k44_9d[=$ /add\",\"C:\\\\windows\\\\system32\\\\net1  user abai$ Wf9k44_9d[=$ /add\",\"net  user abai$ Wf9k44_9d[=$\",\"C:\\\\windows\\\\system32\\\\net1  user abai$ Wf9k44_9d[=$\",\"net  localgroup administrators \",\"C:\\\\windows\\\\system32\\\\net1  localgroup administrators \",\"findstr  \\\"abai$\\\"\",\"net  localgroup administrators abai$ /add\",\"C:\\\\windows\\\\system32\\\\net1  localgroup administrators abai$ ...\",\"net  users \",\"C:\\\\windows\\\\system32\\\\net1  users \",\"findstr  \\\"secure-ssl-sec.com\\\"\",\"net  user faxing-mon.best Wf9k44_9d[=$ /add\",\"C:\\\\windows\\\\system32\\\\net1  user faxing-mon.best Wf9k44_9d[=...\",\"net  user secure-ssl-sec.com Wf9k44_sinc9d3[=$\",\"C:\\\\windows\\\\system32\\\\net1  user secure-ssl-sec.com Wf9k44_s...\",\"net  user secure-ssl-sec.com /active:yes\",\"C:\\\\windows\\\\system32\\\\net1  user secure-ssl-sec.com /active:...\",\"cmd  /c echo QWxsIHlvdXIgc2VydmVycyBiZWxvbmcgdG8gZmF4aW5nL...\",\"reg  ADD \\\"HKLM\\\\SYSTEM\\\\CurrentControlSet\\\\Control\\\\Terminal S...\",\"schtasks.exe  /create /tn  /tr \\\"c:\\\\pagefile.exe /?\\\" /sc ho...\",\"ping  32.220.60.108 -n 100 \",\"net  localgroup administrators abai$ /delete\",\"C:\\\\windows\\\\system32\\\\net1  localgroup administrators abai$ ...\",\"net  user abai$ /delete\",\"C:\\\\windows\\\\system32\\\\net1  user abai$ /delete\",\"net  user faxing-mon.best /delete\",\"C:\\\\windows\\\\system32\\\\net1  user faxing-mon.best /delete\",\"cmd  /c echo End Security Demo tasks\",\"\\\\??\\\\C:\\\\windows\\\\system32\\\\conhost.exe 0xffffffff -ForceV1\",\"cmd  /c echo Begin Security Demo tasks\",\"cmd  /c echo Any questions about the commands executed her...\",\"cmd  /c echo timb@microsoft.com; ianhelle@microsoft.com; s...\",\"ftp  -s:MG06.dll\",\"cacls.exe  C:\\\\Windows\\\\system32\\\\cscript.exe /e /t /g SYSTEM...\",\"net  users \",\"C:\\\\windows\\\\system32\\\\net1  users \",\"findstr  \\\"abai$\\\"\",\"\\\"LogonUI.exe\\\" /flags:0x0 /state0:0xa3c7e055 /state1:0x41c6...\"],\"index\":[0,1,2,3,4,5,6,7,8,9,10,11,12,13,14,15,16,17,18,19,20,21,22,23,24,25,26,27,28,29,30,31,32,33,34,35,36,37,38,39,40,41,42,43,44,45,46,47,48,49,50,51,52],\"new_process_lc\":[\"c:\\\\windows\\\\system32\\\\winlogon.exe\",\"c:\\\\windows\\\\system32\\\\userinit.exe\",\"c:\\\\windows\\\\explorer.exe\",\"c:\\\\windows\\\\system32\\\\securityhealthsystray.exe\",\"c:\\\\users\\\\timvic\\\\appdata\\\\local\\\\microsoft\\\\onedrive\\\\onedrive.exe\",\"c:\\\\windows\\\\system32\\\\cmd.exe\",\"c:\\\\windows\\\\system32\\\\conhost.exe\",\"c:\\\\windows\\\\system32\\\\cmd.exe\",\"c:\\\\windows\\\\system32\\\\conhost.exe\",\"c:\\\\windows\\\\system32\\\\cmd.exe\",\"c:\\\\windows\\\\system32\\\\conhost.exe\",\"c:\\\\windows\\\\system32\\\\cmd.exe\",\"c:\\\\windows\\\\system32\\\\conhost.exe\",\"c:\\\\windows\\\\system32\\\\cmd.exe\",\"c:\\\\windows\\\\system32\\\\net.exe\",\"c:\\\\windows\\\\system32\\\\net1.exe\",\"c:\\\\windows\\\\system32\\\\net.exe\",\"c:\\\\windows\\\\system32\\\\net1.exe\",\"c:\\\\windows\\\\system32\\\\net.exe\",\"c:\\\\windows\\\\system32\\\\net1.exe\",\"c:\\\\windows\\\\system32\\\\findstr.exe\",\"c:\\\\windows\\\\system32\\\\net.exe\",\"c:\\\\windows\\\\system32\\\\net1.exe\",\"c:\\\\windows\\\\system32\\\\net.exe\",\"c:\\\\windows\\\\system32\\\\net1.exe\",\"c:\\\\windows\\\\system32\\\\findstr.exe\",\"c:\\\\windows\\\\system32\\\\net.exe\",\"c:\\\\windows\\\\system32\\\\net1.exe\",\"c:\\\\windows\\\\system32\\\\net.exe\",\"c:\\\\windows\\\\system32\\\\net1.exe\",\"c:\\\\windows\\\\system32\\\\net.exe\",\"c:\\\\windows\\\\system32\\\\net1.exe\",\"c:\\\\windows\\\\system32\\\\cmd.exe\",\"c:\\\\w!ndows\\\\system32\\\\reg.exe\",\"c:\\\\windows\\\\system32\\\\schtasks.exe\",\"c:\\\\windows\\\\system32\\\\ping.exe\",\"c:\\\\windows\\\\system32\\\\net.exe\",\"c:\\\\windows\\\\system32\\\\net1.exe\",\"c:\\\\windows\\\\system32\\\\net.exe\",\"c:\\\\windows\\\\system32\\\\net1.exe\",\"c:\\\\windows\\\\system32\\\\net.exe\",\"c:\\\\windows\\\\system32\\\\net1.exe\",\"c:\\\\windows\\\\system32\\\\cmd.exe\",\"c:\\\\windows\\\\system32\\\\conhost.exe\",\"c:\\\\windows\\\\system32\\\\cmd.exe\",\"c:\\\\windows\\\\system32\\\\cmd.exe\",\"c:\\\\windows\\\\system32\\\\cmd.exe\",\"c:\\\\windows\\\\system32\\\\ftp.exe\",\"c:\\\\w!ndows\\\\system32\\\\cacls.exe\",\"c:\\\\windows\\\\system32\\\\net.exe\",\"c:\\\\windows\\\\system32\\\\net1.exe\",\"c:\\\\windows\\\\system32\\\\findstr.exe\",\"c:\\\\windows\\\\system32\\\\logonui.exe\"],\"new_process_lc_par\":[\"NaN\",\"c:\\\\windows\\\\system32\\\\winlogon.exe\",\"c:\\\\windows\\\\system32\\\\userinit.exe\",\"c:\\\\windows\\\\explorer.exe\",\"c:\\\\windows\\\\explorer.exe\",\"c:\\\\windows\\\\explorer.exe\",\"c:\\\\windows\\\\system32\\\\cmd.exe\",\"c:\\\\windows\\\\explorer.exe\",\"c:\\\\windows\\\\system32\\\\cmd.exe\",\"c:\\\\windows\\\\explorer.exe\",\"c:\\\\windows\\\\system32\\\\cmd.exe\",\"c:\\\\windows\\\\explorer.exe\",\"c:\\\\windows\\\\system32\\\\cmd.exe\",\"c:\\\\windows\\\\explorer.exe\",\"c:\\\\windows\\\\system32\\\\cmd.exe\",\"c:\\\\windows\\\\system32\\\\net.exe\",\"c:\\\\windows\\\\system32\\\\cmd.exe\",\"c:\\\\windows\\\\system32\\\\net.exe\",\"c:\\\\windows\\\\system32\\\\cmd.exe\",\"c:\\\\windows\\\\system32\\\\net.exe\",\"c:\\\\windows\\\\system32\\\\cmd.exe\",\"c:\\\\windows\\\\system32\\\\cmd.exe\",\"c:\\\\windows\\\\system32\\\\net.exe\",\"c:\\\\windows\\\\system32\\\\cmd.exe\",\"c:\\\\windows\\\\system32\\\\net.exe\",\"c:\\\\windows\\\\system32\\\\cmd.exe\",\"c:\\\\windows\\\\system32\\\\cmd.exe\",\"c:\\\\windows\\\\system32\\\\net.exe\",\"c:\\\\windows\\\\system32\\\\cmd.exe\",\"c:\\\\windows\\\\system32\\\\net.exe\",\"c:\\\\windows\\\\system32\\\\cmd.exe\",\"c:\\\\windows\\\\system32\\\\net.exe\",\"c:\\\\windows\\\\system32\\\\cmd.exe\",\"c:\\\\windows\\\\system32\\\\cmd.exe\",\"c:\\\\windows\\\\system32\\\\cmd.exe\",\"c:\\\\windows\\\\system32\\\\cmd.exe\",\"c:\\\\windows\\\\system32\\\\cmd.exe\",\"c:\\\\windows\\\\system32\\\\net.exe\",\"c:\\\\windows\\\\system32\\\\cmd.exe\",\"c:\\\\windows\\\\system32\\\\net.exe\",\"c:\\\\windows\\\\system32\\\\cmd.exe\",\"c:\\\\windows\\\\system32\\\\net.exe\",\"c:\\\\windows\\\\system32\\\\cmd.exe\",\"c:\\\\windows\\\\system32\\\\cmd.exe\",\"c:\\\\windows\\\\system32\\\\cmd.exe\",\"c:\\\\windows\\\\system32\\\\cmd.exe\",\"c:\\\\windows\\\\system32\\\\cmd.exe\",\"c:\\\\windows\\\\system32\\\\cmd.exe\",\"c:\\\\windows\\\\system32\\\\cmd.exe\",\"c:\\\\windows\\\\system32\\\\cmd.exe\",\"c:\\\\windows\\\\system32\\\\net.exe\",\"c:\\\\windows\\\\system32\\\\cmd.exe\",\"c:\\\\windows\\\\system32\\\\winlogon.exe\"],\"parent_index\":[\"NaN\",\"1146\",\"20\",\"21\",\"21\",\"21\",\"64\",\"21\",\"65\",\"21\",\"68\",\"21\",\"70\",\"21\",\"89\",\"100\",\"89\",\"102\",\"89\",\"104\",\"89\",\"89\",\"107\",\"89\",\"109\",\"89\",\"89\",\"112\",\"89\",\"114\",\"89\",\"116\",\"89\",\"89\",\"89\",\"89\",\"89\",\"647\",\"89\",\"649\",\"89\",\"651\",\"89\",\"89\",\"89\",\"89\",\"89\",\"89\",\"89\",\"89\",\"97\",\"89\",\"1146\"],\"parent_key\":[\"NaN\",\"c:\\\\windows\\\\system32\\\\winlogon.exe0x60c1970-01-01 00:00:00.000000\",\"c:\\\\windows\\\\system32\\\\userinit.exe0x19682020-07-10 18:27:53.417000\",\"c:\\\\windows\\\\explorer.exe0x19a02020-07-10 18:27:53.487000\",\"c:\\\\windows\\\\explorer.exe0x19a02020-07-10 18:27:53.487000\",\"c:\\\\windows\\\\explorer.exe0x19a02020-07-10 18:27:53.487000\",\"c:\\\\windows\\\\system32\\\\cmd.exe0x24142020-07-10 18:28:14.043000\",\"c:\\\\windows\\\\explorer.exe0x19a02020-07-10 18:27:53.487000\",\"c:\\\\windows\\\\system32\\\\cmd.exe0x241c2020-07-10 18:28:14.060000\",\"c:\\\\windows\\\\explorer.exe0x19a02020-07-10 18:27:53.487000\",\"c:\\\\windows\\\\system32\\\\cmd.exe0x24402020-07-10 18:28:14.083000\",\"c:\\\\windows\\\\explorer.exe0x19a02020-07-10 18:27:53.487000\",\"c:\\\\windows\\\\system32\\\\cmd.exe0x246c2020-07-10 18:28:14.123000\",\"c:\\\\windows\\\\explorer.exe0x19a02020-07-10 18:27:53.487000\",\"c:\\\\windows\\\\system32\\\\cmd.exe0x21ec2020-07-10 18:28:33.577000\",\"c:\\\\windows\\\\system32\\\\net.exe0x24182020-07-10 18:28:47.377000\",\"c:\\\\windows\\\\system32\\\\cmd.exe0x21ec2020-07-10 18:28:33.577000\",\"c:\\\\windows\\\\system32\\\\net.exe0x24902020-07-10 18:28:47.407000\",\"c:\\\\windows\\\\system32\\\\cmd.exe0x21ec2020-07-10 18:28:33.577000\",\"c:\\\\windows\\\\system32\\\\net.exe0x21182020-07-10 18:28:47.440000\",\"c:\\\\windows\\\\system32\\\\cmd.exe0x21ec2020-07-10 18:28:33.577000\",\"c:\\\\windows\\\\system32\\\\cmd.exe0x21ec2020-07-10 18:28:33.577000\",\"c:\\\\windows\\\\system32\\\\net.exe0x26842020-07-10 18:28:47.480000\",\"c:\\\\windows\\\\system32\\\\cmd.exe0x21ec2020-07-10 18:28:33.577000\",\"c:\\\\windows\\\\system32\\\\net.exe0x227c2020-07-10 18:28:47.517000\",\"c:\\\\windows\\\\system32\\\\cmd.exe0x21ec2020-07-10 18:28:33.577000\",\"c:\\\\windows\\\\system32\\\\cmd.exe0x21ec2020-07-10 18:28:33.577000\",\"c:\\\\windows\\\\system32\\\\net.exe0x1d942020-07-10 18:28:47.563000\",\"c:\\\\windows\\\\system32\\\\cmd.exe0x21ec2020-07-10 18:28:33.577000\",\"c:\\\\windows\\\\system32\\\\net.exe0x146c2020-07-10 18:28:47.593000\",\"c:\\\\windows\\\\system32\\\\cmd.exe0x21ec2020-07-10 18:28:33.577000\",\"c:\\\\windows\\\\system32\\\\net.exe0x230c2020-07-10 18:28:47.627000\",\"c:\\\\windows\\\\system32\\\\cmd.exe0x21ec2020-07-10 18:28:33.577000\",\"c:\\\\windows\\\\system32\\\\cmd.exe0x21ec2020-07-10 18:28:33.577000\",\"c:\\\\windows\\\\system32\\\\cmd.exe0x21ec2020-07-10 18:28:33.577000\",\"c:\\\\windows\\\\system32\\\\cmd.exe0x21ec2020-07-10 18:28:33.577000\",\"c:\\\\windows\\\\system32\\\\cmd.exe0x21ec2020-07-10 18:28:33.577000\",\"c:\\\\windows\\\\system32\\\\net.exe0x22c02020-07-10 18:37:39.450000\",\"c:\\\\windows\\\\system32\\\\cmd.exe0x21ec2020-07-10 18:28:33.577000\",\"c:\\\\windows\\\\system32\\\\net.exe0x93c2020-07-10 18:37:39.497000\",\"c:\\\\windows\\\\system32\\\\cmd.exe0x21ec2020-07-10 18:28:33.577000\",\"c:\\\\windows\\\\system32\\\\net.exe0x24882020-07-10 18:37:39.530000\",\"c:\\\\windows\\\\system32\\\\cmd.exe0x21ec2020-07-10 18:28:33.577000\",\"c:\\\\windows\\\\system32\\\\cmd.exe0x21ec2020-07-10 18:28:33.577000\",\"c:\\\\windows\\\\system32\\\\cmd.exe0x21ec2020-07-10 18:28:33.577000\",\"c:\\\\windows\\\\system32\\\\cmd.exe0x21ec2020-07-10 18:28:33.577000\",\"c:\\\\windows\\\\system32\\\\cmd.exe0x21ec2020-07-10 18:28:33.577000\",\"c:\\\\windows\\\\system32\\\\cmd.exe0x21ec2020-07-10 18:28:33.577000\",\"c:\\\\windows\\\\system32\\\\cmd.exe0x21ec2020-07-10 18:28:33.577000\",\"c:\\\\windows\\\\system32\\\\cmd.exe0x21ec2020-07-10 18:28:33.577000\",\"c:\\\\windows\\\\system32\\\\net.exe0x27bc2020-07-10 18:28:47.270000\",\"c:\\\\windows\\\\system32\\\\cmd.exe0x21ec2020-07-10 18:28:33.577000\",\"c:\\\\windows\\\\system32\\\\winlogon.exe0x60c1970-01-01 00:00:00.000000\"],\"parent_proc_lc\":[\"NaN\",\"c:\\\\windows\\\\system32\\\\winlogon.exe\",\"c:\\\\windows\\\\system32\\\\userinit.exe\",\"c:\\\\windows\\\\explorer.exe\",\"c:\\\\windows\\\\explorer.exe\",\"c:\\\\windows\\\\explorer.exe\",\"c:\\\\windows\\\\system32\\\\cmd.exe\",\"c:\\\\windows\\\\explorer.exe\",\"c:\\\\windows\\\\system32\\\\cmd.exe\",\"c:\\\\windows\\\\explorer.exe\",\"c:\\\\windows\\\\system32\\\\cmd.exe\",\"c:\\\\windows\\\\explorer.exe\",\"c:\\\\windows\\\\system32\\\\cmd.exe\",\"c:\\\\windows\\\\explorer.exe\",\"c:\\\\windows\\\\system32\\\\cmd.exe\",\"c:\\\\windows\\\\system32\\\\net.exe\",\"c:\\\\windows\\\\system32\\\\cmd.exe\",\"c:\\\\windows\\\\system32\\\\net.exe\",\"c:\\\\windows\\\\system32\\\\cmd.exe\",\"c:\\\\windows\\\\system32\\\\net.exe\",\"c:\\\\windows\\\\system32\\\\cmd.exe\",\"c:\\\\windows\\\\system32\\\\cmd.exe\",\"c:\\\\windows\\\\system32\\\\net.exe\",\"c:\\\\windows\\\\system32\\\\cmd.exe\",\"c:\\\\windows\\\\system32\\\\net.exe\",\"c:\\\\windows\\\\system32\\\\cmd.exe\",\"c:\\\\windows\\\\system32\\\\cmd.exe\",\"c:\\\\windows\\\\system32\\\\net.exe\",\"c:\\\\windows\\\\system32\\\\cmd.exe\",\"c:\\\\windows\\\\system32\\\\net.exe\",\"c:\\\\windows\\\\system32\\\\cmd.exe\",\"c:\\\\windows\\\\system32\\\\net.exe\",\"c:\\\\windows\\\\system32\\\\cmd.exe\",\"c:\\\\windows\\\\system32\\\\cmd.exe\",\"c:\\\\windows\\\\system32\\\\cmd.exe\",\"c:\\\\windows\\\\system32\\\\cmd.exe\",\"c:\\\\windows\\\\system32\\\\cmd.exe\",\"c:\\\\windows\\\\system32\\\\net.exe\",\"c:\\\\windows\\\\system32\\\\cmd.exe\",\"c:\\\\windows\\\\system32\\\\net.exe\",\"c:\\\\windows\\\\system32\\\\cmd.exe\",\"c:\\\\windows\\\\system32\\\\net.exe\",\"c:\\\\windows\\\\system32\\\\cmd.exe\",\"c:\\\\windows\\\\system32\\\\cmd.exe\",\"c:\\\\windows\\\\system32\\\\cmd.exe\",\"c:\\\\windows\\\\system32\\\\cmd.exe\",\"c:\\\\windows\\\\system32\\\\cmd.exe\",\"c:\\\\windows\\\\system32\\\\cmd.exe\",\"c:\\\\windows\\\\system32\\\\cmd.exe\",\"c:\\\\windows\\\\system32\\\\cmd.exe\",\"c:\\\\windows\\\\system32\\\\net.exe\",\"c:\\\\windows\\\\system32\\\\cmd.exe\",\"c:\\\\windows\\\\system32\\\\winlogon.exe\"],\"path\":[\"1146\",\"1146/20\",\"1146/20/21\",\"1146/20/21/61\",\"1146/20/21/63\",\"1146/20/21/64\",\"1146/20/21/64/66\",\"1146/20/21/65\",\"1146/20/21/65/67\",\"1146/20/21/68\",\"1146/20/21/68/69\",\"1146/20/21/70\",\"1146/20/21/70/71\",\"1146/20/21/89\",\"1146/20/21/89/100\",\"1146/20/21/89/100/101\",\"1146/20/21/89/102\",\"1146/20/21/89/102/103\",\"1146/20/21/89/104\",\"1146/20/21/89/104/106\",\"1146/20/21/89/105\",\"1146/20/21/89/107\",\"1146/20/21/89/107/108\",\"1146/20/21/89/109\",\"1146/20/21/89/109/111\",\"1146/20/21/89/110\",\"1146/20/21/89/112\",\"1146/20/21/89/112/113\",\"1146/20/21/89/114\",\"1146/20/21/89/114/115\",\"1146/20/21/89/116\",\"1146/20/21/89/116/117\",\"1146/20/21/89/118\",\"1146/20/21/89/119\",\"1146/20/21/89/120\",\"1146/20/21/89/121\",\"1146/20/21/89/647\",\"1146/20/21/89/647/648\",\"1146/20/21/89/649\",\"1146/20/21/89/649/650\",\"1146/20/21/89/651\",\"1146/20/21/89/651/652\",\"1146/20/21/89/653\",\"1146/20/21/89/90\",\"1146/20/21/89/92\",\"1146/20/21/89/93\",\"1146/20/21/89/94\",\"1146/20/21/89/95\",\"1146/20/21/89/96\",\"1146/20/21/89/97\",\"1146/20/21/89/97/99\",\"1146/20/21/89/98\",\"1146/917\"],\"proc_key\":[\"c:\\\\windows\\\\system32\\\\winlogon.exe0x60c1970-01-01 00:00:00.000000\",\"c:\\\\windows\\\\system32\\\\userinit.exe0x19682020-07-10 18:27:53.417000\",\"c:\\\\windows\\\\explorer.exe0x19a02020-07-10 18:27:53.487000\",\"c:\\\\windows\\\\system32\\\\securityhealthsystray.exe0x9fc2020-07-10 18:28:13.180000\",\"c:\\\\users\\\\timvic\\\\appdata\\\\local\\\\microsoft\\\\onedrive\\\\onedrive.exe0x12402020-07-10 18:28:13.657000\",\"c:\\\\windows\\\\system32\\\\cmd.exe0x24142020-07-10 18:28:14.043000\",\"c:\\\\windows\\\\system32\\\\conhost.exe0x24242020-07-10 18:28:14.063000\",\"c:\\\\windows\\\\system32\\\\cmd.exe0x241c2020-07-10 18:28:14.060000\",\"c:\\\\windows\\\\system32\\\\conhost.exe0x242c2020-07-10 18:28:14.067000\",\"c:\\\\windows\\\\system32\\\\cmd.exe0x24402020-07-10 18:28:14.083000\",\"c:\\\\windows\\\\system32\\\\conhost.exe0x244c2020-07-10 18:28:14.100000\",\"c:\\\\windows\\\\system32\\\\cmd.exe0x246c2020-07-10 18:28:14.123000\",\"c:\\\\windows\\\\system32\\\\conhost.exe0x24802020-07-10 18:28:14.137000\",\"c:\\\\windows\\\\system32\\\\cmd.exe0x21ec2020-07-10 18:28:33.577000\",\"c:\\\\windows\\\\system32\\\\net.exe0x24182020-07-10 18:28:47.377000\",\"c:\\\\windows\\\\system32\\\\net1.exe0x24d02020-07-10 18:28:47.387000\",\"c:\\\\windows\\\\system32\\\\net.exe0x24902020-07-10 18:28:47.407000\",\"c:\\\\windows\\\\system32\\\\net1.exe0x24a02020-07-10 18:28:47.417000\",\"c:\\\\windows\\\\system32\\\\net.exe0x21182020-07-10 18:28:47.440000\",\"c:\\\\windows\\\\system32\\\\net1.exe0x26d02020-07-10 18:28:47.453000\",\"c:\\\\windows\\\\system32\\\\findstr.exe0x24202020-07-10 18:28:47.443000\",\"c:\\\\windows\\\\system32\\\\net.exe0x26842020-07-10 18:28:47.480000\",\"c:\\\\windows\\\\system32\\\\net1.exe0x20ac2020-07-10 18:28:47.490000\",\"c:\\\\windows\\\\system32\\\\net.exe0x227c2020-07-10 18:28:47.517000\",\"c:\\\\windows\\\\system32\\\\net1.exe0x21602020-07-10 18:28:47.537000\",\"c:\\\\windows\\\\system32\\\\findstr.exe0xab02020-07-10 18:28:47.517000\",\"c:\\\\windows\\\\system32\\\\net.exe0x1d942020-07-10 18:28:47.563000\",\"c:\\\\windows\\\\system32\\\\net1.exe0x21402020-07-10 18:28:47.570000\",\"c:\\\\windows\\\\system32\\\\net.exe0x146c2020-07-10 18:28:47.593000\",\"c:\\\\windows\\\\system32\\\\net1.exe0x23ac2020-07-10 18:28:47.603000\",\"c:\\\\windows\\\\system32\\\\net.exe0x230c2020-07-10 18:28:47.627000\",\"c:\\\\windows\\\\system32\\\\net1.exe0x4382020-07-10 18:28:47.637000\",\"c:\\\\windows\\\\system32\\\\cmd.exe0x1a382020-07-10 18:28:47.660000\",\"c:\\\\w!ndows\\\\system32\\\\reg.exe0x22682020-07-10 18:28:47.700000\",\"c:\\\\windows\\\\system32\\\\schtasks.exe0x25242020-07-10 18:28:47.740000\",\"c:\\\\windows\\\\system32\\\\ping.exe0x20482020-07-10 18:28:47.830000\",\"c:\\\\windows\\\\system32\\\\net.exe0x22c02020-07-10 18:37:39.450000\",\"c:\\\\windows\\\\system32\\\\net1.exe0x1dc82020-07-10 18:37:39.467000\",\"c:\\\\windows\\\\system32\\\\net.exe0x93c2020-07-10 18:37:39.497000\",\"c:\\\\windows\\\\system32\\\\net1.exe0x18142020-07-10 18:37:39.510000\",\"c:\\\\windows\\\\system32\\\\net.exe0x24882020-07-10 18:37:39.530000\",\"c:\\\\windows\\\\system32\\\\net1.exe0x1fb82020-07-10 18:37:39.543000\",\"c:\\\\windows\\\\system32\\\\cmd.exe0x12142020-07-10 18:37:39.567000\",\"c:\\\\windows\\\\system32\\\\conhost.exe0x1e442020-07-10 18:28:33.693000\",\"c:\\\\windows\\\\system32\\\\cmd.exe0x21542020-07-10 18:28:46.953000\",\"c:\\\\windows\\\\system32\\\\cmd.exe0x26902020-07-10 18:28:46.973000\",\"c:\\\\windows\\\\system32\\\\cmd.exe0x26e42020-07-10 18:28:46.993000\",\"c:\\\\windows\\\\system32\\\\ftp.exe0x279c2020-07-10 18:28:47.080000\",\"c:\\\\w!ndows\\\\system32\\\\cacls.exe0x21d82020-07-10 18:28:47.233000\",\"c:\\\\windows\\\\system32\\\\net.exe0x27bc2020-07-10 18:28:47.270000\",\"c:\\\\windows\\\\system32\\\\net1.exe0x24102020-07-10 18:28:47.343000\",\"c:\\\\windows\\\\system32\\\\findstr.exe0x27202020-07-10 18:28:47.273000\",\"c:\\\\windows\\\\system32\\\\logonui.exe0x15d02020-07-10 19:44:19.440000\"],\"source_index\":[\"1146\",\"20\",\"21\",\"61\",\"63\",\"64\",\"66\",\"65\",\"67\",\"68\",\"69\",\"70\",\"71\",\"89\",\"100\",\"101\",\"102\",\"103\",\"104\",\"106\",\"105\",\"107\",\"108\",\"109\",\"111\",\"110\",\"112\",\"113\",\"114\",\"115\",\"116\",\"117\",\"118\",\"119\",\"120\",\"121\",\"647\",\"648\",\"649\",\"650\",\"651\",\"652\",\"653\",\"90\",\"92\",\"93\",\"94\",\"95\",\"96\",\"97\",\"99\",\"98\",\"917\"],\"source_index_par\":{\"__ndarray__\":\"AAAAAAAA+H8AAAAAAAD4fwAAAAAAQF1AAAAAAACAXUAAAAAAAIBdQAAAAAAAgF1AAAAAAABAZUAAAAAAAIBdQAAAAAAAYGVAAAAAAACAXUAAAAAAAMBlQAAAAAAAgF1AAAAAAAAAZkAAAAAAAIBdQAAAAAAA4GhAAAAAAADAakAAAAAAAOBoQAAAAAAAAGtAAAAAAADgaEAAAAAAAEBrQAAAAAAA4GhAAAAAAADgaEAAAAAAAKBrQAAAAAAA4GhAAAAAAADga0AAAAAAAOBoQAAAAAAA4GhAAAAAAABAbEAAAAAAAOBoQAAAAAAAgGxAAAAAAADgaEAAAAAAAMBsQAAAAAAA4GhAAAAAAADgaEAAAAAAAOBoQAAAAAAA4GhAAAAAAADgaEAAAAAAAJCIQAAAAAAA4GhAAAAAAACgiEAAAAAAAOBoQAAAAAAAsIhAAAAAAADgaEAAAAAAAOBoQAAAAAAA4GhAAAAAAADgaEAAAAAAAOBoQAAAAAAA4GhAAAAAAADgaEAAAAAAAOBoQAAAAAAAYGpAAAAAAADgaEAAAAAAAAD4fw==\",\"dtype\":\"float64\",\"order\":\"little\",\"shape\":[53]}},\"selected\":{\"id\":\"3452\"},\"selection_policy\":{\"id\":\"3453\"}},\"id\":\"3409\",\"type\":\"ColumnDataSource\"},{\"attributes\":{\"editor\":{\"id\":\"3557\"},\"field\":\"ParentProcessName\",\"formatter\":{\"id\":\"3558\"},\"title\":\"ParentProcessName\"},\"id\":\"3534\",\"type\":\"TableColumn\"},{\"attributes\":{\"editor\":{\"id\":\"3559\"},\"field\":\"TargetLogonId\",\"formatter\":{\"id\":\"3560\"},\"title\":\"TargetLogonId\"},\"id\":\"3535\",\"type\":\"TableColumn\"},{\"attributes\":{\"source\":{\"id\":\"3409\"}},\"id\":\"3537\",\"type\":\"CDSView\"},{\"attributes\":{\"end\":54,\"start\":33},\"id\":\"3416\",\"type\":\"Range1d\"},{\"attributes\":{\"text\":\"\"},\"id\":\"3541\",\"type\":\"Title\"},{\"attributes\":{},\"id\":\"3542\",\"type\":\"StringEditor\"},{\"attributes\":{},\"id\":\"3543\",\"type\":\"StringEditor\"},{\"attributes\":{},\"id\":\"3544\",\"type\":\"StringFormatter\"},{\"attributes\":{\"below\":[{\"id\":\"3490\"}],\"center\":[{\"id\":\"3493\"},{\"id\":\"3497\"}],\"left\":[{\"id\":\"3494\"}],\"plot_height\":700,\"plot_width\":90,\"renderers\":[{\"id\":\"3516\"}],\"title\":{\"id\":\"3541\"},\"toolbar\":{\"id\":\"3505\"},\"toolbar_location\":null,\"x_range\":{\"id\":\"3482\"},\"x_scale\":{\"id\":\"3486\"},\"y_range\":{\"id\":\"3484\"},\"y_scale\":{\"id\":\"3488\"}},\"id\":\"3481\",\"subtype\":\"Figure\",\"type\":\"Plot\"},{\"attributes\":{},\"id\":\"3545\",\"type\":\"StringEditor\"},{\"attributes\":{},\"id\":\"3546\",\"type\":\"StringFormatter\"},{\"attributes\":{},\"id\":\"3547\",\"type\":\"StringEditor\"},{\"attributes\":{\"text\":{\"field\":\"Exe\"},\"text_baseline\":\"middle\",\"text_color\":{\"value\":\"black\"},\"text_font_size\":{\"value\":\"8pt\"},\"x\":{\"field\":\"Level\",\"transform\":{\"id\":\"3463\"}},\"y\":{\"field\":\"Row\",\"transform\":{\"id\":\"3464\"}}},\"id\":\"3466\",\"type\":\"Text\"},{\"attributes\":{},\"id\":\"3548\",\"type\":\"StringFormatter\"},{\"attributes\":{},\"id\":\"3549\",\"type\":\"StringEditor\"},{\"attributes\":{},\"id\":\"3550\",\"type\":\"StringFormatter\"},{\"attributes\":{},\"id\":\"3551\",\"type\":\"StringEditor\"},{\"attributes\":{},\"id\":\"3552\",\"type\":\"StringFormatter\"},{\"attributes\":{\"axis_line_color\":null,\"formatter\":{\"id\":\"3449\"},\"major_label_standoff\":0,\"major_tick_line_color\":\"navy\",\"ticker\":{\"id\":\"3427\"},\"visible\":false},\"id\":\"3426\",\"type\":\"LinearAxis\"},{\"attributes\":{},\"id\":\"3553\",\"type\":\"StringEditor\"},{\"attributes\":{},\"id\":\"3427\",\"type\":\"BasicTicker\"},{\"attributes\":{},\"id\":\"3554\",\"type\":\"StringFormatter\"},{\"attributes\":{\"axis\":{\"id\":\"3422\"},\"grid_line_alpha\":0.1,\"grid_line_color\":\"navy\",\"minor_grid_line_alpha\":0.1,\"minor_grid_line_color\":\"navy\",\"ticker\":{\"id\":\"3479\"}},\"id\":\"3425\",\"type\":\"Grid\"},{\"attributes\":{\"axis_line_color\":null,\"formatter\":{\"id\":\"3451\"},\"major_label_standoff\":0,\"major_tick_line_color\":\"navy\",\"ticker\":{\"id\":\"3477\"},\"visible\":false},\"id\":\"3422\",\"type\":\"LinearAxis\"},{\"attributes\":{},\"id\":\"3567\",\"type\":\"BasicTickFormatter\"},{\"attributes\":{\"factors\":[\"BlackHatDemoHos$\",\"timvic\"],\"palette\":[\"#440154\",\"#208F8C\",\"#FDE724\"]},\"id\":\"3410\",\"type\":\"CategoricalColorMapper\"},{\"attributes\":{\"axis\":{\"id\":\"3426\"},\"dimension\":1,\"grid_line_color\":\"navy\",\"ticker\":null,\"visible\":false},\"id\":\"3429\",\"type\":\"Grid\"},{\"attributes\":{\"callback\":null,\"formatters\":{\"TimeGenerated\":\"datetime\"},\"renderers\":[{\"id\":\"3445\"}],\"tooltips\":[[\"Process\",\"@NewProcessName\"],[\"PID\",\"@PID\"],[\"CmdLine\",\"@CommandLine\"],[\"SubjUser\",\"@SubjectUserName\"],[\"SubjLgnId\",\"@SubjectLogonId\"],[\"TargLgnId\",\"@TargetLogonId\"],[\"Time\",\"@TimeGenerated{%F %T}\"]]},\"id\":\"3439\",\"type\":\"HoverTool\"},{\"attributes\":{},\"id\":\"3569\",\"type\":\"BasicTickFormatter\"},{\"attributes\":{\"below\":[{\"id\":\"3422\"}],\"center\":[{\"id\":\"3425\"},{\"id\":\"3429\"},{\"id\":\"3454\"}],\"left\":[{\"id\":\"3426\"}],\"outline_line_color\":null,\"plot_height\":700,\"plot_width\":900,\"renderers\":[{\"id\":\"3445\"},{\"id\":\"3461\"},{\"id\":\"3468\"},{\"id\":\"3475\"}],\"title\":{\"id\":\"3412\"},\"toolbar\":{\"id\":\"3434\"},\"toolbar_location\":\"above\",\"x_range\":{\"id\":\"3414\"},\"x_scale\":{\"id\":\"3418\"},\"y_range\":{\"id\":\"3416\"},\"y_scale\":{\"id\":\"3420\"}},\"id\":\"3411\",\"subtype\":\"Figure\",\"type\":\"Plot\"},{\"attributes\":{},\"id\":\"3420\",\"type\":\"LinearScale\"},{\"attributes\":{},\"id\":\"3418\",\"type\":\"LinearScale\"},{\"attributes\":{\"text\":{\"field\":\"Exe\"},\"text_alpha\":{\"value\":0.1},\"text_baseline\":\"middle\",\"text_color\":{\"value\":\"black\"},\"text_font_size\":{\"value\":\"8pt\"},\"x\":{\"field\":\"Level\",\"transform\":{\"id\":\"3463\"}},\"y\":{\"field\":\"Row\",\"transform\":{\"id\":\"3464\"}}},\"id\":\"3467\",\"type\":\"Text\"},{\"attributes\":{\"text\":\"ProcessTree\"},\"id\":\"3412\",\"type\":\"Title\"},{\"attributes\":{\"end\":9,\"start\":1},\"id\":\"3414\",\"type\":\"Range1d\"},{\"attributes\":{\"range\":{\"id\":\"3414\"},\"value\":1.75},\"id\":\"3441\",\"type\":\"Dodge\"},{\"attributes\":{\"ticks\":[1,2,3,4,5,6]},\"id\":\"3479\",\"type\":\"FixedTicker\"},{\"attributes\":{\"range\":null,\"value\":-0.5},\"id\":\"3512\",\"type\":\"Dodge\"},{\"attributes\":{},\"id\":\"3482\",\"type\":\"DataRange1d\"},{\"attributes\":{},\"id\":\"3560\",\"type\":\"StringFormatter\"},{\"attributes\":{\"dimensions\":\"height\"},\"id\":\"3430\",\"type\":\"PanTool\"},{\"attributes\":{\"end\":54,\"start\":-1},\"id\":\"3484\",\"type\":\"Range1d\"},{\"attributes\":{},\"id\":\"3431\",\"type\":\"ResetTool\"},{\"attributes\":{},\"id\":\"3486\",\"type\":\"LinearScale\"},{\"attributes\":{},\"id\":\"3432\",\"type\":\"SaveTool\"},{\"attributes\":{},\"id\":\"3488\",\"type\":\"LinearScale\"},{\"attributes\":{\"callback\":null},\"id\":\"3433\",\"type\":\"TapTool\"},{\"attributes\":{\"formatter\":{\"id\":\"3569\"},\"ticker\":{\"id\":\"3491\"},\"visible\":false},\"id\":\"3490\",\"type\":\"LinearAxis\"},{\"attributes\":{\"source\":{\"id\":\"3409\"}},\"id\":\"3476\",\"type\":\"CDSView\"},{\"attributes\":{},\"id\":\"3491\",\"type\":\"BasicTicker\"},{\"attributes\":{\"active_drag\":\"auto\",\"active_inspect\":\"auto\",\"active_multi\":null,\"active_scroll\":\"auto\",\"active_tap\":\"auto\",\"tools\":[{\"id\":\"3430\"},{\"id\":\"3431\"},{\"id\":\"3432\"},{\"id\":\"3433\"},{\"id\":\"3439\"}]},\"id\":\"3434\",\"type\":\"Toolbar\"},{\"attributes\":{\"axis\":{\"id\":\"3490\"},\"grid_line_color\":null,\"ticker\":null},\"id\":\"3493\",\"type\":\"Grid\"},{\"attributes\":{\"formatter\":{\"id\":\"3567\"},\"ticker\":{\"id\":\"3495\"},\"visible\":false},\"id\":\"3494\",\"type\":\"LinearAxis\"},{\"attributes\":{\"range\":{\"id\":\"3416\"},\"value\":0.25},\"id\":\"3471\",\"type\":\"Dodge\"},{\"attributes\":{},\"id\":\"3495\",\"type\":\"BasicTicker\"},{\"attributes\":{\"range\":{\"id\":\"3414\"},\"value\":1.8},\"id\":\"3470\",\"type\":\"Dodge\"},{\"attributes\":{\"axis\":{\"id\":\"3494\"},\"dimension\":1,\"grid_line_color\":null,\"ticker\":null},\"id\":\"3497\",\"type\":\"Grid\"},{\"attributes\":{\"fill_alpha\":{\"value\":0.1},\"fill_color\":{\"field\":\"SubjectUserName\",\"transform\":{\"id\":\"3410\"}},\"height\":{\"units\":\"data\",\"value\":0.95},\"line_alpha\":{\"value\":0.1},\"line_color\":{\"value\":\"#1f77b4\"},\"width\":{\"units\":\"data\",\"value\":3.5},\"x\":{\"field\":\"Level\",\"transform\":{\"id\":\"3441\"}},\"y\":{\"field\":\"Row\"}},\"id\":\"3444\",\"type\":\"Rect\"},{\"attributes\":{},\"id\":\"3555\",\"type\":\"StringEditor\"},{\"attributes\":{\"source\":{\"id\":\"3409\"}},\"id\":\"3446\",\"type\":\"CDSView\"},{\"attributes\":{\"data_source\":{\"id\":\"3409\"},\"glyph\":{\"id\":\"3443\"},\"hover_glyph\":null,\"muted_glyph\":null,\"nonselection_glyph\":{\"id\":\"3444\"},\"selection_glyph\":null,\"view\":{\"id\":\"3446\"}},\"id\":\"3445\",\"type\":\"GlyphRenderer\"},{\"attributes\":{},\"id\":\"3558\",\"type\":\"StringFormatter\"},{\"attributes\":{},\"id\":\"3449\",\"type\":\"BasicTickFormatter\"},{\"attributes\":{},\"id\":\"3498\",\"type\":\"PanTool\"},{\"attributes\":{\"fill_alpha\":{\"value\":0.4},\"fill_color\":{\"field\":\"SubjectUserName\",\"transform\":{\"id\":\"3410\"}},\"height\":{\"units\":\"data\",\"value\":0.95},\"line_color\":{\"value\":\"#1f77b4\"},\"width\":{\"units\":\"data\",\"value\":3.5},\"x\":{\"field\":\"Level\",\"transform\":{\"id\":\"3441\"}},\"y\":{\"field\":\"Row\"}},\"id\":\"3443\",\"type\":\"Rect\"},{\"attributes\":{},\"id\":\"3499\",\"type\":\"WheelZoomTool\"},{\"attributes\":{},\"id\":\"3451\",\"type\":\"BasicTickFormatter\"},{\"attributes\":{\"overlay\":{\"id\":\"3504\"}},\"id\":\"3500\",\"type\":\"BoxZoomTool\"},{\"attributes\":{},\"id\":\"3452\",\"type\":\"Selection\"},{\"attributes\":{},\"id\":\"3501\",\"type\":\"SaveTool\"},{\"attributes\":{},\"id\":\"3453\",\"type\":\"UnionRenderers\"},{\"attributes\":{},\"id\":\"3502\",\"type\":\"ResetTool\"},{\"attributes\":{\"items\":[{\"id\":\"3455\"}],\"title\":\"SubjectUserName\"},\"id\":\"3454\",\"type\":\"Legend\"},{\"attributes\":{},\"id\":\"3503\",\"type\":\"HelpTool\"},{\"attributes\":{},\"id\":\"3559\",\"type\":\"StringEditor\"},{\"attributes\":{\"label\":{\"field\":\"SubjectUserName\"},\"renderers\":[{\"id\":\"3445\"}]},\"id\":\"3455\",\"type\":\"LegendItem\"},{\"attributes\":{\"active_drag\":\"auto\",\"active_inspect\":\"auto\",\"active_multi\":{\"id\":\"3518\"},\"active_scroll\":\"auto\",\"active_tap\":\"auto\",\"tools\":[{\"id\":\"3498\"},{\"id\":\"3499\"},{\"id\":\"3500\"},{\"id\":\"3501\"},{\"id\":\"3502\"},{\"id\":\"3503\"},{\"id\":\"3518\"}]},\"id\":\"3505\",\"type\":\"Toolbar\"},{\"attributes\":{\"range\":{\"id\":\"3414\"},\"value\":0.1},\"id\":\"3456\",\"type\":\"Dodge\"},{\"attributes\":{},\"id\":\"3557\",\"type\":\"StringEditor\"},{\"attributes\":{\"range\":{\"id\":\"3416\"},\"value\":-0.2},\"id\":\"3457\",\"type\":\"Dodge\"},{\"attributes\":{},\"id\":\"3556\",\"type\":\"StringFormatter\"},{\"attributes\":{\"source\":{\"id\":\"3409\"}},\"id\":\"3469\",\"type\":\"CDSView\"},{\"attributes\":{\"bottom_units\":\"screen\",\"fill_alpha\":0.5,\"fill_color\":\"lightgrey\",\"left_units\":\"screen\",\"level\":\"overlay\",\"line_alpha\":1.0,\"line_color\":\"black\",\"line_dash\":[4,4],\"line_width\":2,\"right_units\":\"screen\",\"top_units\":\"screen\"},\"id\":\"3504\",\"type\":\"BoxAnnotation\"},{\"attributes\":{\"source\":{\"id\":\"3409\"}},\"id\":\"3462\",\"type\":\"CDSView\"},{\"attributes\":{\"text\":{\"field\":\"cmd\"},\"text_baseline\":\"middle\",\"text_color\":{\"value\":\"black\"},\"text_font_size\":{\"value\":\"7pt\"},\"x\":{\"field\":\"Level\",\"transform\":{\"id\":\"3456\"}},\"y\":{\"field\":\"Row\",\"transform\":{\"id\":\"3457\"}}},\"id\":\"3459\",\"type\":\"Text\"},{\"attributes\":{\"fill_alpha\":{\"value\":0.1},\"fill_color\":{\"field\":\"SubjectUserName\",\"transform\":{\"id\":\"3410\"}},\"height\":{\"units\":\"data\",\"value\":0.8},\"line_alpha\":{\"value\":0.1},\"line_color\":{\"value\":\"#1f77b4\"},\"width\":{\"units\":\"data\",\"value\":1.2},\"x\":{\"field\":\"Level\",\"transform\":{\"id\":\"3512\"}},\"y\":{\"field\":\"Row\"}},\"id\":\"3515\",\"type\":\"Rect\"},{\"attributes\":{\"text\":{\"field\":\"cmd\"},\"text_alpha\":{\"value\":0.1},\"text_baseline\":\"middle\",\"text_color\":{\"value\":\"black\"},\"text_font_size\":{\"value\":\"7pt\"},\"x\":{\"field\":\"Level\",\"transform\":{\"id\":\"3456\"}},\"y\":{\"field\":\"Row\",\"transform\":{\"id\":\"3457\"}}},\"id\":\"3460\",\"type\":\"Text\"},{\"attributes\":{\"source\":{\"id\":\"3409\"}},\"id\":\"3517\",\"type\":\"CDSView\"},{\"attributes\":{\"data_source\":{\"id\":\"3409\"},\"glyph\":{\"id\":\"3459\"},\"hover_glyph\":null,\"muted_glyph\":null,\"nonselection_glyph\":{\"id\":\"3460\"},\"selection_glyph\":null,\"view\":{\"id\":\"3462\"}},\"id\":\"3461\",\"type\":\"GlyphRenderer\"},{\"attributes\":{\"data_source\":{\"id\":\"3409\"},\"glyph\":{\"id\":\"3514\"},\"hover_glyph\":null,\"muted_glyph\":null,\"nonselection_glyph\":{\"id\":\"3515\"},\"selection_glyph\":null,\"view\":{\"id\":\"3517\"}},\"id\":\"3516\",\"type\":\"GlyphRenderer\"},{\"attributes\":{\"overlay\":{\"id\":\"3519\"},\"x_range\":null,\"y_range\":{\"id\":\"3416\"}},\"id\":\"3518\",\"type\":\"RangeTool\"},{\"attributes\":{\"fill_alpha\":{\"value\":0.6},\"fill_color\":{\"field\":\"SubjectUserName\",\"transform\":{\"id\":\"3410\"}},\"height\":{\"units\":\"data\",\"value\":0.8},\"line_color\":{\"value\":\"#1f77b4\"},\"width\":{\"units\":\"data\",\"value\":1.2},\"x\":{\"field\":\"Level\",\"transform\":{\"id\":\"3512\"}},\"y\":{\"field\":\"Row\"}},\"id\":\"3514\",\"type\":\"Rect\"},{\"attributes\":{\"range\":{\"id\":\"3414\"},\"value\":0.1},\"id\":\"3463\",\"type\":\"Dodge\"},{\"attributes\":{\"range\":{\"id\":\"3416\"},\"value\":0.25},\"id\":\"3464\",\"type\":\"Dodge\"},{\"attributes\":{\"fill_alpha\":0.2,\"fill_color\":\"navy\",\"level\":\"overlay\",\"line_alpha\":1.0,\"line_color\":\"black\",\"line_dash\":[2,2],\"line_width\":0.5},\"id\":\"3519\",\"type\":\"BoxAnnotation\"},{\"attributes\":{\"children\":[{\"id\":\"3411\"},{\"id\":\"3481\"}]},\"id\":\"3523\",\"type\":\"Row\"},{\"attributes\":{\"data_source\":{\"id\":\"3409\"},\"glyph\":{\"id\":\"3466\"},\"hover_glyph\":null,\"muted_glyph\":null,\"nonselection_glyph\":{\"id\":\"3467\"},\"selection_glyph\":null,\"view\":{\"id\":\"3469\"}},\"id\":\"3468\",\"type\":\"GlyphRenderer\"},{\"attributes\":{\"format\":\"%F %T\"},\"id\":\"3524\",\"type\":\"DateFormatter\"},{\"attributes\":{\"text\":{\"field\":\"PID\"},\"text_baseline\":\"middle\",\"text_color\":{\"value\":\"black\"},\"text_font_size\":{\"value\":\"8pt\"},\"x\":{\"field\":\"Level\",\"transform\":{\"id\":\"3470\"}},\"y\":{\"field\":\"Row\",\"transform\":{\"id\":\"3471\"}}},\"id\":\"3473\",\"type\":\"Text\"},{\"attributes\":{\"editor\":{\"id\":\"3542\"},\"field\":\"TimeGenerated\",\"formatter\":{\"id\":\"3524\"},\"title\":\"TimeGenerated\"},\"id\":\"3525\",\"type\":\"TableColumn\"},{\"attributes\":{\"text\":{\"field\":\"PID\"},\"text_alpha\":{\"value\":0.1},\"text_baseline\":\"middle\",\"text_color\":{\"value\":\"black\"},\"text_font_size\":{\"value\":\"8pt\"},\"x\":{\"field\":\"Level\",\"transform\":{\"id\":\"3470\"}},\"y\":{\"field\":\"Row\",\"transform\":{\"id\":\"3471\"}}},\"id\":\"3474\",\"type\":\"Text\"},{\"attributes\":{\"columns\":[{\"id\":\"3525\"},{\"id\":\"3527\"},{\"id\":\"3528\"},{\"id\":\"3529\"},{\"id\":\"3530\"},{\"id\":\"3531\"},{\"id\":\"3532\"},{\"id\":\"3533\"},{\"id\":\"3534\"},{\"id\":\"3535\"}],\"height\":150,\"source\":{\"id\":\"3409\"},\"view\":{\"id\":\"3537\"},\"width\":950},\"id\":\"3536\",\"type\":\"DataTable\"},{\"attributes\":{\"data_source\":{\"id\":\"3409\"},\"glyph\":{\"id\":\"3473\"},\"hover_glyph\":null,\"muted_glyph\":null,\"nonselection_glyph\":{\"id\":\"3474\"},\"selection_glyph\":null,\"view\":{\"id\":\"3476\"}},\"id\":\"3475\",\"type\":\"GlyphRenderer\"},{\"attributes\":{\"editor\":{\"id\":\"3543\"},\"field\":\"SubjectUserName\",\"formatter\":{\"id\":\"3544\"},\"title\":\"SubjectUserName\"},\"id\":\"3527\",\"type\":\"TableColumn\"},{\"attributes\":{\"editor\":{\"id\":\"3545\"},\"field\":\"SubjectUserSid\",\"formatter\":{\"id\":\"3546\"},\"title\":\"SubjectUserSid\"},\"id\":\"3528\",\"type\":\"TableColumn\"},{\"attributes\":{\"ticks\":[1,2,3,4,5,6]},\"id\":\"3477\",\"type\":\"FixedTicker\"}],\"root_ids\":[\"3538\"]},\"title\":\"Bokeh Application\",\"version\":\"2.1.1\"}};\n",
       "  var render_items = [{\"docid\":\"1fc62440-d162-4855-9e76-28a4547fa3ec\",\"root_ids\":[\"3538\"],\"roots\":{\"3538\":\"a52eff63-fea4-43d2-bf38-64e302413e0b\"}}];\n",
       "  root.Bokeh.embed.embed_items_notebook(docs_json, render_items);\n",
       "\n",
       "  }\n",
       "  if (root.Bokeh !== undefined) {\n",
       "    embed_document(root);\n",
       "  } else {\n",
       "    var attempts = 0;\n",
       "    var timer = setInterval(function(root) {\n",
       "      if (root.Bokeh !== undefined) {\n",
       "        clearInterval(timer);\n",
       "        embed_document(root);\n",
       "      } else {\n",
       "        attempts++;\n",
       "        if (attempts > 100) {\n",
       "          clearInterval(timer);\n",
       "          console.log(\"Bokeh: ERROR: Unable to run BokehJS code because BokehJS library is missing\");\n",
       "        }\n",
       "      }\n",
       "    }, 10, root)\n",
       "  }\n",
       "})(window);"
      ],
      "application/vnd.bokehjs_exec.v0+json": ""
     },
     "metadata": {
      "application/vnd.bokehjs_exec.v0+json": {
       "id": "3538"
      }
     },
     "output_type": "display_data"
    }
   ],
   "source": [
    "# Build tree from selected root\n",
    "proc_tree = ptree.get_descendents(p_tree, ptree.get_roots(p_tree)[ptree.get_roots(p_tree)['NewProcessName']==root_proc_sel.value].iloc[0])\n",
    "# Visualize the tree\n",
    "process_tree = nbdisplay.plot_process_tree(data=proc_tree, legend_col=\"SubjectUserName\", show_table=True)"
   ]
  },
  {
   "cell_type": "markdown",
   "metadata": {},
   "source": [
    "Looking a the processes above we can see some of the command line arguments appear to be Base64 encoded. This is a common technique employed by attackers to hide their activity. MSTICpy's [Base64Unpack](https://msticpy.readthedocs.io/en/latest/data_analysis/Base64Unpack.html) will decode base64 encoded data, including nested encodings contain zipped and tarred data."
   ]
  },
  {
   "cell_type": "code",
   "execution_count": 37,
   "metadata": {},
   "outputs": [
    {
     "data": {
      "text/html": [
       "<div>\n",
       "<style scoped>\n",
       "    .dataframe tbody tr th:only-of-type {\n",
       "        vertical-align: middle;\n",
       "    }\n",
       "\n",
       "    .dataframe tbody tr th {\n",
       "        vertical-align: top;\n",
       "    }\n",
       "\n",
       "    .dataframe thead th {\n",
       "        text-align: right;\n",
       "    }\n",
       "</style>\n",
       "<table border=\"1\" class=\"dataframe\">\n",
       "  <thead>\n",
       "    <tr style=\"text-align: right;\">\n",
       "      <th></th>\n",
       "      <th>reference</th>\n",
       "      <th>original_string</th>\n",
       "      <th>file_name</th>\n",
       "      <th>file_type</th>\n",
       "      <th>input_bytes</th>\n",
       "      <th>decoded_string</th>\n",
       "      <th>encoding_type</th>\n",
       "      <th>file_hashes</th>\n",
       "      <th>md5</th>\n",
       "      <th>sha1</th>\n",
       "      <th>sha256</th>\n",
       "      <th>printable_bytes</th>\n",
       "      <th>src_index</th>\n",
       "      <th>full_decoded_string</th>\n",
       "    </tr>\n",
       "  </thead>\n",
       "  <tbody>\n",
       "    <tr>\n",
       "      <th>8</th>\n",
       "      <td>(, 1., 1)</td>\n",
       "      <td>QWxsIHlvdXIgc2VydmVycyBiZWxvbmcgdG8gZmF4aW5nLW1vbi5iZXN0IG5vdy4=</td>\n",
       "      <td>unknown</td>\n",
       "      <td>None</td>\n",
       "      <td>b'All your servers belong to faxing-mon.best now.'</td>\n",
       "      <td>All your servers belong to faxing-mon.best now.</td>\n",
       "      <td>utf-8</td>\n",
       "      <td>{'md5': 'c0635c256fbbfb3033a08929d1f90b53', 'sha1': '797345abadcbb2383bdb700444e7a3f46d4f5600', ...</td>\n",
       "      <td>c0635c256fbbfb3033a08929d1f90b53</td>\n",
       "      <td>797345abadcbb2383bdb700444e7a3f46d4f5600</td>\n",
       "      <td>05f5c87e10357fd8d720e348579fcd13f4a41dd680c1674511f06d92216a3039</td>\n",
       "      <td>41 6c 6c 20 79 6f 75 72 20 73 65 72 76 65 72 73 20 62 65 6c 6f 6e 67 20 74 6f 20 66 61 78 69 6e ...</td>\n",
       "      <td>c:\\windows\\system32\\cmd.exe0x1a382020-07-10 18:28:47.660000</td>\n",
       "      <td>cmd  /c echo &lt;decoded type='string' name='[None]' index='1' depth='1'&gt;All your servers belong to...</td>\n",
       "    </tr>\n",
       "  </tbody>\n",
       "</table>\n",
       "</div>"
      ],
      "text/plain": [
       "   reference  \\\n",
       "8  (, 1., 1)   \n",
       "\n",
       "                                                    original_string file_name  \\\n",
       "8  QWxsIHlvdXIgc2VydmVycyBiZWxvbmcgdG8gZmF4aW5nLW1vbi5iZXN0IG5vdy4=   unknown   \n",
       "\n",
       "  file_type                                         input_bytes  \\\n",
       "8      None  b'All your servers belong to faxing-mon.best now.'   \n",
       "\n",
       "                                    decoded_string encoding_type  \\\n",
       "8  All your servers belong to faxing-mon.best now.         utf-8   \n",
       "\n",
       "                                                                                           file_hashes  \\\n",
       "8  {'md5': 'c0635c256fbbfb3033a08929d1f90b53', 'sha1': '797345abadcbb2383bdb700444e7a3f46d4f5600', ...   \n",
       "\n",
       "                                md5                                      sha1  \\\n",
       "8  c0635c256fbbfb3033a08929d1f90b53  797345abadcbb2383bdb700444e7a3f46d4f5600   \n",
       "\n",
       "                                                             sha256  \\\n",
       "8  05f5c87e10357fd8d720e348579fcd13f4a41dd680c1674511f06d92216a3039   \n",
       "\n",
       "                                                                                       printable_bytes  \\\n",
       "8  41 6c 6c 20 79 6f 75 72 20 73 65 72 76 65 72 73 20 62 65 6c 6f 6e 67 20 74 6f 20 66 61 78 69 6e ...   \n",
       "\n",
       "                                                     src_index  \\\n",
       "8  c:\\windows\\system32\\cmd.exe0x1a382020-07-10 18:28:47.660000   \n",
       "\n",
       "                                                                                   full_decoded_string  \n",
       "8  cmd  /c echo <decoded type='string' name='[None]' index='1' depth='1'>All your servers belong to...  "
      ]
     },
     "execution_count": 37,
     "metadata": {},
     "output_type": "execute_result"
    }
   ],
   "source": [
    "cmd_lines = p_tree.dropna(subset=['CommandLine']).copy()\n",
    "#Base 64 decode strings in our commandlines\n",
    "dec_df = base64.unpack_df(data=cmd_lines, column=\"CommandLine\")\n",
    "dec_df = dec_df.dropna(subset=['decoded_string'])\n",
    "dec_df.head()"
   ]
  },
  {
   "cell_type": "markdown",
   "metadata": {},
   "source": [
    "## IoC Extract and Threat Intel Lookup\n",
    "With the host process tree above we have found some activity that appears malicious. However, we'd like to do some more validation without having to manually examine each process. One simple way to do this is to look for key Indicators of Compromise (IoC) in our data and check them against threat intelligence. We use MSTICpy's `IoCExtract` to [extract known IoC types](https://msticpy.readthedocs.io/en/latest/data_analysis/IoCExtract.html). We can then use the same threat intelligence feature used earlier with a single IP address to look up multiple IoCs."
   ]
  },
  {
   "cell_type": "code",
   "execution_count": 38,
   "metadata": {},
   "outputs": [
    {
     "data": {
      "text/html": [
       "<div>\n",
       "<style scoped>\n",
       "    .dataframe tbody tr th:only-of-type {\n",
       "        vertical-align: middle;\n",
       "    }\n",
       "\n",
       "    .dataframe tbody tr th {\n",
       "        vertical-align: top;\n",
       "    }\n",
       "\n",
       "    .dataframe thead th {\n",
       "        text-align: right;\n",
       "    }\n",
       "</style>\n",
       "<table border=\"1\" class=\"dataframe\">\n",
       "  <thead>\n",
       "    <tr style=\"text-align: right;\">\n",
       "      <th></th>\n",
       "      <th>IoCType</th>\n",
       "      <th>Observable</th>\n",
       "      <th>SourceIndex</th>\n",
       "    </tr>\n",
       "  </thead>\n",
       "  <tbody>\n",
       "    <tr>\n",
       "      <th>10</th>\n",
       "      <td>ipv4</td>\n",
       "      <td>32.220.60.108</td>\n",
       "      <td>c:\\windows\\system32\\ping.exe0x20482020-07-10 18:28:47.830000</td>\n",
       "    </tr>\n",
       "    <tr>\n",
       "      <th>225</th>\n",
       "      <td>ipv4</td>\n",
       "      <td>4.0.0.0</td>\n",
       "      <td>c:\\windows\\microsoft.net\\framework64\\v4.0.30319\\ngen.exe0x14d42020-07-10 18:36:30.583000</td>\n",
       "    </tr>\n",
       "    <tr>\n",
       "      <th>382</th>\n",
       "      <td>dns</td>\n",
       "      <td>System.Security</td>\n",
       "      <td>c:\\windows\\microsoft.net\\framework64\\v4.0.30319\\ngen.exe0x8402020-07-10 18:36:57.620000</td>\n",
       "    </tr>\n",
       "    <tr>\n",
       "      <th>359</th>\n",
       "      <td>dns</td>\n",
       "      <td>System.Management</td>\n",
       "      <td>c:\\windows\\microsoft.net\\framework\\v4.0.30319\\ngen.exe0x18342020-07-10 18:36:56.767000</td>\n",
       "    </tr>\n",
       "    <tr>\n",
       "      <th>2</th>\n",
       "      <td>dns</td>\n",
       "      <td>microsoft.com</td>\n",
       "      <td>c:\\windows\\system32\\cmd.exe0x26e42020-07-10 18:28:46.993000</td>\n",
       "    </tr>\n",
       "  </tbody>\n",
       "</table>\n",
       "</div>"
      ],
      "text/plain": [
       "    IoCType         Observable  \\\n",
       "10     ipv4      32.220.60.108   \n",
       "225    ipv4            4.0.0.0   \n",
       "382     dns    System.Security   \n",
       "359     dns  System.Management   \n",
       "2       dns      microsoft.com   \n",
       "\n",
       "                                                                                  SourceIndex  \n",
       "10                               c:\\windows\\system32\\ping.exe0x20482020-07-10 18:28:47.830000  \n",
       "225  c:\\windows\\microsoft.net\\framework64\\v4.0.30319\\ngen.exe0x14d42020-07-10 18:36:30.583000  \n",
       "382   c:\\windows\\microsoft.net\\framework64\\v4.0.30319\\ngen.exe0x8402020-07-10 18:36:57.620000  \n",
       "359    c:\\windows\\microsoft.net\\framework\\v4.0.30319\\ngen.exe0x18342020-07-10 18:36:56.767000  \n",
       "2                                 c:\\windows\\system32\\cmd.exe0x26e42020-07-10 18:28:46.993000  "
      ]
     },
     "execution_count": 38,
     "metadata": {},
     "output_type": "execute_result"
    }
   ],
   "source": [
    "# Extract IoCs from command lines\n",
    "ioc_ex = IoCExtract()\n",
    "cmd_iocs = cmd_lines.mp_ioc.extract(columns=['CommandLine'], ioc_types=['ipv4','dns'])\n",
    "b64_iocs = dec_df.mp_ioc.extract(columns=['decoded_string'], ioc_types=['ipv4','dns'])\n",
    "iocs = pd.concat([cmd_iocs,b64_iocs])\n",
    "iocs = iocs.drop_duplicates(subset=['IoCType','Observable']).copy()\n",
    "iocs.sample(5)"
   ]
  },
  {
   "cell_type": "markdown",
   "metadata": {},
   "source": [
    "Similar to the alert viewer widget used earlier MSTICpy has a viewer for threat intelligence results to make reviewing the output easier.\n",
    "> Note: The full response details from the provider can be see in the collapsible `Raw Results` section"
   ]
  },
  {
   "cell_type": "code",
   "execution_count": 41,
   "metadata": {},
   "outputs": [
    {
     "data": {
      "application/vnd.jupyter.widget-view+json": {
       "model_id": "783bfc0dc4c4435297bbfa7b4b8398ce",
       "version_major": 2,
       "version_minor": 0
      },
      "text/plain": [
       "VBox(children=(Text(value='', description='Filter:', style=DescriptionStyle(description_width='initial')), Sel…"
      ]
     },
     "metadata": {},
     "output_type": "display_data"
    },
    {
     "data": {
      "text/html": [
       "<hr>"
      ],
      "text/plain": [
       "<IPython.core.display.HTML object>"
      ]
     },
     "metadata": {},
     "output_type": "display_data"
    },
    {
     "data": {
      "text/html": [
       "<h2 style='border: 1px solid;background-color: DarkGray; padding: 6px'>secure-ssl-sec.com</h2><h3 style='background-color: SteelBlue; padding: 6px'>Type: 'dns', Provider: OTX, severity: high</h3><h4>Details</h4>\n",
       "<style>\n",
       "    .tb_ti_res {border-collapse: collapse; width: 60%; border: 1px solid #ddd !important;}\n",
       "    .cell_ti {border: 1px solid #ddd !important;\n",
       "        text-align: left !important; padding: 5px !important; height: 12px}\n",
       "    .cell_ti_first {border: 1px solid #ddd !important; width: 25%;\n",
       "        text-align: left !important; padding: 5px !important; height: 12px}\n",
       "</style>\n",
       "<table class='tb_ti_res'><tr class='cell_ti'><td class='cell_ti_first'>OTX</td><tr class='cell_ti'><td class='cell_ti_first'>pulse_count</td><td class='cell_ti'>5</td></tr><tr class='cell_ti'><td class='cell_ti_first'>names</td><td class='cell_ti'>['Malware - Malware Domain Feed V2 - February 10 2020', 'Malware - Malware Domain Feed V2 - June 04 2020', 'Cosmic Lynx: The Rise of A Russian BEC Group', 'Cosmic Lynx: The Rise of A Russian BEC Group', 'Cosmic Lynx The Rise of Russian BEC']</td></tr><tr class='cell_ti'><td class='cell_ti_first'>tags</td><td class='cell_ti'>[[], [], ['BEC', 'Phishing', 'social engineering', 'Russia', 'Email', 'COVID-19'], ['BEC', 'Phishing', 'social engineering', 'Russia', 'Email', 'COVID-19'], ['” “ corporate', '” “ matter', '” “ law', 'march', '” “ potential', '” “ new', '” “ possible', 'january', '“ corporate', '” “ liaise', 'august', 'june', 'april']]</td></tr><tr class='cell_ti'><td class='cell_ti_first'>references</td><td class='cell_ti'>[[], [], ['https://www.agari.com/cyber-intelligence-research/whitepapers/acid-agari-cosmic-lynx.pdf'], ['https://www.agari.com/cyber-intelligence-research/whitepapers/acid-agari-cosmic-lynx.pdf'], ['https://www.agari.com/cyber-intelligence-research/whitepapers/acid-agari-cosmic-lynx.pdf']]</td></tr></tr></table><h4>Reference: </h4><a href='https://otx.alienvault.com/api/v1/indicators/domain/secure-ssl-sec.com/general'>https://otx.alienvault.com/api/v1/indicators/domain/secure-ssl-sec.com/general</a><br><hr><h4>Raw Results</h4>\n",
       "        <details>\n",
       "        <summary> <u>Raw results from provider...</u></summary>\n",
       "        <pre  style=\"font-size:11px\">{'alexa':&nbsp;'http://www.alexa.com/siteinfo/secure-ssl-sec.com',<br>&nbsp;'base_indicator':&nbsp;{'access_reason':&nbsp;'',<br>&nbsp;&nbsp;&nbsp;&nbsp;&nbsp;&nbsp;&nbsp;&nbsp;&nbsp;&nbsp;&nbsp;&nbsp;&nbsp;&nbsp;&nbsp;&nbsp;&nbsp;&nbsp;&nbsp;&nbsp;'access_type':&nbsp;'public',<br>&nbsp;&nbsp;&nbsp;&nbsp;&nbsp;&nbsp;&nbsp;&nbsp;&nbsp;&nbsp;&nbsp;&nbsp;&nbsp;&nbsp;&nbsp;&nbsp;&nbsp;&nbsp;&nbsp;&nbsp;'content':&nbsp;'',<br>&nbsp;&nbsp;&nbsp;&nbsp;&nbsp;&nbsp;&nbsp;&nbsp;&nbsp;&nbsp;&nbsp;&nbsp;&nbsp;&nbsp;&nbsp;&nbsp;&nbsp;&nbsp;&nbsp;&nbsp;'description':&nbsp;'',<br>&nbsp;&nbsp;&nbsp;&nbsp;&nbsp;&nbsp;&nbsp;&nbsp;&nbsp;&nbsp;&nbsp;&nbsp;&nbsp;&nbsp;&nbsp;&nbsp;&nbsp;&nbsp;&nbsp;&nbsp;'id':&nbsp;2209997916,<br>&nbsp;&nbsp;&nbsp;&nbsp;&nbsp;&nbsp;&nbsp;&nbsp;&nbsp;&nbsp;&nbsp;&nbsp;&nbsp;&nbsp;&nbsp;&nbsp;&nbsp;&nbsp;&nbsp;&nbsp;'indicator':&nbsp;'secure-ssl-sec.com',<br>&nbsp;&nbsp;&nbsp;&nbsp;&nbsp;&nbsp;&nbsp;&nbsp;&nbsp;&nbsp;&nbsp;&nbsp;&nbsp;&nbsp;&nbsp;&nbsp;&nbsp;&nbsp;&nbsp;&nbsp;'title':&nbsp;'',<br>&nbsp;&nbsp;&nbsp;&nbsp;&nbsp;&nbsp;&nbsp;&nbsp;&nbsp;&nbsp;&nbsp;&nbsp;&nbsp;&nbsp;&nbsp;&nbsp;&nbsp;&nbsp;&nbsp;&nbsp;'type':&nbsp;'domain'},<br>&nbsp;'indicator':&nbsp;'secure-ssl-sec.com',<br>&nbsp;'pulse_info':&nbsp;{'count':&nbsp;5,<br>&nbsp;&nbsp;&nbsp;&nbsp;&nbsp;&nbsp;&nbsp;&nbsp;&nbsp;&nbsp;&nbsp;&nbsp;&nbsp;&nbsp;&nbsp;&nbsp;'pulses':&nbsp;[{'TLP':&nbsp;'white',<br>&nbsp;&nbsp;&nbsp;&nbsp;&nbsp;&nbsp;&nbsp;&nbsp;&nbsp;&nbsp;&nbsp;&nbsp;&nbsp;&nbsp;&nbsp;&nbsp;&nbsp;&nbsp;&nbsp;&nbsp;&nbsp;&nbsp;&nbsp;&nbsp;&nbsp;&nbsp;&nbsp;&nbsp;'adversary':&nbsp;'',<br>&nbsp;&nbsp;&nbsp;&nbsp;&nbsp;&nbsp;&nbsp;&nbsp;&nbsp;&nbsp;&nbsp;&nbsp;&nbsp;&nbsp;&nbsp;&nbsp;&nbsp;&nbsp;&nbsp;&nbsp;&nbsp;&nbsp;&nbsp;&nbsp;&nbsp;&nbsp;&nbsp;&nbsp;'attack_ids':&nbsp;[],<br>&nbsp;&nbsp;&nbsp;&nbsp;&nbsp;&nbsp;&nbsp;&nbsp;&nbsp;&nbsp;&nbsp;&nbsp;&nbsp;&nbsp;&nbsp;&nbsp;&nbsp;&nbsp;&nbsp;&nbsp;&nbsp;&nbsp;&nbsp;&nbsp;&nbsp;&nbsp;&nbsp;&nbsp;'author':&nbsp;{'avatar_url':&nbsp;'https://otx20-web-media.s3.amazonaws.com/media/avatars/user_78495/resized/80/avatar_ba5a8acdbd.png',<br>&nbsp;&nbsp;&nbsp;&nbsp;&nbsp;&nbsp;&nbsp;&nbsp;&nbsp;&nbsp;&nbsp;&nbsp;&nbsp;&nbsp;&nbsp;&nbsp;&nbsp;&nbsp;&nbsp;&nbsp;&nbsp;&nbsp;&nbsp;&nbsp;&nbsp;&nbsp;&nbsp;&nbsp;&nbsp;&nbsp;&nbsp;&nbsp;&nbsp;&nbsp;&nbsp;&nbsp;&nbsp;&nbsp;&nbsp;'id':&nbsp;'78495',<br>&nbsp;&nbsp;&nbsp;&nbsp;&nbsp;&nbsp;&nbsp;&nbsp;&nbsp;&nbsp;&nbsp;&nbsp;&nbsp;&nbsp;&nbsp;&nbsp;&nbsp;&nbsp;&nbsp;&nbsp;&nbsp;&nbsp;&nbsp;&nbsp;&nbsp;&nbsp;&nbsp;&nbsp;&nbsp;&nbsp;&nbsp;&nbsp;&nbsp;&nbsp;&nbsp;&nbsp;&nbsp;&nbsp;&nbsp;'is_following':&nbsp;False,<br>&nbsp;&nbsp;&nbsp;&nbsp;&nbsp;&nbsp;&nbsp;&nbsp;&nbsp;&nbsp;&nbsp;&nbsp;&nbsp;&nbsp;&nbsp;&nbsp;&nbsp;&nbsp;&nbsp;&nbsp;&nbsp;&nbsp;&nbsp;&nbsp;&nbsp;&nbsp;&nbsp;&nbsp;&nbsp;&nbsp;&nbsp;&nbsp;&nbsp;&nbsp;&nbsp;&nbsp;&nbsp;&nbsp;&nbsp;'is_subscribed':&nbsp;False,<br>&nbsp;&nbsp;&nbsp;&nbsp;&nbsp;&nbsp;&nbsp;&nbsp;&nbsp;&nbsp;&nbsp;&nbsp;&nbsp;&nbsp;&nbsp;&nbsp;&nbsp;&nbsp;&nbsp;&nbsp;&nbsp;&nbsp;&nbsp;&nbsp;&nbsp;&nbsp;&nbsp;&nbsp;&nbsp;&nbsp;&nbsp;&nbsp;&nbsp;&nbsp;&nbsp;&nbsp;&nbsp;&nbsp;&nbsp;'username':&nbsp;'otxrobottwo'},<br>&nbsp;&nbsp;&nbsp;&nbsp;&nbsp;&nbsp;&nbsp;&nbsp;&nbsp;&nbsp;&nbsp;&nbsp;&nbsp;&nbsp;&nbsp;&nbsp;&nbsp;&nbsp;&nbsp;&nbsp;&nbsp;&nbsp;&nbsp;&nbsp;&nbsp;&nbsp;&nbsp;&nbsp;'cloned_from':&nbsp;None,<br>&nbsp;&nbsp;&nbsp;&nbsp;&nbsp;&nbsp;&nbsp;&nbsp;&nbsp;&nbsp;&nbsp;&nbsp;&nbsp;&nbsp;&nbsp;&nbsp;&nbsp;&nbsp;&nbsp;&nbsp;&nbsp;&nbsp;&nbsp;&nbsp;&nbsp;&nbsp;&nbsp;&nbsp;'comment_count':&nbsp;0,<br>&nbsp;&nbsp;&nbsp;&nbsp;&nbsp;&nbsp;&nbsp;&nbsp;&nbsp;&nbsp;&nbsp;&nbsp;&nbsp;&nbsp;&nbsp;&nbsp;&nbsp;&nbsp;&nbsp;&nbsp;&nbsp;&nbsp;&nbsp;&nbsp;&nbsp;&nbsp;&nbsp;&nbsp;'created':&nbsp;'2020-02-10T07:12:56.255000',<br>&nbsp;&nbsp;&nbsp;&nbsp;&nbsp;&nbsp;&nbsp;&nbsp;&nbsp;&nbsp;&nbsp;&nbsp;&nbsp;&nbsp;&nbsp;&nbsp;&nbsp;&nbsp;&nbsp;&nbsp;&nbsp;&nbsp;&nbsp;&nbsp;&nbsp;&nbsp;&nbsp;&nbsp;'description':&nbsp;'Command&nbsp;and&nbsp;Control&nbsp;domains&nbsp;for&nbsp;'<br>&nbsp;&nbsp;&nbsp;&nbsp;&nbsp;&nbsp;&nbsp;&nbsp;&nbsp;&nbsp;&nbsp;&nbsp;&nbsp;&nbsp;&nbsp;&nbsp;&nbsp;&nbsp;&nbsp;&nbsp;&nbsp;&nbsp;&nbsp;&nbsp;&nbsp;&nbsp;&nbsp;&nbsp;&nbsp;&nbsp;&nbsp;&nbsp;&nbsp;&nbsp;&nbsp;&nbsp;&nbsp;&nbsp;&nbsp;&nbsp;&nbsp;&nbsp;&nbsp;'Malware.&nbsp;These&nbsp;domains&nbsp;are&nbsp;'<br>&nbsp;&nbsp;&nbsp;&nbsp;&nbsp;&nbsp;&nbsp;&nbsp;&nbsp;&nbsp;&nbsp;&nbsp;&nbsp;&nbsp;&nbsp;&nbsp;&nbsp;&nbsp;&nbsp;&nbsp;&nbsp;&nbsp;&nbsp;&nbsp;&nbsp;&nbsp;&nbsp;&nbsp;&nbsp;&nbsp;&nbsp;&nbsp;&nbsp;&nbsp;&nbsp;&nbsp;&nbsp;&nbsp;&nbsp;&nbsp;&nbsp;&nbsp;&nbsp;'extracted&nbsp;from&nbsp;a&nbsp;number&nbsp;of&nbsp;'<br>&nbsp;&nbsp;&nbsp;&nbsp;&nbsp;&nbsp;&nbsp;&nbsp;&nbsp;&nbsp;&nbsp;&nbsp;&nbsp;&nbsp;&nbsp;&nbsp;&nbsp;&nbsp;&nbsp;&nbsp;&nbsp;&nbsp;&nbsp;&nbsp;&nbsp;&nbsp;&nbsp;&nbsp;&nbsp;&nbsp;&nbsp;&nbsp;&nbsp;&nbsp;&nbsp;&nbsp;&nbsp;&nbsp;&nbsp;&nbsp;&nbsp;&nbsp;&nbsp;'sources,&nbsp;and&nbsp;are&nbsp;suspicious.',<br>&nbsp;&nbsp;&nbsp;&nbsp;&nbsp;&nbsp;&nbsp;&nbsp;&nbsp;&nbsp;&nbsp;&nbsp;&nbsp;&nbsp;&nbsp;&nbsp;&nbsp;&nbsp;&nbsp;&nbsp;&nbsp;&nbsp;&nbsp;&nbsp;&nbsp;&nbsp;&nbsp;&nbsp;'downvotes_count':&nbsp;0,<br>&nbsp;&nbsp;&nbsp;&nbsp;&nbsp;&nbsp;&nbsp;&nbsp;&nbsp;&nbsp;&nbsp;&nbsp;&nbsp;&nbsp;&nbsp;&nbsp;&nbsp;&nbsp;&nbsp;&nbsp;&nbsp;&nbsp;&nbsp;&nbsp;&nbsp;&nbsp;&nbsp;&nbsp;'export_count':&nbsp;3,<br>&nbsp;&nbsp;&nbsp;&nbsp;&nbsp;&nbsp;&nbsp;&nbsp;&nbsp;&nbsp;&nbsp;&nbsp;&nbsp;&nbsp;&nbsp;&nbsp;&nbsp;&nbsp;&nbsp;&nbsp;&nbsp;&nbsp;&nbsp;&nbsp;&nbsp;&nbsp;&nbsp;&nbsp;'follower_count':&nbsp;0,<br>&nbsp;&nbsp;&nbsp;&nbsp;&nbsp;&nbsp;&nbsp;&nbsp;&nbsp;&nbsp;&nbsp;&nbsp;&nbsp;&nbsp;&nbsp;&nbsp;&nbsp;&nbsp;&nbsp;&nbsp;&nbsp;&nbsp;&nbsp;&nbsp;&nbsp;&nbsp;&nbsp;&nbsp;'groups':&nbsp;[],<br>&nbsp;&nbsp;&nbsp;&nbsp;&nbsp;&nbsp;&nbsp;&nbsp;&nbsp;&nbsp;&nbsp;&nbsp;&nbsp;&nbsp;&nbsp;&nbsp;&nbsp;&nbsp;&nbsp;&nbsp;&nbsp;&nbsp;&nbsp;&nbsp;&nbsp;&nbsp;&nbsp;&nbsp;'id':&nbsp;'5e4102789c1c8aec95a65738',<br>&nbsp;&nbsp;&nbsp;&nbsp;&nbsp;&nbsp;&nbsp;&nbsp;&nbsp;&nbsp;&nbsp;&nbsp;&nbsp;&nbsp;&nbsp;&nbsp;&nbsp;&nbsp;&nbsp;&nbsp;&nbsp;&nbsp;&nbsp;&nbsp;&nbsp;&nbsp;&nbsp;&nbsp;'in_group':&nbsp;False,<br>&nbsp;&nbsp;&nbsp;&nbsp;&nbsp;&nbsp;&nbsp;&nbsp;&nbsp;&nbsp;&nbsp;&nbsp;&nbsp;&nbsp;&nbsp;&nbsp;&nbsp;&nbsp;&nbsp;&nbsp;&nbsp;&nbsp;&nbsp;&nbsp;&nbsp;&nbsp;&nbsp;&nbsp;'indicator_count':&nbsp;1018,<br>&nbsp;&nbsp;&nbsp;&nbsp;&nbsp;&nbsp;&nbsp;&nbsp;&nbsp;&nbsp;&nbsp;&nbsp;&nbsp;&nbsp;&nbsp;&nbsp;&nbsp;&nbsp;&nbsp;&nbsp;&nbsp;&nbsp;&nbsp;&nbsp;&nbsp;&nbsp;&nbsp;&nbsp;'indicator_type_counts':&nbsp;{'URL':&nbsp;25,<br>&nbsp;&nbsp;&nbsp;&nbsp;&nbsp;&nbsp;&nbsp;&nbsp;&nbsp;&nbsp;&nbsp;&nbsp;&nbsp;&nbsp;&nbsp;&nbsp;&nbsp;&nbsp;&nbsp;&nbsp;&nbsp;&nbsp;&nbsp;&nbsp;&nbsp;&nbsp;&nbsp;&nbsp;&nbsp;&nbsp;&nbsp;&nbsp;&nbsp;&nbsp;&nbsp;&nbsp;&nbsp;&nbsp;&nbsp;&nbsp;&nbsp;&nbsp;&nbsp;&nbsp;&nbsp;&nbsp;&nbsp;&nbsp;&nbsp;&nbsp;&nbsp;&nbsp;&nbsp;&nbsp;'domain':&nbsp;705,<br>&nbsp;&nbsp;&nbsp;&nbsp;&nbsp;&nbsp;&nbsp;&nbsp;&nbsp;&nbsp;&nbsp;&nbsp;&nbsp;&nbsp;&nbsp;&nbsp;&nbsp;&nbsp;&nbsp;&nbsp;&nbsp;&nbsp;&nbsp;&nbsp;&nbsp;&nbsp;&nbsp;&nbsp;&nbsp;&nbsp;&nbsp;&nbsp;&nbsp;&nbsp;&nbsp;&nbsp;&nbsp;&nbsp;&nbsp;&nbsp;&nbsp;&nbsp;&nbsp;&nbsp;&nbsp;&nbsp;&nbsp;&nbsp;&nbsp;&nbsp;&nbsp;&nbsp;&nbsp;&nbsp;'hostname':&nbsp;288},<br>&nbsp;&nbsp;&nbsp;&nbsp;&nbsp;&nbsp;&nbsp;&nbsp;&nbsp;&nbsp;&nbsp;&nbsp;&nbsp;&nbsp;&nbsp;&nbsp;&nbsp;&nbsp;&nbsp;&nbsp;&nbsp;&nbsp;&nbsp;&nbsp;&nbsp;&nbsp;&nbsp;&nbsp;'industries':&nbsp;[],<br>&nbsp;&nbsp;&nbsp;&nbsp;&nbsp;&nbsp;&nbsp;&nbsp;&nbsp;&nbsp;&nbsp;&nbsp;&nbsp;&nbsp;&nbsp;&nbsp;&nbsp;&nbsp;&nbsp;&nbsp;&nbsp;&nbsp;&nbsp;&nbsp;&nbsp;&nbsp;&nbsp;&nbsp;'is_author':&nbsp;False,<br>&nbsp;&nbsp;&nbsp;&nbsp;&nbsp;&nbsp;&nbsp;&nbsp;&nbsp;&nbsp;&nbsp;&nbsp;&nbsp;&nbsp;&nbsp;&nbsp;&nbsp;&nbsp;&nbsp;&nbsp;&nbsp;&nbsp;&nbsp;&nbsp;&nbsp;&nbsp;&nbsp;&nbsp;'is_modified':&nbsp;True,<br>&nbsp;&nbsp;&nbsp;&nbsp;&nbsp;&nbsp;&nbsp;&nbsp;&nbsp;&nbsp;&nbsp;&nbsp;&nbsp;&nbsp;&nbsp;&nbsp;&nbsp;&nbsp;&nbsp;&nbsp;&nbsp;&nbsp;&nbsp;&nbsp;&nbsp;&nbsp;&nbsp;&nbsp;'is_subscribing':&nbsp;None,<br>&nbsp;&nbsp;&nbsp;&nbsp;&nbsp;&nbsp;&nbsp;&nbsp;&nbsp;&nbsp;&nbsp;&nbsp;&nbsp;&nbsp;&nbsp;&nbsp;&nbsp;&nbsp;&nbsp;&nbsp;&nbsp;&nbsp;&nbsp;&nbsp;&nbsp;&nbsp;&nbsp;&nbsp;'locked':&nbsp;False,<br>&nbsp;&nbsp;&nbsp;&nbsp;&nbsp;&nbsp;&nbsp;&nbsp;&nbsp;&nbsp;&nbsp;&nbsp;&nbsp;&nbsp;&nbsp;&nbsp;&nbsp;&nbsp;&nbsp;&nbsp;&nbsp;&nbsp;&nbsp;&nbsp;&nbsp;&nbsp;&nbsp;&nbsp;'malware_families':&nbsp;[],<br>&nbsp;&nbsp;&nbsp;&nbsp;&nbsp;&nbsp;&nbsp;&nbsp;&nbsp;&nbsp;&nbsp;&nbsp;&nbsp;&nbsp;&nbsp;&nbsp;&nbsp;&nbsp;&nbsp;&nbsp;&nbsp;&nbsp;&nbsp;&nbsp;&nbsp;&nbsp;&nbsp;&nbsp;'modified':&nbsp;'2020-07-10T09:19:23.328000',<br>&nbsp;&nbsp;&nbsp;&nbsp;&nbsp;&nbsp;&nbsp;&nbsp;&nbsp;&nbsp;&nbsp;&nbsp;&nbsp;&nbsp;&nbsp;&nbsp;&nbsp;&nbsp;&nbsp;&nbsp;&nbsp;&nbsp;&nbsp;&nbsp;&nbsp;&nbsp;&nbsp;&nbsp;'modified_text':&nbsp;'12&nbsp;hours&nbsp;ago&nbsp;',<br>&nbsp;&nbsp;&nbsp;&nbsp;&nbsp;&nbsp;&nbsp;&nbsp;&nbsp;&nbsp;&nbsp;&nbsp;&nbsp;&nbsp;&nbsp;&nbsp;&nbsp;&nbsp;&nbsp;&nbsp;&nbsp;&nbsp;&nbsp;&nbsp;&nbsp;&nbsp;&nbsp;&nbsp;'name':&nbsp;'Malware&nbsp;-&nbsp;Malware&nbsp;Domain&nbsp;Feed&nbsp;V2&nbsp;-&nbsp;'<br>&nbsp;&nbsp;&nbsp;&nbsp;&nbsp;&nbsp;&nbsp;&nbsp;&nbsp;&nbsp;&nbsp;&nbsp;&nbsp;&nbsp;&nbsp;&nbsp;&nbsp;&nbsp;&nbsp;&nbsp;&nbsp;&nbsp;&nbsp;&nbsp;&nbsp;&nbsp;&nbsp;&nbsp;&nbsp;&nbsp;&nbsp;&nbsp;&nbsp;&nbsp;&nbsp;&nbsp;'February&nbsp;10&nbsp;2020',<br>&nbsp;&nbsp;&nbsp;&nbsp;&nbsp;&nbsp;&nbsp;&nbsp;&nbsp;&nbsp;&nbsp;&nbsp;&nbsp;&nbsp;&nbsp;&nbsp;&nbsp;&nbsp;&nbsp;&nbsp;&nbsp;&nbsp;&nbsp;&nbsp;&nbsp;&nbsp;&nbsp;&nbsp;'public':&nbsp;1,<br>&nbsp;&nbsp;&nbsp;&nbsp;&nbsp;&nbsp;&nbsp;&nbsp;&nbsp;&nbsp;&nbsp;&nbsp;&nbsp;&nbsp;&nbsp;&nbsp;&nbsp;&nbsp;&nbsp;&nbsp;&nbsp;&nbsp;&nbsp;&nbsp;&nbsp;&nbsp;&nbsp;&nbsp;'pulse_source':&nbsp;'api',<br>&nbsp;&nbsp;&nbsp;&nbsp;&nbsp;&nbsp;&nbsp;&nbsp;&nbsp;&nbsp;&nbsp;&nbsp;&nbsp;&nbsp;&nbsp;&nbsp;&nbsp;&nbsp;&nbsp;&nbsp;&nbsp;&nbsp;&nbsp;&nbsp;&nbsp;&nbsp;&nbsp;&nbsp;'references':&nbsp;[],<br>&nbsp;&nbsp;&nbsp;&nbsp;&nbsp;&nbsp;&nbsp;&nbsp;&nbsp;&nbsp;&nbsp;&nbsp;&nbsp;&nbsp;&nbsp;&nbsp;&nbsp;&nbsp;&nbsp;&nbsp;&nbsp;&nbsp;&nbsp;&nbsp;&nbsp;&nbsp;&nbsp;&nbsp;'related_indicator_is_active':&nbsp;1,<br>&nbsp;&nbsp;&nbsp;&nbsp;&nbsp;&nbsp;&nbsp;&nbsp;&nbsp;&nbsp;&nbsp;&nbsp;&nbsp;&nbsp;&nbsp;&nbsp;&nbsp;&nbsp;&nbsp;&nbsp;&nbsp;&nbsp;&nbsp;&nbsp;&nbsp;&nbsp;&nbsp;&nbsp;'related_indicator_type':&nbsp;'domain',<br>&nbsp;&nbsp;&nbsp;&nbsp;&nbsp;&nbsp;&nbsp;&nbsp;&nbsp;&nbsp;&nbsp;&nbsp;&nbsp;&nbsp;&nbsp;&nbsp;&nbsp;&nbsp;&nbsp;&nbsp;&nbsp;&nbsp;&nbsp;&nbsp;&nbsp;&nbsp;&nbsp;&nbsp;'subscriber_count':&nbsp;262,<br>&nbsp;&nbsp;&nbsp;&nbsp;&nbsp;&nbsp;&nbsp;&nbsp;&nbsp;&nbsp;&nbsp;&nbsp;&nbsp;&nbsp;&nbsp;&nbsp;&nbsp;&nbsp;&nbsp;&nbsp;&nbsp;&nbsp;&nbsp;&nbsp;&nbsp;&nbsp;&nbsp;&nbsp;'tags':&nbsp;[],<br>&nbsp;&nbsp;&nbsp;&nbsp;&nbsp;&nbsp;&nbsp;&nbsp;&nbsp;&nbsp;&nbsp;&nbsp;&nbsp;&nbsp;&nbsp;&nbsp;&nbsp;&nbsp;&nbsp;&nbsp;&nbsp;&nbsp;&nbsp;&nbsp;&nbsp;&nbsp;&nbsp;&nbsp;'targeted_countries':&nbsp;[],<br>&nbsp;&nbsp;&nbsp;&nbsp;&nbsp;&nbsp;&nbsp;&nbsp;&nbsp;&nbsp;&nbsp;&nbsp;&nbsp;&nbsp;&nbsp;&nbsp;&nbsp;&nbsp;&nbsp;&nbsp;&nbsp;&nbsp;&nbsp;&nbsp;&nbsp;&nbsp;&nbsp;&nbsp;'threat_hunter_has_agents':&nbsp;1,<br>&nbsp;&nbsp;&nbsp;&nbsp;&nbsp;&nbsp;&nbsp;&nbsp;&nbsp;&nbsp;&nbsp;&nbsp;&nbsp;&nbsp;&nbsp;&nbsp;&nbsp;&nbsp;&nbsp;&nbsp;&nbsp;&nbsp;&nbsp;&nbsp;&nbsp;&nbsp;&nbsp;&nbsp;'threat_hunter_scannable':&nbsp;False,<br>&nbsp;&nbsp;&nbsp;&nbsp;&nbsp;&nbsp;&nbsp;&nbsp;&nbsp;&nbsp;&nbsp;&nbsp;&nbsp;&nbsp;&nbsp;&nbsp;&nbsp;&nbsp;&nbsp;&nbsp;&nbsp;&nbsp;&nbsp;&nbsp;&nbsp;&nbsp;&nbsp;&nbsp;'upvotes_count':&nbsp;0,<br>&nbsp;&nbsp;&nbsp;&nbsp;&nbsp;&nbsp;&nbsp;&nbsp;&nbsp;&nbsp;&nbsp;&nbsp;&nbsp;&nbsp;&nbsp;&nbsp;&nbsp;&nbsp;&nbsp;&nbsp;&nbsp;&nbsp;&nbsp;&nbsp;&nbsp;&nbsp;&nbsp;&nbsp;'validator_count':&nbsp;0,<br>&nbsp;&nbsp;&nbsp;&nbsp;&nbsp;&nbsp;&nbsp;&nbsp;&nbsp;&nbsp;&nbsp;&nbsp;&nbsp;&nbsp;&nbsp;&nbsp;&nbsp;&nbsp;&nbsp;&nbsp;&nbsp;&nbsp;&nbsp;&nbsp;&nbsp;&nbsp;&nbsp;&nbsp;'vote':&nbsp;0,<br>&nbsp;&nbsp;&nbsp;&nbsp;&nbsp;&nbsp;&nbsp;&nbsp;&nbsp;&nbsp;&nbsp;&nbsp;&nbsp;&nbsp;&nbsp;&nbsp;&nbsp;&nbsp;&nbsp;&nbsp;&nbsp;&nbsp;&nbsp;&nbsp;&nbsp;&nbsp;&nbsp;&nbsp;'votes_count':&nbsp;0},<br>&nbsp;&nbsp;&nbsp;&nbsp;&nbsp;&nbsp;&nbsp;&nbsp;&nbsp;&nbsp;&nbsp;&nbsp;&nbsp;&nbsp;&nbsp;&nbsp;&nbsp;&nbsp;&nbsp;&nbsp;&nbsp;&nbsp;&nbsp;&nbsp;&nbsp;&nbsp;&nbsp;{'TLP':&nbsp;'white',<br>&nbsp;&nbsp;&nbsp;&nbsp;&nbsp;&nbsp;&nbsp;&nbsp;&nbsp;&nbsp;&nbsp;&nbsp;&nbsp;&nbsp;&nbsp;&nbsp;&nbsp;&nbsp;&nbsp;&nbsp;&nbsp;&nbsp;&nbsp;&nbsp;&nbsp;&nbsp;&nbsp;&nbsp;'adversary':&nbsp;'',<br>&nbsp;&nbsp;&nbsp;&nbsp;&nbsp;&nbsp;&nbsp;&nbsp;&nbsp;&nbsp;&nbsp;&nbsp;&nbsp;&nbsp;&nbsp;&nbsp;&nbsp;&nbsp;&nbsp;&nbsp;&nbsp;&nbsp;&nbsp;&nbsp;&nbsp;&nbsp;&nbsp;&nbsp;'attack_ids':&nbsp;[],<br>&nbsp;&nbsp;&nbsp;&nbsp;&nbsp;&nbsp;&nbsp;&nbsp;&nbsp;&nbsp;&nbsp;&nbsp;&nbsp;&nbsp;&nbsp;&nbsp;&nbsp;&nbsp;&nbsp;&nbsp;&nbsp;&nbsp;&nbsp;&nbsp;&nbsp;&nbsp;&nbsp;&nbsp;'author':&nbsp;{'avatar_url':&nbsp;'https://otx.alienvault.com/assets/images/default-avatar.png',<br>&nbsp;&nbsp;&nbsp;&nbsp;&nbsp;&nbsp;&nbsp;&nbsp;&nbsp;&nbsp;&nbsp;&nbsp;&nbsp;&nbsp;&nbsp;&nbsp;&nbsp;&nbsp;&nbsp;&nbsp;&nbsp;&nbsp;&nbsp;&nbsp;&nbsp;&nbsp;&nbsp;&nbsp;&nbsp;&nbsp;&nbsp;&nbsp;&nbsp;&nbsp;&nbsp;&nbsp;&nbsp;&nbsp;&nbsp;'id':&nbsp;'83138',<br>&nbsp;&nbsp;&nbsp;&nbsp;&nbsp;&nbsp;&nbsp;&nbsp;&nbsp;&nbsp;&nbsp;&nbsp;&nbsp;&nbsp;&nbsp;&nbsp;&nbsp;&nbsp;&nbsp;&nbsp;&nbsp;&nbsp;&nbsp;&nbsp;&nbsp;&nbsp;&nbsp;&nbsp;&nbsp;&nbsp;&nbsp;&nbsp;&nbsp;&nbsp;&nbsp;&nbsp;&nbsp;&nbsp;&nbsp;'is_following':&nbsp;False,<br>&nbsp;&nbsp;&nbsp;&nbsp;&nbsp;&nbsp;&nbsp;&nbsp;&nbsp;&nbsp;&nbsp;&nbsp;&nbsp;&nbsp;&nbsp;&nbsp;&nbsp;&nbsp;&nbsp;&nbsp;&nbsp;&nbsp;&nbsp;&nbsp;&nbsp;&nbsp;&nbsp;&nbsp;&nbsp;&nbsp;&nbsp;&nbsp;&nbsp;&nbsp;&nbsp;&nbsp;&nbsp;&nbsp;&nbsp;'is_subscribed':&nbsp;False,<br>&nbsp;&nbsp;&nbsp;&nbsp;&nbsp;&nbsp;&nbsp;&nbsp;&nbsp;&nbsp;&nbsp;&nbsp;&nbsp;&nbsp;&nbsp;&nbsp;&nbsp;&nbsp;&nbsp;&nbsp;&nbsp;&nbsp;&nbsp;&nbsp;&nbsp;&nbsp;&nbsp;&nbsp;&nbsp;&nbsp;&nbsp;&nbsp;&nbsp;&nbsp;&nbsp;&nbsp;&nbsp;&nbsp;&nbsp;'username':&nbsp;'otxrobottwo_testing'},<br>&nbsp;&nbsp;&nbsp;&nbsp;&nbsp;&nbsp;&nbsp;&nbsp;&nbsp;&nbsp;&nbsp;&nbsp;&nbsp;&nbsp;&nbsp;&nbsp;&nbsp;&nbsp;&nbsp;&nbsp;&nbsp;&nbsp;&nbsp;&nbsp;&nbsp;&nbsp;&nbsp;&nbsp;'cloned_from':&nbsp;None,<br>&nbsp;&nbsp;&nbsp;&nbsp;&nbsp;&nbsp;&nbsp;&nbsp;&nbsp;&nbsp;&nbsp;&nbsp;&nbsp;&nbsp;&nbsp;&nbsp;&nbsp;&nbsp;&nbsp;&nbsp;&nbsp;&nbsp;&nbsp;&nbsp;&nbsp;&nbsp;&nbsp;&nbsp;'comment_count':&nbsp;0,<br>&nbsp;&nbsp;&nbsp;&nbsp;&nbsp;&nbsp;&nbsp;&nbsp;&nbsp;&nbsp;&nbsp;&nbsp;&nbsp;&nbsp;&nbsp;&nbsp;&nbsp;&nbsp;&nbsp;&nbsp;&nbsp;&nbsp;&nbsp;&nbsp;&nbsp;&nbsp;&nbsp;&nbsp;'created':&nbsp;'2020-06-04T10:29:56.147000',<br>&nbsp;&nbsp;&nbsp;&nbsp;&nbsp;&nbsp;&nbsp;&nbsp;&nbsp;&nbsp;&nbsp;&nbsp;&nbsp;&nbsp;&nbsp;&nbsp;&nbsp;&nbsp;&nbsp;&nbsp;&nbsp;&nbsp;&nbsp;&nbsp;&nbsp;&nbsp;&nbsp;&nbsp;'description':&nbsp;'Command&nbsp;and&nbsp;Control&nbsp;domains&nbsp;for&nbsp;'<br>&nbsp;&nbsp;&nbsp;&nbsp;&nbsp;&nbsp;&nbsp;&nbsp;&nbsp;&nbsp;&nbsp;&nbsp;&nbsp;&nbsp;&nbsp;&nbsp;&nbsp;&nbsp;&nbsp;&nbsp;&nbsp;&nbsp;&nbsp;&nbsp;&nbsp;&nbsp;&nbsp;&nbsp;&nbsp;&nbsp;&nbsp;&nbsp;&nbsp;&nbsp;&nbsp;&nbsp;&nbsp;&nbsp;&nbsp;&nbsp;&nbsp;&nbsp;&nbsp;'Malware.&nbsp;These&nbsp;domains&nbsp;are&nbsp;'<br>&nbsp;&nbsp;&nbsp;&nbsp;&nbsp;&nbsp;&nbsp;&nbsp;&nbsp;&nbsp;&nbsp;&nbsp;&nbsp;&nbsp;&nbsp;&nbsp;&nbsp;&nbsp;&nbsp;&nbsp;&nbsp;&nbsp;&nbsp;&nbsp;&nbsp;&nbsp;&nbsp;&nbsp;&nbsp;&nbsp;&nbsp;&nbsp;&nbsp;&nbsp;&nbsp;&nbsp;&nbsp;&nbsp;&nbsp;&nbsp;&nbsp;&nbsp;&nbsp;'extracted&nbsp;from&nbsp;a&nbsp;number&nbsp;of&nbsp;'<br>&nbsp;&nbsp;&nbsp;&nbsp;&nbsp;&nbsp;&nbsp;&nbsp;&nbsp;&nbsp;&nbsp;&nbsp;&nbsp;&nbsp;&nbsp;&nbsp;&nbsp;&nbsp;&nbsp;&nbsp;&nbsp;&nbsp;&nbsp;&nbsp;&nbsp;&nbsp;&nbsp;&nbsp;&nbsp;&nbsp;&nbsp;&nbsp;&nbsp;&nbsp;&nbsp;&nbsp;&nbsp;&nbsp;&nbsp;&nbsp;&nbsp;&nbsp;&nbsp;'sources,&nbsp;and&nbsp;are&nbsp;suspicious.',<br>&nbsp;&nbsp;&nbsp;&nbsp;&nbsp;&nbsp;&nbsp;&nbsp;&nbsp;&nbsp;&nbsp;&nbsp;&nbsp;&nbsp;&nbsp;&nbsp;&nbsp;&nbsp;&nbsp;&nbsp;&nbsp;&nbsp;&nbsp;&nbsp;&nbsp;&nbsp;&nbsp;&nbsp;'downvotes_count':&nbsp;0,<br>&nbsp;&nbsp;&nbsp;&nbsp;&nbsp;&nbsp;&nbsp;&nbsp;&nbsp;&nbsp;&nbsp;&nbsp;&nbsp;&nbsp;&nbsp;&nbsp;&nbsp;&nbsp;&nbsp;&nbsp;&nbsp;&nbsp;&nbsp;&nbsp;&nbsp;&nbsp;&nbsp;&nbsp;'export_count':&nbsp;2,<br>&nbsp;&nbsp;&nbsp;&nbsp;&nbsp;&nbsp;&nbsp;&nbsp;&nbsp;&nbsp;&nbsp;&nbsp;&nbsp;&nbsp;&nbsp;&nbsp;&nbsp;&nbsp;&nbsp;&nbsp;&nbsp;&nbsp;&nbsp;&nbsp;&nbsp;&nbsp;&nbsp;&nbsp;'follower_count':&nbsp;0,<br>&nbsp;&nbsp;&nbsp;&nbsp;&nbsp;&nbsp;&nbsp;&nbsp;&nbsp;&nbsp;&nbsp;&nbsp;&nbsp;&nbsp;&nbsp;&nbsp;&nbsp;&nbsp;&nbsp;&nbsp;&nbsp;&nbsp;&nbsp;&nbsp;&nbsp;&nbsp;&nbsp;&nbsp;'groups':&nbsp;[],<br>&nbsp;&nbsp;&nbsp;&nbsp;&nbsp;&nbsp;&nbsp;&nbsp;&nbsp;&nbsp;&nbsp;&nbsp;&nbsp;&nbsp;&nbsp;&nbsp;&nbsp;&nbsp;&nbsp;&nbsp;&nbsp;&nbsp;&nbsp;&nbsp;&nbsp;&nbsp;&nbsp;&nbsp;'id':&nbsp;'5ed8cd24dea4063ecdd46ff0',<br>&nbsp;&nbsp;&nbsp;&nbsp;&nbsp;&nbsp;&nbsp;&nbsp;&nbsp;&nbsp;&nbsp;&nbsp;&nbsp;&nbsp;&nbsp;&nbsp;&nbsp;&nbsp;&nbsp;&nbsp;&nbsp;&nbsp;&nbsp;&nbsp;&nbsp;&nbsp;&nbsp;&nbsp;'in_group':&nbsp;False,<br>&nbsp;&nbsp;&nbsp;&nbsp;&nbsp;&nbsp;&nbsp;&nbsp;&nbsp;&nbsp;&nbsp;&nbsp;&nbsp;&nbsp;&nbsp;&nbsp;&nbsp;&nbsp;&nbsp;&nbsp;&nbsp;&nbsp;&nbsp;&nbsp;&nbsp;&nbsp;&nbsp;&nbsp;'indicator_count':&nbsp;553,<br>&nbsp;&nbsp;&nbsp;&nbsp;&nbsp;&nbsp;&nbsp;&nbsp;&nbsp;&nbsp;&nbsp;&nbsp;&nbsp;&nbsp;&nbsp;&nbsp;&nbsp;&nbsp;&nbsp;&nbsp;&nbsp;&nbsp;&nbsp;&nbsp;&nbsp;&nbsp;&nbsp;&nbsp;'indicator_type_counts':&nbsp;{'domain':&nbsp;401,<br>&nbsp;&nbsp;&nbsp;&nbsp;&nbsp;&nbsp;&nbsp;&nbsp;&nbsp;&nbsp;&nbsp;&nbsp;&nbsp;&nbsp;&nbsp;&nbsp;&nbsp;&nbsp;&nbsp;&nbsp;&nbsp;&nbsp;&nbsp;&nbsp;&nbsp;&nbsp;&nbsp;&nbsp;&nbsp;&nbsp;&nbsp;&nbsp;&nbsp;&nbsp;&nbsp;&nbsp;&nbsp;&nbsp;&nbsp;&nbsp;&nbsp;&nbsp;&nbsp;&nbsp;&nbsp;&nbsp;&nbsp;&nbsp;&nbsp;&nbsp;&nbsp;&nbsp;&nbsp;&nbsp;'hostname':&nbsp;152},<br>&nbsp;&nbsp;&nbsp;&nbsp;&nbsp;&nbsp;&nbsp;&nbsp;&nbsp;&nbsp;&nbsp;&nbsp;&nbsp;&nbsp;&nbsp;&nbsp;&nbsp;&nbsp;&nbsp;&nbsp;&nbsp;&nbsp;&nbsp;&nbsp;&nbsp;&nbsp;&nbsp;&nbsp;'industries':&nbsp;[],<br>&nbsp;&nbsp;&nbsp;&nbsp;&nbsp;&nbsp;&nbsp;&nbsp;&nbsp;&nbsp;&nbsp;&nbsp;&nbsp;&nbsp;&nbsp;&nbsp;&nbsp;&nbsp;&nbsp;&nbsp;&nbsp;&nbsp;&nbsp;&nbsp;&nbsp;&nbsp;&nbsp;&nbsp;'is_author':&nbsp;False,<br>&nbsp;&nbsp;&nbsp;&nbsp;&nbsp;&nbsp;&nbsp;&nbsp;&nbsp;&nbsp;&nbsp;&nbsp;&nbsp;&nbsp;&nbsp;&nbsp;&nbsp;&nbsp;&nbsp;&nbsp;&nbsp;&nbsp;&nbsp;&nbsp;&nbsp;&nbsp;&nbsp;&nbsp;'is_modified':&nbsp;True,<br>&nbsp;&nbsp;&nbsp;&nbsp;&nbsp;&nbsp;&nbsp;&nbsp;&nbsp;&nbsp;&nbsp;&nbsp;&nbsp;&nbsp;&nbsp;&nbsp;&nbsp;&nbsp;&nbsp;&nbsp;&nbsp;&nbsp;&nbsp;&nbsp;&nbsp;&nbsp;&nbsp;&nbsp;'is_subscribing':&nbsp;None,<br>&nbsp;&nbsp;&nbsp;&nbsp;&nbsp;&nbsp;&nbsp;&nbsp;&nbsp;&nbsp;&nbsp;&nbsp;&nbsp;&nbsp;&nbsp;&nbsp;&nbsp;&nbsp;&nbsp;&nbsp;&nbsp;&nbsp;&nbsp;&nbsp;&nbsp;&nbsp;&nbsp;&nbsp;'locked':&nbsp;False,<br>&nbsp;&nbsp;&nbsp;&nbsp;&nbsp;&nbsp;&nbsp;&nbsp;&nbsp;&nbsp;&nbsp;&nbsp;&nbsp;&nbsp;&nbsp;&nbsp;&nbsp;&nbsp;&nbsp;&nbsp;&nbsp;&nbsp;&nbsp;&nbsp;&nbsp;&nbsp;&nbsp;&nbsp;'malware_families':&nbsp;[],<br>&nbsp;&nbsp;&nbsp;&nbsp;&nbsp;&nbsp;&nbsp;&nbsp;&nbsp;&nbsp;&nbsp;&nbsp;&nbsp;&nbsp;&nbsp;&nbsp;&nbsp;&nbsp;&nbsp;&nbsp;&nbsp;&nbsp;&nbsp;&nbsp;&nbsp;&nbsp;&nbsp;&nbsp;'modified':&nbsp;'2020-07-10T08:59:26.910000',<br>&nbsp;&nbsp;&nbsp;&nbsp;&nbsp;&nbsp;&nbsp;&nbsp;&nbsp;&nbsp;&nbsp;&nbsp;&nbsp;&nbsp;&nbsp;&nbsp;&nbsp;&nbsp;&nbsp;&nbsp;&nbsp;&nbsp;&nbsp;&nbsp;&nbsp;&nbsp;&nbsp;&nbsp;'modified_text':&nbsp;'12&nbsp;hours&nbsp;ago&nbsp;',<br>&nbsp;&nbsp;&nbsp;&nbsp;&nbsp;&nbsp;&nbsp;&nbsp;&nbsp;&nbsp;&nbsp;&nbsp;&nbsp;&nbsp;&nbsp;&nbsp;&nbsp;&nbsp;&nbsp;&nbsp;&nbsp;&nbsp;&nbsp;&nbsp;&nbsp;&nbsp;&nbsp;&nbsp;'name':&nbsp;'Malware&nbsp;-&nbsp;Malware&nbsp;Domain&nbsp;Feed&nbsp;V2&nbsp;-&nbsp;June&nbsp;'<br>&nbsp;&nbsp;&nbsp;&nbsp;&nbsp;&nbsp;&nbsp;&nbsp;&nbsp;&nbsp;&nbsp;&nbsp;&nbsp;&nbsp;&nbsp;&nbsp;&nbsp;&nbsp;&nbsp;&nbsp;&nbsp;&nbsp;&nbsp;&nbsp;&nbsp;&nbsp;&nbsp;&nbsp;&nbsp;&nbsp;&nbsp;&nbsp;&nbsp;&nbsp;&nbsp;&nbsp;'04&nbsp;2020',<br>&nbsp;&nbsp;&nbsp;&nbsp;&nbsp;&nbsp;&nbsp;&nbsp;&nbsp;&nbsp;&nbsp;&nbsp;&nbsp;&nbsp;&nbsp;&nbsp;&nbsp;&nbsp;&nbsp;&nbsp;&nbsp;&nbsp;&nbsp;&nbsp;&nbsp;&nbsp;&nbsp;&nbsp;'public':&nbsp;1,<br>&nbsp;&nbsp;&nbsp;&nbsp;&nbsp;&nbsp;&nbsp;&nbsp;&nbsp;&nbsp;&nbsp;&nbsp;&nbsp;&nbsp;&nbsp;&nbsp;&nbsp;&nbsp;&nbsp;&nbsp;&nbsp;&nbsp;&nbsp;&nbsp;&nbsp;&nbsp;&nbsp;&nbsp;'pulse_source':&nbsp;'api',<br>&nbsp;&nbsp;&nbsp;&nbsp;&nbsp;&nbsp;&nbsp;&nbsp;&nbsp;&nbsp;&nbsp;&nbsp;&nbsp;&nbsp;&nbsp;&nbsp;&nbsp;&nbsp;&nbsp;&nbsp;&nbsp;&nbsp;&nbsp;&nbsp;&nbsp;&nbsp;&nbsp;&nbsp;'references':&nbsp;[],<br>&nbsp;&nbsp;&nbsp;&nbsp;&nbsp;&nbsp;&nbsp;&nbsp;&nbsp;&nbsp;&nbsp;&nbsp;&nbsp;&nbsp;&nbsp;&nbsp;&nbsp;&nbsp;&nbsp;&nbsp;&nbsp;&nbsp;&nbsp;&nbsp;&nbsp;&nbsp;&nbsp;&nbsp;'related_indicator_is_active':&nbsp;1,<br>&nbsp;&nbsp;&nbsp;&nbsp;&nbsp;&nbsp;&nbsp;&nbsp;&nbsp;&nbsp;&nbsp;&nbsp;&nbsp;&nbsp;&nbsp;&nbsp;&nbsp;&nbsp;&nbsp;&nbsp;&nbsp;&nbsp;&nbsp;&nbsp;&nbsp;&nbsp;&nbsp;&nbsp;'related_indicator_type':&nbsp;'domain',<br>&nbsp;&nbsp;&nbsp;&nbsp;&nbsp;&nbsp;&nbsp;&nbsp;&nbsp;&nbsp;&nbsp;&nbsp;&nbsp;&nbsp;&nbsp;&nbsp;&nbsp;&nbsp;&nbsp;&nbsp;&nbsp;&nbsp;&nbsp;&nbsp;&nbsp;&nbsp;&nbsp;&nbsp;'subscriber_count':&nbsp;89,<br>&nbsp;&nbsp;&nbsp;&nbsp;&nbsp;&nbsp;&nbsp;&nbsp;&nbsp;&nbsp;&nbsp;&nbsp;&nbsp;&nbsp;&nbsp;&nbsp;&nbsp;&nbsp;&nbsp;&nbsp;&nbsp;&nbsp;&nbsp;&nbsp;&nbsp;&nbsp;&nbsp;&nbsp;'tags':&nbsp;[],<br>&nbsp;&nbsp;&nbsp;&nbsp;&nbsp;&nbsp;&nbsp;&nbsp;&nbsp;&nbsp;&nbsp;&nbsp;&nbsp;&nbsp;&nbsp;&nbsp;&nbsp;&nbsp;&nbsp;&nbsp;&nbsp;&nbsp;&nbsp;&nbsp;&nbsp;&nbsp;&nbsp;&nbsp;'targeted_countries':&nbsp;[],<br>&nbsp;&nbsp;&nbsp;&nbsp;&nbsp;&nbsp;&nbsp;&nbsp;&nbsp;&nbsp;&nbsp;&nbsp;&nbsp;&nbsp;&nbsp;&nbsp;&nbsp;&nbsp;&nbsp;&nbsp;&nbsp;&nbsp;&nbsp;&nbsp;&nbsp;&nbsp;&nbsp;&nbsp;'threat_hunter_has_agents':&nbsp;1,<br>&nbsp;&nbsp;&nbsp;&nbsp;&nbsp;&nbsp;&nbsp;&nbsp;&nbsp;&nbsp;&nbsp;&nbsp;&nbsp;&nbsp;&nbsp;&nbsp;&nbsp;&nbsp;&nbsp;&nbsp;&nbsp;&nbsp;&nbsp;&nbsp;&nbsp;&nbsp;&nbsp;&nbsp;'threat_hunter_scannable':&nbsp;False,<br>&nbsp;&nbsp;&nbsp;&nbsp;&nbsp;&nbsp;&nbsp;&nbsp;&nbsp;&nbsp;&nbsp;&nbsp;&nbsp;&nbsp;&nbsp;&nbsp;&nbsp;&nbsp;&nbsp;&nbsp;&nbsp;&nbsp;&nbsp;&nbsp;&nbsp;&nbsp;&nbsp;&nbsp;'upvotes_count':&nbsp;0,<br>&nbsp;&nbsp;&nbsp;&nbsp;&nbsp;&nbsp;&nbsp;&nbsp;&nbsp;&nbsp;&nbsp;&nbsp;&nbsp;&nbsp;&nbsp;&nbsp;&nbsp;&nbsp;&nbsp;&nbsp;&nbsp;&nbsp;&nbsp;&nbsp;&nbsp;&nbsp;&nbsp;&nbsp;'validator_count':&nbsp;0,<br>&nbsp;&nbsp;&nbsp;&nbsp;&nbsp;&nbsp;&nbsp;&nbsp;&nbsp;&nbsp;&nbsp;&nbsp;&nbsp;&nbsp;&nbsp;&nbsp;&nbsp;&nbsp;&nbsp;&nbsp;&nbsp;&nbsp;&nbsp;&nbsp;&nbsp;&nbsp;&nbsp;&nbsp;'vote':&nbsp;0,<br>&nbsp;&nbsp;&nbsp;&nbsp;&nbsp;&nbsp;&nbsp;&nbsp;&nbsp;&nbsp;&nbsp;&nbsp;&nbsp;&nbsp;&nbsp;&nbsp;&nbsp;&nbsp;&nbsp;&nbsp;&nbsp;&nbsp;&nbsp;&nbsp;&nbsp;&nbsp;&nbsp;&nbsp;'votes_count':&nbsp;0},<br>&nbsp;&nbsp;&nbsp;&nbsp;&nbsp;&nbsp;&nbsp;&nbsp;&nbsp;&nbsp;&nbsp;&nbsp;&nbsp;&nbsp;&nbsp;&nbsp;&nbsp;&nbsp;&nbsp;&nbsp;&nbsp;&nbsp;&nbsp;&nbsp;&nbsp;&nbsp;&nbsp;{'TLP':&nbsp;'white',<br>&nbsp;&nbsp;&nbsp;&nbsp;&nbsp;&nbsp;&nbsp;&nbsp;&nbsp;&nbsp;&nbsp;&nbsp;&nbsp;&nbsp;&nbsp;&nbsp;&nbsp;&nbsp;&nbsp;&nbsp;&nbsp;&nbsp;&nbsp;&nbsp;&nbsp;&nbsp;&nbsp;&nbsp;'adversary':&nbsp;'Cosmic&nbsp;Lynx',<br>&nbsp;&nbsp;&nbsp;&nbsp;&nbsp;&nbsp;&nbsp;&nbsp;&nbsp;&nbsp;&nbsp;&nbsp;&nbsp;&nbsp;&nbsp;&nbsp;&nbsp;&nbsp;&nbsp;&nbsp;&nbsp;&nbsp;&nbsp;&nbsp;&nbsp;&nbsp;&nbsp;&nbsp;'attack_ids':&nbsp;[],<br>&nbsp;&nbsp;&nbsp;&nbsp;&nbsp;&nbsp;&nbsp;&nbsp;&nbsp;&nbsp;&nbsp;&nbsp;&nbsp;&nbsp;&nbsp;&nbsp;&nbsp;&nbsp;&nbsp;&nbsp;&nbsp;&nbsp;&nbsp;&nbsp;&nbsp;&nbsp;&nbsp;&nbsp;'author':&nbsp;{'avatar_url':&nbsp;'https://otx20-web-media.s3.amazonaws.com/media/avatars/user_24260/resized/80/avatar_7b67627076.png',<br>&nbsp;&nbsp;&nbsp;&nbsp;&nbsp;&nbsp;&nbsp;&nbsp;&nbsp;&nbsp;&nbsp;&nbsp;&nbsp;&nbsp;&nbsp;&nbsp;&nbsp;&nbsp;&nbsp;&nbsp;&nbsp;&nbsp;&nbsp;&nbsp;&nbsp;&nbsp;&nbsp;&nbsp;&nbsp;&nbsp;&nbsp;&nbsp;&nbsp;&nbsp;&nbsp;&nbsp;&nbsp;&nbsp;&nbsp;'id':&nbsp;'24260',<br>&nbsp;&nbsp;&nbsp;&nbsp;&nbsp;&nbsp;&nbsp;&nbsp;&nbsp;&nbsp;&nbsp;&nbsp;&nbsp;&nbsp;&nbsp;&nbsp;&nbsp;&nbsp;&nbsp;&nbsp;&nbsp;&nbsp;&nbsp;&nbsp;&nbsp;&nbsp;&nbsp;&nbsp;&nbsp;&nbsp;&nbsp;&nbsp;&nbsp;&nbsp;&nbsp;&nbsp;&nbsp;&nbsp;&nbsp;'is_following':&nbsp;False,<br>&nbsp;&nbsp;&nbsp;&nbsp;&nbsp;&nbsp;&nbsp;&nbsp;&nbsp;&nbsp;&nbsp;&nbsp;&nbsp;&nbsp;&nbsp;&nbsp;&nbsp;&nbsp;&nbsp;&nbsp;&nbsp;&nbsp;&nbsp;&nbsp;&nbsp;&nbsp;&nbsp;&nbsp;&nbsp;&nbsp;&nbsp;&nbsp;&nbsp;&nbsp;&nbsp;&nbsp;&nbsp;&nbsp;&nbsp;'is_subscribed':&nbsp;False,<br>&nbsp;&nbsp;&nbsp;&nbsp;&nbsp;&nbsp;&nbsp;&nbsp;&nbsp;&nbsp;&nbsp;&nbsp;&nbsp;&nbsp;&nbsp;&nbsp;&nbsp;&nbsp;&nbsp;&nbsp;&nbsp;&nbsp;&nbsp;&nbsp;&nbsp;&nbsp;&nbsp;&nbsp;&nbsp;&nbsp;&nbsp;&nbsp;&nbsp;&nbsp;&nbsp;&nbsp;&nbsp;&nbsp;&nbsp;'username':&nbsp;'Cyber_Hat'},<br>&nbsp;&nbsp;&nbsp;&nbsp;&nbsp;&nbsp;&nbsp;&nbsp;&nbsp;&nbsp;&nbsp;&nbsp;&nbsp;&nbsp;&nbsp;&nbsp;&nbsp;&nbsp;&nbsp;&nbsp;&nbsp;&nbsp;&nbsp;&nbsp;&nbsp;&nbsp;&nbsp;&nbsp;'cloned_from':&nbsp;'5f04d03c68918d97811bda03',<br>&nbsp;&nbsp;&nbsp;&nbsp;&nbsp;&nbsp;&nbsp;&nbsp;&nbsp;&nbsp;&nbsp;&nbsp;&nbsp;&nbsp;&nbsp;&nbsp;&nbsp;&nbsp;&nbsp;&nbsp;&nbsp;&nbsp;&nbsp;&nbsp;&nbsp;&nbsp;&nbsp;&nbsp;'comment_count':&nbsp;0,<br>&nbsp;&nbsp;&nbsp;&nbsp;&nbsp;&nbsp;&nbsp;&nbsp;&nbsp;&nbsp;&nbsp;&nbsp;&nbsp;&nbsp;&nbsp;&nbsp;&nbsp;&nbsp;&nbsp;&nbsp;&nbsp;&nbsp;&nbsp;&nbsp;&nbsp;&nbsp;&nbsp;&nbsp;'created':&nbsp;'2020-07-08T09:48:12.031000',<br>&nbsp;&nbsp;&nbsp;&nbsp;&nbsp;&nbsp;&nbsp;&nbsp;&nbsp;&nbsp;&nbsp;&nbsp;&nbsp;&nbsp;&nbsp;&nbsp;&nbsp;&nbsp;&nbsp;&nbsp;&nbsp;&nbsp;&nbsp;&nbsp;&nbsp;&nbsp;&nbsp;&nbsp;'description':&nbsp;'',<br>&nbsp;&nbsp;&nbsp;&nbsp;&nbsp;&nbsp;&nbsp;&nbsp;&nbsp;&nbsp;&nbsp;&nbsp;&nbsp;&nbsp;&nbsp;&nbsp;&nbsp;&nbsp;&nbsp;&nbsp;&nbsp;&nbsp;&nbsp;&nbsp;&nbsp;&nbsp;&nbsp;&nbsp;'downvotes_count':&nbsp;0,<br>&nbsp;&nbsp;&nbsp;&nbsp;&nbsp;&nbsp;&nbsp;&nbsp;&nbsp;&nbsp;&nbsp;&nbsp;&nbsp;&nbsp;&nbsp;&nbsp;&nbsp;&nbsp;&nbsp;&nbsp;&nbsp;&nbsp;&nbsp;&nbsp;&nbsp;&nbsp;&nbsp;&nbsp;'export_count':&nbsp;5,<br>&nbsp;&nbsp;&nbsp;&nbsp;&nbsp;&nbsp;&nbsp;&nbsp;&nbsp;&nbsp;&nbsp;&nbsp;&nbsp;&nbsp;&nbsp;&nbsp;&nbsp;&nbsp;&nbsp;&nbsp;&nbsp;&nbsp;&nbsp;&nbsp;&nbsp;&nbsp;&nbsp;&nbsp;'follower_count':&nbsp;0,<br>&nbsp;&nbsp;&nbsp;&nbsp;&nbsp;&nbsp;&nbsp;&nbsp;&nbsp;&nbsp;&nbsp;&nbsp;&nbsp;&nbsp;&nbsp;&nbsp;&nbsp;&nbsp;&nbsp;&nbsp;&nbsp;&nbsp;&nbsp;&nbsp;&nbsp;&nbsp;&nbsp;&nbsp;'groups':&nbsp;[],<br>&nbsp;&nbsp;&nbsp;&nbsp;&nbsp;&nbsp;&nbsp;&nbsp;&nbsp;&nbsp;&nbsp;&nbsp;&nbsp;&nbsp;&nbsp;&nbsp;&nbsp;&nbsp;&nbsp;&nbsp;&nbsp;&nbsp;&nbsp;&nbsp;&nbsp;&nbsp;&nbsp;&nbsp;'id':&nbsp;'5f05965c766786e334704dd0',<br>&nbsp;&nbsp;&nbsp;&nbsp;&nbsp;&nbsp;&nbsp;&nbsp;&nbsp;&nbsp;&nbsp;&nbsp;&nbsp;&nbsp;&nbsp;&nbsp;&nbsp;&nbsp;&nbsp;&nbsp;&nbsp;&nbsp;&nbsp;&nbsp;&nbsp;&nbsp;&nbsp;&nbsp;'in_group':&nbsp;False,<br>&nbsp;&nbsp;&nbsp;&nbsp;&nbsp;&nbsp;&nbsp;&nbsp;&nbsp;&nbsp;&nbsp;&nbsp;&nbsp;&nbsp;&nbsp;&nbsp;&nbsp;&nbsp;&nbsp;&nbsp;&nbsp;&nbsp;&nbsp;&nbsp;&nbsp;&nbsp;&nbsp;&nbsp;'indicator_count':&nbsp;65,<br>&nbsp;&nbsp;&nbsp;&nbsp;&nbsp;&nbsp;&nbsp;&nbsp;&nbsp;&nbsp;&nbsp;&nbsp;&nbsp;&nbsp;&nbsp;&nbsp;&nbsp;&nbsp;&nbsp;&nbsp;&nbsp;&nbsp;&nbsp;&nbsp;&nbsp;&nbsp;&nbsp;&nbsp;'indicator_type_counts':&nbsp;{'domain':&nbsp;65},<br>&nbsp;&nbsp;&nbsp;&nbsp;&nbsp;&nbsp;&nbsp;&nbsp;&nbsp;&nbsp;&nbsp;&nbsp;&nbsp;&nbsp;&nbsp;&nbsp;&nbsp;&nbsp;&nbsp;&nbsp;&nbsp;&nbsp;&nbsp;&nbsp;&nbsp;&nbsp;&nbsp;&nbsp;'industries':&nbsp;[],<br>&nbsp;&nbsp;&nbsp;&nbsp;&nbsp;&nbsp;&nbsp;&nbsp;&nbsp;&nbsp;&nbsp;&nbsp;&nbsp;&nbsp;&nbsp;&nbsp;&nbsp;&nbsp;&nbsp;&nbsp;&nbsp;&nbsp;&nbsp;&nbsp;&nbsp;&nbsp;&nbsp;&nbsp;'is_author':&nbsp;False,<br>&nbsp;&nbsp;&nbsp;&nbsp;&nbsp;&nbsp;&nbsp;&nbsp;&nbsp;&nbsp;&nbsp;&nbsp;&nbsp;&nbsp;&nbsp;&nbsp;&nbsp;&nbsp;&nbsp;&nbsp;&nbsp;&nbsp;&nbsp;&nbsp;&nbsp;&nbsp;&nbsp;&nbsp;'is_modified':&nbsp;False,<br>&nbsp;&nbsp;&nbsp;&nbsp;&nbsp;&nbsp;&nbsp;&nbsp;&nbsp;&nbsp;&nbsp;&nbsp;&nbsp;&nbsp;&nbsp;&nbsp;&nbsp;&nbsp;&nbsp;&nbsp;&nbsp;&nbsp;&nbsp;&nbsp;&nbsp;&nbsp;&nbsp;&nbsp;'is_subscribing':&nbsp;None,<br>&nbsp;&nbsp;&nbsp;&nbsp;&nbsp;&nbsp;&nbsp;&nbsp;&nbsp;&nbsp;&nbsp;&nbsp;&nbsp;&nbsp;&nbsp;&nbsp;&nbsp;&nbsp;&nbsp;&nbsp;&nbsp;&nbsp;&nbsp;&nbsp;&nbsp;&nbsp;&nbsp;&nbsp;'locked':&nbsp;False,<br>&nbsp;&nbsp;&nbsp;&nbsp;&nbsp;&nbsp;&nbsp;&nbsp;&nbsp;&nbsp;&nbsp;&nbsp;&nbsp;&nbsp;&nbsp;&nbsp;&nbsp;&nbsp;&nbsp;&nbsp;&nbsp;&nbsp;&nbsp;&nbsp;&nbsp;&nbsp;&nbsp;&nbsp;'malware_families':&nbsp;[],<br>&nbsp;&nbsp;&nbsp;&nbsp;&nbsp;&nbsp;&nbsp;&nbsp;&nbsp;&nbsp;&nbsp;&nbsp;&nbsp;&nbsp;&nbsp;&nbsp;&nbsp;&nbsp;&nbsp;&nbsp;&nbsp;&nbsp;&nbsp;&nbsp;&nbsp;&nbsp;&nbsp;&nbsp;'modified':&nbsp;'2020-07-08T09:48:12.031000',<br>&nbsp;&nbsp;&nbsp;&nbsp;&nbsp;&nbsp;&nbsp;&nbsp;&nbsp;&nbsp;&nbsp;&nbsp;&nbsp;&nbsp;&nbsp;&nbsp;&nbsp;&nbsp;&nbsp;&nbsp;&nbsp;&nbsp;&nbsp;&nbsp;&nbsp;&nbsp;&nbsp;&nbsp;'modified_text':&nbsp;'2&nbsp;days&nbsp;ago&nbsp;',<br>&nbsp;&nbsp;&nbsp;&nbsp;&nbsp;&nbsp;&nbsp;&nbsp;&nbsp;&nbsp;&nbsp;&nbsp;&nbsp;&nbsp;&nbsp;&nbsp;&nbsp;&nbsp;&nbsp;&nbsp;&nbsp;&nbsp;&nbsp;&nbsp;&nbsp;&nbsp;&nbsp;&nbsp;'name':&nbsp;'Cosmic&nbsp;Lynx:&nbsp;The&nbsp;Rise&nbsp;of&nbsp;A&nbsp;Russian&nbsp;BEC&nbsp;'<br>&nbsp;&nbsp;&nbsp;&nbsp;&nbsp;&nbsp;&nbsp;&nbsp;&nbsp;&nbsp;&nbsp;&nbsp;&nbsp;&nbsp;&nbsp;&nbsp;&nbsp;&nbsp;&nbsp;&nbsp;&nbsp;&nbsp;&nbsp;&nbsp;&nbsp;&nbsp;&nbsp;&nbsp;&nbsp;&nbsp;&nbsp;&nbsp;&nbsp;&nbsp;&nbsp;&nbsp;'Group',<br>&nbsp;&nbsp;&nbsp;&nbsp;&nbsp;&nbsp;&nbsp;&nbsp;&nbsp;&nbsp;&nbsp;&nbsp;&nbsp;&nbsp;&nbsp;&nbsp;&nbsp;&nbsp;&nbsp;&nbsp;&nbsp;&nbsp;&nbsp;&nbsp;&nbsp;&nbsp;&nbsp;&nbsp;'public':&nbsp;1,<br>&nbsp;&nbsp;&nbsp;&nbsp;&nbsp;&nbsp;&nbsp;&nbsp;&nbsp;&nbsp;&nbsp;&nbsp;&nbsp;&nbsp;&nbsp;&nbsp;&nbsp;&nbsp;&nbsp;&nbsp;&nbsp;&nbsp;&nbsp;&nbsp;&nbsp;&nbsp;&nbsp;&nbsp;'pulse_source':&nbsp;'web',<br>&nbsp;&nbsp;&nbsp;&nbsp;&nbsp;&nbsp;&nbsp;&nbsp;&nbsp;&nbsp;&nbsp;&nbsp;&nbsp;&nbsp;&nbsp;&nbsp;&nbsp;&nbsp;&nbsp;&nbsp;&nbsp;&nbsp;&nbsp;&nbsp;&nbsp;&nbsp;&nbsp;&nbsp;'references':&nbsp;['https://www.agari.com/cyber-intelligence-research/whitepapers/acid-agari-cosmic-lynx.pdf'],<br>&nbsp;&nbsp;&nbsp;&nbsp;&nbsp;&nbsp;&nbsp;&nbsp;&nbsp;&nbsp;&nbsp;&nbsp;&nbsp;&nbsp;&nbsp;&nbsp;&nbsp;&nbsp;&nbsp;&nbsp;&nbsp;&nbsp;&nbsp;&nbsp;&nbsp;&nbsp;&nbsp;&nbsp;'related_indicator_is_active':&nbsp;1,<br>&nbsp;&nbsp;&nbsp;&nbsp;&nbsp;&nbsp;&nbsp;&nbsp;&nbsp;&nbsp;&nbsp;&nbsp;&nbsp;&nbsp;&nbsp;&nbsp;&nbsp;&nbsp;&nbsp;&nbsp;&nbsp;&nbsp;&nbsp;&nbsp;&nbsp;&nbsp;&nbsp;&nbsp;'related_indicator_type':&nbsp;'domain',<br>&nbsp;&nbsp;&nbsp;&nbsp;&nbsp;&nbsp;&nbsp;&nbsp;&nbsp;&nbsp;&nbsp;&nbsp;&nbsp;&nbsp;&nbsp;&nbsp;&nbsp;&nbsp;&nbsp;&nbsp;&nbsp;&nbsp;&nbsp;&nbsp;&nbsp;&nbsp;&nbsp;&nbsp;'subscriber_count':&nbsp;941,<br>&nbsp;&nbsp;&nbsp;&nbsp;&nbsp;&nbsp;&nbsp;&nbsp;&nbsp;&nbsp;&nbsp;&nbsp;&nbsp;&nbsp;&nbsp;&nbsp;&nbsp;&nbsp;&nbsp;&nbsp;&nbsp;&nbsp;&nbsp;&nbsp;&nbsp;&nbsp;&nbsp;&nbsp;'tags':&nbsp;['BEC',<br>&nbsp;&nbsp;&nbsp;&nbsp;&nbsp;&nbsp;&nbsp;&nbsp;&nbsp;&nbsp;&nbsp;&nbsp;&nbsp;&nbsp;&nbsp;&nbsp;&nbsp;&nbsp;&nbsp;&nbsp;&nbsp;&nbsp;&nbsp;&nbsp;&nbsp;&nbsp;&nbsp;&nbsp;&nbsp;&nbsp;&nbsp;&nbsp;&nbsp;&nbsp;&nbsp;&nbsp;&nbsp;'Phishing',<br>&nbsp;&nbsp;&nbsp;&nbsp;&nbsp;&nbsp;&nbsp;&nbsp;&nbsp;&nbsp;&nbsp;&nbsp;&nbsp;&nbsp;&nbsp;&nbsp;&nbsp;&nbsp;&nbsp;&nbsp;&nbsp;&nbsp;&nbsp;&nbsp;&nbsp;&nbsp;&nbsp;&nbsp;&nbsp;&nbsp;&nbsp;&nbsp;&nbsp;&nbsp;&nbsp;&nbsp;&nbsp;'social&nbsp;engineering',<br>&nbsp;&nbsp;&nbsp;&nbsp;&nbsp;&nbsp;&nbsp;&nbsp;&nbsp;&nbsp;&nbsp;&nbsp;&nbsp;&nbsp;&nbsp;&nbsp;&nbsp;&nbsp;&nbsp;&nbsp;&nbsp;&nbsp;&nbsp;&nbsp;&nbsp;&nbsp;&nbsp;&nbsp;&nbsp;&nbsp;&nbsp;&nbsp;&nbsp;&nbsp;&nbsp;&nbsp;&nbsp;'Russia',<br>&nbsp;&nbsp;&nbsp;&nbsp;&nbsp;&nbsp;&nbsp;&nbsp;&nbsp;&nbsp;&nbsp;&nbsp;&nbsp;&nbsp;&nbsp;&nbsp;&nbsp;&nbsp;&nbsp;&nbsp;&nbsp;&nbsp;&nbsp;&nbsp;&nbsp;&nbsp;&nbsp;&nbsp;&nbsp;&nbsp;&nbsp;&nbsp;&nbsp;&nbsp;&nbsp;&nbsp;&nbsp;'Email',<br>&nbsp;&nbsp;&nbsp;&nbsp;&nbsp;&nbsp;&nbsp;&nbsp;&nbsp;&nbsp;&nbsp;&nbsp;&nbsp;&nbsp;&nbsp;&nbsp;&nbsp;&nbsp;&nbsp;&nbsp;&nbsp;&nbsp;&nbsp;&nbsp;&nbsp;&nbsp;&nbsp;&nbsp;&nbsp;&nbsp;&nbsp;&nbsp;&nbsp;&nbsp;&nbsp;&nbsp;&nbsp;'COVID-19'],<br>&nbsp;&nbsp;&nbsp;&nbsp;&nbsp;&nbsp;&nbsp;&nbsp;&nbsp;&nbsp;&nbsp;&nbsp;&nbsp;&nbsp;&nbsp;&nbsp;&nbsp;&nbsp;&nbsp;&nbsp;&nbsp;&nbsp;&nbsp;&nbsp;&nbsp;&nbsp;&nbsp;&nbsp;'targeted_countries':&nbsp;[],<br>&nbsp;&nbsp;&nbsp;&nbsp;&nbsp;&nbsp;&nbsp;&nbsp;&nbsp;&nbsp;&nbsp;&nbsp;&nbsp;&nbsp;&nbsp;&nbsp;&nbsp;&nbsp;&nbsp;&nbsp;&nbsp;&nbsp;&nbsp;&nbsp;&nbsp;&nbsp;&nbsp;&nbsp;'threat_hunter_has_agents':&nbsp;1,<br>&nbsp;&nbsp;&nbsp;&nbsp;&nbsp;&nbsp;&nbsp;&nbsp;&nbsp;&nbsp;&nbsp;&nbsp;&nbsp;&nbsp;&nbsp;&nbsp;&nbsp;&nbsp;&nbsp;&nbsp;&nbsp;&nbsp;&nbsp;&nbsp;&nbsp;&nbsp;&nbsp;&nbsp;'threat_hunter_scannable':&nbsp;False,<br>&nbsp;&nbsp;&nbsp;&nbsp;&nbsp;&nbsp;&nbsp;&nbsp;&nbsp;&nbsp;&nbsp;&nbsp;&nbsp;&nbsp;&nbsp;&nbsp;&nbsp;&nbsp;&nbsp;&nbsp;&nbsp;&nbsp;&nbsp;&nbsp;&nbsp;&nbsp;&nbsp;&nbsp;'upvotes_count':&nbsp;0,<br>&nbsp;&nbsp;&nbsp;&nbsp;&nbsp;&nbsp;&nbsp;&nbsp;&nbsp;&nbsp;&nbsp;&nbsp;&nbsp;&nbsp;&nbsp;&nbsp;&nbsp;&nbsp;&nbsp;&nbsp;&nbsp;&nbsp;&nbsp;&nbsp;&nbsp;&nbsp;&nbsp;&nbsp;'validator_count':&nbsp;0,<br>&nbsp;&nbsp;&nbsp;&nbsp;&nbsp;&nbsp;&nbsp;&nbsp;&nbsp;&nbsp;&nbsp;&nbsp;&nbsp;&nbsp;&nbsp;&nbsp;&nbsp;&nbsp;&nbsp;&nbsp;&nbsp;&nbsp;&nbsp;&nbsp;&nbsp;&nbsp;&nbsp;&nbsp;'vote':&nbsp;0,<br>&nbsp;&nbsp;&nbsp;&nbsp;&nbsp;&nbsp;&nbsp;&nbsp;&nbsp;&nbsp;&nbsp;&nbsp;&nbsp;&nbsp;&nbsp;&nbsp;&nbsp;&nbsp;&nbsp;&nbsp;&nbsp;&nbsp;&nbsp;&nbsp;&nbsp;&nbsp;&nbsp;&nbsp;'votes_count':&nbsp;0},<br>&nbsp;&nbsp;&nbsp;&nbsp;&nbsp;&nbsp;&nbsp;&nbsp;&nbsp;&nbsp;&nbsp;&nbsp;&nbsp;&nbsp;&nbsp;&nbsp;&nbsp;&nbsp;&nbsp;&nbsp;&nbsp;&nbsp;&nbsp;&nbsp;&nbsp;&nbsp;&nbsp;{'TLP':&nbsp;'white',<br>&nbsp;&nbsp;&nbsp;&nbsp;&nbsp;&nbsp;&nbsp;&nbsp;&nbsp;&nbsp;&nbsp;&nbsp;&nbsp;&nbsp;&nbsp;&nbsp;&nbsp;&nbsp;&nbsp;&nbsp;&nbsp;&nbsp;&nbsp;&nbsp;&nbsp;&nbsp;&nbsp;&nbsp;'adversary':&nbsp;'Cosmic&nbsp;Lynx',<br>&nbsp;&nbsp;&nbsp;&nbsp;&nbsp;&nbsp;&nbsp;&nbsp;&nbsp;&nbsp;&nbsp;&nbsp;&nbsp;&nbsp;&nbsp;&nbsp;&nbsp;&nbsp;&nbsp;&nbsp;&nbsp;&nbsp;&nbsp;&nbsp;&nbsp;&nbsp;&nbsp;&nbsp;'attack_ids':&nbsp;[],<br>&nbsp;&nbsp;&nbsp;&nbsp;&nbsp;&nbsp;&nbsp;&nbsp;&nbsp;&nbsp;&nbsp;&nbsp;&nbsp;&nbsp;&nbsp;&nbsp;&nbsp;&nbsp;&nbsp;&nbsp;&nbsp;&nbsp;&nbsp;&nbsp;&nbsp;&nbsp;&nbsp;&nbsp;'author':&nbsp;{'avatar_url':&nbsp;'https://otx20-web-media.s3.amazonaws.com/media/avatars/user_2/resized/80/avatar_dacfad0ca8.png',<br>&nbsp;&nbsp;&nbsp;&nbsp;&nbsp;&nbsp;&nbsp;&nbsp;&nbsp;&nbsp;&nbsp;&nbsp;&nbsp;&nbsp;&nbsp;&nbsp;&nbsp;&nbsp;&nbsp;&nbsp;&nbsp;&nbsp;&nbsp;&nbsp;&nbsp;&nbsp;&nbsp;&nbsp;&nbsp;&nbsp;&nbsp;&nbsp;&nbsp;&nbsp;&nbsp;&nbsp;&nbsp;&nbsp;&nbsp;'id':&nbsp;'2',<br>&nbsp;&nbsp;&nbsp;&nbsp;&nbsp;&nbsp;&nbsp;&nbsp;&nbsp;&nbsp;&nbsp;&nbsp;&nbsp;&nbsp;&nbsp;&nbsp;&nbsp;&nbsp;&nbsp;&nbsp;&nbsp;&nbsp;&nbsp;&nbsp;&nbsp;&nbsp;&nbsp;&nbsp;&nbsp;&nbsp;&nbsp;&nbsp;&nbsp;&nbsp;&nbsp;&nbsp;&nbsp;&nbsp;&nbsp;'is_following':&nbsp;False,<br>&nbsp;&nbsp;&nbsp;&nbsp;&nbsp;&nbsp;&nbsp;&nbsp;&nbsp;&nbsp;&nbsp;&nbsp;&nbsp;&nbsp;&nbsp;&nbsp;&nbsp;&nbsp;&nbsp;&nbsp;&nbsp;&nbsp;&nbsp;&nbsp;&nbsp;&nbsp;&nbsp;&nbsp;&nbsp;&nbsp;&nbsp;&nbsp;&nbsp;&nbsp;&nbsp;&nbsp;&nbsp;&nbsp;&nbsp;'is_subscribed':&nbsp;True,<br>&nbsp;&nbsp;&nbsp;&nbsp;&nbsp;&nbsp;&nbsp;&nbsp;&nbsp;&nbsp;&nbsp;&nbsp;&nbsp;&nbsp;&nbsp;&nbsp;&nbsp;&nbsp;&nbsp;&nbsp;&nbsp;&nbsp;&nbsp;&nbsp;&nbsp;&nbsp;&nbsp;&nbsp;&nbsp;&nbsp;&nbsp;&nbsp;&nbsp;&nbsp;&nbsp;&nbsp;&nbsp;&nbsp;&nbsp;'username':&nbsp;'AlienVault'},<br>&nbsp;&nbsp;&nbsp;&nbsp;&nbsp;&nbsp;&nbsp;&nbsp;&nbsp;&nbsp;&nbsp;&nbsp;&nbsp;&nbsp;&nbsp;&nbsp;&nbsp;&nbsp;&nbsp;&nbsp;&nbsp;&nbsp;&nbsp;&nbsp;&nbsp;&nbsp;&nbsp;&nbsp;'cloned_from':&nbsp;None,<br>&nbsp;&nbsp;&nbsp;&nbsp;&nbsp;&nbsp;&nbsp;&nbsp;&nbsp;&nbsp;&nbsp;&nbsp;&nbsp;&nbsp;&nbsp;&nbsp;&nbsp;&nbsp;&nbsp;&nbsp;&nbsp;&nbsp;&nbsp;&nbsp;&nbsp;&nbsp;&nbsp;&nbsp;'comment_count':&nbsp;0,<br>&nbsp;&nbsp;&nbsp;&nbsp;&nbsp;&nbsp;&nbsp;&nbsp;&nbsp;&nbsp;&nbsp;&nbsp;&nbsp;&nbsp;&nbsp;&nbsp;&nbsp;&nbsp;&nbsp;&nbsp;&nbsp;&nbsp;&nbsp;&nbsp;&nbsp;&nbsp;&nbsp;&nbsp;'created':&nbsp;'2020-07-07T19:42:52.567000',<br>&nbsp;&nbsp;&nbsp;&nbsp;&nbsp;&nbsp;&nbsp;&nbsp;&nbsp;&nbsp;&nbsp;&nbsp;&nbsp;&nbsp;&nbsp;&nbsp;&nbsp;&nbsp;&nbsp;&nbsp;&nbsp;&nbsp;&nbsp;&nbsp;&nbsp;&nbsp;&nbsp;&nbsp;'description':&nbsp;'\"We&nbsp;have&nbsp;observed&nbsp;more&nbsp;than&nbsp;200&nbsp;'<br>&nbsp;&nbsp;&nbsp;&nbsp;&nbsp;&nbsp;&nbsp;&nbsp;&nbsp;&nbsp;&nbsp;&nbsp;&nbsp;&nbsp;&nbsp;&nbsp;&nbsp;&nbsp;&nbsp;&nbsp;&nbsp;&nbsp;&nbsp;&nbsp;&nbsp;&nbsp;&nbsp;&nbsp;&nbsp;&nbsp;&nbsp;&nbsp;&nbsp;&nbsp;&nbsp;&nbsp;&nbsp;&nbsp;&nbsp;&nbsp;&nbsp;&nbsp;&nbsp;'BEC&nbsp;campaigns&nbsp;linked&nbsp;to&nbsp;Cosmic&nbsp;'<br>&nbsp;&nbsp;&nbsp;&nbsp;&nbsp;&nbsp;&nbsp;&nbsp;&nbsp;&nbsp;&nbsp;&nbsp;&nbsp;&nbsp;&nbsp;&nbsp;&nbsp;&nbsp;&nbsp;&nbsp;&nbsp;&nbsp;&nbsp;&nbsp;&nbsp;&nbsp;&nbsp;&nbsp;&nbsp;&nbsp;&nbsp;&nbsp;&nbsp;&nbsp;&nbsp;&nbsp;&nbsp;&nbsp;&nbsp;&nbsp;&nbsp;&nbsp;&nbsp;'Lynx&nbsp;since&nbsp;July&nbsp;2019,&nbsp;targeting&nbsp;'<br>&nbsp;&nbsp;&nbsp;&nbsp;&nbsp;&nbsp;&nbsp;&nbsp;&nbsp;&nbsp;&nbsp;&nbsp;&nbsp;&nbsp;&nbsp;&nbsp;&nbsp;&nbsp;&nbsp;&nbsp;&nbsp;&nbsp;&nbsp;&nbsp;&nbsp;&nbsp;&nbsp;&nbsp;&nbsp;&nbsp;&nbsp;&nbsp;&nbsp;&nbsp;&nbsp;&nbsp;&nbsp;&nbsp;&nbsp;&nbsp;&nbsp;&nbsp;&nbsp;'individuals&nbsp;in&nbsp;46&nbsp;countries&nbsp;on&nbsp;six&nbsp;'<br>&nbsp;&nbsp;&nbsp;&nbsp;&nbsp;&nbsp;&nbsp;&nbsp;&nbsp;&nbsp;&nbsp;&nbsp;&nbsp;&nbsp;&nbsp;&nbsp;&nbsp;&nbsp;&nbsp;&nbsp;&nbsp;&nbsp;&nbsp;&nbsp;&nbsp;&nbsp;&nbsp;&nbsp;&nbsp;&nbsp;&nbsp;&nbsp;&nbsp;&nbsp;&nbsp;&nbsp;&nbsp;&nbsp;&nbsp;&nbsp;&nbsp;&nbsp;&nbsp;'continents.&nbsp;Unlike&nbsp;most&nbsp;BEC&nbsp;groups&nbsp;'<br>&nbsp;&nbsp;&nbsp;&nbsp;&nbsp;&nbsp;&nbsp;&nbsp;&nbsp;&nbsp;&nbsp;&nbsp;&nbsp;&nbsp;&nbsp;&nbsp;&nbsp;&nbsp;&nbsp;&nbsp;&nbsp;&nbsp;&nbsp;&nbsp;&nbsp;&nbsp;&nbsp;&nbsp;&nbsp;&nbsp;&nbsp;&nbsp;&nbsp;&nbsp;&nbsp;&nbsp;&nbsp;&nbsp;&nbsp;&nbsp;&nbsp;&nbsp;&nbsp;'that&nbsp;are&nbsp;relatively&nbsp;target&nbsp;'<br>&nbsp;&nbsp;&nbsp;&nbsp;&nbsp;&nbsp;&nbsp;&nbsp;&nbsp;&nbsp;&nbsp;&nbsp;&nbsp;&nbsp;&nbsp;&nbsp;&nbsp;&nbsp;&nbsp;&nbsp;&nbsp;&nbsp;&nbsp;&nbsp;&nbsp;&nbsp;&nbsp;&nbsp;&nbsp;&nbsp;&nbsp;&nbsp;&nbsp;&nbsp;&nbsp;&nbsp;&nbsp;&nbsp;&nbsp;&nbsp;&nbsp;&nbsp;&nbsp;'agnostic,&nbsp;Cosmic&nbsp;Lynx&nbsp;has&nbsp;a&nbsp;clear&nbsp;'<br>&nbsp;&nbsp;&nbsp;&nbsp;&nbsp;&nbsp;&nbsp;&nbsp;&nbsp;&nbsp;&nbsp;&nbsp;&nbsp;&nbsp;&nbsp;&nbsp;&nbsp;&nbsp;&nbsp;&nbsp;&nbsp;&nbsp;&nbsp;&nbsp;&nbsp;&nbsp;&nbsp;&nbsp;&nbsp;&nbsp;&nbsp;&nbsp;&nbsp;&nbsp;&nbsp;&nbsp;&nbsp;&nbsp;&nbsp;&nbsp;&nbsp;&nbsp;&nbsp;'target&nbsp;profile:&nbsp;large,&nbsp;'<br>&nbsp;&nbsp;&nbsp;&nbsp;&nbsp;&nbsp;&nbsp;&nbsp;&nbsp;&nbsp;&nbsp;&nbsp;&nbsp;&nbsp;&nbsp;&nbsp;&nbsp;&nbsp;&nbsp;&nbsp;&nbsp;&nbsp;&nbsp;&nbsp;&nbsp;&nbsp;&nbsp;&nbsp;&nbsp;&nbsp;&nbsp;&nbsp;&nbsp;&nbsp;&nbsp;&nbsp;&nbsp;&nbsp;&nbsp;&nbsp;&nbsp;&nbsp;&nbsp;'multinational&nbsp;organizations.&nbsp;'<br>&nbsp;&nbsp;&nbsp;&nbsp;&nbsp;&nbsp;&nbsp;&nbsp;&nbsp;&nbsp;&nbsp;&nbsp;&nbsp;&nbsp;&nbsp;&nbsp;&nbsp;&nbsp;&nbsp;&nbsp;&nbsp;&nbsp;&nbsp;&nbsp;&nbsp;&nbsp;&nbsp;&nbsp;&nbsp;&nbsp;&nbsp;&nbsp;&nbsp;&nbsp;&nbsp;&nbsp;&nbsp;&nbsp;&nbsp;&nbsp;&nbsp;&nbsp;&nbsp;'Nearly&nbsp;all&nbsp;of&nbsp;the&nbsp;organizations&nbsp;'<br>&nbsp;&nbsp;&nbsp;&nbsp;&nbsp;&nbsp;&nbsp;&nbsp;&nbsp;&nbsp;&nbsp;&nbsp;&nbsp;&nbsp;&nbsp;&nbsp;&nbsp;&nbsp;&nbsp;&nbsp;&nbsp;&nbsp;&nbsp;&nbsp;&nbsp;&nbsp;&nbsp;&nbsp;&nbsp;&nbsp;&nbsp;&nbsp;&nbsp;&nbsp;&nbsp;&nbsp;&nbsp;&nbsp;&nbsp;&nbsp;&nbsp;&nbsp;&nbsp;'Cosmic&nbsp;Lynx&nbsp;has&nbsp;targeted&nbsp;have&nbsp;a&nbsp;'<br>&nbsp;&nbsp;&nbsp;&nbsp;&nbsp;&nbsp;&nbsp;&nbsp;&nbsp;&nbsp;&nbsp;&nbsp;&nbsp;&nbsp;&nbsp;&nbsp;&nbsp;&nbsp;&nbsp;&nbsp;&nbsp;&nbsp;&nbsp;&nbsp;&nbsp;&nbsp;&nbsp;&nbsp;&nbsp;&nbsp;&nbsp;&nbsp;&nbsp;&nbsp;&nbsp;&nbsp;&nbsp;&nbsp;&nbsp;&nbsp;&nbsp;&nbsp;&nbsp;'significant&nbsp;global&nbsp;presence&nbsp;and&nbsp;'<br>&nbsp;&nbsp;&nbsp;&nbsp;&nbsp;&nbsp;&nbsp;&nbsp;&nbsp;&nbsp;&nbsp;&nbsp;&nbsp;&nbsp;&nbsp;&nbsp;&nbsp;&nbsp;&nbsp;&nbsp;&nbsp;&nbsp;&nbsp;&nbsp;&nbsp;&nbsp;&nbsp;&nbsp;&nbsp;&nbsp;&nbsp;&nbsp;&nbsp;&nbsp;&nbsp;&nbsp;&nbsp;&nbsp;&nbsp;&nbsp;&nbsp;&nbsp;&nbsp;'many&nbsp;of&nbsp;them&nbsp;are&nbsp;Fortune&nbsp;500&nbsp;or&nbsp;'<br>&nbsp;&nbsp;&nbsp;&nbsp;&nbsp;&nbsp;&nbsp;&nbsp;&nbsp;&nbsp;&nbsp;&nbsp;&nbsp;&nbsp;&nbsp;&nbsp;&nbsp;&nbsp;&nbsp;&nbsp;&nbsp;&nbsp;&nbsp;&nbsp;&nbsp;&nbsp;&nbsp;&nbsp;&nbsp;&nbsp;&nbsp;&nbsp;&nbsp;&nbsp;&nbsp;&nbsp;&nbsp;&nbsp;&nbsp;&nbsp;&nbsp;&nbsp;&nbsp;'Global&nbsp;2000&nbsp;companies.\"&nbsp;-Agari',<br>&nbsp;&nbsp;&nbsp;&nbsp;&nbsp;&nbsp;&nbsp;&nbsp;&nbsp;&nbsp;&nbsp;&nbsp;&nbsp;&nbsp;&nbsp;&nbsp;&nbsp;&nbsp;&nbsp;&nbsp;&nbsp;&nbsp;&nbsp;&nbsp;&nbsp;&nbsp;&nbsp;&nbsp;'downvotes_count':&nbsp;0,<br>&nbsp;&nbsp;&nbsp;&nbsp;&nbsp;&nbsp;&nbsp;&nbsp;&nbsp;&nbsp;&nbsp;&nbsp;&nbsp;&nbsp;&nbsp;&nbsp;&nbsp;&nbsp;&nbsp;&nbsp;&nbsp;&nbsp;&nbsp;&nbsp;&nbsp;&nbsp;&nbsp;&nbsp;'export_count':&nbsp;53,<br>&nbsp;&nbsp;&nbsp;&nbsp;&nbsp;&nbsp;&nbsp;&nbsp;&nbsp;&nbsp;&nbsp;&nbsp;&nbsp;&nbsp;&nbsp;&nbsp;&nbsp;&nbsp;&nbsp;&nbsp;&nbsp;&nbsp;&nbsp;&nbsp;&nbsp;&nbsp;&nbsp;&nbsp;'follower_count':&nbsp;0,<br>&nbsp;&nbsp;&nbsp;&nbsp;&nbsp;&nbsp;&nbsp;&nbsp;&nbsp;&nbsp;&nbsp;&nbsp;&nbsp;&nbsp;&nbsp;&nbsp;&nbsp;&nbsp;&nbsp;&nbsp;&nbsp;&nbsp;&nbsp;&nbsp;&nbsp;&nbsp;&nbsp;&nbsp;'groups':&nbsp;[],<br>&nbsp;&nbsp;&nbsp;&nbsp;&nbsp;&nbsp;&nbsp;&nbsp;&nbsp;&nbsp;&nbsp;&nbsp;&nbsp;&nbsp;&nbsp;&nbsp;&nbsp;&nbsp;&nbsp;&nbsp;&nbsp;&nbsp;&nbsp;&nbsp;&nbsp;&nbsp;&nbsp;&nbsp;'id':&nbsp;'5f04d03c68918d97811bda03',<br>&nbsp;&nbsp;&nbsp;&nbsp;&nbsp;&nbsp;&nbsp;&nbsp;&nbsp;&nbsp;&nbsp;&nbsp;&nbsp;&nbsp;&nbsp;&nbsp;&nbsp;&nbsp;&nbsp;&nbsp;&nbsp;&nbsp;&nbsp;&nbsp;&nbsp;&nbsp;&nbsp;&nbsp;'in_group':&nbsp;False,<br>&nbsp;&nbsp;&nbsp;&nbsp;&nbsp;&nbsp;&nbsp;&nbsp;&nbsp;&nbsp;&nbsp;&nbsp;&nbsp;&nbsp;&nbsp;&nbsp;&nbsp;&nbsp;&nbsp;&nbsp;&nbsp;&nbsp;&nbsp;&nbsp;&nbsp;&nbsp;&nbsp;&nbsp;'indicator_count':&nbsp;65,<br>&nbsp;&nbsp;&nbsp;&nbsp;&nbsp;&nbsp;&nbsp;&nbsp;&nbsp;&nbsp;&nbsp;&nbsp;&nbsp;&nbsp;&nbsp;&nbsp;&nbsp;&nbsp;&nbsp;&nbsp;&nbsp;&nbsp;&nbsp;&nbsp;&nbsp;&nbsp;&nbsp;&nbsp;'indicator_type_counts':&nbsp;{'domain':&nbsp;65},<br>&nbsp;&nbsp;&nbsp;&nbsp;&nbsp;&nbsp;&nbsp;&nbsp;&nbsp;&nbsp;&nbsp;&nbsp;&nbsp;&nbsp;&nbsp;&nbsp;&nbsp;&nbsp;&nbsp;&nbsp;&nbsp;&nbsp;&nbsp;&nbsp;&nbsp;&nbsp;&nbsp;&nbsp;'industries':&nbsp;[],<br>&nbsp;&nbsp;&nbsp;&nbsp;&nbsp;&nbsp;&nbsp;&nbsp;&nbsp;&nbsp;&nbsp;&nbsp;&nbsp;&nbsp;&nbsp;&nbsp;&nbsp;&nbsp;&nbsp;&nbsp;&nbsp;&nbsp;&nbsp;&nbsp;&nbsp;&nbsp;&nbsp;&nbsp;'is_author':&nbsp;False,<br>&nbsp;&nbsp;&nbsp;&nbsp;&nbsp;&nbsp;&nbsp;&nbsp;&nbsp;&nbsp;&nbsp;&nbsp;&nbsp;&nbsp;&nbsp;&nbsp;&nbsp;&nbsp;&nbsp;&nbsp;&nbsp;&nbsp;&nbsp;&nbsp;&nbsp;&nbsp;&nbsp;&nbsp;'is_modified':&nbsp;False,<br>&nbsp;&nbsp;&nbsp;&nbsp;&nbsp;&nbsp;&nbsp;&nbsp;&nbsp;&nbsp;&nbsp;&nbsp;&nbsp;&nbsp;&nbsp;&nbsp;&nbsp;&nbsp;&nbsp;&nbsp;&nbsp;&nbsp;&nbsp;&nbsp;&nbsp;&nbsp;&nbsp;&nbsp;'is_subscribing':&nbsp;None,<br>&nbsp;&nbsp;&nbsp;&nbsp;&nbsp;&nbsp;&nbsp;&nbsp;&nbsp;&nbsp;&nbsp;&nbsp;&nbsp;&nbsp;&nbsp;&nbsp;&nbsp;&nbsp;&nbsp;&nbsp;&nbsp;&nbsp;&nbsp;&nbsp;&nbsp;&nbsp;&nbsp;&nbsp;'locked':&nbsp;False,<br>&nbsp;&nbsp;&nbsp;&nbsp;&nbsp;&nbsp;&nbsp;&nbsp;&nbsp;&nbsp;&nbsp;&nbsp;&nbsp;&nbsp;&nbsp;&nbsp;&nbsp;&nbsp;&nbsp;&nbsp;&nbsp;&nbsp;&nbsp;&nbsp;&nbsp;&nbsp;&nbsp;&nbsp;'malware_families':&nbsp;[],<br>&nbsp;&nbsp;&nbsp;&nbsp;&nbsp;&nbsp;&nbsp;&nbsp;&nbsp;&nbsp;&nbsp;&nbsp;&nbsp;&nbsp;&nbsp;&nbsp;&nbsp;&nbsp;&nbsp;&nbsp;&nbsp;&nbsp;&nbsp;&nbsp;&nbsp;&nbsp;&nbsp;&nbsp;'modified':&nbsp;'2020-07-07T19:42:52.567000',<br>&nbsp;&nbsp;&nbsp;&nbsp;&nbsp;&nbsp;&nbsp;&nbsp;&nbsp;&nbsp;&nbsp;&nbsp;&nbsp;&nbsp;&nbsp;&nbsp;&nbsp;&nbsp;&nbsp;&nbsp;&nbsp;&nbsp;&nbsp;&nbsp;&nbsp;&nbsp;&nbsp;&nbsp;'modified_text':&nbsp;'3&nbsp;days&nbsp;ago&nbsp;',<br>&nbsp;&nbsp;&nbsp;&nbsp;&nbsp;&nbsp;&nbsp;&nbsp;&nbsp;&nbsp;&nbsp;&nbsp;&nbsp;&nbsp;&nbsp;&nbsp;&nbsp;&nbsp;&nbsp;&nbsp;&nbsp;&nbsp;&nbsp;&nbsp;&nbsp;&nbsp;&nbsp;&nbsp;'name':&nbsp;'Cosmic&nbsp;Lynx:&nbsp;The&nbsp;Rise&nbsp;of&nbsp;A&nbsp;Russian&nbsp;BEC&nbsp;'<br>&nbsp;&nbsp;&nbsp;&nbsp;&nbsp;&nbsp;&nbsp;&nbsp;&nbsp;&nbsp;&nbsp;&nbsp;&nbsp;&nbsp;&nbsp;&nbsp;&nbsp;&nbsp;&nbsp;&nbsp;&nbsp;&nbsp;&nbsp;&nbsp;&nbsp;&nbsp;&nbsp;&nbsp;&nbsp;&nbsp;&nbsp;&nbsp;&nbsp;&nbsp;&nbsp;&nbsp;'Group',<br>&nbsp;&nbsp;&nbsp;&nbsp;&nbsp;&nbsp;&nbsp;&nbsp;&nbsp;&nbsp;&nbsp;&nbsp;&nbsp;&nbsp;&nbsp;&nbsp;&nbsp;&nbsp;&nbsp;&nbsp;&nbsp;&nbsp;&nbsp;&nbsp;&nbsp;&nbsp;&nbsp;&nbsp;'public':&nbsp;1,<br>&nbsp;&nbsp;&nbsp;&nbsp;&nbsp;&nbsp;&nbsp;&nbsp;&nbsp;&nbsp;&nbsp;&nbsp;&nbsp;&nbsp;&nbsp;&nbsp;&nbsp;&nbsp;&nbsp;&nbsp;&nbsp;&nbsp;&nbsp;&nbsp;&nbsp;&nbsp;&nbsp;&nbsp;'pulse_source':&nbsp;'web',<br>&nbsp;&nbsp;&nbsp;&nbsp;&nbsp;&nbsp;&nbsp;&nbsp;&nbsp;&nbsp;&nbsp;&nbsp;&nbsp;&nbsp;&nbsp;&nbsp;&nbsp;&nbsp;&nbsp;&nbsp;&nbsp;&nbsp;&nbsp;&nbsp;&nbsp;&nbsp;&nbsp;&nbsp;'references':&nbsp;['https://www.agari.com/cyber-intelligence-research/whitepapers/acid-agari-cosmic-lynx.pdf'],<br>&nbsp;&nbsp;&nbsp;&nbsp;&nbsp;&nbsp;&nbsp;&nbsp;&nbsp;&nbsp;&nbsp;&nbsp;&nbsp;&nbsp;&nbsp;&nbsp;&nbsp;&nbsp;&nbsp;&nbsp;&nbsp;&nbsp;&nbsp;&nbsp;&nbsp;&nbsp;&nbsp;&nbsp;'related_indicator_is_active':&nbsp;1,<br>&nbsp;&nbsp;&nbsp;&nbsp;&nbsp;&nbsp;&nbsp;&nbsp;&nbsp;&nbsp;&nbsp;&nbsp;&nbsp;&nbsp;&nbsp;&nbsp;&nbsp;&nbsp;&nbsp;&nbsp;&nbsp;&nbsp;&nbsp;&nbsp;&nbsp;&nbsp;&nbsp;&nbsp;'related_indicator_type':&nbsp;'domain',<br>&nbsp;&nbsp;&nbsp;&nbsp;&nbsp;&nbsp;&nbsp;&nbsp;&nbsp;&nbsp;&nbsp;&nbsp;&nbsp;&nbsp;&nbsp;&nbsp;&nbsp;&nbsp;&nbsp;&nbsp;&nbsp;&nbsp;&nbsp;&nbsp;&nbsp;&nbsp;&nbsp;&nbsp;'subscriber_count':&nbsp;114279,<br>&nbsp;&nbsp;&nbsp;&nbsp;&nbsp;&nbsp;&nbsp;&nbsp;&nbsp;&nbsp;&nbsp;&nbsp;&nbsp;&nbsp;&nbsp;&nbsp;&nbsp;&nbsp;&nbsp;&nbsp;&nbsp;&nbsp;&nbsp;&nbsp;&nbsp;&nbsp;&nbsp;&nbsp;'tags':&nbsp;['BEC',<br>&nbsp;&nbsp;&nbsp;&nbsp;&nbsp;&nbsp;&nbsp;&nbsp;&nbsp;&nbsp;&nbsp;&nbsp;&nbsp;&nbsp;&nbsp;&nbsp;&nbsp;&nbsp;&nbsp;&nbsp;&nbsp;&nbsp;&nbsp;&nbsp;&nbsp;&nbsp;&nbsp;&nbsp;&nbsp;&nbsp;&nbsp;&nbsp;&nbsp;&nbsp;&nbsp;&nbsp;&nbsp;'Phishing',<br>&nbsp;&nbsp;&nbsp;&nbsp;&nbsp;&nbsp;&nbsp;&nbsp;&nbsp;&nbsp;&nbsp;&nbsp;&nbsp;&nbsp;&nbsp;&nbsp;&nbsp;&nbsp;&nbsp;&nbsp;&nbsp;&nbsp;&nbsp;&nbsp;&nbsp;&nbsp;&nbsp;&nbsp;&nbsp;&nbsp;&nbsp;&nbsp;&nbsp;&nbsp;&nbsp;&nbsp;&nbsp;'social&nbsp;engineering',<br>&nbsp;&nbsp;&nbsp;&nbsp;&nbsp;&nbsp;&nbsp;&nbsp;&nbsp;&nbsp;&nbsp;&nbsp;&nbsp;&nbsp;&nbsp;&nbsp;&nbsp;&nbsp;&nbsp;&nbsp;&nbsp;&nbsp;&nbsp;&nbsp;&nbsp;&nbsp;&nbsp;&nbsp;&nbsp;&nbsp;&nbsp;&nbsp;&nbsp;&nbsp;&nbsp;&nbsp;&nbsp;'Russia',<br>&nbsp;&nbsp;&nbsp;&nbsp;&nbsp;&nbsp;&nbsp;&nbsp;&nbsp;&nbsp;&nbsp;&nbsp;&nbsp;&nbsp;&nbsp;&nbsp;&nbsp;&nbsp;&nbsp;&nbsp;&nbsp;&nbsp;&nbsp;&nbsp;&nbsp;&nbsp;&nbsp;&nbsp;&nbsp;&nbsp;&nbsp;&nbsp;&nbsp;&nbsp;&nbsp;&nbsp;&nbsp;'Email',<br>&nbsp;&nbsp;&nbsp;&nbsp;&nbsp;&nbsp;&nbsp;&nbsp;&nbsp;&nbsp;&nbsp;&nbsp;&nbsp;&nbsp;&nbsp;&nbsp;&nbsp;&nbsp;&nbsp;&nbsp;&nbsp;&nbsp;&nbsp;&nbsp;&nbsp;&nbsp;&nbsp;&nbsp;&nbsp;&nbsp;&nbsp;&nbsp;&nbsp;&nbsp;&nbsp;&nbsp;&nbsp;'COVID-19'],<br>&nbsp;&nbsp;&nbsp;&nbsp;&nbsp;&nbsp;&nbsp;&nbsp;&nbsp;&nbsp;&nbsp;&nbsp;&nbsp;&nbsp;&nbsp;&nbsp;&nbsp;&nbsp;&nbsp;&nbsp;&nbsp;&nbsp;&nbsp;&nbsp;&nbsp;&nbsp;&nbsp;&nbsp;'targeted_countries':&nbsp;[],<br>&nbsp;&nbsp;&nbsp;&nbsp;&nbsp;&nbsp;&nbsp;&nbsp;&nbsp;&nbsp;&nbsp;&nbsp;&nbsp;&nbsp;&nbsp;&nbsp;&nbsp;&nbsp;&nbsp;&nbsp;&nbsp;&nbsp;&nbsp;&nbsp;&nbsp;&nbsp;&nbsp;&nbsp;'threat_hunter_has_agents':&nbsp;1,<br>&nbsp;&nbsp;&nbsp;&nbsp;&nbsp;&nbsp;&nbsp;&nbsp;&nbsp;&nbsp;&nbsp;&nbsp;&nbsp;&nbsp;&nbsp;&nbsp;&nbsp;&nbsp;&nbsp;&nbsp;&nbsp;&nbsp;&nbsp;&nbsp;&nbsp;&nbsp;&nbsp;&nbsp;'threat_hunter_scannable':&nbsp;False,<br>&nbsp;&nbsp;&nbsp;&nbsp;&nbsp;&nbsp;&nbsp;&nbsp;&nbsp;&nbsp;&nbsp;&nbsp;&nbsp;&nbsp;&nbsp;&nbsp;&nbsp;&nbsp;&nbsp;&nbsp;&nbsp;&nbsp;&nbsp;&nbsp;&nbsp;&nbsp;&nbsp;&nbsp;'upvotes_count':&nbsp;0,<br>&nbsp;&nbsp;&nbsp;&nbsp;&nbsp;&nbsp;&nbsp;&nbsp;&nbsp;&nbsp;&nbsp;&nbsp;&nbsp;&nbsp;&nbsp;&nbsp;&nbsp;&nbsp;&nbsp;&nbsp;&nbsp;&nbsp;&nbsp;&nbsp;&nbsp;&nbsp;&nbsp;&nbsp;'validator_count':&nbsp;0,<br>&nbsp;&nbsp;&nbsp;&nbsp;&nbsp;&nbsp;&nbsp;&nbsp;&nbsp;&nbsp;&nbsp;&nbsp;&nbsp;&nbsp;&nbsp;&nbsp;&nbsp;&nbsp;&nbsp;&nbsp;&nbsp;&nbsp;&nbsp;&nbsp;&nbsp;&nbsp;&nbsp;&nbsp;'vote':&nbsp;0,<br>&nbsp;&nbsp;&nbsp;&nbsp;&nbsp;&nbsp;&nbsp;&nbsp;&nbsp;&nbsp;&nbsp;&nbsp;&nbsp;&nbsp;&nbsp;&nbsp;&nbsp;&nbsp;&nbsp;&nbsp;&nbsp;&nbsp;&nbsp;&nbsp;&nbsp;&nbsp;&nbsp;&nbsp;'votes_count':&nbsp;0},<br>&nbsp;&nbsp;&nbsp;&nbsp;&nbsp;&nbsp;&nbsp;&nbsp;&nbsp;&nbsp;&nbsp;&nbsp;&nbsp;&nbsp;&nbsp;&nbsp;&nbsp;&nbsp;&nbsp;&nbsp;&nbsp;&nbsp;&nbsp;&nbsp;&nbsp;&nbsp;&nbsp;{'TLP':&nbsp;'white',<br>&nbsp;&nbsp;&nbsp;&nbsp;&nbsp;&nbsp;&nbsp;&nbsp;&nbsp;&nbsp;&nbsp;&nbsp;&nbsp;&nbsp;&nbsp;&nbsp;&nbsp;&nbsp;&nbsp;&nbsp;&nbsp;&nbsp;&nbsp;&nbsp;&nbsp;&nbsp;&nbsp;&nbsp;'adversary':&nbsp;'',<br>&nbsp;&nbsp;&nbsp;&nbsp;&nbsp;&nbsp;&nbsp;&nbsp;&nbsp;&nbsp;&nbsp;&nbsp;&nbsp;&nbsp;&nbsp;&nbsp;&nbsp;&nbsp;&nbsp;&nbsp;&nbsp;&nbsp;&nbsp;&nbsp;&nbsp;&nbsp;&nbsp;&nbsp;'attack_ids':&nbsp;[],<br>&nbsp;&nbsp;&nbsp;&nbsp;&nbsp;&nbsp;&nbsp;&nbsp;&nbsp;&nbsp;&nbsp;&nbsp;&nbsp;&nbsp;&nbsp;&nbsp;&nbsp;&nbsp;&nbsp;&nbsp;&nbsp;&nbsp;&nbsp;&nbsp;&nbsp;&nbsp;&nbsp;&nbsp;'author':&nbsp;{'avatar_url':&nbsp;'https://otx20-web-media.s3.amazonaws.com/media/avatars/user_94093/resized/80/avatar_281f69b768.png',<br>&nbsp;&nbsp;&nbsp;&nbsp;&nbsp;&nbsp;&nbsp;&nbsp;&nbsp;&nbsp;&nbsp;&nbsp;&nbsp;&nbsp;&nbsp;&nbsp;&nbsp;&nbsp;&nbsp;&nbsp;&nbsp;&nbsp;&nbsp;&nbsp;&nbsp;&nbsp;&nbsp;&nbsp;&nbsp;&nbsp;&nbsp;&nbsp;&nbsp;&nbsp;&nbsp;&nbsp;&nbsp;&nbsp;&nbsp;'id':&nbsp;'94093',<br>&nbsp;&nbsp;&nbsp;&nbsp;&nbsp;&nbsp;&nbsp;&nbsp;&nbsp;&nbsp;&nbsp;&nbsp;&nbsp;&nbsp;&nbsp;&nbsp;&nbsp;&nbsp;&nbsp;&nbsp;&nbsp;&nbsp;&nbsp;&nbsp;&nbsp;&nbsp;&nbsp;&nbsp;&nbsp;&nbsp;&nbsp;&nbsp;&nbsp;&nbsp;&nbsp;&nbsp;&nbsp;&nbsp;&nbsp;'is_following':&nbsp;False,<br>&nbsp;&nbsp;&nbsp;&nbsp;&nbsp;&nbsp;&nbsp;&nbsp;&nbsp;&nbsp;&nbsp;&nbsp;&nbsp;&nbsp;&nbsp;&nbsp;&nbsp;&nbsp;&nbsp;&nbsp;&nbsp;&nbsp;&nbsp;&nbsp;&nbsp;&nbsp;&nbsp;&nbsp;&nbsp;&nbsp;&nbsp;&nbsp;&nbsp;&nbsp;&nbsp;&nbsp;&nbsp;&nbsp;&nbsp;'is_subscribed':&nbsp;False,<br>&nbsp;&nbsp;&nbsp;&nbsp;&nbsp;&nbsp;&nbsp;&nbsp;&nbsp;&nbsp;&nbsp;&nbsp;&nbsp;&nbsp;&nbsp;&nbsp;&nbsp;&nbsp;&nbsp;&nbsp;&nbsp;&nbsp;&nbsp;&nbsp;&nbsp;&nbsp;&nbsp;&nbsp;&nbsp;&nbsp;&nbsp;&nbsp;&nbsp;&nbsp;&nbsp;&nbsp;&nbsp;&nbsp;&nbsp;'username':&nbsp;'Sand-Storm'},<br>&nbsp;&nbsp;&nbsp;&nbsp;&nbsp;&nbsp;&nbsp;&nbsp;&nbsp;&nbsp;&nbsp;&nbsp;&nbsp;&nbsp;&nbsp;&nbsp;&nbsp;&nbsp;&nbsp;&nbsp;&nbsp;&nbsp;&nbsp;&nbsp;&nbsp;&nbsp;&nbsp;&nbsp;'cloned_from':&nbsp;None,<br>&nbsp;&nbsp;&nbsp;&nbsp;&nbsp;&nbsp;&nbsp;&nbsp;&nbsp;&nbsp;&nbsp;&nbsp;&nbsp;&nbsp;&nbsp;&nbsp;&nbsp;&nbsp;&nbsp;&nbsp;&nbsp;&nbsp;&nbsp;&nbsp;&nbsp;&nbsp;&nbsp;&nbsp;'comment_count':&nbsp;0,<br>&nbsp;&nbsp;&nbsp;&nbsp;&nbsp;&nbsp;&nbsp;&nbsp;&nbsp;&nbsp;&nbsp;&nbsp;&nbsp;&nbsp;&nbsp;&nbsp;&nbsp;&nbsp;&nbsp;&nbsp;&nbsp;&nbsp;&nbsp;&nbsp;&nbsp;&nbsp;&nbsp;&nbsp;'created':&nbsp;'2020-07-07T14:53:12.330000',<br>&nbsp;&nbsp;&nbsp;&nbsp;&nbsp;&nbsp;&nbsp;&nbsp;&nbsp;&nbsp;&nbsp;&nbsp;&nbsp;&nbsp;&nbsp;&nbsp;&nbsp;&nbsp;&nbsp;&nbsp;&nbsp;&nbsp;&nbsp;&nbsp;&nbsp;&nbsp;&nbsp;&nbsp;'description':&nbsp;'',<br>&nbsp;&nbsp;&nbsp;&nbsp;&nbsp;&nbsp;&nbsp;&nbsp;&nbsp;&nbsp;&nbsp;&nbsp;&nbsp;&nbsp;&nbsp;&nbsp;&nbsp;&nbsp;&nbsp;&nbsp;&nbsp;&nbsp;&nbsp;&nbsp;&nbsp;&nbsp;&nbsp;&nbsp;'downvotes_count':&nbsp;0,<br>&nbsp;&nbsp;&nbsp;&nbsp;&nbsp;&nbsp;&nbsp;&nbsp;&nbsp;&nbsp;&nbsp;&nbsp;&nbsp;&nbsp;&nbsp;&nbsp;&nbsp;&nbsp;&nbsp;&nbsp;&nbsp;&nbsp;&nbsp;&nbsp;&nbsp;&nbsp;&nbsp;&nbsp;'export_count':&nbsp;7,<br>&nbsp;&nbsp;&nbsp;&nbsp;&nbsp;&nbsp;&nbsp;&nbsp;&nbsp;&nbsp;&nbsp;&nbsp;&nbsp;&nbsp;&nbsp;&nbsp;&nbsp;&nbsp;&nbsp;&nbsp;&nbsp;&nbsp;&nbsp;&nbsp;&nbsp;&nbsp;&nbsp;&nbsp;'follower_count':&nbsp;0,<br>&nbsp;&nbsp;&nbsp;&nbsp;&nbsp;&nbsp;&nbsp;&nbsp;&nbsp;&nbsp;&nbsp;&nbsp;&nbsp;&nbsp;&nbsp;&nbsp;&nbsp;&nbsp;&nbsp;&nbsp;&nbsp;&nbsp;&nbsp;&nbsp;&nbsp;&nbsp;&nbsp;&nbsp;'groups':&nbsp;[],<br>&nbsp;&nbsp;&nbsp;&nbsp;&nbsp;&nbsp;&nbsp;&nbsp;&nbsp;&nbsp;&nbsp;&nbsp;&nbsp;&nbsp;&nbsp;&nbsp;&nbsp;&nbsp;&nbsp;&nbsp;&nbsp;&nbsp;&nbsp;&nbsp;&nbsp;&nbsp;&nbsp;&nbsp;'id':&nbsp;'5f048c58d60cfdb1a2e82d2e',<br>&nbsp;&nbsp;&nbsp;&nbsp;&nbsp;&nbsp;&nbsp;&nbsp;&nbsp;&nbsp;&nbsp;&nbsp;&nbsp;&nbsp;&nbsp;&nbsp;&nbsp;&nbsp;&nbsp;&nbsp;&nbsp;&nbsp;&nbsp;&nbsp;&nbsp;&nbsp;&nbsp;&nbsp;'in_group':&nbsp;False,<br>&nbsp;&nbsp;&nbsp;&nbsp;&nbsp;&nbsp;&nbsp;&nbsp;&nbsp;&nbsp;&nbsp;&nbsp;&nbsp;&nbsp;&nbsp;&nbsp;&nbsp;&nbsp;&nbsp;&nbsp;&nbsp;&nbsp;&nbsp;&nbsp;&nbsp;&nbsp;&nbsp;&nbsp;'indicator_count':&nbsp;126,<br>&nbsp;&nbsp;&nbsp;&nbsp;&nbsp;&nbsp;&nbsp;&nbsp;&nbsp;&nbsp;&nbsp;&nbsp;&nbsp;&nbsp;&nbsp;&nbsp;&nbsp;&nbsp;&nbsp;&nbsp;&nbsp;&nbsp;&nbsp;&nbsp;&nbsp;&nbsp;&nbsp;&nbsp;'indicator_type_counts':&nbsp;{'IPv4':&nbsp;61,&nbsp;'domain':&nbsp;65},<br>&nbsp;&nbsp;&nbsp;&nbsp;&nbsp;&nbsp;&nbsp;&nbsp;&nbsp;&nbsp;&nbsp;&nbsp;&nbsp;&nbsp;&nbsp;&nbsp;&nbsp;&nbsp;&nbsp;&nbsp;&nbsp;&nbsp;&nbsp;&nbsp;&nbsp;&nbsp;&nbsp;&nbsp;'industries':&nbsp;[],<br>&nbsp;&nbsp;&nbsp;&nbsp;&nbsp;&nbsp;&nbsp;&nbsp;&nbsp;&nbsp;&nbsp;&nbsp;&nbsp;&nbsp;&nbsp;&nbsp;&nbsp;&nbsp;&nbsp;&nbsp;&nbsp;&nbsp;&nbsp;&nbsp;&nbsp;&nbsp;&nbsp;&nbsp;'is_author':&nbsp;False,<br>&nbsp;&nbsp;&nbsp;&nbsp;&nbsp;&nbsp;&nbsp;&nbsp;&nbsp;&nbsp;&nbsp;&nbsp;&nbsp;&nbsp;&nbsp;&nbsp;&nbsp;&nbsp;&nbsp;&nbsp;&nbsp;&nbsp;&nbsp;&nbsp;&nbsp;&nbsp;&nbsp;&nbsp;'is_modified':&nbsp;False,<br>&nbsp;&nbsp;&nbsp;&nbsp;&nbsp;&nbsp;&nbsp;&nbsp;&nbsp;&nbsp;&nbsp;&nbsp;&nbsp;&nbsp;&nbsp;&nbsp;&nbsp;&nbsp;&nbsp;&nbsp;&nbsp;&nbsp;&nbsp;&nbsp;&nbsp;&nbsp;&nbsp;&nbsp;'is_subscribing':&nbsp;None,<br>&nbsp;&nbsp;&nbsp;&nbsp;&nbsp;&nbsp;&nbsp;&nbsp;&nbsp;&nbsp;&nbsp;&nbsp;&nbsp;&nbsp;&nbsp;&nbsp;&nbsp;&nbsp;&nbsp;&nbsp;&nbsp;&nbsp;&nbsp;&nbsp;&nbsp;&nbsp;&nbsp;&nbsp;'locked':&nbsp;False,<br>&nbsp;&nbsp;&nbsp;&nbsp;&nbsp;&nbsp;&nbsp;&nbsp;&nbsp;&nbsp;&nbsp;&nbsp;&nbsp;&nbsp;&nbsp;&nbsp;&nbsp;&nbsp;&nbsp;&nbsp;&nbsp;&nbsp;&nbsp;&nbsp;&nbsp;&nbsp;&nbsp;&nbsp;'malware_families':&nbsp;[],<br>&nbsp;&nbsp;&nbsp;&nbsp;&nbsp;&nbsp;&nbsp;&nbsp;&nbsp;&nbsp;&nbsp;&nbsp;&nbsp;&nbsp;&nbsp;&nbsp;&nbsp;&nbsp;&nbsp;&nbsp;&nbsp;&nbsp;&nbsp;&nbsp;&nbsp;&nbsp;&nbsp;&nbsp;'modified':&nbsp;'2020-07-07T14:53:12.330000',<br>&nbsp;&nbsp;&nbsp;&nbsp;&nbsp;&nbsp;&nbsp;&nbsp;&nbsp;&nbsp;&nbsp;&nbsp;&nbsp;&nbsp;&nbsp;&nbsp;&nbsp;&nbsp;&nbsp;&nbsp;&nbsp;&nbsp;&nbsp;&nbsp;&nbsp;&nbsp;&nbsp;&nbsp;'modified_text':&nbsp;'3&nbsp;days&nbsp;ago&nbsp;',<br>&nbsp;&nbsp;&nbsp;&nbsp;&nbsp;&nbsp;&nbsp;&nbsp;&nbsp;&nbsp;&nbsp;&nbsp;&nbsp;&nbsp;&nbsp;&nbsp;&nbsp;&nbsp;&nbsp;&nbsp;&nbsp;&nbsp;&nbsp;&nbsp;&nbsp;&nbsp;&nbsp;&nbsp;'name':&nbsp;'Cosmic&nbsp;Lynx&nbsp;The&nbsp;Rise&nbsp;of&nbsp;Russian&nbsp;BEC',<br>&nbsp;&nbsp;&nbsp;&nbsp;&nbsp;&nbsp;&nbsp;&nbsp;&nbsp;&nbsp;&nbsp;&nbsp;&nbsp;&nbsp;&nbsp;&nbsp;&nbsp;&nbsp;&nbsp;&nbsp;&nbsp;&nbsp;&nbsp;&nbsp;&nbsp;&nbsp;&nbsp;&nbsp;'public':&nbsp;1,<br>&nbsp;&nbsp;&nbsp;&nbsp;&nbsp;&nbsp;&nbsp;&nbsp;&nbsp;&nbsp;&nbsp;&nbsp;&nbsp;&nbsp;&nbsp;&nbsp;&nbsp;&nbsp;&nbsp;&nbsp;&nbsp;&nbsp;&nbsp;&nbsp;&nbsp;&nbsp;&nbsp;&nbsp;'pulse_source':&nbsp;'web',<br>&nbsp;&nbsp;&nbsp;&nbsp;&nbsp;&nbsp;&nbsp;&nbsp;&nbsp;&nbsp;&nbsp;&nbsp;&nbsp;&nbsp;&nbsp;&nbsp;&nbsp;&nbsp;&nbsp;&nbsp;&nbsp;&nbsp;&nbsp;&nbsp;&nbsp;&nbsp;&nbsp;&nbsp;'references':&nbsp;['https://www.agari.com/cyber-intelligence-research/whitepapers/acid-agari-cosmic-lynx.pdf'],<br>&nbsp;&nbsp;&nbsp;&nbsp;&nbsp;&nbsp;&nbsp;&nbsp;&nbsp;&nbsp;&nbsp;&nbsp;&nbsp;&nbsp;&nbsp;&nbsp;&nbsp;&nbsp;&nbsp;&nbsp;&nbsp;&nbsp;&nbsp;&nbsp;&nbsp;&nbsp;&nbsp;&nbsp;'related_indicator_is_active':&nbsp;1,<br>&nbsp;&nbsp;&nbsp;&nbsp;&nbsp;&nbsp;&nbsp;&nbsp;&nbsp;&nbsp;&nbsp;&nbsp;&nbsp;&nbsp;&nbsp;&nbsp;&nbsp;&nbsp;&nbsp;&nbsp;&nbsp;&nbsp;&nbsp;&nbsp;&nbsp;&nbsp;&nbsp;&nbsp;'related_indicator_type':&nbsp;'domain',<br>&nbsp;&nbsp;&nbsp;&nbsp;&nbsp;&nbsp;&nbsp;&nbsp;&nbsp;&nbsp;&nbsp;&nbsp;&nbsp;&nbsp;&nbsp;&nbsp;&nbsp;&nbsp;&nbsp;&nbsp;&nbsp;&nbsp;&nbsp;&nbsp;&nbsp;&nbsp;&nbsp;&nbsp;'subscriber_count':&nbsp;134,<br>&nbsp;&nbsp;&nbsp;&nbsp;&nbsp;&nbsp;&nbsp;&nbsp;&nbsp;&nbsp;&nbsp;&nbsp;&nbsp;&nbsp;&nbsp;&nbsp;&nbsp;&nbsp;&nbsp;&nbsp;&nbsp;&nbsp;&nbsp;&nbsp;&nbsp;&nbsp;&nbsp;&nbsp;'tags':&nbsp;['”&nbsp;“&nbsp;corporate',<br>&nbsp;&nbsp;&nbsp;&nbsp;&nbsp;&nbsp;&nbsp;&nbsp;&nbsp;&nbsp;&nbsp;&nbsp;&nbsp;&nbsp;&nbsp;&nbsp;&nbsp;&nbsp;&nbsp;&nbsp;&nbsp;&nbsp;&nbsp;&nbsp;&nbsp;&nbsp;&nbsp;&nbsp;&nbsp;&nbsp;&nbsp;&nbsp;&nbsp;&nbsp;&nbsp;&nbsp;&nbsp;'”&nbsp;“&nbsp;matter',<br>&nbsp;&nbsp;&nbsp;&nbsp;&nbsp;&nbsp;&nbsp;&nbsp;&nbsp;&nbsp;&nbsp;&nbsp;&nbsp;&nbsp;&nbsp;&nbsp;&nbsp;&nbsp;&nbsp;&nbsp;&nbsp;&nbsp;&nbsp;&nbsp;&nbsp;&nbsp;&nbsp;&nbsp;&nbsp;&nbsp;&nbsp;&nbsp;&nbsp;&nbsp;&nbsp;&nbsp;&nbsp;'”&nbsp;“&nbsp;law',<br>&nbsp;&nbsp;&nbsp;&nbsp;&nbsp;&nbsp;&nbsp;&nbsp;&nbsp;&nbsp;&nbsp;&nbsp;&nbsp;&nbsp;&nbsp;&nbsp;&nbsp;&nbsp;&nbsp;&nbsp;&nbsp;&nbsp;&nbsp;&nbsp;&nbsp;&nbsp;&nbsp;&nbsp;&nbsp;&nbsp;&nbsp;&nbsp;&nbsp;&nbsp;&nbsp;&nbsp;&nbsp;'march',<br>&nbsp;&nbsp;&nbsp;&nbsp;&nbsp;&nbsp;&nbsp;&nbsp;&nbsp;&nbsp;&nbsp;&nbsp;&nbsp;&nbsp;&nbsp;&nbsp;&nbsp;&nbsp;&nbsp;&nbsp;&nbsp;&nbsp;&nbsp;&nbsp;&nbsp;&nbsp;&nbsp;&nbsp;&nbsp;&nbsp;&nbsp;&nbsp;&nbsp;&nbsp;&nbsp;&nbsp;&nbsp;'”&nbsp;“&nbsp;potential',<br>&nbsp;&nbsp;&nbsp;&nbsp;&nbsp;&nbsp;&nbsp;&nbsp;&nbsp;&nbsp;&nbsp;&nbsp;&nbsp;&nbsp;&nbsp;&nbsp;&nbsp;&nbsp;&nbsp;&nbsp;&nbsp;&nbsp;&nbsp;&nbsp;&nbsp;&nbsp;&nbsp;&nbsp;&nbsp;&nbsp;&nbsp;&nbsp;&nbsp;&nbsp;&nbsp;&nbsp;&nbsp;'”&nbsp;“&nbsp;new',<br>&nbsp;&nbsp;&nbsp;&nbsp;&nbsp;&nbsp;&nbsp;&nbsp;&nbsp;&nbsp;&nbsp;&nbsp;&nbsp;&nbsp;&nbsp;&nbsp;&nbsp;&nbsp;&nbsp;&nbsp;&nbsp;&nbsp;&nbsp;&nbsp;&nbsp;&nbsp;&nbsp;&nbsp;&nbsp;&nbsp;&nbsp;&nbsp;&nbsp;&nbsp;&nbsp;&nbsp;&nbsp;'”&nbsp;“&nbsp;possible',<br>&nbsp;&nbsp;&nbsp;&nbsp;&nbsp;&nbsp;&nbsp;&nbsp;&nbsp;&nbsp;&nbsp;&nbsp;&nbsp;&nbsp;&nbsp;&nbsp;&nbsp;&nbsp;&nbsp;&nbsp;&nbsp;&nbsp;&nbsp;&nbsp;&nbsp;&nbsp;&nbsp;&nbsp;&nbsp;&nbsp;&nbsp;&nbsp;&nbsp;&nbsp;&nbsp;&nbsp;&nbsp;'january',<br>&nbsp;&nbsp;&nbsp;&nbsp;&nbsp;&nbsp;&nbsp;&nbsp;&nbsp;&nbsp;&nbsp;&nbsp;&nbsp;&nbsp;&nbsp;&nbsp;&nbsp;&nbsp;&nbsp;&nbsp;&nbsp;&nbsp;&nbsp;&nbsp;&nbsp;&nbsp;&nbsp;&nbsp;&nbsp;&nbsp;&nbsp;&nbsp;&nbsp;&nbsp;&nbsp;&nbsp;&nbsp;'“&nbsp;corporate',<br>&nbsp;&nbsp;&nbsp;&nbsp;&nbsp;&nbsp;&nbsp;&nbsp;&nbsp;&nbsp;&nbsp;&nbsp;&nbsp;&nbsp;&nbsp;&nbsp;&nbsp;&nbsp;&nbsp;&nbsp;&nbsp;&nbsp;&nbsp;&nbsp;&nbsp;&nbsp;&nbsp;&nbsp;&nbsp;&nbsp;&nbsp;&nbsp;&nbsp;&nbsp;&nbsp;&nbsp;&nbsp;'”&nbsp;“&nbsp;liaise',<br>&nbsp;&nbsp;&nbsp;&nbsp;&nbsp;&nbsp;&nbsp;&nbsp;&nbsp;&nbsp;&nbsp;&nbsp;&nbsp;&nbsp;&nbsp;&nbsp;&nbsp;&nbsp;&nbsp;&nbsp;&nbsp;&nbsp;&nbsp;&nbsp;&nbsp;&nbsp;&nbsp;&nbsp;&nbsp;&nbsp;&nbsp;&nbsp;&nbsp;&nbsp;&nbsp;&nbsp;&nbsp;'august',<br>&nbsp;&nbsp;&nbsp;&nbsp;&nbsp;&nbsp;&nbsp;&nbsp;&nbsp;&nbsp;&nbsp;&nbsp;&nbsp;&nbsp;&nbsp;&nbsp;&nbsp;&nbsp;&nbsp;&nbsp;&nbsp;&nbsp;&nbsp;&nbsp;&nbsp;&nbsp;&nbsp;&nbsp;&nbsp;&nbsp;&nbsp;&nbsp;&nbsp;&nbsp;&nbsp;&nbsp;&nbsp;'june',<br>&nbsp;&nbsp;&nbsp;&nbsp;&nbsp;&nbsp;&nbsp;&nbsp;&nbsp;&nbsp;&nbsp;&nbsp;&nbsp;&nbsp;&nbsp;&nbsp;&nbsp;&nbsp;&nbsp;&nbsp;&nbsp;&nbsp;&nbsp;&nbsp;&nbsp;&nbsp;&nbsp;&nbsp;&nbsp;&nbsp;&nbsp;&nbsp;&nbsp;&nbsp;&nbsp;&nbsp;&nbsp;'april'],<br>&nbsp;&nbsp;&nbsp;&nbsp;&nbsp;&nbsp;&nbsp;&nbsp;&nbsp;&nbsp;&nbsp;&nbsp;&nbsp;&nbsp;&nbsp;&nbsp;&nbsp;&nbsp;&nbsp;&nbsp;&nbsp;&nbsp;&nbsp;&nbsp;&nbsp;&nbsp;&nbsp;&nbsp;'targeted_countries':&nbsp;[],<br>&nbsp;&nbsp;&nbsp;&nbsp;&nbsp;&nbsp;&nbsp;&nbsp;&nbsp;&nbsp;&nbsp;&nbsp;&nbsp;&nbsp;&nbsp;&nbsp;&nbsp;&nbsp;&nbsp;&nbsp;&nbsp;&nbsp;&nbsp;&nbsp;&nbsp;&nbsp;&nbsp;&nbsp;'threat_hunter_has_agents':&nbsp;1,<br>&nbsp;&nbsp;&nbsp;&nbsp;&nbsp;&nbsp;&nbsp;&nbsp;&nbsp;&nbsp;&nbsp;&nbsp;&nbsp;&nbsp;&nbsp;&nbsp;&nbsp;&nbsp;&nbsp;&nbsp;&nbsp;&nbsp;&nbsp;&nbsp;&nbsp;&nbsp;&nbsp;&nbsp;'threat_hunter_scannable':&nbsp;True,<br>&nbsp;&nbsp;&nbsp;&nbsp;&nbsp;&nbsp;&nbsp;&nbsp;&nbsp;&nbsp;&nbsp;&nbsp;&nbsp;&nbsp;&nbsp;&nbsp;&nbsp;&nbsp;&nbsp;&nbsp;&nbsp;&nbsp;&nbsp;&nbsp;&nbsp;&nbsp;&nbsp;&nbsp;'upvotes_count':&nbsp;0,<br>&nbsp;&nbsp;&nbsp;&nbsp;&nbsp;&nbsp;&nbsp;&nbsp;&nbsp;&nbsp;&nbsp;&nbsp;&nbsp;&nbsp;&nbsp;&nbsp;&nbsp;&nbsp;&nbsp;&nbsp;&nbsp;&nbsp;&nbsp;&nbsp;&nbsp;&nbsp;&nbsp;&nbsp;'validator_count':&nbsp;0,<br>&nbsp;&nbsp;&nbsp;&nbsp;&nbsp;&nbsp;&nbsp;&nbsp;&nbsp;&nbsp;&nbsp;&nbsp;&nbsp;&nbsp;&nbsp;&nbsp;&nbsp;&nbsp;&nbsp;&nbsp;&nbsp;&nbsp;&nbsp;&nbsp;&nbsp;&nbsp;&nbsp;&nbsp;'vote':&nbsp;0,<br>&nbsp;&nbsp;&nbsp;&nbsp;&nbsp;&nbsp;&nbsp;&nbsp;&nbsp;&nbsp;&nbsp;&nbsp;&nbsp;&nbsp;&nbsp;&nbsp;&nbsp;&nbsp;&nbsp;&nbsp;&nbsp;&nbsp;&nbsp;&nbsp;&nbsp;&nbsp;&nbsp;&nbsp;'votes_count':&nbsp;0}],<br>&nbsp;&nbsp;&nbsp;&nbsp;&nbsp;&nbsp;&nbsp;&nbsp;&nbsp;&nbsp;&nbsp;&nbsp;&nbsp;&nbsp;&nbsp;&nbsp;'references':&nbsp;['https://www.agari.com/cyber-intelligence-research/whitepapers/acid-agari-cosmic-lynx.pdf']},<br>&nbsp;'sections':&nbsp;['general',<br>&nbsp;&nbsp;&nbsp;&nbsp;&nbsp;&nbsp;&nbsp;&nbsp;&nbsp;&nbsp;&nbsp;&nbsp;&nbsp;&nbsp;'geo',<br>&nbsp;&nbsp;&nbsp;&nbsp;&nbsp;&nbsp;&nbsp;&nbsp;&nbsp;&nbsp;&nbsp;&nbsp;&nbsp;&nbsp;'url_list',<br>&nbsp;&nbsp;&nbsp;&nbsp;&nbsp;&nbsp;&nbsp;&nbsp;&nbsp;&nbsp;&nbsp;&nbsp;&nbsp;&nbsp;'passive_dns',<br>&nbsp;&nbsp;&nbsp;&nbsp;&nbsp;&nbsp;&nbsp;&nbsp;&nbsp;&nbsp;&nbsp;&nbsp;&nbsp;&nbsp;'malware',<br>&nbsp;&nbsp;&nbsp;&nbsp;&nbsp;&nbsp;&nbsp;&nbsp;&nbsp;&nbsp;&nbsp;&nbsp;&nbsp;&nbsp;'whois',<br>&nbsp;&nbsp;&nbsp;&nbsp;&nbsp;&nbsp;&nbsp;&nbsp;&nbsp;&nbsp;&nbsp;&nbsp;&nbsp;&nbsp;'http_scans'],<br>&nbsp;'type':&nbsp;'domain',<br>&nbsp;'whois':&nbsp;'http://whois.domaintools.com/secure-ssl-sec.com'}</pre>\n",
       "        </details>\n",
       "        "
      ],
      "text/plain": [
       "<IPython.core.display.HTML object>"
      ]
     },
     "metadata": {},
     "output_type": "display_data"
    }
   ],
   "source": [
    "# TI Lookups\n",
    "ti_resp = ti.lookup_iocs(data=iocs, obs_col=\"Observable\")\n",
    "select_ti = browse_results(ti_resp, severities=['high','warning'], height=\"200px\")\n",
    "select_ti"
   ]
  },
  {
   "cell_type": "code",
   "execution_count": 43,
   "metadata": {},
   "outputs": [
    {
     "data": {
      "text/plain": [
       "('secure-ssl-sec.com', ['OTX'])"
      ]
     },
     "execution_count": 43,
     "metadata": {},
     "output_type": "execute_result"
    }
   ],
   "source": [
    "select_ti.value"
   ]
  },
  {
   "cell_type": "markdown",
   "metadata": {},
   "source": [
    "### Review the DNS Domain\n",
    "We have appear to have identified a malicious domain to go with the IP address identified earlier in our investigation. In order to complete our investigation we want to get some context on this domain in the same way we did with the IP address. Again MSTICpy has a number of tools to help with this, including features to [validate a domain](https://msticpy.readthedocs.io/en/latest/getting_started/PackageSummary.html?highlight=screenshot#domain-utils) and [screenshot a URL](https://msticpy.readthedocs.io/en/latest/getting_started/PackageSummary.html?highlight=screenshot#domain-utils).\n",
    "\n",
    "> Note: these tools use publicly-available services such as *abuse.ch* and *Browshot*"
   ]
  },
  {
   "cell_type": "code",
   "execution_count": 60,
   "metadata": {},
   "outputs": [
    {
     "data": {
      "text/html": [
       "<p style=''>Is secure-ssl-sec.com a valid domain? <b>True</b></p>"
      ],
      "text/plain": [
       "<IPython.core.display.HTML object>"
      ]
     },
     "metadata": {},
     "output_type": "display_data"
    },
    {
     "data": {
      "text/html": [
       "<p style=''>Is secure-ssl-sec.com resolvable? <b>True</b></p>"
      ],
      "text/plain": [
       "<IPython.core.display.HTML object>"
      ]
     },
     "metadata": {},
     "output_type": "display_data"
    },
    {
     "data": {
      "text/html": [
       "<p style=''>Is the TLS cert used by secure-ssl-sec.com in abuse.ch's abuse list? <b>False</b></p>"
      ],
      "text/plain": [
       "<IPython.core.display.HTML object>"
      ]
     },
     "metadata": {},
     "output_type": "display_data"
    }
   ],
   "source": [
    "dom_name, _ = select_ti.value\n",
    "dom_val = domain_utils.DomainValidator()\n",
    "md(f\"Is {dom_name} a valid domain? <b>{dom_val.validate_tld(dom_name)}</b>\")\n",
    "md(f\"Is {dom_name} resolvable? <b>{dom_val.is_resolvable(dom_name)}</b>\")\n",
    "md(f\"Is the TLS cert used by {dom_name} in abuse.ch's abuse list? <b>{dom_val.in_abuse_list(dom_name)[0]}</b>\")"
   ]
  },
  {
   "cell_type": "code",
   "execution_count": 47,
   "metadata": {},
   "outputs": [
    {
     "data": {
      "text/html": [
       "\n",
       "        <style>\n",
       "            div.solid {border: thin solid black; padding:10px;}\n",
       "            p.title {background-color:Tomato; padding:5px;}\n",
       "            ul.circle {list-style-type: circle;}\n",
       "        </style>\n",
       "        <div class='solid'><h3><p class='title'>MsticpyUserConfigError - Browshot configuration not found</p></h3>No configuration found for Browshot<br>Please add a section to msticpyconfig.yaml:<br>DataProviders:<br>  Browshot:<br>    Args:<br>      AuthKey: {your_auth_key}<br>Ensure that the path to your msticpyconfig.yaml is specified with the MSTICPYCONFIG environment variable.<br>Or ensure that a copy of this file is in the current directory.<br><br>For more help on fixing this error see:<br><ul class='circle'><li><a href='https://msticpy.readthedocs.io/en/latest/getting_started/msticpyconfig.html'>Configuring msticpy</a></li></ul>You can find other related help here:<br><ul class='circle'><li><a href='https://api.browshot.com/'>Get an API key for Browshot</a></li></ul></div>"
      ],
      "text/plain": [
       "msticpy.common.exceptions.MsticpyUserConfigError('No configuration found for Browshot',\n",
       "                                                 'Please add a section to msticpyconfig.yaml:',\n",
       "                                                 'DataProviders:',\n",
       "                                                 '  Browshot:',\n",
       "                                                 '    Args:',\n",
       "                                                 '      AuthKey: {your_auth_key}')"
      ]
     },
     "metadata": {},
     "output_type": "display_data"
    }
   ],
   "source": [
    "image_data = domain_utils.screenshot(dom_name)\n",
    "with open('screenshot.png', 'wb') as f:\n",
    "        f.write(image_data.content)\n",
    "\n",
    "display(Image(filename='screenshot.png'))"
   ]
  },
  {
   "cell_type": "markdown",
   "metadata": {},
   "source": [
    "<font color='blue'>[ian comment] I think it would be good to have a conclusion of some sort in the notebook, even if we don't show this in the video. Just for people who look at the notebook independently."
   ]
  },
  {
   "cell_type": "markdown",
   "metadata": {},
   "source": [
    "# Resources\n",
    "## msticpy\n",
    "- msticpy Github https://github.com/Microsoft/msticpy\n",
    "- msticpy Docs https://msticpy.readthedocs.io/en/latest/\n",
    "- msticpy Release Blog https://medium.com/@msticmed\n",
    "\n",
    "## msticpy maintainers:\n",
    "- Ian Hellen [@ianhellen](https://twitter.com/ianhellen)\n",
    "- Pete Bryan [@MSSPete](https://twitter.com/MSSPete)\n",
    "- Ashwin Patil [@ashwinpatil](https://twitter.com/ashwinpatil)\n",
    "\n",
    "## Other useful stuff\n",
    "- Azure Sentinel Github Notebooks https://github.com/Azure/Azure-Sentinel/Notebooks/tree/master\n",
    "  - (Samples with data in Sample-Notebooks folder)\n",
    "- Azure Sentinel Tech Community Blogs https://aka.ms/AzureSentinelBlog"
   ]
  }
 ],
 "metadata": {
  "kernelspec": {
   "display_name": "Python (condadev)",
   "language": "python",
   "name": "condadev"
  },
  "language_info": {
   "codemirror_mode": {
    "name": "ipython",
    "version": 3
   },
   "file_extension": ".py",
   "mimetype": "text/x-python",
   "name": "python",
   "nbconvert_exporter": "python",
   "pygments_lexer": "ipython3",
   "version": "3.6.10"
  },
  "widgets": {
   "application/vnd.jupyter.widget-state+json": {
    "state": {
     "015e777cc59448febb877dc4b4c1c8b3": {
      "model_module": "@jupyter-widgets/base",
      "model_module_version": "1.2.0",
      "model_name": "LayoutModel",
      "state": {}
     },
     "0658ed3f2ba34aab9997d4eb1ddff99f": {
      "model_module": "@jupyter-widgets/base",
      "model_module_version": "1.2.0",
      "model_name": "LayoutModel",
      "state": {}
     },
     "06c6eb2681fa421289f017f67848e2be": {
      "model_module": "@jupyter-widgets/base",
      "model_module_version": "1.2.0",
      "model_name": "LayoutModel",
      "state": {}
     },
     "0912676e02f041febada2a7625c22a3e": {
      "model_module": "@jupyter-widgets/base",
      "model_module_version": "1.2.0",
      "model_name": "LayoutModel",
      "state": {
       "width": "95%"
      }
     },
     "0ac94172fb6e4dd18e3125e3cedfeb4a": {
      "model_module": "@jupyter-widgets/base",
      "model_module_version": "1.2.0",
      "model_name": "LayoutModel",
      "state": {}
     },
     "0d225c5187a7417396cd0580bdcce518": {
      "model_module": "@jupyter-widgets/controls",
      "model_module_version": "1.5.0",
      "model_name": "SelectModel",
      "state": {
       "_options_labels": [
        "2020-07-10 18:27:28+00:00 - RDP Brute Force - (BlackHatDemoHos)  - [id:cf949989-cf21-7ae1-5c02-56122b111f43]",
        "2020-07-10 18:28:47+00:00 - Suspicious Activity Detected - (BlackHatDemoHos)  - [id:2518078950729219999_e3549ae5-3e95-4be7-8ba8-9e1b9d97e926]",
        "2020-07-10 18:28:47+00:00 - Suspicious Activity Detected - (BlackHatDemoHos)  - [id:95ba8569-5df3-351e-b082-ce9666943e0b]"
       ],
       "description": "Select alert :",
       "index": 0,
       "layout": "IPY_MODEL_57923aa1cbef486d853aa8174924e19c",
       "style": "IPY_MODEL_4f6dbd7c9733410ba63e3fcc61b31564"
      }
     },
     "0d5385b1a90b460aa62afd6897b67e48": {
      "model_module": "@jupyter-widgets/controls",
      "model_module_version": "1.5.0",
      "model_name": "IntRangeSliderModel",
      "state": {
       "_model_name": "IntRangeSliderModel",
       "_view_name": "IntRangeSliderView",
       "description": "Time Range (hour):",
       "layout": "IPY_MODEL_a3ab97a2061546c99b006916ba99cb3a",
       "max": 24,
       "min": -12,
       "style": "IPY_MODEL_5479414a57354083b6ecee47de160d2a",
       "value": [
        0,
        3
       ]
      }
     },
     "0f8a57ffb3844757b640a74bd0efc0a2": {
      "model_module": "@jupyter-widgets/controls",
      "model_module_version": "1.5.0",
      "model_name": "DescriptionStyleModel",
      "state": {
       "description_width": "initial"
      }
     },
     "10ada46b6c314a8b886c1e9074f2241b": {
      "model_module": "@jupyter-widgets/base",
      "model_module_version": "1.2.0",
      "model_name": "LayoutModel",
      "state": {}
     },
     "1151edf3e7dd44b0985ab272f0f9049d": {
      "model_module": "@jupyter-widgets/controls",
      "model_module_version": "1.5.0",
      "model_name": "TextModel",
      "state": {
       "description": "Filter:",
       "layout": "IPY_MODEL_015e777cc59448febb877dc4b4c1c8b3",
       "style": "IPY_MODEL_9994f64764ba4c9d889480b1bfe44eaa"
      }
     },
     "1257cc6792c34916bfc7fdd3874e0f94": {
      "model_module": "@jupyter-widgets/base",
      "model_module_version": "1.2.0",
      "model_name": "LayoutModel",
      "state": {}
     },
     "157ad1c9f6b0479f96ba6e4b68a8eee9": {
      "model_module": "@jupyter-widgets/controls",
      "model_module_version": "1.5.0",
      "model_name": "HBoxModel",
      "state": {
       "children": [
        "IPY_MODEL_63b68abfc41844a8813f08f477f5c446",
        "IPY_MODEL_e1d350ace6944afd91f156a726f8542c"
       ],
       "layout": "IPY_MODEL_8aee8e72f4a540b1840c1bfb67400d3e"
      }
     },
     "15d245c98a2847bd940c04a481de8887": {
      "model_module": "@jupyter-widgets/controls",
      "model_module_version": "1.5.0",
      "model_name": "SelectModel",
      "state": {
       "_options_labels": [
        "14.56.102.0                              type: ipv4        (sev: warning)  providers: ['XForce']",
        "32.220.60.108                            type: ipv4        (sev: warning)  providers: ['XForce']",
        "4.0.0.0                                  type: ipv4        (sev: warning)  providers: ['XForce']",
        "746f21f7-78e8-4e88-baa0-9e0804f1a31d.zip type: dns         (sev: warning)  providers: ['OPR']",
        "faxing-mon.best                          type: dns         (sev: high)  providers: ['OTX']",
        "faxing-mon.best                          type: dns         (sev: warning)  providers: ['OPR']",
        "microsoft.com                            type: dns         (sev: high)  providers: ['OTX']",
        "microsoft.windows.photos                 type: dns         (sev: warning)  providers: ['OPR']",
        "secure-ssl-sec.com                       type: dns         (sev: high)  providers: ['OTX']",
        "secure-ssl-sec.com                       type: dns         (sev: warning)  providers: ['OPR']",
        "system.management                        type: dns         (sev: warning)  providers: ['OPR']"
       ],
       "description": "Select an item",
       "index": 8,
       "layout": "IPY_MODEL_e700e6fef99a435893393bd541e9c0b8",
       "style": "IPY_MODEL_7db1f237b4f34d14943e0cc665634319"
      }
     },
     "168fce1e9dc04ada8bed272ed8ffd3f0": {
      "model_module": "@jupyter-widgets/controls",
      "model_module_version": "1.5.0",
      "model_name": "TextModel",
      "state": {
       "description": "Filter:",
       "layout": "IPY_MODEL_06c6eb2681fa421289f017f67848e2be",
       "style": "IPY_MODEL_88e3b8b98dee460282cfa015d137497f"
      }
     },
     "1c3b9419ddc04a53a7d7943cc6a6c4e3": {
      "model_module": "@jupyter-widgets/base",
      "model_module_version": "1.2.0",
      "model_name": "LayoutModel",
      "state": {}
     },
     "2e7878f8589a4568896e6e3fb843377c": {
      "model_module": "@jupyter-widgets/base",
      "model_module_version": "1.2.0",
      "model_name": "LayoutModel",
      "state": {}
     },
     "322b5fb51fbf425380696c53f775c1b5": {
      "model_module": "@jupyter-widgets/base",
      "model_module_version": "1.2.0",
      "model_name": "LayoutModel",
      "state": {
       "width": "50%"
      }
     },
     "390a60b94e7e49e899dded1f561049b1": {
      "model_module": "@jupyter-widgets/controls",
      "model_module_version": "1.5.0",
      "model_name": "DescriptionStyleModel",
      "state": {
       "description_width": "initial"
      }
     },
     "40a3b7ea7e9e42ea89c49110dbff6757": {
      "model_module": "@jupyter-widgets/base",
      "model_module_version": "1.2.0",
      "model_name": "LayoutModel",
      "state": {}
     },
     "42eb23f40a06416b9cd96a2eb3989041": {
      "model_module": "@jupyter-widgets/controls",
      "model_module_version": "1.5.0",
      "model_name": "SelectModel",
      "state": {
       "_options_labels": [
        "SYSTEM:    (logontype 0)   timerange: 2020-07-10 18:22:08.790000+00:00 - 2020-07-10 18:27:49.103000+00:00    count: 1",
        "UMFD-0:    (logontype 2)   timerange: 2020-07-10 18:22:08.790000+00:00 - 2020-07-10 18:27:49.103000+00:00    count: 1",
        "UMFD-1:    (logontype 2)   timerange: 2020-07-10 18:22:08.790000+00:00 - 2020-07-10 18:27:49.103000+00:00    count: 1",
        "NETWORK SERVICE:    (logontype 5)   timerange: 2020-07-10 18:22:08.790000+00:00 - 2020-07-10 18:27:49.103000+00:00    count: 1",
        "LOCAL SERVICE:    (logontype 5)   timerange: 2020-07-10 18:22:08.790000+00:00 - 2020-07-10 18:27:49.103000+00:00    count: 1",
        "UMFD-2:    (logontype 2)   timerange: 2020-07-10 18:22:08.790000+00:00 - 2020-07-10 18:27:49.103000+00:00    count: 1",
        "SYSTEM:    (logontype 5)   timerange: 2020-07-10 18:22:09.217000+00:00 - 2020-07-10 21:01:48.060000+00:00    count: 85",
        "DWM-1:    (logontype 2)   timerange: 2020-07-10 18:22:09.683000+00:00 - 2020-07-10 18:22:09.683000+00:00    count: 2",
        "timvic:    (logontype 3)   timerange: 2020-07-10 18:27:46.397000+00:00 - 2020-07-10 18:27:46.967000+00:00    count: 2",
        "DWM-2:    (logontype 2)   timerange: 2020-07-10 18:27:49.147000+00:00 - 2020-07-10 18:27:49.147000+00:00    count: 2",
        "timvic:    (logontype 10)   timerange: 2020-07-10 18:27:49.790000+00:00 - 2020-07-10 18:27:49.790000+00:00    count: 2"
       ],
       "description": "Select logon cluster to examine",
       "index": 0,
       "layout": "IPY_MODEL_8a9ea0fd57e94c29919ee6ead788e9eb",
       "style": "IPY_MODEL_90772ccb882e487baf33404e78762bd0"
      }
     },
     "48715cedcaea4b12a11be362dca7f77c": {
      "model_module": "@jupyter-widgets/base",
      "model_module_version": "1.2.0",
      "model_name": "LayoutModel",
      "state": {
       "height": "300px",
       "width": "95%"
      }
     },
     "4c84214310f04e7d8155104f5f10eb7e": {
      "model_module": "@jupyter-widgets/controls",
      "model_module_version": "1.5.0",
      "model_name": "DescriptionStyleModel",
      "state": {
       "description_width": ""
      }
     },
     "4e71c0882ddd4e27a198f444f3d7fc0e": {
      "model_module": "@jupyter-widgets/controls",
      "model_module_version": "1.5.0",
      "model_name": "SelectModel",
      "state": {
       "_options_labels": [
        "SYSTEM:    (logontype 0)   timerange: 2020-07-10 18:22:08.790000+00:00 - 2020-07-10 18:27:49.103000+00:00    count: 1",
        "UMFD-0:    (logontype 2)   timerange: 2020-07-10 18:22:08.790000+00:00 - 2020-07-10 18:27:49.103000+00:00    count: 1",
        "UMFD-1:    (logontype 2)   timerange: 2020-07-10 18:22:08.790000+00:00 - 2020-07-10 18:27:49.103000+00:00    count: 1",
        "NETWORK SERVICE:    (logontype 5)   timerange: 2020-07-10 18:22:08.790000+00:00 - 2020-07-10 18:27:49.103000+00:00    count: 1",
        "LOCAL SERVICE:    (logontype 5)   timerange: 2020-07-10 18:22:08.790000+00:00 - 2020-07-10 18:27:49.103000+00:00    count: 1",
        "UMFD-2:    (logontype 2)   timerange: 2020-07-10 18:22:08.790000+00:00 - 2020-07-10 18:27:49.103000+00:00    count: 1",
        "SYSTEM:    (logontype 5)   timerange: 2020-07-10 18:22:09.217000+00:00 - 2020-07-10 21:01:48.060000+00:00    count: 85",
        "DWM-1:    (logontype 2)   timerange: 2020-07-10 18:22:09.683000+00:00 - 2020-07-10 18:22:09.683000+00:00    count: 2",
        "timvic:    (logontype 3)   timerange: 2020-07-10 18:27:46.397000+00:00 - 2020-07-10 18:27:46.967000+00:00    count: 2",
        "DWM-2:    (logontype 2)   timerange: 2020-07-10 18:27:49.147000+00:00 - 2020-07-10 18:27:49.147000+00:00    count: 2",
        "timvic:    (logontype 10)   timerange: 2020-07-10 18:27:49.790000+00:00 - 2020-07-10 18:27:49.790000+00:00    count: 2"
       ],
       "description": "Select logon cluster to examine",
       "index": 10,
       "layout": "IPY_MODEL_56963160e0a54998a814f769ecc65839",
       "style": "IPY_MODEL_defdec5417c041018d2ff1dd8de24ed4"
      }
     },
     "4f6dbd7c9733410ba63e3fcc61b31564": {
      "model_module": "@jupyter-widgets/controls",
      "model_module_version": "1.5.0",
      "model_name": "DescriptionStyleModel",
      "state": {
       "description_width": "initial"
      }
     },
     "524ff231e5a34724a58a21b72f6fb4d3": {
      "model_module": "@jupyter-widgets/base",
      "model_module_version": "1.2.0",
      "model_name": "LayoutModel",
      "state": {}
     },
     "526cb894167b40c38c0ad726c099725c": {
      "model_module": "@jupyter-widgets/base",
      "model_module_version": "1.2.0",
      "model_name": "LayoutModel",
      "state": {}
     },
     "540a15c45f11497e878720c49ef622eb": {
      "model_module": "@jupyter-widgets/base",
      "model_module_version": "1.2.0",
      "model_name": "LayoutModel",
      "state": {
       "width": "95%"
      }
     },
     "5479414a57354083b6ecee47de160d2a": {
      "model_module": "@jupyter-widgets/controls",
      "model_module_version": "1.5.0",
      "model_name": "SliderStyleModel",
      "state": {
       "description_width": "initial"
      }
     },
     "55a48d843dd5479eb7dcae66082a99a8": {
      "model_module": "@jupyter-widgets/controls",
      "model_module_version": "1.5.0",
      "model_name": "SelectModel",
      "state": {
       "_options_labels": [
        "C:\\Windows\\System32\\services.exe",
        "C:\\Windows\\System32\\SearchIndexer.exe",
        "C:\\Windows\\System32\\svchost.exe",
        "C:\\Windows\\System32\\svchost.exe",
        "C:\\Windows\\System32\\svchost.exe",
        "C:\\Windows\\System32\\svchost.exe",
        "C:\\Windows\\System32\\winlogon.exe",
        "C:\\Windows\\System32\\svchost.exe",
        "C:\\Program Files\\Microsoft Monitoring Agent\\Agent\\MonitoringHost.exe",
        "C:\\Windows\\System32\\svchost.exe",
        "C:\\Windows\\System32\\svchost.exe",
        "C:\\ProgramData\\Microsoft\\Windows Defender\\Platform\\4.18.2006.10-0\\MsMpEng.exe",
        "C:\\Windows\\System32\\taskhostw.exe",
        "C:\\WindowsAzure\\GuestAgent_2.7.41491.982_2020-07-07_204559\\WaAppAgent.exe"
       ],
       "description": "Select root process to investigate process tree",
       "index": 6,
       "layout": "IPY_MODEL_c8d19728a8db4529b69370285a72dba9",
       "style": "IPY_MODEL_7b611051936e44e8881aeb6cb42ec6e2"
      }
     },
     "56963160e0a54998a814f769ecc65839": {
      "model_module": "@jupyter-widgets/base",
      "model_module_version": "1.2.0",
      "model_name": "LayoutModel",
      "state": {
       "height": "200px",
       "width": "100%"
      }
     },
     "57923aa1cbef486d853aa8174924e19c": {
      "model_module": "@jupyter-widgets/base",
      "model_module_version": "1.2.0",
      "model_name": "LayoutModel",
      "state": {
       "height": "300px",
       "width": "95%"
      }
     },
     "5893865876294785863379ddc70f150f": {
      "model_module": "@jupyter-widgets/controls",
      "model_module_version": "1.5.0",
      "model_name": "DescriptionStyleModel",
      "state": {
       "description_width": "initial"
      }
     },
     "592df63322b44d0e9b5e9aebf17f5658": {
      "model_module": "@jupyter-widgets/controls",
      "model_module_version": "1.5.0",
      "model_name": "DescriptionStyleModel",
      "state": {
       "description_width": ""
      }
     },
     "5a98b313f3f5405c97861bafe73b5496": {
      "model_module": "@jupyter-widgets/controls",
      "model_module_version": "1.5.0",
      "model_name": "TextModel",
      "state": {
       "description": "Filter:",
       "layout": "IPY_MODEL_0ac94172fb6e4dd18e3125e3cedfeb4a",
       "style": "IPY_MODEL_e3cc8daded9442e880127d9d755054a9"
      }
     },
     "5c4903a28be14413aa1d2a24aaec54cb": {
      "model_module": "@jupyter-widgets/base",
      "model_module_version": "1.2.0",
      "model_name": "LayoutModel",
      "state": {}
     },
     "63b68abfc41844a8813f08f477f5c446": {
      "model_module": "@jupyter-widgets/controls",
      "model_module_version": "1.5.0",
      "model_name": "IntProgressModel",
      "state": {
       "bar_style": "info",
       "description": "Progress:",
       "layout": "IPY_MODEL_7100f29cfa6b4708b81c8cfe31018e31",
       "style": "IPY_MODEL_b62f199171d54cc6acdf314aeb8714c0",
       "value": 100
      }
     },
     "6508bc10841f411c88f1a771c20e254e": {
      "model_module": "@jupyter-widgets/controls",
      "model_module_version": "1.5.0",
      "model_name": "VBoxModel",
      "state": {
       "children": [
        "IPY_MODEL_66189d8bc3124f50bdddc08a3f49b738",
        "IPY_MODEL_bc24703ce022497fa3c24a7dfe91e73a"
       ],
       "layout": "IPY_MODEL_40a3b7ea7e9e42ea89c49110dbff6757"
      }
     },
     "66189d8bc3124f50bdddc08a3f49b738": {
      "model_module": "@jupyter-widgets/controls",
      "model_module_version": "1.5.0",
      "model_name": "TextModel",
      "state": {
       "description": "Filter alerts by title:",
       "layout": "IPY_MODEL_f95e75920f4c4fd68707bde9bd3313e1",
       "style": "IPY_MODEL_905ae9940c58473fb9d1e1937567f912"
      }
     },
     "6648b8654bf540188e756b755e861306": {
      "model_module": "@jupyter-widgets/base",
      "model_module_version": "1.2.0",
      "model_name": "LayoutModel",
      "state": {}
     },
     "6b8e4751e24640d19fe3275fcd0411c1": {
      "model_module": "@jupyter-widgets/controls",
      "model_module_version": "1.5.0",
      "model_name": "DescriptionStyleModel",
      "state": {
       "description_width": "initial"
      }
     },
     "6c1147b2cafa49a4a5ecc05a27465378": {
      "model_module": "@jupyter-widgets/controls",
      "model_module_version": "1.5.0",
      "model_name": "SelectModel",
      "state": {
       "_options_labels": [
        "14.56.102.0                              type: ipv4        (sev: warning)  providers: ['XForce']",
        "32.220.60.108                            type: ipv4        (sev: warning)  providers: ['XForce']",
        "4.0.0.0                                  type: ipv4        (sev: warning)  providers: ['XForce']",
        "746f21f7-78e8-4e88-baa0-9e0804f1a31d.zip type: dns         (sev: warning)  providers: ['OPR']",
        "faxing-mon.best                          type: dns         (sev: high)  providers: ['OTX']",
        "faxing-mon.best                          type: dns         (sev: warning)  providers: ['OPR']",
        "microsoft.com                            type: dns         (sev: high)  providers: ['OTX']",
        "microsoft.windows.photos                 type: dns         (sev: warning)  providers: ['OPR']",
        "secure-ssl-sec.com                       type: dns         (sev: high)  providers: ['OTX']",
        "secure-ssl-sec.com                       type: dns         (sev: warning)  providers: ['OPR']",
        "system.management                        type: dns         (sev: warning)  providers: ['OPR']"
       ],
       "description": "Select an item",
       "index": 8,
       "layout": "IPY_MODEL_cc5d23eddf8340519859046e3a4f2ecf",
       "style": "IPY_MODEL_c524fd113d244dbda59ef0a94bf8ea74"
      }
     },
     "7100f29cfa6b4708b81c8cfe31018e31": {
      "model_module": "@jupyter-widgets/base",
      "model_module_version": "1.2.0",
      "model_name": "LayoutModel",
      "state": {}
     },
     "74589cac60574c1f994f62414c3a6de8": {
      "model_module": "@jupyter-widgets/controls",
      "model_module_version": "1.5.0",
      "model_name": "VBoxModel",
      "state": {
       "children": [
        "IPY_MODEL_1151edf3e7dd44b0985ab272f0f9049d",
        "IPY_MODEL_55a48d843dd5479eb7dcae66082a99a8"
       ],
       "layout": "IPY_MODEL_10ada46b6c314a8b886c1e9074f2241b"
      }
     },
     "762cfe839f3d4945bcfdb0cc60c00af9": {
      "model_module": "@jupyter-widgets/base",
      "model_module_version": "1.2.0",
      "model_name": "LayoutModel",
      "state": {}
     },
     "76426ef11e0d44309fb30894fa49b84c": {
      "model_module": "@jupyter-widgets/base",
      "model_module_version": "1.2.0",
      "model_name": "LayoutModel",
      "state": {}
     },
     "783bfc0dc4c4435297bbfa7b4b8398ce": {
      "model_module": "@jupyter-widgets/controls",
      "model_module_version": "1.5.0",
      "model_name": "VBoxModel",
      "state": {
       "children": [
        "IPY_MODEL_5a98b313f3f5405c97861bafe73b5496",
        "IPY_MODEL_6c1147b2cafa49a4a5ecc05a27465378"
       ],
       "layout": "IPY_MODEL_5c4903a28be14413aa1d2a24aaec54cb"
      }
     },
     "79e03b9e2d41459d96874efa7405cdcc": {
      "model_module": "@jupyter-widgets/controls",
      "model_module_version": "1.5.0",
      "model_name": "PasswordModel",
      "state": {
       "description": "Splunk Password:",
       "layout": "IPY_MODEL_540a15c45f11497e878720c49ef622eb",
       "style": "IPY_MODEL_91e3d338d1364cdbbe85cec5a096fad4"
      }
     },
     "7aa8b01bd6654720b43f6c1105418d2f": {
      "model_module": "@jupyter-widgets/controls",
      "model_module_version": "1.5.0",
      "model_name": "TextModel",
      "state": {
       "description": "Filter:",
       "layout": "IPY_MODEL_1257cc6792c34916bfc7fdd3874e0f94",
       "style": "IPY_MODEL_9b7094ecc7474c19b7047da66d605a24"
      }
     },
     "7b611051936e44e8881aeb6cb42ec6e2": {
      "model_module": "@jupyter-widgets/controls",
      "model_module_version": "1.5.0",
      "model_name": "DescriptionStyleModel",
      "state": {
       "description_width": "initial"
      }
     },
     "7db1f237b4f34d14943e0cc665634319": {
      "model_module": "@jupyter-widgets/controls",
      "model_module_version": "1.5.0",
      "model_name": "DescriptionStyleModel",
      "state": {
       "description_width": "initial"
      }
     },
     "86074486769b4ffaa569ef69d1443a9f": {
      "model_module": "@jupyter-widgets/base",
      "model_module_version": "1.2.0",
      "model_name": "LayoutModel",
      "state": {}
     },
     "861810230542436298b62f024a2702dd": {
      "model_module": "@jupyter-widgets/controls",
      "model_module_version": "1.5.0",
      "model_name": "PasswordModel",
      "state": {
       "description": "Splunk Pwd:",
       "layout": "IPY_MODEL_8f9f9a3c017c4002b389d43312a4416d",
       "style": "IPY_MODEL_cbd19f1cb3d14a84ad26d0043bc48412"
      }
     },
     "87dae6a7c1b34edf9e3ae9285b8c0297": {
      "model_module": "@jupyter-widgets/base",
      "model_module_version": "1.2.0",
      "model_name": "LayoutModel",
      "state": {}
     },
     "8826ba0f08014a1ab58f5ed34febfdf2": {
      "model_module": "@jupyter-widgets/controls",
      "model_module_version": "1.5.0",
      "model_name": "TextModel",
      "state": {
       "description": "Filter:",
       "layout": "IPY_MODEL_87dae6a7c1b34edf9e3ae9285b8c0297",
       "style": "IPY_MODEL_0f8a57ffb3844757b640a74bd0efc0a2"
      }
     },
     "88e3b8b98dee460282cfa015d137497f": {
      "model_module": "@jupyter-widgets/controls",
      "model_module_version": "1.5.0",
      "model_name": "DescriptionStyleModel",
      "state": {
       "description_width": "initial"
      }
     },
     "8a9ea0fd57e94c29919ee6ead788e9eb": {
      "model_module": "@jupyter-widgets/base",
      "model_module_version": "1.2.0",
      "model_name": "LayoutModel",
      "state": {
       "height": "200px",
       "width": "100%"
      }
     },
     "8aee8e72f4a540b1840c1bfb67400d3e": {
      "model_module": "@jupyter-widgets/base",
      "model_module_version": "1.2.0",
      "model_name": "LayoutModel",
      "state": {}
     },
     "8c3b5622739245c2a1475cf2995f8fe3": {
      "model_module": "@jupyter-widgets/base",
      "model_module_version": "1.2.0",
      "model_name": "LayoutModel",
      "state": {
       "height": "100px",
       "width": "50%"
      }
     },
     "8c892f6ebf1e46d48e562b48930e91f7": {
      "model_module": "@jupyter-widgets/base",
      "model_module_version": "1.2.0",
      "model_name": "LayoutModel",
      "state": {}
     },
     "8ddfb817c7e848c394a34bb3c0d77e0c": {
      "model_module": "@jupyter-widgets/controls",
      "model_module_version": "1.5.0",
      "model_name": "HBoxModel",
      "state": {
       "children": [
        "IPY_MODEL_cbbd84027c2243d48db0fa9fd422bc07",
        "IPY_MODEL_ed5dd50fa304475ea1c910dc2fe24f8b"
       ],
       "layout": "IPY_MODEL_76426ef11e0d44309fb30894fa49b84c"
      }
     },
     "8f3d45f1417c4e10a86918a2ebdf06a1": {
      "model_module": "@jupyter-widgets/controls",
      "model_module_version": "1.5.0",
      "model_name": "DescriptionStyleModel",
      "state": {
       "description_width": "initial"
      }
     },
     "8f9f9a3c017c4002b389d43312a4416d": {
      "model_module": "@jupyter-widgets/base",
      "model_module_version": "1.2.0",
      "model_name": "LayoutModel",
      "state": {}
     },
     "8ff66ec3b70f4a6a908d9700a158a515": {
      "model_module": "@jupyter-widgets/controls",
      "model_module_version": "1.5.0",
      "model_name": "TextModel",
      "state": {
       "description": "Query end time (UTC) :  ",
       "layout": "IPY_MODEL_322b5fb51fbf425380696c53f775c1b5",
       "style": "IPY_MODEL_5893865876294785863379ddc70f150f",
       "value": "2020-07-10 21:27:49.790000+00:00"
      }
     },
     "905ae9940c58473fb9d1e1937567f912": {
      "model_module": "@jupyter-widgets/controls",
      "model_module_version": "1.5.0",
      "model_name": "DescriptionStyleModel",
      "state": {
       "description_width": "initial"
      }
     },
     "90772ccb882e487baf33404e78762bd0": {
      "model_module": "@jupyter-widgets/controls",
      "model_module_version": "1.5.0",
      "model_name": "DescriptionStyleModel",
      "state": {
       "description_width": "initial"
      }
     },
     "91e3d338d1364cdbbe85cec5a096fad4": {
      "model_module": "@jupyter-widgets/controls",
      "model_module_version": "1.5.0",
      "model_name": "DescriptionStyleModel",
      "state": {
       "description_width": "initial"
      }
     },
     "95172bb9ae0e4a92a0dac9169b259079": {
      "model_module": "@jupyter-widgets/controls",
      "model_module_version": "1.5.0",
      "model_name": "VBoxModel",
      "state": {
       "children": [
        "IPY_MODEL_168fce1e9dc04ada8bed272ed8ffd3f0",
        "IPY_MODEL_d80a00dbb3634d688bb62417f65e0667"
       ],
       "layout": "IPY_MODEL_2e7878f8589a4568896e6e3fb843377c"
      }
     },
     "955e1bd81ae7438bb5c161599af59f01": {
      "model_module": "@jupyter-widgets/controls",
      "model_module_version": "1.5.0",
      "model_name": "HTMLModel",
      "state": {
       "layout": "IPY_MODEL_86074486769b4ffaa569ef69d1443a9f",
       "style": "IPY_MODEL_b81c44e8c9884a369ca6224fd6da5d8e",
       "value": "<h4>Set query time boundaries</h4>"
      }
     },
     "9644af9c5bc54a2290b973a485a3c251": {
      "model_module": "@jupyter-widgets/base",
      "model_module_version": "1.2.0",
      "model_name": "LayoutModel",
      "state": {}
     },
     "9994f64764ba4c9d889480b1bfe44eaa": {
      "model_module": "@jupyter-widgets/controls",
      "model_module_version": "1.5.0",
      "model_name": "DescriptionStyleModel",
      "state": {
       "description_width": "initial"
      }
     },
     "9b7094ecc7474c19b7047da66d605a24": {
      "model_module": "@jupyter-widgets/controls",
      "model_module_version": "1.5.0",
      "model_name": "DescriptionStyleModel",
      "state": {
       "description_width": "initial"
      }
     },
     "9e329359ca8b43b691c2f745722665ed": {
      "model_module": "@jupyter-widgets/controls",
      "model_module_version": "1.5.0",
      "model_name": "DescriptionStyleModel",
      "state": {
       "description_width": "initial"
      }
     },
     "a3ab97a2061546c99b006916ba99cb3a": {
      "model_module": "@jupyter-widgets/base",
      "model_module_version": "1.2.0",
      "model_name": "LayoutModel",
      "state": {
       "width": "80%"
      }
     },
     "a718de16d90c4525aa62ff4926ae7b97": {
      "model_module": "@jupyter-widgets/controls",
      "model_module_version": "1.5.0",
      "model_name": "TextModel",
      "state": {
       "description": "Filter alerts by title:",
       "layout": "IPY_MODEL_8c892f6ebf1e46d48e562b48930e91f7",
       "style": "IPY_MODEL_8f3d45f1417c4e10a86918a2ebdf06a1"
      }
     },
     "b0380d9ccbb74dcc9f37542b6dfaa310": {
      "model_module": "@jupyter-widgets/base",
      "model_module_version": "1.2.0",
      "model_name": "LayoutModel",
      "state": {}
     },
     "b3fb27ed44d548358e438726fd5df7f9": {
      "model_module": "@jupyter-widgets/base",
      "model_module_version": "1.2.0",
      "model_name": "LayoutModel",
      "state": {
       "width": "95%"
      }
     },
     "b62f199171d54cc6acdf314aeb8714c0": {
      "model_module": "@jupyter-widgets/controls",
      "model_module_version": "1.5.0",
      "model_name": "ProgressStyleModel",
      "state": {
       "description_width": ""
      }
     },
     "b76a663bd4b0438d9baf36ae434ecd9f": {
      "model_module": "@jupyter-widgets/base",
      "model_module_version": "1.2.0",
      "model_name": "LayoutModel",
      "state": {}
     },
     "b81c44e8c9884a369ca6224fd6da5d8e": {
      "model_module": "@jupyter-widgets/controls",
      "model_module_version": "1.5.0",
      "model_name": "DescriptionStyleModel",
      "state": {
       "description_width": ""
      }
     },
     "ba9beaa81dd44b549a7633bc73f4b300": {
      "model_module": "@jupyter-widgets/controls",
      "model_module_version": "1.5.0",
      "model_name": "DescriptionStyleModel",
      "state": {
       "description_width": ""
      }
     },
     "bc0cff6af0a04797b8de7c5f7d8c631e": {
      "model_module": "@jupyter-widgets/controls",
      "model_module_version": "1.5.0",
      "model_name": "PasswordModel",
      "state": {
       "description": "Splunk Password:",
       "layout": "IPY_MODEL_526cb894167b40c38c0ad726c099725c",
       "style": "IPY_MODEL_592df63322b44d0e9b5e9aebf17f5658"
      }
     },
     "bc24703ce022497fa3c24a7dfe91e73a": {
      "model_module": "@jupyter-widgets/controls",
      "model_module_version": "1.5.0",
      "model_name": "SelectModel",
      "state": {
       "_options_labels": [
        "2020-07-10 18:27:28+00:00 - RDP Brute Force - (BlackHatDemoHos)  - [id:cf949989-cf21-7ae1-5c02-56122b111f43]",
        "2020-07-10 18:28:47+00:00 - Suspicious Activity Detected - (BlackHatDemoHos)  - [id:2518078950729219999_e3549ae5-3e95-4be7-8ba8-9e1b9d97e926]",
        "2020-07-10 18:28:47+00:00 - Suspicious Activity Detected - (BlackHatDemoHos)  - [id:95ba8569-5df3-351e-b082-ce9666943e0b]"
       ],
       "description": "Select alert :",
       "index": 0,
       "layout": "IPY_MODEL_48715cedcaea4b12a11be362dca7f77c",
       "style": "IPY_MODEL_f2a029ffb4ed42708d0531176c80925c"
      }
     },
     "bd84c5a0823a403dbbd3cb20ab77d44d": {
      "model_module": "@jupyter-widgets/base",
      "model_module_version": "1.2.0",
      "model_name": "LayoutModel",
      "state": {}
     },
     "bea65339d85a4f4592c596a9f92209f0": {
      "model_module": "@jupyter-widgets/controls",
      "model_module_version": "1.5.0",
      "model_name": "DescriptionStyleModel",
      "state": {
       "description_width": ""
      }
     },
     "c524fd113d244dbda59ef0a94bf8ea74": {
      "model_module": "@jupyter-widgets/controls",
      "model_module_version": "1.5.0",
      "model_name": "DescriptionStyleModel",
      "state": {
       "description_width": "initial"
      }
     },
     "c8d19728a8db4529b69370285a72dba9": {
      "model_module": "@jupyter-widgets/base",
      "model_module_version": "1.2.0",
      "model_name": "LayoutModel",
      "state": {
       "height": "200px",
       "width": "100%"
      }
     },
     "cae49d46efeb41d8982b55bbba295ef2": {
      "model_module": "@jupyter-widgets/controls",
      "model_module_version": "1.5.0",
      "model_name": "TextModel",
      "state": {
       "description": "Query start time (UTC):",
       "layout": "IPY_MODEL_ee02c81628974e438f1f27144a39e532",
       "style": "IPY_MODEL_390a60b94e7e49e899dded1f561049b1",
       "value": "2020-07-10 18:27:49.790000+00:00"
      }
     },
     "cbbd84027c2243d48db0fa9fd422bc07": {
      "model_module": "@jupyter-widgets/controls",
      "model_module_version": "1.5.0",
      "model_name": "DatePickerModel",
      "state": {
       "description": "Origin Date",
       "disabled": false,
       "layout": "IPY_MODEL_6648b8654bf540188e756b755e861306",
       "style": "IPY_MODEL_ba9beaa81dd44b549a7633bc73f4b300",
       "value": {
        "date": 10,
        "month": 6,
        "year": 2020
       }
      }
     },
     "cbd19f1cb3d14a84ad26d0043bc48412": {
      "model_module": "@jupyter-widgets/controls",
      "model_module_version": "1.5.0",
      "model_name": "DescriptionStyleModel",
      "state": {
       "description_width": ""
      }
     },
     "cc5d23eddf8340519859046e3a4f2ecf": {
      "model_module": "@jupyter-widgets/base",
      "model_module_version": "1.2.0",
      "model_name": "LayoutModel",
      "state": {
       "height": "200px",
       "width": "50%"
      }
     },
     "d80a00dbb3634d688bb62417f65e0667": {
      "model_module": "@jupyter-widgets/controls",
      "model_module_version": "1.5.0",
      "model_name": "SelectModel",
      "state": {
       "_options_labels": [
        "14.56.102.0                              type: ipv4        (sev: warning)  providers: ['XForce']",
        "32.220.60.108                            type: ipv4        (sev: warning)  providers: ['XForce']",
        "4.0.0.0                                  type: ipv4        (sev: warning)  providers: ['XForce']",
        "746f21f7-78e8-4e88-baa0-9e0804f1a31d.zip type: dns         (sev: warning)  providers: ['OPR']",
        "faxing-mon.best                          type: dns         (sev: high)  providers: ['OTX']",
        "faxing-mon.best                          type: dns         (sev: warning)  providers: ['OPR']",
        "microsoft.com                            type: dns         (sev: high)  providers: ['OTX']",
        "microsoft.windows.photos                 type: dns         (sev: warning)  providers: ['OPR']",
        "secure-ssl-sec.com                       type: dns         (sev: high)  providers: ['OTX']",
        "secure-ssl-sec.com                       type: dns         (sev: warning)  providers: ['OPR']",
        "system.management                        type: dns         (sev: warning)  providers: ['OPR']"
       ],
       "description": "Select an item",
       "index": 4,
       "layout": "IPY_MODEL_8c3b5622739245c2a1475cf2995f8fe3",
       "style": "IPY_MODEL_6b8e4751e24640d19fe3275fcd0411c1"
      }
     },
     "d8be1b02d7a84a09b10150ecfc9b6be1": {
      "model_module": "@jupyter-widgets/controls",
      "model_module_version": "1.5.0",
      "model_name": "VBoxModel",
      "state": {
       "children": [
        "IPY_MODEL_a718de16d90c4525aa62ff4926ae7b97",
        "IPY_MODEL_0d225c5187a7417396cd0580bdcce518"
       ],
       "layout": "IPY_MODEL_b0380d9ccbb74dcc9f37542b6dfaa310"
      }
     },
     "dc5175285fb5441bbc2c692528ff0d72": {
      "model_module": "@jupyter-widgets/controls",
      "model_module_version": "1.5.0",
      "model_name": "VBoxModel",
      "state": {
       "children": [
        "IPY_MODEL_dd0fd909c8284db596cea5fffa6fa1c0",
        "IPY_MODEL_15d245c98a2847bd940c04a481de8887"
       ],
       "layout": "IPY_MODEL_1c3b9419ddc04a53a7d7943cc6a6c4e3"
      }
     },
     "dd0fd909c8284db596cea5fffa6fa1c0": {
      "model_module": "@jupyter-widgets/controls",
      "model_module_version": "1.5.0",
      "model_name": "TextModel",
      "state": {
       "description": "Filter:",
       "layout": "IPY_MODEL_0658ed3f2ba34aab9997d4eb1ddff99f",
       "style": "IPY_MODEL_9e329359ca8b43b691c2f745722665ed"
      }
     },
     "defdec5417c041018d2ff1dd8de24ed4": {
      "model_module": "@jupyter-widgets/controls",
      "model_module_version": "1.5.0",
      "model_name": "DescriptionStyleModel",
      "state": {
       "description_width": "initial"
      }
     },
     "e1d350ace6944afd91f156a726f8542c": {
      "model_module": "@jupyter-widgets/controls",
      "model_module_version": "1.5.0",
      "model_name": "LabelModel",
      "state": {
       "layout": "IPY_MODEL_b76a663bd4b0438d9baf36ae434ecd9f",
       "style": "IPY_MODEL_f824d9060bdc4857bca1ef103a6812fe",
       "value": "100%"
      }
     },
     "e3cc8daded9442e880127d9d755054a9": {
      "model_module": "@jupyter-widgets/controls",
      "model_module_version": "1.5.0",
      "model_name": "DescriptionStyleModel",
      "state": {
       "description_width": "initial"
      }
     },
     "e4357d9e39c146abac91699083839688": {
      "model_module": "@jupyter-widgets/base",
      "model_module_version": "1.2.0",
      "model_name": "LayoutModel",
      "state": {}
     },
     "e700e6fef99a435893393bd541e9c0b8": {
      "model_module": "@jupyter-widgets/base",
      "model_module_version": "1.2.0",
      "model_name": "LayoutModel",
      "state": {
       "height": "200px",
       "width": "50%"
      }
     },
     "e84c4a08283b4278add4787d8e7611f5": {
      "model_module": "@jupyter-widgets/base",
      "model_module_version": "1.2.0",
      "model_name": "LayoutModel",
      "state": {
       "width": "95%"
      }
     },
     "eb0d55a622bc4379b30519c502b6f0bd": {
      "model_module": "@jupyter-widgets/controls",
      "model_module_version": "1.5.0",
      "model_name": "VBoxModel",
      "state": {
       "children": [
        "IPY_MODEL_7aa8b01bd6654720b43f6c1105418d2f",
        "IPY_MODEL_42eb23f40a06416b9cd96a2eb3989041"
       ],
       "layout": "IPY_MODEL_524ff231e5a34724a58a21b72f6fb4d3"
      }
     },
     "ed5dd50fa304475ea1c910dc2fe24f8b": {
      "model_module": "@jupyter-widgets/controls",
      "model_module_version": "1.5.0",
      "model_name": "TextModel",
      "state": {
       "description": "Time (24hr)",
       "layout": "IPY_MODEL_e4357d9e39c146abac91699083839688",
       "style": "IPY_MODEL_bea65339d85a4f4592c596a9f92209f0",
       "value": "18:27:49.790000"
      }
     },
     "ee02c81628974e438f1f27144a39e532": {
      "model_module": "@jupyter-widgets/base",
      "model_module_version": "1.2.0",
      "model_name": "LayoutModel",
      "state": {
       "width": "50%"
      }
     },
     "f040c96f0ee5468db51eb660eb161c59": {
      "model_module": "@jupyter-widgets/controls",
      "model_module_version": "1.5.0",
      "model_name": "VBoxModel",
      "state": {
       "children": [
        "IPY_MODEL_8826ba0f08014a1ab58f5ed34febfdf2",
        "IPY_MODEL_4e71c0882ddd4e27a198f444f3d7fc0e"
       ],
       "layout": "IPY_MODEL_762cfe839f3d4945bcfdb0cc60c00af9"
      }
     },
     "f2a029ffb4ed42708d0531176c80925c": {
      "model_module": "@jupyter-widgets/controls",
      "model_module_version": "1.5.0",
      "model_name": "DescriptionStyleModel",
      "state": {
       "description_width": "initial"
      }
     },
     "f5dd96a48ec2458faf73280f9fcec870": {
      "model_module": "@jupyter-widgets/controls",
      "model_module_version": "1.5.0",
      "model_name": "VBoxModel",
      "state": {
       "children": [
        "IPY_MODEL_0d5385b1a90b460aa62afd6897b67e48",
        "IPY_MODEL_cae49d46efeb41d8982b55bbba295ef2",
        "IPY_MODEL_8ff66ec3b70f4a6a908d9700a158a515"
       ],
       "layout": "IPY_MODEL_bd84c5a0823a403dbbd3cb20ab77d44d"
      }
     },
     "f824d9060bdc4857bca1ef103a6812fe": {
      "model_module": "@jupyter-widgets/controls",
      "model_module_version": "1.5.0",
      "model_name": "DescriptionStyleModel",
      "state": {
       "description_width": ""
      }
     },
     "f95e75920f4c4fd68707bde9bd3313e1": {
      "model_module": "@jupyter-widgets/base",
      "model_module_version": "1.2.0",
      "model_name": "LayoutModel",
      "state": {}
     },
     "fb19c5a3b6f0479a97e8abac1a76f6c6": {
      "model_module": "@jupyter-widgets/controls",
      "model_module_version": "1.5.0",
      "model_name": "PasswordModel",
      "state": {
       "description": "Password:",
       "layout": "IPY_MODEL_9644af9c5bc54a2290b973a485a3c251",
       "style": "IPY_MODEL_4c84214310f04e7d8155104f5f10eb7e",
       "value": "msticbhdemo2020"
      }
     }
    },
    "version_major": 2,
    "version_minor": 0
   }
  }
 },
 "nbformat": 4,
 "nbformat_minor": 4
}
